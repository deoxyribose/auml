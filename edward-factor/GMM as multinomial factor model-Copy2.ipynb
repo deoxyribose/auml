{
 "cells": [
  {
   "cell_type": "code",
   "execution_count": 1,
   "metadata": {
    "collapsed": false
   },
   "outputs": [
    {
     "name": "stderr",
     "output_type": "stream",
     "text": [
      "/home/folzd/anaconda3/lib/python3.5/site-packages/sklearn/cross_validation.py:44: DeprecationWarning: This module was deprecated in version 0.18 in favor of the model_selection module into which all the refactored classes and functions are moved. Also note that the interface of the new CV iterators are different from that of this module. This module will be removed in 0.20.\n",
      "  \"This module will be removed in 0.20.\", DeprecationWarning)\n"
     ]
    }
   ],
   "source": [
    "import numpy as np\n",
    "import matplotlib.pylab as plt\n",
    "%matplotlib inline\n",
    "import tensorflow as tf\n",
    "import scipy.stats as sps\n",
    "import scipy.spatial as spt\n",
    "from sklearn.cross_validation import train_test_split\n",
    "\n",
    "import edward as ed\n",
    "from edward.models import Normal, Dirichlet, Multinomial, Gamma, Empirical\n",
    "from tensorflow.contrib.linalg import LinearOperatorTriL\n",
    "import itertools\n",
    "import sys\n",
    "sys.path.insert(0, tf.__path__[0] + '/contrib/distributions/python/ops')\n",
    "import bijectors as bijector"
   ]
  },
  {
   "cell_type": "code",
   "execution_count": 12,
   "metadata": {
    "collapsed": false
   },
   "outputs": [
    {
     "data": {
      "image/png": "[encoded data removed]",
      "text/plain": [
       "<matplotlib.figure.Figure at 0x7fe312f1eeb8>"
      ]
     },
     "metadata": {},
     "output_type": "display_data"
    },
    {
     "data": {
      "image/png": "[encoded data removed]",
      "text/plain": [
       "<matplotlib.figure.Figure at 0x7fe312b81f60>"
      ]
     },
     "metadata": {},
     "output_type": "display_data"
    }
   ],
   "source": [
    "# from Gross et al. page 3\n",
    "M = 100\n",
    "K = 3\n",
    "D = 2\n",
    "\n",
    "mean_precision_shape,mean_precision_rate,obs_precision_shape,obs_precision_rate = 4.,200.,6.,10.\n",
    "\n",
    "sess = tf.Session()\n",
    "with sess.as_default():\n",
    "    \n",
    "    # p model\n",
    "    alpha = 1\n",
    "    pi = Dirichlet(np.atleast_1d(alpha*np.ones(K)).astype(np.float32))\n",
    "    z = Multinomial(total_count=1.,probs=tf.reshape(tf.tile(pi,[M]),[M,K]))\n",
    "    sigma2_mu_k = ed.models.InverseGamma([[mean_precision_shape]],[[mean_precision_rate]])\n",
    "    sigma2_mu_d = ed.models.InverseGamma(mean_precision_shape*tf.ones([D]),mean_precision_rate*tf.ones([D]))\n",
    "    sigma2_mu = tf.tile(sigma2_mu_k, [K,1])*sigma2_mu_d\n",
    "    mu = ed.models.MultivariateNormalDiag(tf.zeros([K,D]), tf.sqrt(sigma2_mu))\n",
    "    sigma2_obs_n = ed.models.InverseGamma([[obs_precision_shape]],[[obs_precision_rate]])\n",
    "    sigma2_obs_d = ed.models.InverseGamma(obs_precision_shape*tf.ones([D]),obs_precision_rate*tf.ones([D]))\n",
    "    sigma2_obs = tf.tile(sigma2_obs_n, [M,1])*sigma2_obs_d\n",
    "    x = ed.models.MultivariateNormalDiag(tf.matmul(z, mu), tf.sqrt(sigma2_obs))\n",
    "    \n",
    "    init = tf.global_variables_initializer()\n",
    "    init.run()\n",
    "    \n",
    "    # identify global and local latent variables\n",
    "    latent_variables = x.get_ancestors()\n",
    "    local_latent_variables = [lv for lv in latent_variables if lv.shape[0] == M]\n",
    "    local_parent = [lv for lv in local_latent_variables[0].get_ancestors()]\n",
    "    global_latent_variables = [lv for lv in latent_variables if lv not in local_latent_variables and lv not in local_parent]\n",
    "        \n",
    "    # sample global variables\n",
    "    true_global_latent_variables = [lv.sample().eval() for lv in global_latent_variables]\n",
    "    # sample M local variables M times\n",
    "    true_local_latent_variables = ed.copy(z,{local_parent[0]:local_parent[0].eval()}).sample((M,)).eval()\n",
    "\n",
    "    X_sample = np.zeros((M,M,D))\n",
    "    latent_variables = dict(zip(global_latent_variables, true_global_latent_variables))\n",
    "    for i in range(2):\n",
    "        latent_variables.update({z:true_local_latent_variables[i]})\n",
    "        X_sample[i] = ed.copy(x,latent_variables).eval() # this works only in the first iteration\n",
    "        #tf.reshape(,(-1,K))\n",
    "        plt.figure()\n",
    "        plt.scatter(*X_sample[i].T,color=true_local_latent_variables[i])\n",
    "        plt.axis('equal');"
   ]
  },
  {
   "cell_type": "code",
   "execution_count": 36,
   "metadata": {
    "collapsed": false
   },
   "outputs": [
    {
     "data": {
      "text/plain": [
       "[<ed.RandomVariable 'InverseGamma_55/' shape=(2,) dtype=float32>,\n",
       " <ed.RandomVariable 'InverseGamma_54/' shape=(1, 1) dtype=float32>,\n",
       " <ed.RandomVariable 'InverseGamma_53/' shape=(2,) dtype=float32>,\n",
       " <ed.RandomVariable 'MultivariateNormalDiag_26/' shape=(3, 2) dtype=float32>,\n",
       " <ed.RandomVariable 'InverseGamma_52/' shape=(1, 1) dtype=float32>]"
      ]
     },
     "execution_count": 36,
     "metadata": {},
     "output_type": "execute_result"
    }
   ],
   "source": [
    "global_latent_variables"
   ]
  },
  {
   "cell_type": "code",
   "execution_count": 37,
   "metadata": {
    "collapsed": false
   },
   "outputs": [
    {
     "data": {
      "text/plain": [
       "[<ed.RandomVariable 'Multinomial_13/' shape=(100, 3) dtype=float32>]"
      ]
     },
     "execution_count": 37,
     "metadata": {},
     "output_type": "execute_result"
    }
   ],
   "source": [
    "local_latent_variables"
   ]
  },
  {
   "cell_type": "code",
   "execution_count": 38,
   "metadata": {
    "collapsed": false
   },
   "outputs": [
    {
     "data": {
      "text/plain": [
       "[<ed.RandomVariable 'Dirichlet_13/' shape=(3,) dtype=float32>]"
      ]
     },
     "execution_count": 38,
     "metadata": {},
     "output_type": "execute_result"
    }
   ],
   "source": [
    "local_parent"
   ]
  },
  {
   "cell_type": "code",
   "execution_count": 29,
   "metadata": {
    "collapsed": false
   },
   "outputs": [
    {
     "data": {
      "text/plain": [
       "[array([[ 1.59488451]], dtype=float32),\n",
       " array([ 1.69629335,  1.39646292], dtype=float32),\n",
       " array([[ 40.41301727]], dtype=float32),\n",
       " array([ 41.52183533,  50.1121254 ], dtype=float32),\n",
       " array([ 0.23673865,  0.59517914,  0.16808222], dtype=float32),\n",
       " array([[-75.43781281, -27.86912155],\n",
       "        [-35.18157959, -44.72322845],\n",
       "        [-78.90581512,  95.42517853]], dtype=float32)]"
      ]
     },
     "execution_count": 29,
     "metadata": {},
     "output_type": "execute_result"
    }
   ],
   "source": [
    "true_global_latent_variables"
   ]
  },
  {
   "cell_type": "code",
   "execution_count": 28,
   "metadata": {
    "collapsed": false
   },
   "outputs": [
    {
     "data": {
      "text/plain": [
       "[<ed.RandomVariable 'InverseGamma_41/' shape=(2,) dtype=float32>,\n",
       " <ed.RandomVariable 'InverseGamma_42/' shape=(1, 1) dtype=float32>,\n",
       " <ed.RandomVariable 'MultivariateNormalDiag_20/' shape=(3, 2) dtype=float32>,\n",
       " <ed.RandomVariable 'InverseGamma_43/' shape=(2,) dtype=float32>,\n",
       " <ed.RandomVariable 'Dirichlet_10/' shape=(3,) dtype=float32>,\n",
       " <ed.RandomVariable 'InverseGamma_40/' shape=(1, 1) dtype=float32>]"
      ]
     },
     "execution_count": 28,
     "metadata": {},
     "output_type": "execute_result"
    }
   ],
   "source": [
    "global_latent_variables"
   ]
  },
  {
   "cell_type": "code",
   "execution_count": 27,
   "metadata": {
    "collapsed": false
   },
   "outputs": [
    {
     "data": {
      "text/plain": [
       "{<ed.RandomVariable 'InverseGamma_17/' shape=(2,) dtype=float32>: array([ 53.58300781,  61.585289  ], dtype=float32),\n",
       " <ed.RandomVariable 'MultivariateNormalDiag_8/' shape=(3, 2) dtype=float32>: array([[-79.66320801,  27.26038551],\n",
       "        [-76.235466  , -88.34003448],\n",
       "        [-66.21754456,  33.5307045 ]], dtype=float32),\n",
       " <ed.RandomVariable 'InverseGamma_16/' shape=(1, 1) dtype=float32>: array([[ 52.42448807]], dtype=float32),\n",
       " <ed.RandomVariable 'InverseGamma_18/' shape=(1, 1) dtype=float32>: array([[ 4.58286285]], dtype=float32),\n",
       " <ed.RandomVariable 'InverseGamma_19/' shape=(2,) dtype=float32>: array([ 1.72089839,  3.16688848], dtype=float32)}"
      ]
     },
     "execution_count": 27,
     "metadata": {},
     "output_type": "execute_result"
    }
   ],
   "source": [
    "true_globals_feed"
   ]
  },
  {
   "cell_type": "code",
   "execution_count": 23,
   "metadata": {
    "collapsed": false
   },
   "outputs": [
    {
     "data": {
      "text/plain": [
       "[<ed.RandomVariable 'Dirichlet_9/' shape=(3,) dtype=float32>]"
      ]
     },
     "execution_count": 23,
     "metadata": {},
     "output_type": "execute_result"
    }
   ],
   "source": [
    "local_parent"
   ]
  },
  {
   "cell_type": "code",
   "execution_count": 8,
   "metadata": {
    "collapsed": true
   },
   "outputs": [],
   "source": [
    "tf.reset_default_graph()"
   ]
  },
  {
   "cell_type": "code",
   "execution_count": 9,
   "metadata": {
    "collapsed": true
   },
   "outputs": [],
   "source": [
    "# p model\n",
    "alpha = 1\n",
    "pi = Dirichlet(np.atleast_1d(alpha*np.ones(K)).astype(np.float32))\n",
    "z = Multinomial(total_count=1.,probs=tf.reshape(tf.tile(pi,[M]),[M,K]))\n",
    "sigma2_mu_k = ed.models.InverseGamma([[mean_precision_shape]],[[mean_precision_rate]])\n",
    "sigma2_mu_d = ed.models.InverseGamma(mean_precision_shape*tf.ones([D]),mean_precision_rate*tf.ones([D]))\n",
    "sigma2_mu = tf.tile(sigma2_mu_k, [K,1])*sigma2_mu_d\n",
    "mu = ed.models.MultivariateNormalDiag(tf.zeros([K,D]), tf.sqrt(sigma2_mu))\n",
    "sigma2_obs_n = ed.models.InverseGamma([[obs_precision_shape]],[[obs_precision_rate]])\n",
    "sigma2_obs_d = ed.models.InverseGamma(obs_precision_shape*tf.ones([D]),obs_precision_rate*tf.ones([D]))\n",
    "sigma2_obs = tf.tile(sigma2_obs_n, [M,1])*sigma2_obs_d\n",
    "x = ed.models.MultivariateNormalDiag(tf.matmul(z, mu), tf.sqrt(sigma2_obs))"
   ]
  },
  {
   "cell_type": "code",
   "execution_count": 10,
   "metadata": {
    "collapsed": false
   },
   "outputs": [],
   "source": [
    "# q model\n",
    "alpha_hat = 0.1 + tf.nn.softplus(tf.Variable(tf.random_normal([K])))\n",
    "qpi = Dirichlet(alpha_hat)\n",
    "\n",
    "#qz = Multinomial(total_count=1.,probs=tf.reshape(tf.tile(qpi,[M]),[M,K]))\n",
    "#qz = Empirical(params=tf.Variable(tf.zeros([T, M, K])))\n",
    "\n",
    "mean_precision_shape_hat = tf.nn.softplus(tf.Variable(tf.random_normal([1])))\n",
    "mean_precision_rate_hat = tf.nn.softplus(tf.Variable(tf.random_normal([1])))\n",
    "qsigma2_mu_k = ed.models.TransformedDistribution(\n",
    "    distribution=ed.models.NormalWithSoftplusScale([mean_precision_shape_hat],[mean_precision_rate_hat]),\n",
    "    bijector=bijector.Exp(),\n",
    "    name=\"qsigma2_mu_k\")\n",
    "qsigma2_mu_d = ed.models.TransformedDistribution(\n",
    "    distribution=ed.models.NormalWithSoftplusScale(mean_precision_shape_hat*tf.ones([D]),mean_precision_rate_hat*tf.ones([D])),\n",
    "    bijector=bijector.Exp(),\n",
    "    name=\"qsigma2_mu_d\")\n",
    "qsigma2_mu = tf.tile(qsigma2_mu_k, [K,1])*qsigma2_mu_d\n",
    "\n",
    "qmu_mean = tf.Variable(tf.zeros([K,D]))\n",
    "qmu = ed.models.MultivariateNormalDiag(qmu_mean, tf.sqrt(qsigma2_mu))\n",
    "\n",
    "obs_precision_shape_hat = tf.nn.softplus(tf.Variable(tf.random_normal([1])))\n",
    "obs_precision_rate_hat = tf.nn.softplus(tf.Variable(tf.random_normal([1])))\n",
    "qsigma2_obs_n = ed.models.TransformedDistribution(\n",
    "    distribution=ed.models.NormalWithSoftplusScale([obs_precision_shape_hat],[obs_precision_rate_hat]),\n",
    "    bijector=bijector.Exp(),\n",
    "    name=\"qsigma2_obs_n\")\n",
    "qsigma2_obs_d = ed.models.TransformedDistribution(\n",
    "    distribution=ed.models.NormalWithSoftplusScale(obs_precision_shape_hat*tf.ones([D]),obs_precision_rate_hat*tf.ones([D])),\n",
    "    bijector=bijector.Exp(),\n",
    "    name=\"qsigma2_obs_d\")\n",
    "qsigma2_obs = tf.tile(qsigma2_obs_n, [M,1])*qsigma2_obs_d"
   ]
  },
  {
   "cell_type": "code",
   "execution_count": 11,
   "metadata": {
    "collapsed": true
   },
   "outputs": [],
   "source": [
    "def generator(arrays, batch_size):\n",
    "  \"\"\"Generate batches, one with respect to each array's first axis.\"\"\"\n",
    "  starts = [0] * len(arrays)  # pointers to where we are in iteration\n",
    "  while True:\n",
    "    batches = []\n",
    "    for i, array in enumerate(arrays):\n",
    "      start = starts[i]\n",
    "      stop = start + batch_size\n",
    "      diff = stop - array.shape[0]\n",
    "      if diff <= 0:\n",
    "        batch = array[start:stop]\n",
    "        starts[i] += batch_size\n",
    "      else:\n",
    "        batch = np.concatenate((array[start:], array[:diff]))\n",
    "        starts[i] = diff\n",
    "      batches.append(batch)\n",
    "    yield batches"
   ]
  },
  {
   "cell_type": "code",
   "execution_count": 12,
   "metadata": {
    "collapsed": true
   },
   "outputs": [],
   "source": [
    "data = generator([X_sample], M)"
   ]
  },
  {
   "cell_type": "code",
   "execution_count": 13,
   "metadata": {
    "collapsed": true
   },
   "outputs": [],
   "source": [
    "X_ph = tf.placeholder(tf.float32, [None, D])"
   ]
  },
  {
   "cell_type": "code",
   "execution_count": 14,
   "metadata": {
    "collapsed": false,
    "scrolled": true
   },
   "outputs": [],
   "source": [
    "#pi, qpi, z, qz, mu, qmu, sigma2_mu_k,qsigma2_mu_k, sigma2_mu_d,qsigma2_mu_d, sigma2_obs_n,qsigma2_obs_n, sigma2_obs_d,qsigma2_obs_d"
   ]
  },
  {
   "cell_type": "code",
   "execution_count": 15,
   "metadata": {
    "collapsed": false
   },
   "outputs": [],
   "source": [
    "inference = ed.KLqp({pi: qpi, mu: qmu, sigma2_mu_k:qsigma2_mu_k, sigma2_mu_d:qsigma2_mu_d, sigma2_obs_n:qsigma2_obs_n, sigma2_obs_d:qsigma2_obs_d}, data={x: X_ph, z:z_true})\n",
    "inference.initialize(n_iter=5000, n_print=10, n_samples=30, optimizer='rmsprop')"
   ]
  },
  {
   "cell_type": "code",
   "execution_count": 16,
   "metadata": {
    "collapsed": false
   },
   "outputs": [],
   "source": [
    "sess = ed.get_session()\n",
    "init = tf.global_variables_initializer()\n",
    "init.run()"
   ]
  },
  {
   "cell_type": "code",
   "execution_count": 17,
   "metadata": {
    "collapsed": false,
    "scrolled": false
   },
   "outputs": [
    {
     "name": "stdout",
     "output_type": "stream",
     "text": [
      "{'loss': 6886.8521, 't': 1}\n",
      "{'loss': 1587.913, 't': 1001}\n",
      "{'loss': 1127.9419, 't': 2001}\n",
      "{'loss': 1377.5383, 't': 3001}\n",
      "{'loss': 1463.8235, 't': 4001}\n"
     ]
    },
    {
     "data": {
      "text/plain": [
       "[<matplotlib.lines.Line2D at 0x7f030e9b8a58>]"
      ]
     },
     "execution_count": 17,
     "metadata": {},
     "output_type": "execute_result"
    },
    {
     "data": {
      "image/png": "[encoded data removed]",
      "text/plain": [
       "<matplotlib.figure.Figure at 0x7f030bfa3d68>"
      ]
     },
     "metadata": {},
     "output_type": "display_data"
    }
   ],
   "source": [
    "learning_curve = []\n",
    "for _ in range(inference.n_iter):\n",
    "    X_batch = next(data)[0]\n",
    "    info_dict = inference.update({X_ph: X_batch})\n",
    "    if _%1000 == 0:\n",
    "        print(info_dict)\n",
    "    learning_curve.append(info_dict['loss'])\n",
    "plt.semilogy(learning_curve)"
   ]
  },
  {
   "cell_type": "code",
   "execution_count": 18,
   "metadata": {
    "collapsed": true
   },
   "outputs": [],
   "source": [
    "# %load /home/folzd/anaconda3/lib/python3.5/site-packages/edward/inferences/klqp.py"
   ]
  },
  {
   "cell_type": "code",
   "execution_count": 19,
   "metadata": {
    "collapsed": false
   },
   "outputs": [],
   "source": [
    "x_hat = ed.copy(x, {pi: qpi, z: z_true, mu: qmu, sigma2_mu_k:qsigma2_mu_k, sigma2_mu_d:qsigma2_mu_d, sigma2_obs_n:qsigma2_obs_n, sigma2_obs_d:qsigma2_obs_d})\n",
    "#x_hat = ed.copy(x, {pi: qpi, z: qz, mu: qmu, sigma2_mu_k:qsigma2_mu_k, sigma2_mu_d:qsigma2_mu_d, sigma2_obs_n:qsigma2_obs_n, sigma2_obs_d:qsigma2_obs_d})"
   ]
  },
  {
   "cell_type": "code",
   "execution_count": 20,
   "metadata": {
    "collapsed": false
   },
   "outputs": [
    {
     "data": {
      "image/png": "[encoded data removed]",
      "text/plain": [
       "<matplotlib.figure.Figure at 0x7f030bf7d550>"
      ]
     },
     "metadata": {},
     "output_type": "display_data"
    }
   ],
   "source": [
    "T = 1000\n",
    "[plt.hist(var,'auto', color='g',alpha=.1) for var in sigma2_mu_d.sample(T).eval().T];\n",
    "[plt.hist(var,'auto', color='b',alpha=.1) for var in qsigma2_mu_d.sample(T).eval().T];"
   ]
  },
  {
   "cell_type": "code",
   "execution_count": 21,
   "metadata": {
    "collapsed": false
   },
   "outputs": [
    {
     "data": {
      "image/png": "[encoded data removed]",
      "text/plain": [
       "<matplotlib.figure.Figure at 0x7f030bf7dd68>"
      ]
     },
     "metadata": {},
     "output_type": "display_data"
    }
   ],
   "source": [
    "[plt.hist(var,'auto', color='g',alpha=.1) for var in sigma2_obs_d.sample(T).eval().T];\n",
    "[plt.hist(var,'auto', color='b',alpha=.1) for var in qsigma2_obs_d.sample(T).eval().T];"
   ]
  },
  {
   "cell_type": "code",
   "execution_count": 22,
   "metadata": {
    "collapsed": false
   },
   "outputs": [
    {
     "data": {
      "text/plain": [
       "array([[ 0.10725926,  0.66487592],\n",
       "       [ 0.33592147,  1.03923666],\n",
       "       [ 0.66406095,  0.49517193]], dtype=float32)"
      ]
     },
     "execution_count": 22,
     "metadata": {},
     "output_type": "execute_result"
    }
   ],
   "source": [
    "qmu_mean.eval()"
   ]
  },
  {
   "cell_type": "code",
   "execution_count": 23,
   "metadata": {
    "collapsed": false
   },
   "outputs": [
    {
     "data": {
      "image/png": "[encoded data removed]",
      "text/plain": [
       "<matplotlib.figure.Figure at 0x7f030a775630>"
      ]
     },
     "metadata": {},
     "output_type": "display_data"
    }
   ],
   "source": [
    "plt.scatter(*X_sample.T,color='g', alpha=.1)\n",
    "#plt.scatter(*Gt.T,color='r')\n",
    "plt.axis('equal');\n",
    "X_hat_sample = x_hat.sample().eval()\n",
    "plt.scatter(*X_hat_sample.T,color='b', alpha=.1)\n",
    "plt.axis('equal');"
   ]
  }
 ],
 "metadata": {
  "anaconda-cloud": {},
  "kernelspec": {
   "display_name": "Python [default]",
   "language": "python",
   "name": "python3"
  },
  "language_info": {
   "codemirror_mode": {
    "name": "ipython",
    "version": 3
   },
   "file_extension": ".py",
   "mimetype": "text/x-python",
   "name": "python",
   "nbconvert_exporter": "python",
   "pygments_lexer": "ipython3",
   "version": "3.5.1"
  }
 },
 "nbformat": 4,
 "nbformat_minor": 1
}
