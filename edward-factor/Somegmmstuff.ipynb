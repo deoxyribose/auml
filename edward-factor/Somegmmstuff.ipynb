{
 "cells": [
  {
   "cell_type": "code",
   "execution_count": 1,
   "metadata": {},
   "outputs": [
    {
     "name": "stderr",
     "output_type": "stream",
     "text": [
      "/home/folzd/anaconda3/lib/python3.5/site-packages/sklearn/cross_validation.py:44: DeprecationWarning: This module was deprecated in version 0.18 in favor of the model_selection module into which all the refactored classes and functions are moved. Also note that the interface of the new CV iterators are different from that of this module. This module will be removed in 0.20.\n",
      "  \"This module will be removed in 0.20.\", DeprecationWarning)\n"
     ]
    }
   ],
   "source": [
    "import numpy as np\n",
    "import matplotlib.pylab as plt\n",
    "%matplotlib inline\n",
    "import tensorflow as tf\n",
    "import scipy.stats as sps\n",
    "import scipy.spatial as spt\n",
    "from sklearn.cross_validation import train_test_split\n",
    "\n",
    "import edward as ed\n",
    "from edward.models import Normal, Dirichlet, Multinomial, Gamma, Empirical\n",
    "from tensorflow.contrib.linalg import LinearOperatorTriL\n",
    "import itertools\n",
    "import sys\n",
    "sys.path.insert(0, tf.__path__[0] + '/contrib/distributions/python/ops')\n",
    "import bijectors as bijector"
   ]
  },
  {
   "cell_type": "code",
   "execution_count": 2,
   "metadata": {
    "collapsed": true
   },
   "outputs": [],
   "source": [
    "M = 100\n",
    "K = 3\n",
    "D = 2"
   ]
  },
  {
   "cell_type": "code",
   "execution_count": 16,
   "metadata": {},
   "outputs": [
    {
     "data": {
      "image/png": "[encoded data removed]",
      "text/plain": [
       "<matplotlib.figure.Figure at 0x7fb588b39390>"
      ]
     },
     "metadata": {},
     "output_type": "display_data"
    }
   ],
   "source": [
    "sess = tf.Session()\n",
    "with sess.as_default():\n",
    "    means = ed.models.MultivariateNormalDiag(tf.zeros([K,D]),tf.ones([K,D])*10)\n",
    "    assignments = Multinomial(total_count=1.,probs=tf.reshape(tf.tile(np.ones(K,dtype=np.float32),[M]),[M,K]))\n",
    "    obs = ed.models.MultivariateNormalDiag(tf.matmul(assignments,means),tf.ones([M,D]))\n",
    "    init = tf.global_variables_initializer()\n",
    "    init.run()\n",
    "    #z_sample = assignments.sample().eval()\n",
    "    z_sample = ed.copy(assignments).sample().eval()\n",
    "    \n",
    "    #z_test = np.zeros((M,K))\n",
    "    #z_test[:30,0] = 1\n",
    "    #z_test[30:60,1] = 1\n",
    "    #z_test[60:,2] = 1\n",
    "    plt.scatter(*ed.copy(obs,{assignments:z_sample}).eval().T,c=z_sample)\n",
    "    #plt.scatter(*ed.copy(obs,{assignments:z_test}).eval().T,c=z_sample)\n",
    "    plt.axis('equal')"
   ]
  }
 ],
 "metadata": {
  "anaconda-cloud": {},
  "kernelspec": {
   "display_name": "Python 2",
   "language": "python",
   "name": "python2"
  },
  "language_info": {
   "codemirror_mode": {
    "name": "ipython",
    "version": 2
   },
   "file_extension": ".py",
   "mimetype": "text/x-python",
   "name": "python",
   "nbconvert_exporter": "python",
   "pygments_lexer": "ipython2",
   "version": "2.7.12"
  }
 },
 "nbformat": 4,
 "nbformat_minor": 1
}
