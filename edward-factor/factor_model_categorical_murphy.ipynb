{
 "cells": [
  {
   "cell_type": "markdown",
   "metadata": {},
   "source": [
    "# Bayesian factor model\n",
    "Includes bias and noise."
   ]
  },
  {
   "cell_type": "code",
   "execution_count": 1,
   "metadata": {},
   "outputs": [],
   "source": [
    "from __future__ import absolute_import\n",
    "from __future__ import division\n",
    "from __future__ import print_function\n",
    "\n",
    "import edward as ed\n",
    "import numpy as np\n",
    "import tensorflow as tf\n",
    "import matplotlib.pyplot as plt\n",
    "\n",
    "from edward.models import Normal, StudentT\n",
    "\n",
    "from plot_utils import * # see plot_utils.py\n",
    "\n",
    "import matplotlib.gridspec as gridspec\n",
    "import pandas as pd\n",
    "import seaborn as sns\n",
    "%matplotlib inline"
   ]
  },
  {
   "cell_type": "code",
   "execution_count": 2,
   "metadata": {},
   "outputs": [],
   "source": [
    "%load_ext autoreload"
   ]
  },
  {
   "cell_type": "code",
   "execution_count": 3,
   "metadata": {},
   "outputs": [],
   "source": [
    "import sys\n",
    "sys.path.insert(0, tf.__path__[0] + '/contrib/distributions/python/ops')\n",
    "\n",
    "import bijectors as bijector"
   ]
  },
  {
   "cell_type": "code",
   "execution_count": 4,
   "metadata": {},
   "outputs": [],
   "source": [
    "ledermann_bound = lambda p: (2*p+1-(8*p+1)**.5)*.5"
   ]
  },
  {
   "cell_type": "code",
   "execution_count": 10,
   "metadata": {},
   "outputs": [],
   "source": [
    "x_train = np.zeros((999, 20))"
   ]
  },
  {
   "cell_type": "code",
   "execution_count": 13,
   "metadata": {},
   "outputs": [],
   "source": [
    "#x_train[:333,:] = np.array([0,0,0,0,0,1,1,1,1,1,0,0,0,0,0,1,1,1,1,1])\n",
    "#x_train[333:666,:] = np.array([1,1,1,0,0,0,1,1,1,0,0,0,1,1,1,0,0,1,1,1])\n",
    "#x_train[666:,:] = np.array([1,0,1,0,1,0,1,0,1,0,1,0,1,0,1,0,1,0,1,0])\n",
    "x_train[:500,:10] = 1\n",
    "x_train[500:,10:] = 1"
   ]
  },
  {
   "cell_type": "code",
   "execution_count": 14,
   "metadata": {},
   "outputs": [
    {
     "data": {
      "image/png": "[encoded data removed]",
      "text/plain": [
       "<matplotlib.figure.Figure at 0x7fabf9e1f690>"
      ]
     },
     "metadata": {},
     "output_type": "display_data"
    }
   ],
   "source": [
    "plt.imshow(x_train,cmap='gray',aspect=.03)\n",
    "plt.rcParams['figure.figsize'] = (15,15)"
   ]
  },
  {
   "cell_type": "code",
   "execution_count": 15,
   "metadata": {},
   "outputs": [],
   "source": [
    "N, D = x_train.shape"
   ]
  },
  {
   "cell_type": "code",
   "execution_count": 16,
   "metadata": {},
   "outputs": [
    {
     "data": {
      "text/plain": [
       "14.155711229775239"
      ]
     },
     "execution_count": 16,
     "metadata": {},
     "output_type": "execute_result"
    }
   ],
   "source": [
    "ledermann_bound(D) # if this is > K, model should be identifiable according to Identifiability of Factor Analysis: Some Results and Open Problems"
   ]
  },
  {
   "cell_type": "code",
   "execution_count": 17,
   "metadata": {},
   "outputs": [],
   "source": [
    "from tensorflow.python.client import device_lib"
   ]
  },
  {
   "cell_type": "code",
   "execution_count": 18,
   "metadata": {},
   "outputs": [
    {
     "data": {
      "text/plain": [
       "[name: \"/device:CPU:0\"\n",
       " device_type: \"CPU\"\n",
       " memory_limit: 268435456\n",
       " locality {\n",
       " }\n",
       " incarnation: 11654688570593219706]"
      ]
     },
     "execution_count": 18,
     "metadata": {},
     "output_type": "execute_result"
    }
   ],
   "source": [
    "device_lib.list_local_devices()"
   ]
  },
  {
   "cell_type": "markdown",
   "metadata": {},
   "source": [
    "## P-model\n",
    "\n",
    "\\begin{align}\n",
    "i \\in {1,...,D}\\\\\n",
    "j \\in {1,...,K}\\\\\n",
    "n \\in {1,...,N}\\\\\n",
    "\\tau &\\sim StudentT(1,0)\\\\\n",
    "\\lambda_j &\\sim StudentT(1,0)\\\\\n",
    "w_{ij}&\\sim N(0,|\\tau||\\lambda_j|)\\\\\n",
    "z_{jn}&\\sim N(0,1)\\\\\n",
    "\\mu_i &\\sim N(0,1)\\\\\n",
    "\\sigma_i &\\sim Gamma(1,1)\\\\\n",
    "x_i&\\sim \\prod\\mathrm{Cat}(\\mathcal{S}(W\\cdot z)_i+\\mu_i,\\sigma_i)\\\\\n",
    "\\end{align}"
   ]
  },
  {
   "cell_type": "markdown",
   "metadata": {},
   "source": [
    "### The automatic relevance determination in higher dimensions\n",
    "\n",
    "The ARD might seem like an overkill but it comes in handy in higher dimensions, where the dimensionality of the latent space is not a prior known.  Let us generate a higher dimensional data set and see how ARD determines the latent dimensionality."
   ]
  },
  {
   "cell_type": "code",
   "execution_count": 48,
   "metadata": {
    "scrolled": true
   },
   "outputs": [],
   "source": [
    "class low_rank_categorical_horseshoe_ard():\n",
    "    def __init__(self,M,D,C):\n",
    "        # Fit as many latent variables as dimensions, prune by ACD\n",
    "        #K=D\n",
    "        K=2\n",
    "        #########\n",
    "        # halfCauchy = StudentT(df=1., loc=0., scale=1.)\n",
    "        # Horseshoe! Happy now, Aki? Hyva!\n",
    "        #########\n",
    "        # P-model\n",
    "        #sigma = ed.models.Gamma(tf.ones([D]),tf.ones([D]))\n",
    "        tau = StudentT(df=1., loc=tf.zeros([C]), scale=tf.ones([C])*.01, name=\"tau\")\n",
    "        lamda = StudentT(df=1., loc=tf.zeros([C,K]), scale=tf.ones([C,K]), name=\"lambda\")\n",
    "        w = Normal(tf.zeros([C, D, K]),    tf.reshape(tf.tile(tf.transpose(tf.reshape(tf.tile(np.abs(tau),[K]),[K,C]))*np.abs(lamda),[1,D]),[C,D,K]), name=\"W\")\n",
    "            # a factor loading matrix for every variable \n",
    "        z = Normal(tf.zeros([M, K]),    tf.ones([M, K])*10, name=\"z\")\n",
    "        mu = Normal(tf.zeros([C,D]),       tf.ones([C,D]), name=\"mu\")\n",
    "            # an offset for every variable \n",
    "        x = ed.models.Categorical(tf.nn.softmax(tf.add(tf.transpose(tf.matmul(w,tf.reshape(tf.tile(z,[C,1]),[C,M,K]),transpose_b=True)),tf.transpose(mu))), name=\"x\")\n",
    "\n",
    "#        self.Pmodel = (sigma,lamda,tau,w,z,mu)\n",
    "        self.Pmodel = (lamda,tau,w,z,mu) # not sure if observation noise is relevant for categorical data, ask Lars\n",
    "        self.x = x\n",
    "        #########\n",
    "        # Q-model\n",
    "        qtau = ed.models.TransformedDistribution(\n",
    "        distribution=ed.models.NormalWithSoftplusScale(tf.Variable(tf.random_normal([C])),\n",
    "                                                       tf.Variable(tf.random_normal([C]))),\n",
    "        bijector=bijector.Exp(),\n",
    "        name=\"qtau\")\n",
    "        \n",
    "        qlamda = ed.models.TransformedDistribution(\n",
    "        distribution=ed.models.NormalWithSoftplusScale(tf.Variable(tf.zeros([C,K])),\n",
    "                                                       tf.Variable(tf.zeros([C,K]))),\n",
    "        bijector=bijector.Exp(),\n",
    "        name=\"qlamda\")\n",
    "        qw = Normal(tf.Variable(tf.random_normal([C, D, K])),\n",
    "                    tf.nn.softplus(tf.Variable(tf.random_normal([C, D, K]))), name=\"qW\")\n",
    "        qz = Normal(tf.Variable(tf.random_normal([M, K])),\n",
    "                    tf.nn.softplus(tf.Variable(tf.random_normal([M, K]))), name=\"qz\")\n",
    "\n",
    "        # assume standardized data\n",
    "        qmu = Normal(tf.Variable(tf.random_normal([C,D])),\n",
    "                    tf.nn.softplus(tf.Variable(tf.random_normal([C,D]))), name=\"qmu\")\n",
    "        #qsigma = ed.models.TransformedDistribution(\n",
    "        #    distribution=ed.models.NormalWithSoftplusScale(tf.Variable(tf.zeros(D)),\n",
    "        #                                  tf.Variable(tf.ones(D))),\n",
    "        #    bijector=bijector.Exp(),\n",
    "        #    name=\"qsigma\")\n",
    "\n",
    "        #self.Qmodel = (qsigma,qlamda,qtau,qw,qz,qmu)\n",
    "        self.Qmodel = (qlamda,qtau,qw,qz,qmu)\n",
    "        \n",
    "    def initialize(self, x_train):\n",
    "        '''\n",
    "        Initialize parameters of Q-model in the solution from PCA, and empirical means and standard deviations, for faster convergence.\n",
    "        '''\n",
    "        #K=D\n",
    "        K=2\n",
    "        N = x_train.shape[0]\n",
    "        qsigma,qlamda,qtau,qw,qz,qmu = self.Qmodel\n",
    "        # set qmu mean to data mean\n",
    "        data_mean = np.mean(x_train,axis=0).astype(np.float32,copy=False)\n",
    "        qmu = Normal(tf.Variable(data_mean+tf.random_normal([D])),\n",
    "                    tf.nn.softplus(tf.Variable(tf.random_normal([D]))))\n",
    "        # set qsigma mean to data stds\n",
    "        data_std = np.std(x_train,axis=0).astype(np.float32,copy=False)\n",
    "        qsigma = ed.models.TransformedDistribution(\n",
    "            distribution=ed.models.NormalWithSoftplusScale(tf.Variable(np.log(data_std)),\n",
    "                                          tf.Variable(tf.ones(D)*3)),\n",
    "            bijector=bijector.Exp(),\n",
    "            name=\"qsigma\")\n",
    "        # set qw mean to ppca solution (see 12.61 in Murphy)\n",
    "        _,S,V = np.linalg.svd(x_train-x_train.mean(0))\n",
    "        qw = Normal(tf.Variable(np.dot(V,np.diag(S))/np.sqrt(N-1)),\n",
    "                    tf.nn.softplus(tf.Variable(tf.random_normal([D, K]))))\n",
    "        self.Qmodel = (qsigma,qlamda,qtau,qw,qz,qmu)\n",
    "\n",
    "    def infer(self, x_train, n_epoch = 100, n_print=100, n_samples=100, M = 100, optimizer = 'rmsprop', learning_rate=0.01, momentum=0.0):\n",
    "        # add mini-batches\n",
    "        def generator(arrays, batch_size):\n",
    "            # assuming arrays is a list of arrays of equal length, with rows being observations\n",
    "            while True:\n",
    "                batches = []\n",
    "                random_idx = np.random.choice(arrays[0].shape[0], batch_size)\n",
    "                for array in arrays:\n",
    "                    batches.append(array[random_idx])\n",
    "                yield batches\n",
    "        x_ph = tf.placeholder(tf.int32, [None,D])\n",
    "        data = generator([x_train], M)\n",
    "        n_batch = int(N / M)\n",
    "        # add progress bar\n",
    "        x = self.x\n",
    "        inference = ed.KLqp(dict(zip(self.Pmodel,self.Qmodel)), data={x: x_ph})\n",
    "        if optimizer == 'rmsprop':\n",
    "            optimizer = tf.train.RMSPropOptimizer(0.01, epsilon=1.0,momentum = momentum)\n",
    "        else:\n",
    "            optimizer = 'adam'\n",
    "        inference.initialize(n_iter=n_batch * n_epoch, n_print=(n_batch * n_epoch)/10, n_samples=n_samples, optimizer=optimizer)\n",
    "\n",
    "        sess = ed.get_session()\n",
    "        init = tf.global_variables_initializer()\n",
    "        init.run()\n",
    "\n",
    "        # assert x_ph.shape[0] == M \n",
    "        learning_curve = []\n",
    "        for _ in range(inference.n_iter):\n",
    "            x_batch = next(data)[0]\n",
    "            info_dict = inference.update({x_ph: x_batch})\n",
    "            if _%inference.n_print == 0:\n",
    "                print(info_dict)\n",
    "            learning_curve.append(info_dict['loss'])\n",
    "        plt.semilogy(learning_curve)\n",
    "        plt.show()\n",
    "    \n",
    "    def prior_predictive_check(self):\n",
    "        self.x_prior = ed.copy(self.x)\n",
    "        pass\n",
    "        \n",
    "    def posterior_predictive_check(self, x_test):\n",
    "        self.x_post = ed.copy(self.x, dict(zip(self.Pmodel,self.Qmodel)))\n",
    "        return ed.evaluate('log_likelihood', data={self.x_post: x_test})\n",
    "    \n",
    "    def plot_histograms(self,n_hist=3000):\n",
    "        for variable in meddle.Qmodel:\n",
    "            plt.show()\n",
    "            if all([i < 10 for i in variable.shape]):\n",
    "                samples = variable.sample(n_hist).eval()\n",
    "            else:\n",
    "                samples = variable.sample().eval()\n",
    "            if variable.shape == []:\n",
    "                plt.hist(samples,'auto')\n",
    "                plt.title(variable.name)\n",
    "            else:\n",
    "                for dimension in range(variable.shape[0]):\n",
    "                    plt.hist(samples[:,dimension],'auto')\n",
    "                    plt.title(variable.name)\n",
    "                    \n",
    "    def print_model(self):\n",
    "        qsigma,qlamda,qtau,qw,qz,qmu = self.Qmodel\n",
    "        # add pair plots\n",
    "        print(\"Inferred principal axes (columns):\")\n",
    "        print(qw.mean().eval())\n",
    "        print(qw.variance().eval())\n",
    "        print(\"Inferred center:\")\n",
    "        print(qmu.mean().eval())\n",
    "        print(qmu.variance().eval())"
   ]
  },
  {
   "cell_type": "code",
   "execution_count": 49,
   "metadata": {
    "scrolled": false
   },
   "outputs": [],
   "source": [
    "M = 100\n",
    "meddle = low_rank_categorical_horseshoe_ard(M,D,C=2)\n",
    "#meddle.initialize(x_train)"
   ]
  },
  {
   "cell_type": "markdown",
   "metadata": {},
   "source": [
    "sess = ed.get_session()\n",
    "model = meddle.x.get_ancestors()\n",
    "model.append(meddle.x)\n",
    "model_sample = dict(zip(model,sess.run([[v.value() for i in range(10)] for v in model])))"
   ]
  },
  {
   "cell_type": "markdown",
   "metadata": {},
   "source": [
    "meddle.prior_predictive_check()\n",
    "\n",
    "# sample all variables ancestrally\n",
    "model = meddle.x_prior.get_ancestors()\n",
    "model.append(meddle.x_prior)\n",
    "model_sample = dict(zip(model,sess.run([v.value() for v in model])))\n",
    "\n",
    "sess = ed.get_session()\n",
    "tmp = meddle.x_prior.sample().eval().T\n",
    "with sess.as_default():\n",
    "    plt.scatter(*tmp)\n",
    "    plt.scatter(*x_train[:,:M])\n",
    "    plt.axis('equal')\n",
    "    plt.show()"
   ]
  },
  {
   "cell_type": "code",
   "execution_count": 50,
   "metadata": {},
   "outputs": [
    {
     "data": {
      "text/plain": [
       "999"
      ]
     },
     "execution_count": 50,
     "metadata": {},
     "output_type": "execute_result"
    }
   ],
   "source": [
    "N"
   ]
  },
  {
   "cell_type": "code",
   "execution_count": 51,
   "metadata": {
    "scrolled": false
   },
   "outputs": [
    {
     "ename": "InvalidArgumentError",
     "evalue": "Input 0 of node copied/copied/Tile_2 was passed double from Const_6284:0 incompatible with expected float.",
     "output_type": "error",
     "traceback": [
      "\u001b[0;31m---------------------------------------------------------------------------\u001b[0m",
      "\u001b[0;31mInvalidArgumentError\u001b[0m                      Traceback (most recent call last)",
      "\u001b[0;32m<ipython-input-51-77044dd46e53>\u001b[0m in \u001b[0;36m<module>\u001b[0;34m()\u001b[0m\n\u001b[0;32m----> 1\u001b[0;31m \u001b[0mmeddle\u001b[0m\u001b[0;34m.\u001b[0m\u001b[0minfer\u001b[0m\u001b[0;34m(\u001b[0m\u001b[0mx_train\u001b[0m\u001b[0;34m,\u001b[0m \u001b[0mM\u001b[0m\u001b[0;34m=\u001b[0m\u001b[0mM\u001b[0m\u001b[0;34m,\u001b[0m \u001b[0mn_epoch\u001b[0m \u001b[0;34m=\u001b[0m \u001b[0;36m1000\u001b[0m\u001b[0;34m,\u001b[0m \u001b[0mn_samples\u001b[0m \u001b[0;34m=\u001b[0m \u001b[0;36m70\u001b[0m\u001b[0;34m,\u001b[0m \u001b[0moptimizer\u001b[0m\u001b[0;34m=\u001b[0m\u001b[0;34m'gradientdescent'\u001b[0m\u001b[0;34m)\u001b[0m\u001b[0;31m#, learning_rate=0.0001,momentum=.1)\u001b[0m\u001b[0;34m\u001b[0m\u001b[0m\n\u001b[0m\u001b[1;32m      2\u001b[0m \u001b[0;31m#meddle.infer(x_train, M=M, n_epoch = 1000, n_samples = 170, optimizer='rmsprop')#, learning_rate=0.0001,momentum=.1)\u001b[0m\u001b[0;34m\u001b[0m\u001b[0;34m\u001b[0m\u001b[0m\n\u001b[1;32m      3\u001b[0m \u001b[0;31m#meddle.infer(x_train, M=M, n_epoch = 2000, n_samples = 70, optimizer='adam')\u001b[0m\u001b[0;34m\u001b[0m\u001b[0;34m\u001b[0m\u001b[0m\n",
      "\u001b[0;32m<ipython-input-48-3e240152a297>\u001b[0m in \u001b[0;36minfer\u001b[0;34m(self, x_train, n_epoch, n_print, n_samples, M, optimizer, learning_rate, momentum)\u001b[0m\n\u001b[1;32m    101\u001b[0m         \u001b[0msess\u001b[0m \u001b[0;34m=\u001b[0m \u001b[0med\u001b[0m\u001b[0;34m.\u001b[0m\u001b[0mget_session\u001b[0m\u001b[0;34m(\u001b[0m\u001b[0;34m)\u001b[0m\u001b[0;34m\u001b[0m\u001b[0m\n\u001b[1;32m    102\u001b[0m         \u001b[0minit\u001b[0m \u001b[0;34m=\u001b[0m \u001b[0mtf\u001b[0m\u001b[0;34m.\u001b[0m\u001b[0mglobal_variables_initializer\u001b[0m\u001b[0;34m(\u001b[0m\u001b[0;34m)\u001b[0m\u001b[0;34m\u001b[0m\u001b[0m\n\u001b[0;32m--> 103\u001b[0;31m         \u001b[0minit\u001b[0m\u001b[0;34m.\u001b[0m\u001b[0mrun\u001b[0m\u001b[0;34m(\u001b[0m\u001b[0;34m)\u001b[0m\u001b[0;34m\u001b[0m\u001b[0m\n\u001b[0m\u001b[1;32m    104\u001b[0m \u001b[0;34m\u001b[0m\u001b[0m\n\u001b[1;32m    105\u001b[0m         \u001b[0;31m# assert x_ph.shape[0] == M\u001b[0m\u001b[0;34m\u001b[0m\u001b[0;34m\u001b[0m\u001b[0m\n",
      "\u001b[0;32m/usr/local/lib/python2.7/dist-packages/tensorflow/python/framework/ops.pyc\u001b[0m in \u001b[0;36mrun\u001b[0;34m(self, feed_dict, session)\u001b[0m\n\u001b[1;32m   2040\u001b[0m         \u001b[0mnone\u001b[0m\u001b[0;34m,\u001b[0m \u001b[0mthe\u001b[0m \u001b[0mdefault\u001b[0m \u001b[0msession\u001b[0m \u001b[0mwill\u001b[0m \u001b[0mbe\u001b[0m \u001b[0mused\u001b[0m\u001b[0;34m.\u001b[0m\u001b[0;34m\u001b[0m\u001b[0m\n\u001b[1;32m   2041\u001b[0m     \"\"\"\n\u001b[0;32m-> 2042\u001b[0;31m     \u001b[0m_run_using_default_session\u001b[0m\u001b[0;34m(\u001b[0m\u001b[0mself\u001b[0m\u001b[0;34m,\u001b[0m \u001b[0mfeed_dict\u001b[0m\u001b[0;34m,\u001b[0m \u001b[0mself\u001b[0m\u001b[0;34m.\u001b[0m\u001b[0mgraph\u001b[0m\u001b[0;34m,\u001b[0m \u001b[0msession\u001b[0m\u001b[0;34m)\u001b[0m\u001b[0;34m\u001b[0m\u001b[0m\n\u001b[0m\u001b[1;32m   2043\u001b[0m \u001b[0;34m\u001b[0m\u001b[0m\n\u001b[1;32m   2044\u001b[0m \u001b[0m_gradient_registry\u001b[0m \u001b[0;34m=\u001b[0m \u001b[0mregistry\u001b[0m\u001b[0;34m.\u001b[0m\u001b[0mRegistry\u001b[0m\u001b[0;34m(\u001b[0m\u001b[0;34m\"gradient\"\u001b[0m\u001b[0;34m)\u001b[0m\u001b[0;34m\u001b[0m\u001b[0m\n",
      "\u001b[0;32m/usr/local/lib/python2.7/dist-packages/tensorflow/python/framework/ops.pyc\u001b[0m in \u001b[0;36m_run_using_default_session\u001b[0;34m(operation, feed_dict, graph, session)\u001b[0m\n\u001b[1;32m   4488\u001b[0m                        \u001b[0;34m\"the operation's graph is different from the session's \"\u001b[0m\u001b[0;34m\u001b[0m\u001b[0m\n\u001b[1;32m   4489\u001b[0m                        \"graph.\")\n\u001b[0;32m-> 4490\u001b[0;31m   \u001b[0msession\u001b[0m\u001b[0;34m.\u001b[0m\u001b[0mrun\u001b[0m\u001b[0;34m(\u001b[0m\u001b[0moperation\u001b[0m\u001b[0;34m,\u001b[0m \u001b[0mfeed_dict\u001b[0m\u001b[0;34m)\u001b[0m\u001b[0;34m\u001b[0m\u001b[0m\n\u001b[0m\u001b[1;32m   4491\u001b[0m \u001b[0;34m\u001b[0m\u001b[0m\n\u001b[1;32m   4492\u001b[0m \u001b[0;34m\u001b[0m\u001b[0m\n",
      "\u001b[0;32m/usr/local/lib/python2.7/dist-packages/tensorflow/python/client/session.pyc\u001b[0m in \u001b[0;36mrun\u001b[0;34m(self, fetches, feed_dict, options, run_metadata)\u001b[0m\n\u001b[1;32m    887\u001b[0m     \u001b[0;32mtry\u001b[0m\u001b[0;34m:\u001b[0m\u001b[0;34m\u001b[0m\u001b[0m\n\u001b[1;32m    888\u001b[0m       result = self._run(None, fetches, feed_dict, options_ptr,\n\u001b[0;32m--> 889\u001b[0;31m                          run_metadata_ptr)\n\u001b[0m\u001b[1;32m    890\u001b[0m       \u001b[0;32mif\u001b[0m \u001b[0mrun_metadata\u001b[0m\u001b[0;34m:\u001b[0m\u001b[0;34m\u001b[0m\u001b[0m\n\u001b[1;32m    891\u001b[0m         \u001b[0mproto_data\u001b[0m \u001b[0;34m=\u001b[0m \u001b[0mtf_session\u001b[0m\u001b[0;34m.\u001b[0m\u001b[0mTF_GetBuffer\u001b[0m\u001b[0;34m(\u001b[0m\u001b[0mrun_metadata_ptr\u001b[0m\u001b[0;34m)\u001b[0m\u001b[0;34m\u001b[0m\u001b[0m\n",
      "\u001b[0;32m/usr/local/lib/python2.7/dist-packages/tensorflow/python/client/session.pyc\u001b[0m in \u001b[0;36m_run\u001b[0;34m(self, handle, fetches, feed_dict, options, run_metadata)\u001b[0m\n\u001b[1;32m   1118\u001b[0m     \u001b[0;32mif\u001b[0m \u001b[0mfinal_fetches\u001b[0m \u001b[0;32mor\u001b[0m \u001b[0mfinal_targets\u001b[0m \u001b[0;32mor\u001b[0m \u001b[0;34m(\u001b[0m\u001b[0mhandle\u001b[0m \u001b[0;32mand\u001b[0m \u001b[0mfeed_dict_tensor\u001b[0m\u001b[0;34m)\u001b[0m\u001b[0;34m:\u001b[0m\u001b[0;34m\u001b[0m\u001b[0m\n\u001b[1;32m   1119\u001b[0m       results = self._do_run(handle, final_targets, final_fetches,\n\u001b[0;32m-> 1120\u001b[0;31m                              feed_dict_tensor, options, run_metadata)\n\u001b[0m\u001b[1;32m   1121\u001b[0m     \u001b[0;32melse\u001b[0m\u001b[0;34m:\u001b[0m\u001b[0;34m\u001b[0m\u001b[0m\n\u001b[1;32m   1122\u001b[0m       \u001b[0mresults\u001b[0m \u001b[0;34m=\u001b[0m \u001b[0;34m[\u001b[0m\u001b[0;34m]\u001b[0m\u001b[0;34m\u001b[0m\u001b[0m\n",
      "\u001b[0;32m/usr/local/lib/python2.7/dist-packages/tensorflow/python/client/session.pyc\u001b[0m in \u001b[0;36m_do_run\u001b[0;34m(self, handle, target_list, fetch_list, feed_dict, options, run_metadata)\u001b[0m\n\u001b[1;32m   1315\u001b[0m     \u001b[0;32mif\u001b[0m \u001b[0mhandle\u001b[0m \u001b[0;32mis\u001b[0m \u001b[0mNone\u001b[0m\u001b[0;34m:\u001b[0m\u001b[0;34m\u001b[0m\u001b[0m\n\u001b[1;32m   1316\u001b[0m       return self._do_call(_run_fn, self._session, feeds, fetches, targets,\n\u001b[0;32m-> 1317\u001b[0;31m                            options, run_metadata)\n\u001b[0m\u001b[1;32m   1318\u001b[0m     \u001b[0;32melse\u001b[0m\u001b[0;34m:\u001b[0m\u001b[0;34m\u001b[0m\u001b[0m\n\u001b[1;32m   1319\u001b[0m       \u001b[0;32mreturn\u001b[0m \u001b[0mself\u001b[0m\u001b[0;34m.\u001b[0m\u001b[0m_do_call\u001b[0m\u001b[0;34m(\u001b[0m\u001b[0m_prun_fn\u001b[0m\u001b[0;34m,\u001b[0m \u001b[0mself\u001b[0m\u001b[0;34m.\u001b[0m\u001b[0m_session\u001b[0m\u001b[0;34m,\u001b[0m \u001b[0mhandle\u001b[0m\u001b[0;34m,\u001b[0m \u001b[0mfeeds\u001b[0m\u001b[0;34m,\u001b[0m \u001b[0mfetches\u001b[0m\u001b[0;34m)\u001b[0m\u001b[0;34m\u001b[0m\u001b[0m\n",
      "\u001b[0;32m/usr/local/lib/python2.7/dist-packages/tensorflow/python/client/session.pyc\u001b[0m in \u001b[0;36m_do_call\u001b[0;34m(self, fn, *args)\u001b[0m\n\u001b[1;32m   1334\u001b[0m         \u001b[0;32mexcept\u001b[0m \u001b[0mKeyError\u001b[0m\u001b[0;34m:\u001b[0m\u001b[0;34m\u001b[0m\u001b[0m\n\u001b[1;32m   1335\u001b[0m           \u001b[0;32mpass\u001b[0m\u001b[0;34m\u001b[0m\u001b[0m\n\u001b[0;32m-> 1336\u001b[0;31m       \u001b[0;32mraise\u001b[0m \u001b[0mtype\u001b[0m\u001b[0;34m(\u001b[0m\u001b[0me\u001b[0m\u001b[0;34m)\u001b[0m\u001b[0;34m(\u001b[0m\u001b[0mnode_def\u001b[0m\u001b[0;34m,\u001b[0m \u001b[0mop\u001b[0m\u001b[0;34m,\u001b[0m \u001b[0mmessage\u001b[0m\u001b[0;34m)\u001b[0m\u001b[0;34m\u001b[0m\u001b[0m\n\u001b[0m\u001b[1;32m   1337\u001b[0m \u001b[0;34m\u001b[0m\u001b[0m\n\u001b[1;32m   1338\u001b[0m   \u001b[0;32mdef\u001b[0m \u001b[0m_extend_graph\u001b[0m\u001b[0;34m(\u001b[0m\u001b[0mself\u001b[0m\u001b[0;34m)\u001b[0m\u001b[0;34m:\u001b[0m\u001b[0;34m\u001b[0m\u001b[0m\n",
      "\u001b[0;31mInvalidArgumentError\u001b[0m: Input 0 of node copied/copied/Tile_2 was passed double from Const_6284:0 incompatible with expected float."
     ]
    }
   ],
   "source": [
    "meddle.infer(x_train, M=M, n_epoch = 1000, n_samples = 70, optimizer='gradientdescent')#, learning_rate=0.0001,momentum=.1)\n",
    "#meddle.infer(x_train, M=M, n_epoch = 1000, n_samples = 170, optimizer='rmsprop')#, learning_rate=0.0001,momentum=.1)\n",
    "#meddle.infer(x_train, M=M, n_epoch = 2000, n_samples = 70, optimizer='adam')"
   ]
  },
  {
   "cell_type": "code",
   "execution_count": null,
   "metadata": {},
   "outputs": [],
   "source": [
    "meddle.posterior_predictive_check(x_train[:M,:])"
   ]
  },
  {
   "cell_type": "code",
   "execution_count": null,
   "metadata": {},
   "outputs": [],
   "source": [
    "foo = meddle.x_post.sample().eval()"
   ]
  },
  {
   "cell_type": "code",
   "execution_count": null,
   "metadata": {},
   "outputs": [],
   "source": [
    "#mahz = np.zeros((M,D),dtype=np.float64)"
   ]
  },
  {
   "cell_type": "code",
   "execution_count": null,
   "metadata": {},
   "outputs": [],
   "source": [
    "#mahz[:50,:] = -10.\n",
    "#mahz[50:,:] = 10."
   ]
  },
  {
   "cell_type": "code",
   "execution_count": null,
   "metadata": {},
   "outputs": [],
   "source": [
    "#fuzz = ed.copy(meddle.x_post, {meddle.Qmodel[3]:mahz})"
   ]
  },
  {
   "cell_type": "code",
   "execution_count": 34,
   "metadata": {
    "scrolled": false
   },
   "outputs": [
    {
     "data": {
      "image/png": "[encoded data removed]",
      "text/plain": [
       "<matplotlib.figure.Figure at 0x7faa1e48a350>"
      ]
     },
     "metadata": {},
     "output_type": "display_data"
    }
   ],
   "source": [
    "plt.subplot(121)\n",
    "plt.imshow(x_train[np.random.choice(N,M),:],cmap='gray')\n",
    "plt.title('Training data')\n",
    "plt.subplot(122)\n",
    "plt.imshow(foo,cmap='gray')\n",
    "plt.title('Samples from variational posterior')\n",
    "plt.rcParams['figure.figsize'] = (15,15)"
   ]
  },
  {
   "cell_type": "code",
   "execution_count": 26,
   "metadata": {},
   "outputs": [
    {
     "data": {
      "image/png": "[encoded data removed]",
      "text/plain": [
       "<matplotlib.figure.Figure at 0x7fab706dd210>"
      ]
     },
     "metadata": {},
     "output_type": "display_data"
    }
   ],
   "source": [
    "plt.subplot(121)\n",
    "plt.imshow(x_train[np.random.choice(N,10),:],cmap='gray')\n",
    "plt.title('Training data')\n",
    "plt.subplot(122)\n",
    "plt.imshow(foo[np.random.choice(M,10),:],cmap='gray')\n",
    "plt.title('Samples from variational posterior')\n",
    "plt.rcParams['figure.figsize'] = (15,15)"
   ]
  },
  {
   "cell_type": "code",
   "execution_count": 20,
   "metadata": {},
   "outputs": [],
   "source": [
    "latent = meddle.Qmodel[3].mode().eval()"
   ]
  },
  {
   "cell_type": "code",
   "execution_count": 21,
   "metadata": {},
   "outputs": [
    {
     "data": {
      "text/plain": [
       "array([[ 0.92890352,  3.49236894,  0.12938538, ..., -0.17947039,\n",
       "         1.72386074, -0.14574805],\n",
       "       [ 1.21843982,  3.09199524, -0.13808195, ..., -0.45061639,\n",
       "         1.5251404 , -0.74422073],\n",
       "       [ 1.22814584,  3.67762208,  0.19538033, ...,  0.81136054,\n",
       "         1.5323894 , -0.17438659],\n",
       "       ..., \n",
       "       [ 1.01232433,  2.31685305,  0.38356376, ...,  0.61254126,\n",
       "         1.80064774, -0.10645571],\n",
       "       [ 0.31273603,  2.89957356, -0.56312776, ...,  1.07672751,\n",
       "         0.89555687, -0.38185379],\n",
       "       [ 0.05255999,  3.07759595, -0.2388645 , ...,  0.30013075,\n",
       "         1.66894698, -0.48424268]], dtype=float32)"
      ]
     },
     "execution_count": 21,
     "metadata": {},
     "output_type": "execute_result"
    }
   ],
   "source": [
    "latent"
   ]
  },
  {
   "cell_type": "code",
   "execution_count": 22,
   "metadata": {},
   "outputs": [],
   "source": [
    "qwmode = meddle.Qmodel[2].mode().eval()"
   ]
  },
  {
   "cell_type": "code",
   "execution_count": 23,
   "metadata": {},
   "outputs": [
    {
     "data": {
      "text/plain": [
       "array([[[ 0.01      , -0.08      , -0.        , -0.01      , -6.40999985,\n",
       "          0.        ,  0.        , -0.01      , -0.        , -0.        ,\n",
       "         -0.01      ,  0.        , -0.        , -0.        , -0.        ,\n",
       "          0.01      , -0.01      ,  0.01      , -0.        ,  0.01      ],\n",
       "        [ 0.        ,  0.07      ,  0.01      , -0.        ,  6.42000008,\n",
       "         -0.01      ,  0.        , -0.01      ,  0.        , -0.        ,\n",
       "         -0.        , -0.        ,  0.        ,  0.        , -0.        ,\n",
       "         -0.        , -0.        , -0.        ,  0.01      ,  0.        ],\n",
       "        [-0.        , -0.09      , -0.        , -0.01      , -6.42000008,\n",
       "          0.        , -0.        , -0.01      , -0.01      ,  0.        ,\n",
       "         -0.        ,  0.01      , -0.01      ,  0.        ,  0.        ,\n",
       "          0.        ,  0.        ,  0.01      , -0.01      , -0.        ],\n",
       "        [-0.        ,  0.14      , -0.01      ,  0.01      ,  7.57999992,\n",
       "         -0.01      ,  0.        ,  0.        , -0.        ,  0.        ,\n",
       "         -0.01      , -0.01      ,  0.        ,  0.01      ,  0.01      ,\n",
       "         -0.        , -0.01      ,  0.        ,  0.01      , -0.        ],\n",
       "        [-0.01      ,  0.06      , -0.02      , -0.01      ,  6.40999985,\n",
       "          0.01      , -0.        ,  0.        , -0.        ,  0.        ,\n",
       "         -0.        , -0.01      ,  0.        ,  0.        , -0.        ,\n",
       "         -0.        ,  0.        ,  0.        ,  0.02      ,  0.        ],\n",
       "        [ 0.        ,  0.08      , -0.        ,  0.        ,  6.42999983,\n",
       "          0.01      , -0.01      , -0.01      , -0.        ,  0.01      ,\n",
       "         -0.        ,  0.01      , -0.        , -0.        ,  0.        ,\n",
       "         -0.        , -0.        , -0.        ,  0.01      , -0.01      ],\n",
       "        [ 0.01      , -0.14      ,  0.        ,  0.01      , -7.57999992,\n",
       "          0.01      , -0.        ,  0.01      , -0.        , -0.        ,\n",
       "         -0.01      ,  0.01      , -0.02      ,  0.        , -0.        ,\n",
       "         -0.01      , -0.        , -0.        , -0.01      , -0.        ],\n",
       "        [-0.        , -0.08      ,  0.01      ,  0.01      , -6.42000008,\n",
       "         -0.01      ,  0.01      ,  0.01      , -0.        , -0.        ,\n",
       "          0.        ,  0.01      , -0.        ,  0.01      ,  0.01      ,\n",
       "          0.01      ,  0.01      , -0.        , -0.01      ,  0.        ],\n",
       "        [-0.        , -0.14      , -0.        ,  0.        , -7.57999992,\n",
       "          0.        ,  0.01      , -0.        , -0.        , -0.01      ,\n",
       "          0.        , -0.        ,  0.01      ,  0.        , -0.        ,\n",
       "          0.        , -0.01      ,  0.        , -0.02      ,  0.        ],\n",
       "        [-0.01      ,  0.07      ,  0.01      ,  0.01      ,  6.42000008,\n",
       "         -0.01      , -0.01      , -0.        ,  0.01      ,  0.        ,\n",
       "          0.        ,  0.        ,  0.01      ,  0.        ,  0.01      ,\n",
       "         -0.01      , -0.        ,  0.        ,  0.01      , -0.        ],\n",
       "        [ 0.        ,  0.08      , -0.01      ,  0.        ,  6.42000008,\n",
       "          0.01      ,  0.        ,  0.01      ,  0.01      , -0.        ,\n",
       "          0.01      , -0.02      , -0.01      , -0.        ,  0.01      ,\n",
       "         -0.        , -0.        ,  0.        ,  0.        ,  0.        ],\n",
       "        [ 0.        ,  0.13      ,  0.        ,  0.        ,  7.59000015,\n",
       "         -0.        , -0.        ,  0.        ,  0.        ,  0.        ,\n",
       "         -0.        , -0.01      ,  0.01      ,  0.01      , -0.        ,\n",
       "         -0.        ,  0.01      ,  0.        ,  0.        ,  0.        ],\n",
       "        [-0.01      , -0.08      ,  0.01      ,  0.        , -6.42000008,\n",
       "         -0.01      ,  0.        ,  0.01      , -0.01      , -0.        ,\n",
       "         -0.01      , -0.        , -0.        , -0.        ,  0.01      ,\n",
       "          0.01      , -0.01      ,  0.        , -0.01      , -0.        ],\n",
       "        [ 0.        ,  0.08      , -0.        ,  0.01      ,  6.42999983,\n",
       "          0.        ,  0.        ,  0.        ,  0.        ,  0.01      ,\n",
       "         -0.        ,  0.01      , -0.        , -0.01      , -0.        ,\n",
       "         -0.        , -0.        , -0.        ,  0.02      ,  0.01      ],\n",
       "        [-0.01      , -0.06      , -0.01      , -0.        , -6.40999985,\n",
       "          0.        , -0.01      ,  0.01      , -0.        ,  0.        ,\n",
       "          0.01      ,  0.01      , -0.        ,  0.        ,  0.01      ,\n",
       "          0.01      ,  0.01      ,  0.        , -0.01      , -0.        ],\n",
       "        [ 0.        ,  0.06      , -0.        ,  0.        ,  6.42999983,\n",
       "          0.01      , -0.01      ,  0.        ,  0.01      ,  0.        ,\n",
       "         -0.        , -0.01      ,  0.01      ,  0.        , -0.01      ,\n",
       "          0.01      ,  0.01      , -0.        ,  0.01      , -0.        ],\n",
       "        [-0.01      , -0.07      ,  0.01      , -0.        , -6.42999983,\n",
       "          0.01      ,  0.        , -0.01      , -0.01      ,  0.        ,\n",
       "          0.        ,  0.02      , -0.01      ,  0.        , -0.        ,\n",
       "          0.        , -0.        ,  0.        , -0.01      , -0.        ],\n",
       "        [-0.        , -0.06      ,  0.01      ,  0.        , -6.42999983,\n",
       "         -0.01      , -0.01      ,  0.        , -0.01      , -0.01      ,\n",
       "         -0.01      , -0.        ,  0.        , -0.        , -0.01      ,\n",
       "         -0.01      , -0.        , -0.        , -0.        ,  0.01      ],\n",
       "        [ 0.        , -0.13      ,  0.        , -0.        , -7.59000015,\n",
       "          0.        ,  0.        , -0.        , -0.        , -0.01      ,\n",
       "          0.        , -0.01      , -0.02      ,  0.01      ,  0.        ,\n",
       "         -0.01      , -0.01      , -0.        , -0.01      ,  0.01      ],\n",
       "        [-0.        , -0.06      , -0.01      , -0.01      , -6.42999983,\n",
       "          0.        , -0.        ,  0.        ,  0.        ,  0.        ,\n",
       "          0.        , -0.        ,  0.        ,  0.        , -0.01      ,\n",
       "         -0.01      ,  0.01      ,  0.        , -0.01      , -0.01      ]],\n",
       "\n",
       "       [[-0.01      ,  0.02      ,  0.01      ,  0.01      ,  0.01      ,\n",
       "          0.        , -0.        ,  0.01      , -0.        ,  0.        ,\n",
       "         -0.        , -0.01      ,  0.        , -0.01      , -0.        ,\n",
       "         -0.        ,  0.        , -0.        , -0.        ,  0.        ],\n",
       "        [-0.        , -0.01      ,  0.01      , -0.        , -0.01      ,\n",
       "         -0.        ,  0.        ,  0.        , -0.        , -0.        ,\n",
       "          0.01      ,  0.        , -0.01      , -0.        , -0.        ,\n",
       "         -0.01      ,  0.        ,  0.        , -0.01      ,  0.01      ],\n",
       "        [ 0.01      ,  0.01      ,  0.01      ,  0.01      ,  0.01      ,\n",
       "         -0.        , -0.01      , -0.        ,  0.01      , -0.        ,\n",
       "          0.        , -0.        , -0.        ,  0.        , -0.02      ,\n",
       "         -0.01      ,  0.01      ,  0.        , -0.01      , -0.01      ],\n",
       "        [-0.        , -0.02      ,  0.        , -0.01      , -0.01      ,\n",
       "          0.        , -0.        , -0.        , -0.        , -0.03      ,\n",
       "         -0.01      ,  0.01      , -0.01      ,  0.01      , -0.        ,\n",
       "         -0.        ,  0.01      , -0.01      , -0.        ,  0.01      ],\n",
       "        [-0.01      , -0.02      , -0.        , -0.        , -0.01      ,\n",
       "          0.01      ,  0.        ,  0.        , -0.        ,  0.        ,\n",
       "         -0.        , -0.        , -0.        , -0.        ,  0.        ,\n",
       "         -0.        , -0.01      ,  0.        ,  0.        , -0.        ],\n",
       "        [ 0.        , -0.01      ,  0.        , -0.01      , -0.02      ,\n",
       "         -0.        , -0.        , -0.        ,  0.        , -0.01      ,\n",
       "          0.01      , -0.01      , -0.01      ,  0.01      ,  0.        ,\n",
       "          0.01      , -0.01      , -0.        , -0.01      ,  0.01      ],\n",
       "        [ 0.        ,  0.03      ,  0.01      ,  0.        ,  0.02      ,\n",
       "          0.        , -0.        ,  0.        , -0.01      , -0.        ,\n",
       "          0.01      , -0.01      ,  0.01      , -0.        ,  0.01      ,\n",
       "         -0.01      , -0.        ,  0.        ,  0.01      , -0.01      ],\n",
       "        [ 0.        ,  0.01      , -0.01      ,  0.01      ,  0.        ,\n",
       "         -0.        ,  0.01      , -0.        ,  0.        , -0.01      ,\n",
       "         -0.01      , -0.        , -0.        ,  0.01      , -0.01      ,\n",
       "          0.        ,  0.        ,  0.        , -0.01      , -0.        ],\n",
       "        [ 0.01      ,  0.02      , -0.        ,  0.        ,  0.01      ,\n",
       "          0.01      ,  0.        ,  0.        ,  0.        , -0.01      ,\n",
       "          0.        , -0.        ,  0.        , -0.01      , -0.        ,\n",
       "         -0.        , -0.        ,  0.        , -0.        ,  0.        ],\n",
       "        [-0.01      , -0.01      , -0.01      , -0.        , -0.01      ,\n",
       "          0.01      , -0.        , -0.        ,  0.01      , -0.        ,\n",
       "          0.        ,  0.        , -0.01      ,  0.        , -0.01      ,\n",
       "          0.01      , -0.01      ,  0.        ,  0.        ,  0.        ],\n",
       "        [-0.        , -0.02      , -0.        , -0.01      , -0.01      ,\n",
       "         -0.        , -0.        ,  0.        , -0.        ,  0.        ,\n",
       "         -0.        ,  0.01      , -0.01      , -0.01      , -0.        ,\n",
       "         -0.        , -0.        ,  0.        , -0.        ,  0.        ],\n",
       "        [-0.        , -0.01      , -0.01      , -0.01      , -0.01      ,\n",
       "         -0.01      , -0.        , -0.        , -0.        , -0.        ,\n",
       "         -0.01      ,  0.01      ,  0.        , -0.        , -0.        ,\n",
       "          0.01      , -0.01      , -0.        , -0.        ,  0.        ],\n",
       "        [ 0.01      ,  0.01      ,  0.        ,  0.01      ,  0.01      ,\n",
       "         -0.        , -0.        , -0.01      ,  0.01      , -0.01      ,\n",
       "         -0.        ,  0.        ,  0.        , -0.        , -0.        ,\n",
       "         -0.        ,  0.01      , -0.        ,  0.        , -0.        ],\n",
       "        [ 0.        , -0.02      , -0.01      , -0.01      , -0.01      ,\n",
       "         -0.        , -0.        ,  0.01      , -0.01      , -0.01      ,\n",
       "         -0.01      , -0.        ,  0.        ,  0.01      , -0.        ,\n",
       "         -0.        , -0.02      , -0.        ,  0.        , -0.01      ],\n",
       "        [ 0.01      ,  0.01      , -0.01      , -0.        ,  0.01      ,\n",
       "         -0.        ,  0.01      ,  0.01      , -0.01      , -0.01      ,\n",
       "         -0.        , -0.01      ,  0.        , -0.01      , -0.        ,\n",
       "         -0.01      ,  0.01      ,  0.        ,  0.01      ,  0.01      ],\n",
       "        [-0.01      , -0.02      , -0.01      ,  0.        , -0.01      ,\n",
       "          0.        ,  0.        , -0.        , -0.        , -0.        ,\n",
       "          0.        ,  0.01      , -0.        ,  0.        , -0.01      ,\n",
       "          0.        ,  0.01      ,  0.        , -0.01      ,  0.        ],\n",
       "        [-0.01      ,  0.01      ,  0.        , -0.01      ,  0.01      ,\n",
       "          0.01      ,  0.        ,  0.        , -0.        ,  0.01      ,\n",
       "          0.01      , -0.        ,  0.01      ,  0.01      ,  0.        ,\n",
       "         -0.        , -0.        ,  0.01      ,  0.01      , -0.01      ],\n",
       "        [ 0.01      ,  0.01      ,  0.01      , -0.        ,  0.02      ,\n",
       "          0.        , -0.01      , -0.        ,  0.01      , -0.        ,\n",
       "          0.        , -0.        ,  0.01      , -0.        , -0.        ,\n",
       "          0.01      ,  0.        , -0.        ,  0.        ,  0.01      ],\n",
       "        [ 0.01      ,  0.01      , -0.        ,  0.01      ,  0.02      ,\n",
       "         -0.        , -0.        ,  0.        , -0.        ,  0.01      ,\n",
       "         -0.        , -0.01      ,  0.        , -0.01      , -0.        ,\n",
       "          0.        , -0.01      , -0.        ,  0.        , -0.01      ],\n",
       "        [ 0.        ,  0.01      ,  0.01      , -0.        ,  0.01      ,\n",
       "          0.        ,  0.        ,  0.        , -0.        ,  0.        ,\n",
       "         -0.        , -0.        ,  0.        , -0.01      , -0.        ,\n",
       "         -0.        , -0.        , -0.01      ,  0.01      , -0.01      ]]], dtype=float32)"
      ]
     },
     "execution_count": 23,
     "metadata": {},
     "output_type": "execute_result"
    }
   ],
   "source": [
    "np.round(qwmode,2)"
   ]
  },
  {
   "cell_type": "code",
   "execution_count": 24,
   "metadata": {},
   "outputs": [
    {
     "data": {
      "image/png": "[encoded data removed]",
      "text/plain": [
       "<matplotlib.figure.Figure at 0x7efe71134350>"
      ]
     },
     "metadata": {},
     "output_type": "display_data"
    },
    {
     "data": {
      "image/png": "[encoded data removed]",
      "text/plain": [
       "<matplotlib.figure.Figure at 0x7efe70fb0f50>"
      ]
     },
     "metadata": {},
     "output_type": "display_data"
    }
   ],
   "source": [
    "hinton(qwmode[0])\n",
    "plt.show()\n",
    "hinton(qwmode[1])"
   ]
  },
  {
   "cell_type": "code",
   "execution_count": 25,
   "metadata": {},
   "outputs": [
    {
     "ename": "NameError",
     "evalue": "name 'w_true' is not defined",
     "output_type": "error",
     "traceback": [
      "\u001b[0;31m---------------------------------------------------------------------------\u001b[0m",
      "\u001b[0;31mNameError\u001b[0m                                 Traceback (most recent call last)",
      "\u001b[0;32m<ipython-input-25-8339f54dcab4>\u001b[0m in \u001b[0;36m<module>\u001b[0;34m()\u001b[0m\n\u001b[0;32m----> 1\u001b[0;31m \u001b[0mhinton\u001b[0m\u001b[0;34m(\u001b[0m\u001b[0mnp\u001b[0m\u001b[0;34m.\u001b[0m\u001b[0mpad\u001b[0m\u001b[0;34m(\u001b[0m\u001b[0mw_true\u001b[0m\u001b[0;34m,\u001b[0m\u001b[0;34m(\u001b[0m\u001b[0;34m(\u001b[0m\u001b[0;36m0\u001b[0m\u001b[0;34m,\u001b[0m\u001b[0;36m0\u001b[0m\u001b[0;34m)\u001b[0m\u001b[0;34m,\u001b[0m\u001b[0;34m(\u001b[0m\u001b[0;36m0\u001b[0m\u001b[0;34m,\u001b[0m\u001b[0mD\u001b[0m\u001b[0;34m-\u001b[0m\u001b[0mK\u001b[0m\u001b[0;34m)\u001b[0m\u001b[0;34m)\u001b[0m\u001b[0;34m,\u001b[0m \u001b[0;34m'constant'\u001b[0m\u001b[0;34m,\u001b[0m \u001b[0mconstant_values\u001b[0m\u001b[0;34m=\u001b[0m\u001b[0;36m0.001\u001b[0m\u001b[0;34m)\u001b[0m\u001b[0;34m)\u001b[0m\u001b[0;34m\u001b[0m\u001b[0m\n\u001b[0m",
      "\u001b[0;31mNameError\u001b[0m: name 'w_true' is not defined"
     ]
    }
   ],
   "source": [
    "hinton(np.pad(w_true,((0,0),(0,D-K)), 'constant', constant_values=0.001))"
   ]
  },
  {
   "cell_type": "code",
   "execution_count": null,
   "metadata": {
    "scrolled": false
   },
   "outputs": [],
   "source": [
    "meddle.plot_histograms()"
   ]
  },
  {
   "cell_type": "markdown",
   "metadata": {},
   "source": [
    "## W_hat"
   ]
  },
  {
   "cell_type": "code",
   "execution_count": null,
   "metadata": {},
   "outputs": [],
   "source": [
    "w_hat = meddle.Qmodel[3].mean().eval()\n",
    "hinton(w_hat.T)\n",
    "plt.show()\n",
    "\n",
    "np.round(w_hat,1)\n",
    "\n",
    "w_true\n",
    "\n",
    "hinton(w_true.T)\n",
    "plt.show()"
   ]
  },
  {
   "cell_type": "markdown",
   "metadata": {},
   "source": [
    "## PCA solution:"
   ]
  },
  {
   "cell_type": "code",
   "execution_count": null,
   "metadata": {},
   "outputs": [],
   "source": [
    "U,S,V = np.linalg.svd(x_train-x_train.mean(0))\n",
    "#np.dot(V,np.diag(S))/np.sqrt(N-1)\n",
    "whitened = np.sqrt(N-1)*U"
   ]
  },
  {
   "cell_type": "code",
   "execution_count": null,
   "metadata": {
    "scrolled": true
   },
   "outputs": [],
   "source": [
    "W_hat = np.dot(V,np.diag(S))/np.sqrt(N-1)"
   ]
  },
  {
   "cell_type": "code",
   "execution_count": null,
   "metadata": {},
   "outputs": [],
   "source": [
    "white = np.random.normal(size=x_train.shape)"
   ]
  },
  {
   "cell_type": "code",
   "execution_count": null,
   "metadata": {},
   "outputs": [],
   "source": [
    "tmp = np.dot(white,W_hat).T+x_train.mean(0)[:,np.newaxis]"
   ]
  },
  {
   "cell_type": "code",
   "execution_count": null,
   "metadata": {},
   "outputs": [],
   "source": [
    "tmp.shape"
   ]
  },
  {
   "cell_type": "code",
   "execution_count": null,
   "metadata": {},
   "outputs": [],
   "source": [
    "doublepairplot(x_train,tmp.T)"
   ]
  },
  {
   "cell_type": "code",
   "execution_count": null,
   "metadata": {},
   "outputs": [],
   "source": [
    "pairplot(white)"
   ]
  },
  {
   "cell_type": "code",
   "execution_count": null,
   "metadata": {},
   "outputs": [],
   "source": [
    "qsigma.get_variables()[0].eval()\n",
    "\n",
    "sorted(np.exp(qsigma.get_variables()[0].eval()))\n",
    "\n",
    "tmp = qw.mean().eval()\n",
    "\n",
    "tmp[abs(tmp)>0.05]\n",
    "\n",
    "sigma"
   ]
  },
  {
   "cell_type": "code",
   "execution_count": null,
   "metadata": {},
   "outputs": [],
   "source": [
    "alphas=tf.exp(qalpha.distribution.mean()).eval()\n",
    "alphas.sort()\n",
    "plt.plot(range(alphas.size),alphas)\n",
    "plt.show()"
   ]
  },
  {
   "cell_type": "code",
   "execution_count": null,
   "metadata": {},
   "outputs": [],
   "source": [
    "plt.hist(qalpha.sample(1000).eval(),bins=20)\n",
    "plt.xlim(0,2)\n",
    "plt.show()"
   ]
  },
  {
   "cell_type": "code",
   "execution_count": null,
   "metadata": {},
   "outputs": [],
   "source": [
    "qsigma.get_variables()[0].eval()"
   ]
  },
  {
   "cell_type": "code",
   "execution_count": null,
   "metadata": {},
   "outputs": [],
   "source": [
    "x_train.shape"
   ]
  },
  {
   "cell_type": "code",
   "execution_count": null,
   "metadata": {},
   "outputs": [],
   "source": [
    "x_sim_sample = x_sim.sample().eval()"
   ]
  },
  {
   "cell_type": "code",
   "execution_count": null,
   "metadata": {},
   "outputs": [],
   "source": [
    "x_sim_sample"
   ]
  },
  {
   "cell_type": "code",
   "execution_count": null,
   "metadata": {},
   "outputs": [],
   "source": [
    "x_sim_sample.shape"
   ]
  },
  {
   "cell_type": "code",
   "execution_count": null,
   "metadata": {},
   "outputs": [],
   "source": [
    "D"
   ]
  },
  {
   "cell_type": "code",
   "execution_count": null,
   "metadata": {},
   "outputs": [],
   "source": [
    "sess = ed.get_session()\n",
    "init = tf.global_variables_initializer()\n",
    "init.run()\n",
    "tpm = qtmp.sample(10000).eval()\n",
    "\n",
    "plt.hist(tpm[:,0],'auto',normed=True)\n",
    "plt.axis([0,50,0,1])\n",
    "plt.show()\n",
    "plt.hist(np.log(tpm[:,0]),'auto',normed=True)\n",
    "plt.show()"
   ]
  },
  {
   "cell_type": "code",
   "execution_count": null,
   "metadata": {},
   "outputs": [],
   "source": [
    "x_train.shape"
   ]
  }
 ],
 "metadata": {
  "anaconda-cloud": {},
  "kernelspec": {
   "display_name": "Python 2",
   "language": "python",
   "name": "python2"
  },
  "language_info": {
   "codemirror_mode": {
    "name": "ipython",
    "version": 2
   },
   "file_extension": ".py",
   "mimetype": "text/x-python",
   "name": "python",
   "nbconvert_exporter": "python",
   "pygments_lexer": "ipython2",
   "version": "2.7.12"
  }
 },
 "nbformat": 4,
 "nbformat_minor": 2
}
