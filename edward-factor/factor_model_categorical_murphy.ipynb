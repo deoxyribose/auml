{
 "cells": [
  {
   "cell_type": "markdown",
   "metadata": {},
   "source": [
    "# Bayesian PCA\n",
    "Includes bias and noise."
   ]
  },
  {
   "cell_type": "code",
   "execution_count": 1,
   "metadata": {},
   "outputs": [],
   "source": [
    "from __future__ import absolute_import\n",
    "from __future__ import division\n",
    "from __future__ import print_function\n",
    "\n",
    "import edward as ed\n",
    "import numpy as np\n",
    "import tensorflow as tf\n",
    "import matplotlib.pyplot as plt\n",
    "\n",
    "from edward.models import Normal, StudentT\n",
    "\n",
    "from plot_utils import * # see plot_utils.py\n",
    "\n",
    "import matplotlib.gridspec as gridspec\n",
    "import pandas as pd\n",
    "import seaborn as sns\n",
    "%matplotlib inline"
   ]
  },
  {
   "cell_type": "code",
   "execution_count": 2,
   "metadata": {},
   "outputs": [],
   "source": [
    "%load_ext autoreload"
   ]
  },
  {
   "cell_type": "code",
   "execution_count": 3,
   "metadata": {},
   "outputs": [],
   "source": [
    "import sys\n",
    "sys.path.insert(0, tf.__path__[0] + '/contrib/distributions/python/ops')\n",
    "\n",
    "import bijectors as bijector"
   ]
  },
  {
   "cell_type": "code",
   "execution_count": 4,
   "metadata": {},
   "outputs": [],
   "source": [
    "ledermann_bound = lambda p: (2*p+1-(8*p+1)**.5)*.5"
   ]
  },
  {
   "cell_type": "code",
   "execution_count": 5,
   "metadata": {},
   "outputs": [],
   "source": [
    "x_train = np.zeros((999, 20))"
   ]
  },
  {
   "cell_type": "code",
   "execution_count": 6,
   "metadata": {},
   "outputs": [],
   "source": [
    "x_train[:333,:] = np.array([0,0,0,0,0,1,1,1,1,1,0,0,0,0,0,1,1,1,1,1])\n",
    "x_train[333:666,:] = np.array([1,1,1,0,0,0,1,1,1,0,0,0,1,1,1,0,0,1,1,1])\n",
    "x_train[666:,:] = np.array([1,0,1,0,1,0,1,0,1,0,1,0,1,0,1,0,1,0,1,0])"
   ]
  },
  {
   "cell_type": "code",
   "execution_count": 7,
   "metadata": {},
   "outputs": [
    {
     "data": {
      "image/png": "[encoded data removed]",
      "text/plain": [
       "<matplotlib.figure.Figure at 0x7f33f78d44d0>"
      ]
     },
     "metadata": {},
     "output_type": "display_data"
    }
   ],
   "source": [
    "plt.imshow(x_train,cmap='gray',aspect=.03)\n",
    "plt.rcParams['figure.figsize'] = (15,15)"
   ]
  },
  {
   "cell_type": "code",
   "execution_count": 8,
   "metadata": {},
   "outputs": [],
   "source": [
    "N, D = x_train.shape"
   ]
  },
  {
   "cell_type": "code",
   "execution_count": 9,
   "metadata": {},
   "outputs": [
    {
     "data": {
      "text/plain": [
       "14.155711229775239"
      ]
     },
     "execution_count": 9,
     "metadata": {},
     "output_type": "execute_result"
    }
   ],
   "source": [
    "ledermann_bound(D) # if this is > K, model should be identifiable according to Identifiability of Factor Analysis: Some Results and Open Problems"
   ]
  },
  {
   "cell_type": "code",
   "execution_count": 10,
   "metadata": {},
   "outputs": [],
   "source": [
    "from tensorflow.python.client import device_lib"
   ]
  },
  {
   "cell_type": "code",
   "execution_count": 11,
   "metadata": {},
   "outputs": [
    {
     "data": {
      "text/plain": [
       "[name: \"/device:CPU:0\"\n",
       " device_type: \"CPU\"\n",
       " memory_limit: 268435456\n",
       " locality {\n",
       " }\n",
       " incarnation: 3912635981273974528]"
      ]
     },
     "execution_count": 11,
     "metadata": {},
     "output_type": "execute_result"
    }
   ],
   "source": [
    "device_lib.list_local_devices()"
   ]
  },
  {
   "cell_type": "markdown",
   "metadata": {},
   "source": [
    "## P-model\n",
    "\n",
    "\\begin{align}\n",
    "i \\in {1,...,D}\\\\\n",
    "j \\in {1,...,K}\\\\\n",
    "n \\in {1,...,N}\\\\\n",
    "\\tau &\\sim StudentT(1,0)\\\\\n",
    "\\lambda_j &\\sim StudentT(1,0)\\\\\n",
    "w_{ij}&\\sim N(0,|\\tau||\\lambda_j|)\\\\\n",
    "z_{jn}&\\sim N(0,1)\\\\\n",
    "\\mu_i &\\sim N(0,1)\\\\\n",
    "\\sigma_i &\\sim Gamma(1,1)\\\\\n",
    "x_i&\\sim \\prod\\mathrm{Cat}(\\mathcal{S}(W\\cdot z)_i+\\mu_i,\\sigma_i)\\\\\n",
    "\\end{align}"
   ]
  },
  {
   "cell_type": "markdown",
   "metadata": {},
   "source": [
    "### The automatic relevance determination in higher dimensions\n",
    "\n",
    "The ARD might seem like an overkill but it comes in handy in higher dimensions, where the dimensionality of the latent space is not a prior known.  Let us generate a higher dimensional data set and see how ARD determines the latent dimensionality."
   ]
  },
  {
   "cell_type": "code",
   "execution_count": 12,
   "metadata": {
    "scrolled": true
   },
   "outputs": [],
   "source": [
    "class low_rank_categorical_horseshoe_ard():\n",
    "    def __init__(self,M,D,C):\n",
    "        # Fit as many latent variables as dimensions, prune by ACD\n",
    "        K=D\n",
    "        #########\n",
    "        # halfCauchy = StudentT(df=1., loc=0., scale=1.)\n",
    "        # Horseshoe! Happy now, Aki? Hyva!\n",
    "        #########\n",
    "        # P-model\n",
    "        #sigma = ed.models.Gamma(tf.ones([D]),tf.ones([D]))\n",
    "        tau = StudentT(df=1., loc=tf.zeros([C]), scale=tf.ones([C])*.1, name=\"tau\")\n",
    "        lamda = StudentT(df=1., loc=tf.zeros([C,K]), scale=tf.ones([C,K]), name=\"lambda\")\n",
    "        w = Normal(tf.zeros([C, D, K]),    tf.reshape(tf.tile(tf.transpose(tf.reshape(tf.tile(np.abs(tau),[K]),[K,C]))*np.abs(lamda),[1,D]),[C,D,K]), name=\"W\")\n",
    "            # a factor loading matrix for every variable \n",
    "        z = Normal(tf.zeros([M, K]),    tf.ones([M, K]), name=\"z\")\n",
    "        mu = Normal(tf.zeros([C,D]),       tf.ones([C,D]), name=\"mu\")\n",
    "            # an offset for every variable \n",
    "        x = ed.models.Categorical(tf.nn.softmax(tf.add(tf.transpose(tf.matmul(w,tf.reshape(tf.tile(z,[C,1]),[C,M,K]),transpose_b=True)),tf.transpose(mu))), name=\"x\")\n",
    "\n",
    "#        self.Pmodel = (sigma,lamda,tau,w,z,mu)\n",
    "        self.Pmodel = (lamda,tau,w,z,mu) # not sure if observation noise is relevant for categorical data, ask Lars\n",
    "        self.x = x\n",
    "        #########\n",
    "        # Q-model\n",
    "        qtau = ed.models.TransformedDistribution(\n",
    "        distribution=ed.models.NormalWithSoftplusScale(tf.Variable(tf.random_normal([C])),\n",
    "                                                       tf.Variable(tf.random_normal([C]))),\n",
    "        bijector=bijector.Exp(),\n",
    "        name=\"qtau\")\n",
    "        \n",
    "        qlamda = ed.models.TransformedDistribution(\n",
    "        distribution=ed.models.NormalWithSoftplusScale(tf.Variable(tf.zeros([C,K])),\n",
    "                                                       tf.Variable(tf.zeros([C,K]))),\n",
    "        bijector=bijector.Exp(),\n",
    "        name=\"qlamda\")\n",
    "        qw = Normal(tf.Variable(tf.random_normal([C, D, K])),\n",
    "                    tf.nn.softplus(tf.Variable(tf.random_normal([C, D, K]))), name=\"qW\")\n",
    "        qz = Normal(tf.Variable(tf.random_normal([M, K])),\n",
    "                    tf.nn.softplus(tf.Variable(tf.random_normal([M, K]))), name=\"qz\")\n",
    "\n",
    "        # assume standardized data\n",
    "        qmu = Normal(tf.Variable(tf.random_normal([C,D])),\n",
    "                    tf.nn.softplus(tf.Variable(tf.random_normal([C,D]))), name=\"qmu\")\n",
    "        #qsigma = ed.models.TransformedDistribution(\n",
    "        #    distribution=ed.models.NormalWithSoftplusScale(tf.Variable(tf.zeros(D)),\n",
    "        #                                  tf.Variable(tf.ones(D))),\n",
    "        #    bijector=bijector.Exp(),\n",
    "        #    name=\"qsigma\")\n",
    "\n",
    "        #self.Qmodel = (qsigma,qlamda,qtau,qw,qz,qmu)\n",
    "        self.Qmodel = (qlamda,qtau,qw,qz,qmu)\n",
    "        \n",
    "    def initialize(self, x_train):\n",
    "        '''\n",
    "        Initialize parameters of Q-model in the solution from PCA, and empirical means and standard deviations, for faster convergence.\n",
    "        '''\n",
    "        K=D\n",
    "        N = x_train.shape[0]\n",
    "        qsigma,qlamda,qtau,qw,qz,qmu = self.Qmodel\n",
    "        # set qmu mean to data mean\n",
    "        data_mean = np.mean(x_train,axis=0).astype(np.float32,copy=False)\n",
    "        qmu = Normal(tf.Variable(data_mean+tf.random_normal([D])),\n",
    "                    tf.nn.softplus(tf.Variable(tf.random_normal([D]))))\n",
    "        # set qsigma mean to data stds\n",
    "        data_std = np.std(x_train,axis=0).astype(np.float32,copy=False)\n",
    "        qsigma = ed.models.TransformedDistribution(\n",
    "            distribution=ed.models.NormalWithSoftplusScale(tf.Variable(np.log(data_std)),\n",
    "                                          tf.Variable(tf.ones(D)*3)),\n",
    "            bijector=bijector.Exp(),\n",
    "            name=\"qsigma\")\n",
    "        # set qw mean to ppca solution (see 12.61 in Murphy)\n",
    "        _,S,V = np.linalg.svd(x_train-x_train.mean(0))\n",
    "        qw = Normal(tf.Variable(np.dot(V,np.diag(S))/np.sqrt(N-1)),\n",
    "                    tf.nn.softplus(tf.Variable(tf.random_normal([D, K]))))\n",
    "        self.Qmodel = (qsigma,qlamda,qtau,qw,qz,qmu)\n",
    "\n",
    "    def infer(self, x_train, n_epoch = 100, n_print=100, n_samples=100, M = 100, optimizer = 'rmsprop', learning_rate=0.01, momentum=0.0):\n",
    "        # add mini-batches\n",
    "        def generator(arrays, batch_size):\n",
    "            \"\"\"Generate batches, one with respect to each array's first axis.\"\"\"\n",
    "            starts = [0] * len(arrays)  # pointers to where we are in iteration\n",
    "            while True:\n",
    "                batches = []\n",
    "                for i, array in enumerate(arrays):\n",
    "                    start = starts[i]\n",
    "                    stop = start + batch_size\n",
    "                    diff = stop - array.shape[0]\n",
    "                    if diff <= 0:\n",
    "                        batch = array[start:stop]\n",
    "                        starts[i] += batch_size\n",
    "                    else:\n",
    "                        batch = np.concatenate((array[start:], array[:diff]))\n",
    "                        starts[i] = diff\n",
    "                    batches.append(batch)\n",
    "                yield batches\n",
    "        x_ph = tf.placeholder(tf.int32, [None,D])\n",
    "        data = generator([x_train], M)\n",
    "        n_batch = int(N / M)\n",
    "        # add progress bar\n",
    "        x = self.x\n",
    "        inference = ed.KLqp(dict(zip(self.Pmodel,self.Qmodel)), data={x: x_ph})\n",
    "        if optimizer == 'rmsprop':\n",
    "            optimizer = tf.train.RMSPropOptimizer(0.01, epsilon=1.0,momentum = momentum)\n",
    "        else:\n",
    "            optimizer = 'adam'\n",
    "        inference.initialize(n_iter=n_batch * n_epoch, n_print=(n_batch * n_epoch)/10, n_samples=n_samples, optimizer=optimizer)\n",
    "\n",
    "        sess = ed.get_session()\n",
    "        init = tf.global_variables_initializer()\n",
    "        init.run()\n",
    "\n",
    "        # assert x_ph.shape[0] == M \n",
    "        learning_curve = []\n",
    "        for _ in range(inference.n_iter):\n",
    "            x_batch = next(data)[0]\n",
    "            info_dict = inference.update({x_ph: x_batch})\n",
    "            if _%inference.n_print == 0:\n",
    "                print(info_dict)\n",
    "            learning_curve.append(info_dict['loss'])\n",
    "        plt.semilogy(learning_curve)\n",
    "        plt.show()\n",
    "    \n",
    "    def prior_predictive_check(self):\n",
    "        self.x_prior = ed.copy(self.x)\n",
    "        pass\n",
    "        \n",
    "    def posterior_predictive_check(self, x_test):\n",
    "        self.x_post = ed.copy(self.x, dict(zip(self.Pmodel,self.Qmodel)))\n",
    "        return ed.evaluate('log_likelihood', data={self.x_post: x_test})\n",
    "    \n",
    "    def plot_histograms(self,n_hist=3000):\n",
    "        for variable in meddle.Qmodel:\n",
    "            plt.show()\n",
    "            if all([i < 10 for i in variable.shape]):\n",
    "                samples = variable.sample(n_hist).eval()\n",
    "            else:\n",
    "                samples = variable.sample().eval()\n",
    "            if variable.shape == []:\n",
    "                plt.hist(samples,'auto')\n",
    "                plt.title(variable.name)\n",
    "            else:\n",
    "                for dimension in range(variable.shape[0]):\n",
    "                    plt.hist(samples[:,dimension],'auto')\n",
    "                    plt.title(variable.name)\n",
    "                    \n",
    "    def print_model(self):\n",
    "        qsigma,qlamda,qtau,qw,qz,qmu = self.Qmodel\n",
    "        # add pair plots\n",
    "        print(\"Inferred principal axes (columns):\")\n",
    "        print(qw.mean().eval())\n",
    "        print(qw.variance().eval())\n",
    "        print(\"Inferred center:\")\n",
    "        print(qmu.mean().eval())\n",
    "        print(qmu.variance().eval())"
   ]
  },
  {
   "cell_type": "code",
   "execution_count": 28,
   "metadata": {
    "scrolled": false
   },
   "outputs": [],
   "source": [
    "M = N\n",
    "meddle = low_rank_categorical_horseshoe_ard(M,D,C=2)\n",
    "#meddle.initialize(x_train)"
   ]
  },
  {
   "cell_type": "markdown",
   "metadata": {},
   "source": [
    "sess = ed.get_session()\n",
    "model = meddle.x.get_ancestors()\n",
    "model.append(meddle.x)\n",
    "model_sample = dict(zip(model,sess.run([[v.value() for i in range(10)] for v in model])))"
   ]
  },
  {
   "cell_type": "markdown",
   "metadata": {},
   "source": [
    "meddle.prior_predictive_check()\n",
    "\n",
    "# sample all variables ancestrally\n",
    "model = meddle.x_prior.get_ancestors()\n",
    "model.append(meddle.x_prior)\n",
    "model_sample = dict(zip(model,sess.run([v.value() for v in model])))\n",
    "\n",
    "sess = ed.get_session()\n",
    "tmp = meddle.x_prior.sample().eval().T\n",
    "with sess.as_default():\n",
    "    plt.scatter(*tmp)\n",
    "    plt.scatter(*x_train[:,:M])\n",
    "    plt.axis('equal')\n",
    "    plt.show()"
   ]
  },
  {
   "cell_type": "code",
   "execution_count": 14,
   "metadata": {},
   "outputs": [
    {
     "data": {
      "text/plain": [
       "999"
      ]
     },
     "execution_count": 14,
     "metadata": {},
     "output_type": "execute_result"
    }
   ],
   "source": [
    "N"
   ]
  },
  {
   "cell_type": "code",
   "execution_count": null,
   "metadata": {
    "scrolled": false
   },
   "outputs": [
    {
     "name": "stdout",
     "output_type": "stream",
     "text": [
      "{'loss': 45061.609, 't': 1}\n",
      "{'loss': 11717.895, 't': 201}\n",
      "{'loss': 9586.252, 't': 401}\n",
      "{'loss': 8935.3594, 't': 601}\n",
      "{'loss': 8684.4512, 't': 801}\n"
     ]
    }
   ],
   "source": [
    "meddle.infer(x_train, M=M, n_epoch = 2000, n_samples = 70, optimizer='rmsprop', learning_rate=0.0001,momentum=.1)"
   ]
  },
  {
   "cell_type": "code",
   "execution_count": 16,
   "metadata": {},
   "outputs": [
    {
     "data": {
      "text/plain": [
       "-0.70569974"
      ]
     },
     "execution_count": 16,
     "metadata": {},
     "output_type": "execute_result"
    }
   ],
   "source": [
    "meddle.posterior_predictive_check(x_train[:M,:])"
   ]
  },
  {
   "cell_type": "code",
   "execution_count": 17,
   "metadata": {},
   "outputs": [],
   "source": [
    "foo = meddle.x_post.sample().eval()"
   ]
  },
  {
   "cell_type": "code",
   "execution_count": 18,
   "metadata": {
    "scrolled": false
   },
   "outputs": [
    {
     "data": {
      "image/png": "[encoded data removed]",
      "text/plain": [
       "<matplotlib.figure.Figure at 0x7f336f516bd0>"
      ]
     },
     "metadata": {},
     "output_type": "display_data"
    }
   ],
   "source": [
    "plt.subplot(121)\n",
    "plt.imshow(x_train[np.random.choice(N,M),:],cmap='gray')\n",
    "plt.title('Training data')\n",
    "plt.subplot(122)\n",
    "plt.imshow(foo,cmap='gray')\n",
    "plt.title('Samples from variational posterior')\n",
    "plt.rcParams['figure.figsize'] = (15,15)"
   ]
  },
  {
   "cell_type": "code",
   "execution_count": 19,
   "metadata": {},
   "outputs": [],
   "source": [
    "latent = meddle.Qmodel[3].mode().eval()"
   ]
  },
  {
   "cell_type": "code",
   "execution_count": 20,
   "metadata": {},
   "outputs": [
    {
     "data": {
      "text/plain": [
       "array([[-0.44801292,  0.57097864, -0.25372931, ...,  0.60440421,\n",
       "        -0.01521161,  0.65723634],\n",
       "       [-0.35756409,  0.18655588, -0.09017617, ..., -0.032618  ,\n",
       "        -0.23001327, -0.03732799],\n",
       "       [ 0.31441069,  0.04524523,  0.50738668, ..., -0.06389087,\n",
       "        -0.21392757,  0.65334034],\n",
       "       ..., \n",
       "       [ 0.26314563, -0.0306917 ,  0.33927125, ...,  0.63842505,\n",
       "         2.36952519, -0.28362551],\n",
       "       [ 0.04832783,  0.1685122 , -0.21478632, ...,  0.42574286,\n",
       "        -0.36596584,  0.4424946 ],\n",
       "       [-0.31892583, -0.29550701, -0.05448743, ...,  0.77810073,\n",
       "         2.0035243 ,  0.53067356]], dtype=float32)"
      ]
     },
     "execution_count": 20,
     "metadata": {},
     "output_type": "execute_result"
    }
   ],
   "source": [
    "latent"
   ]
  },
  {
   "cell_type": "code",
   "execution_count": 21,
   "metadata": {},
   "outputs": [],
   "source": [
    "qwmode = meddle.Qmodel[2].mode().eval()"
   ]
  },
  {
   "cell_type": "code",
   "execution_count": 22,
   "metadata": {},
   "outputs": [
    {
     "data": {
      "text/plain": [
       "array([[[  5.21000004e+00,   2.44000006e+00,  -2.20000005e+00,\n",
       "           1.39300003e+01,   1.01000004e+01,  -7.88200012e+02,\n",
       "          -9.48999977e+00,  -2.66000009e+00,  -1.96000004e+00,\n",
       "          -6.46000004e+00,  -2.15100002e+01,  -7.71000004e+00,\n",
       "          -4.26869995e+02,  -3.67000008e+00,  -6.86999989e+00,\n",
       "           9.28999996e+00,  -2.79999995e+00,   3.08999991e+00,\n",
       "          -1.33210007e+02,   1.94200001e+01],\n",
       "        [ -3.18000007e+00,  -1.12500000e+01,  -9.39999998e-01,\n",
       "           2.47000003e+00,  -4.65000010e+00,   8.06679993e+02,\n",
       "          -2.48000002e+00,  -5.60000002e-01,   3.74000001e+00,\n",
       "          -9.67000008e+00,   9.90000010e-01,   3.72000003e+00,\n",
       "           3.81200012e+02,  -2.65000010e+00,  -7.78000021e+00,\n",
       "           8.48999977e+00,  -5.50000012e-01,  -5.19999981e-01,\n",
       "           1.17709999e+02,  -1.49099998e+01],\n",
       "        [ -7.30000019e-01,  -7.69999981e-01,   3.31999993e+00,\n",
       "           1.95100002e+01,   9.43000031e+00,  -8.22780029e+02,\n",
       "           1.17999995e+00,  -1.13599997e+01,   6.03000021e+00,\n",
       "          -1.72800007e+01,  -1.94500008e+01,  -1.76399994e+01,\n",
       "          -5.30159973e+02,   1.32000005e+00,   6.07000017e+00,\n",
       "           1.03699999e+01,   6.49999976e-01,  -5.57000017e+00,\n",
       "          -1.54860001e+02,   1.19099998e+01],\n",
       "        [  8.90999985e+00,  -1.26899996e+01,   2.93000007e+00,\n",
       "          -3.40000004e-01,  -1.58299999e+01,   1.15918994e+03,\n",
       "          -2.92000008e+00,   4.01000023e+00,   1.76399994e+01,\n",
       "          -2.18000007e+00,   4.38000011e+00,   1.11099997e+01,\n",
       "           5.96739990e+02,   8.64000034e+00,   1.67999995e+00,\n",
       "          -6.78000021e+00,  -2.16000009e+00,  -1.95699997e+01,\n",
       "           1.65240005e+02,  -1.84300003e+01],\n",
       "        [ -1.75699997e+01,   7.46999979e+00,  -1.66999996e+00,\n",
       "          -1.98299999e+01,  -3.75999999e+00,   7.98200012e+02,\n",
       "          -4.40000010e+00,   2.25999999e+00,   1.00000001e-01,\n",
       "           9.92000008e+00,   6.88000011e+00,   1.11999998e+01,\n",
       "           4.16179993e+02,   5.21999979e+00,   1.39200001e+01,\n",
       "           1.29999995e+00,  -4.69999999e-01,  -1.37000000e+00,\n",
       "           1.73050003e+02,  -6.82999992e+00],\n",
       "        [ -1.37500000e+01,   1.03500004e+01,   7.07000017e+00,\n",
       "          -1.49799995e+01,  -1.94799995e+01,   7.82390015e+02,\n",
       "          -1.00000001e-01,   4.55000019e+00,  -2.47000003e+00,\n",
       "           9.03999996e+00,   2.47000003e+00,   2.03500004e+01,\n",
       "           4.15619995e+02,  -9.94999981e+00,   1.17100000e+01,\n",
       "          -6.05000019e+00,   8.51000023e+00,  -7.44999981e+00,\n",
       "           1.12930000e+02,  -2.42999992e+01],\n",
       "        [  4.63999987e+00,   4.07000017e+00,  -4.19999981e+00,\n",
       "           1.28500004e+01,   1.69500008e+01,  -1.12923999e+03,\n",
       "           6.78000021e+00,   1.49000001e+00,  -9.52999973e+00,\n",
       "          -5.17000008e+00,  -3.19999993e-01,  -5.86999989e+00,\n",
       "          -6.00229980e+02,  -3.00000000e+00,  -2.03999996e+00,\n",
       "          -3.70000005e-01,   0.00000000e+00,   1.73000002e+00,\n",
       "          -1.84190002e+02,   2.69400005e+01],\n",
       "        [  2.01700001e+01,   7.50000000e-01,   2.27999997e+00,\n",
       "          -1.84899998e+01,   7.67000008e+00,  -7.60049988e+02,\n",
       "           7.61999989e+00,   8.77999973e+00,   1.13000000e+00,\n",
       "          -7.17000008e+00,  -1.32399998e+01,  -6.40000010e+00,\n",
       "          -4.27869995e+02,   2.73000002e+00,   6.07000017e+00,\n",
       "           1.80999994e+00,  -8.60000014e-01,  -8.99999976e-01,\n",
       "          -2.01850006e+02,   1.71800003e+01],\n",
       "        [  2.76999998e+00,  -1.88999999e+00,  -5.80999994e+00,\n",
       "           3.01999998e+00,   1.38199997e+01,  -1.13725000e+03,\n",
       "           1.39999998e+00,   4.55000019e+00,  -1.73700008e+01,\n",
       "          -5.07000017e+00,   6.65000010e+00,  -1.66599998e+01,\n",
       "          -5.93429993e+02,   1.37200003e+01,   5.55000019e+00,\n",
       "           1.01400003e+01,   3.61999989e+00,   1.09399996e+01,\n",
       "          -1.95119995e+02,   2.02600002e+01],\n",
       "        [  7.69999981e-01,   1.88999999e+00,  -1.33699999e+01,\n",
       "          -8.02999973e+00,  -1.75200005e+01,   7.81349976e+02,\n",
       "          -9.05000019e+00,  -1.44600000e+01,  -5.78000021e+00,\n",
       "           1.23800001e+01,   1.80999994e+00,   1.65799999e+01,\n",
       "           4.74760010e+02,  -1.53199997e+01,  -1.18100004e+01,\n",
       "           2.84999990e+00,   4.15000010e+00,  -9.94999981e+00,\n",
       "           1.49399994e+02,  -2.92000008e+00],\n",
       "        [ -1.64500008e+01,   3.00999999e+00,   9.00000000e+00,\n",
       "           8.97000027e+00,   8.00000012e-01,   7.59330017e+02,\n",
       "          -7.03000021e+00,  -5.73000002e+00,  -2.35999990e+00,\n",
       "           1.85699997e+01,  -9.30000007e-01,   3.43000007e+00,\n",
       "           4.01399994e+02,   8.36999989e+00,   1.82800007e+01,\n",
       "          -2.63000011e+00,   5.11999989e+00,  -5.46000004e+00,\n",
       "           1.94020004e+02,  -3.35999990e+00],\n",
       "        [  4.78000021e+00,   3.99999991e-02,  -4.01999998e+00,\n",
       "           6.40999985e+00,  -1.48500004e+01,   1.15193994e+03,\n",
       "          -1.33800001e+01,  -9.60999966e+00,   1.18599997e+01,\n",
       "           1.02299995e+01,  -2.13000011e+00,   8.09000015e+00,\n",
       "           5.54070007e+02,  -4.73999977e+00,   1.20000005e+00,\n",
       "           2.30000004e-01,  -6.94999981e+00,  -1.25799999e+01,\n",
       "           1.68410004e+02,  -1.43000002e+01],\n",
       "        [  1.25200005e+01,  -1.43900003e+01,  -5.84000015e+00,\n",
       "           1.11199999e+01,   6.84000015e+00,  -7.83130005e+02,\n",
       "           7.98999977e+00,  -3.08999991e+00,  -5.79999983e-01,\n",
       "          -1.80900002e+01,  -1.68400002e+01,  -7.34000015e+00,\n",
       "          -4.88299988e+02,   6.57999992e+00,   7.36999989e+00,\n",
       "           1.74000001e+00,  -1.56800003e+01,   5.65000010e+00,\n",
       "          -1.12349998e+02,   8.22999954e+00],\n",
       "        [  5.05000019e+00,  -1.29999995e+00,  -2.38000011e+00,\n",
       "           1.00000001e-01,   4.79999989e-01,   7.52130005e+02,\n",
       "           2.11999989e+00,   7.55999994e+00,  -2.20000005e+00,\n",
       "           2.58999991e+00,  -1.26999998e+01,  -4.07999992e+00,\n",
       "           3.94480011e+02,  -5.09999990e+00,  -1.13800001e+01,\n",
       "           4.94000006e+00,  -4.36999989e+00,   1.85000000e+01,\n",
       "           1.24559998e+02,  -1.44600000e+01],\n",
       "        [  6.34000015e+00,  -4.71999979e+00,   1.94000006e+00,\n",
       "           1.19099998e+01,   6.63999987e+00,  -8.06760010e+02,\n",
       "          -1.88000000e+00,  -4.67000008e+00,  -5.32000017e+00,\n",
       "          -7.80999994e+00,  -1.84899998e+01,  -1.71299992e+01,\n",
       "          -4.43779999e+02,   1.05400000e+01,   1.04799995e+01,\n",
       "           1.16800003e+01,  -1.47299995e+01,  -6.94000006e+00,\n",
       "          -1.02900002e+02,   1.76700001e+01],\n",
       "        [  3.25999999e+00,   1.44300003e+01,  -1.14399996e+01,\n",
       "          -1.20900002e+01,  -1.31899996e+01,   7.79690002e+02,\n",
       "          -4.09000015e+00,   4.34999990e+00,  -2.91000009e+00,\n",
       "           1.16700001e+01,   4.86999989e+00,   2.11200008e+01,\n",
       "           4.87910004e+02,  -4.21999979e+00,   7.19999981e+00,\n",
       "          -1.35200005e+01,  -2.30000004e-01,  -1.17100000e+01,\n",
       "           1.36770004e+02,  -2.61499996e+01],\n",
       "        [  8.77000046e+00,  -5.09999990e-01,   8.29999983e-01,\n",
       "          -4.38000011e+00,  -4.34999990e+00,  -8.44469971e+02,\n",
       "           1.13999999e+00,  -3.24000001e+00,  -3.39000010e+00,\n",
       "          -9.70000029e-01,   6.99999988e-01,  -9.53999996e+00,\n",
       "          -4.18450012e+02,   2.34799995e+01,   1.28400002e+01,\n",
       "          -7.84999990e+00,   8.75000000e+00,  -2.53099995e+01,\n",
       "          -1.11620003e+02,   1.69799995e+01],\n",
       "        [  3.99999991e-02,   2.73000002e+00,  -2.09799995e+01,\n",
       "          -9.21000004e+00,   2.19000006e+00,  -7.76630005e+02,\n",
       "          -1.19000006e+00,  -2.29999995e+00,  -1.72999992e+01,\n",
       "          -4.07000017e+00,   3.22000003e+00,  -1.63299999e+01,\n",
       "          -4.20059998e+02,  -5.03000021e+00,   3.27999997e+00,\n",
       "          -2.57999992e+00,   9.59000015e+00,   6.40999985e+00,\n",
       "          -1.57059998e+02,   1.41700001e+01],\n",
       "        [  1.84000003e+00,   9.64999962e+00,  -2.38000011e+00,\n",
       "           9.00000036e-02,   9.09000015e+00,  -1.13491003e+03,\n",
       "           3.05999994e+00,   1.33000004e+00,  -1.76700001e+01,\n",
       "           2.99000001e+00,   5.73000002e+00,   3.26999998e+00,\n",
       "          -6.04340027e+02,   4.92999983e+00,   6.60000026e-01,\n",
       "           1.18100004e+01,   3.77999997e+00,   4.61999989e+00,\n",
       "          -1.78589996e+02,   1.42799997e+01],\n",
       "        [ -2.29999995e+00,   9.73999977e+00,  -4.30000019e+00,\n",
       "           1.10699997e+01,   5.34999990e+00,  -7.68830017e+02,\n",
       "           5.00000000e+00,   7.01999998e+00,  -4.92999983e+00,\n",
       "          -1.10500002e+01,   4.82999992e+00,  -2.01999998e+00,\n",
       "          -3.90350006e+02,   8.56999969e+00,   3.54999995e+00,\n",
       "           3.30999994e+00,   9.90999985e+00,   7.88999987e+00,\n",
       "          -1.65740005e+02,   9.39999962e+00]],\n",
       "\n",
       "       [[  2.85999990e+00,  -3.42000008e+00,  -1.28999996e+00,\n",
       "          -8.36999989e+00,  -9.97999954e+00,   6.09440002e+02,\n",
       "           7.44000006e+00,  -4.71999979e+00,  -2.85999990e+00,\n",
       "           9.25000000e+00,   1.02799997e+01,   2.17299995e+01,\n",
       "           4.20149994e+02,  -7.11999989e+00,   1.90499992e+01,\n",
       "          -3.55999994e+00,   1.38500004e+01,   7.59999990e-01,\n",
       "           1.67880005e+02,  -2.71000004e+00],\n",
       "        [ -1.10299997e+01,  -8.19999981e+00,  -5.73000002e+00,\n",
       "           8.22000027e+00,   4.28999996e+00,  -6.84099976e+02,\n",
       "           6.36000013e+00,  -2.88000011e+00,  -1.15900002e+01,\n",
       "           1.10100002e+01,   4.21000004e+00,   4.34999990e+00,\n",
       "          -3.78549988e+02,   4.98999977e+00,   1.23100004e+01,\n",
       "           2.14000010e+00,   7.17000008e+00,   9.10000026e-01,\n",
       "          -1.35080002e+02,  -9.78999996e+00],\n",
       "        [  8.00000012e-01,  -1.12500000e+01,   9.65999985e+00,\n",
       "          -5.96999979e+00,  -1.15900002e+01,   6.18750000e+02,\n",
       "           2.07999992e+00,   5.05999994e+00,   4.96999979e+00,\n",
       "           5.00000000e-01,   7.05000019e+00,   1.29799995e+01,\n",
       "           3.66390015e+02,  -5.48999977e+00,   2.43700008e+01,\n",
       "          -2.75000000e+00,   2.28999996e+00,  -7.61000013e+00,\n",
       "           1.64520004e+02,   1.66999996e+00],\n",
       "        [  6.11999989e+00,   1.52600002e+01,   3.10999990e+00,\n",
       "           2.14899998e+01,   1.80799999e+01,  -9.77059998e+02,\n",
       "          -4.07000017e+00,  -1.89999998e-01,  -7.98000002e+00,\n",
       "           1.01099997e+01,   1.46899996e+01,  -9.57999992e+00,\n",
       "          -5.10519989e+02,   6.67999983e+00,  -3.32999992e+00,\n",
       "          -1.00000001e-01,   5.53000021e+00,   4.51999998e+00,\n",
       "          -1.97229996e+02,   2.31900005e+01],\n",
       "        [ -1.20000005e+00,   1.24300003e+01,  -4.69999999e-01,\n",
       "          -5.07000017e+00,   3.99000001e+00,  -6.38130005e+02,\n",
       "          -1.38000002e+01,   1.36199999e+01,  -9.18000031e+00,\n",
       "          -1.14899998e+01,  -7.07999992e+00,  -6.36000013e+00,\n",
       "          -3.70019989e+02,  -1.26499996e+01,   1.15500002e+01,\n",
       "          -7.71000004e+00,   6.92000008e+00,   2.80999994e+00,\n",
       "          -2.04929993e+02,   9.81000042e+00],\n",
       "        [  9.60000038e+00,   6.46999979e+00,   7.38999987e+00,\n",
       "           1.25400000e+01,   2.14099998e+01,  -6.11030029e+02,\n",
       "           9.10000026e-01,   4.15000010e+00,   1.57000005e+00,\n",
       "           1.41999998e+01,  -7.63999987e+00,  -1.70699997e+01,\n",
       "          -4.52829987e+02,   3.83999991e+00,   1.05999994e+00,\n",
       "          -7.30000019e-01,   5.07000017e+00,   6.32000017e+00,\n",
       "          -1.60979996e+02,   1.13100004e+01],\n",
       "        [  7.67000008e+00,  -9.25000000e+00,   3.48000002e+00,\n",
       "          -1.34799995e+01,  -1.45799999e+01,   1.04673999e+03,\n",
       "          -2.99999993e-02,  -8.99999976e-01,  -3.30999994e+00,\n",
       "          -3.46000004e+00,   2.80999994e+00,   9.18999958e+00,\n",
       "           5.23729980e+02,  -1.84500008e+01,  -7.30000019e-01,\n",
       "           3.86999989e+00,   6.65999985e+00,  -6.36999989e+00,\n",
       "           1.93619995e+02,  -8.89000034e+00],\n",
       "        [ -4.63999987e+00,  -3.27999997e+00,   1.95000005e+00,\n",
       "          -1.07900000e+01,  -1.39999998e+00,   6.46659973e+02,\n",
       "           7.30999994e+00,   2.80000001e-01,   7.57999992e+00,\n",
       "           5.89999974e-01,  -1.57799997e+01,   8.68000031e+00,\n",
       "           3.52750000e+02,  -2.49000001e+00,  -9.35000038e+00,\n",
       "           6.01000023e+00,  -7.32000017e+00,   9.70000029e-01,\n",
       "           1.68169998e+02,  -1.23000002e+01],\n",
       "        [ -3.41000009e+00,  -3.90000010e+00,   1.01499996e+01,\n",
       "           9.59999979e-01,  -8.81999969e+00,   1.08123999e+03,\n",
       "          -6.84999990e+00,   6.00000024e-01,  -1.10000002e+00,\n",
       "           5.03000021e+00,  -7.84999990e+00,   2.19999999e-01,\n",
       "           5.39570007e+02,  -1.53699999e+01,  -5.00000000e-01,\n",
       "           8.50000000e+00,  -4.40999985e+00,   4.13000011e+00,\n",
       "           2.09949997e+02,  -1.43100004e+01],\n",
       "        [  6.32000017e+00,   5.92999983e+00,  -1.79500008e+01,\n",
       "           1.49799995e+01,   1.06599998e+01,  -6.34479980e+02,\n",
       "           5.17000008e+00,   9.94999981e+00,   1.66999996e+00,\n",
       "          -1.83000004e+00,  -1.47399998e+01,  -1.63199997e+01,\n",
       "          -4.20140015e+02,   1.63899994e+01,  -1.62999992e+01,\n",
       "          -7.55000019e+00,  -4.92999983e+00,   4.75000000e+00,\n",
       "          -1.61970001e+02,   1.25699997e+01],\n",
       "        [  2.13000011e+00,   4.15000010e+00,   4.00000000e+00,\n",
       "           1.62000000e+00,  -7.30000019e+00,  -6.27960022e+02,\n",
       "          -1.39999998e+00,  -4.38999987e+00,  -1.80000007e-01,\n",
       "          -8.36999989e+00,   1.19300003e+01,  -1.55299997e+01,\n",
       "          -3.48279999e+02,  -5.92000008e+00,   1.24799995e+01,\n",
       "          -9.27999973e+00,   1.94000006e+00,  -6.96999979e+00,\n",
       "          -2.03289993e+02,   1.33299999e+01],\n",
       "        [ -3.19999993e-01,   4.19999981e+00,  -1.00000000e+01,\n",
       "           2.99999993e-02,   1.22500000e+01,  -1.01439001e+03,\n",
       "           1.25400000e+01,   7.36000013e+00,  -7.94000006e+00,\n",
       "          -2.90000010e+00,   1.50999999e+00,  -7.59999990e+00,\n",
       "          -5.66119995e+02,   1.79099998e+01,  -2.71000004e+00,\n",
       "          -3.29999995e+00,   2.99000001e+00,  -5.32999992e+00,\n",
       "          -2.29470001e+02,  -4.42000008e+00],\n",
       "        [ -5.94000006e+00,  -2.59999990e+00,  -1.02600002e+01,\n",
       "          -1.05400000e+01,  -8.01000023e+00,   6.00539978e+02,\n",
       "          -4.76000023e+00,  -1.02299995e+01,  -4.01000023e+00,\n",
       "          -7.75000000e+00,   1.56000004e+01,   3.13000011e+00,\n",
       "           4.02299988e+02,  -5.09999990e+00,   1.58999996e+01,\n",
       "           5.30000019e+00,   1.23000002e+00,  -1.34000003e+00,\n",
       "           1.18760002e+02,  -9.70000029e-01],\n",
       "        [ -1.49399996e+01,  -5.65000010e+00,  -3.23000002e+00,\n",
       "           1.25600004e+01,  -1.16999996e+00,  -7.22580017e+02,\n",
       "           6.48000002e+00,  -5.61000013e+00,  -9.07999992e+00,\n",
       "          -7.90999985e+00,   6.21999979e+00,   6.30999994e+00,\n",
       "          -3.48000000e+02,   1.01899996e+01,   1.33999996e+01,\n",
       "           7.00000003e-02,   1.96599998e+01,   5.69999981e+00,\n",
       "          -1.38979996e+02,   1.06999998e+01],\n",
       "        [ -9.06000042e+00,  -9.32999992e+00,  -4.13000011e+00,\n",
       "          -1.56599998e+01,  -1.53800001e+01,   5.77719971e+02,\n",
       "           3.38000011e+00,  -4.07000017e+00,  -6.15999985e+00,\n",
       "          -5.98999977e+00,   1.48800001e+01,   2.19200001e+01,\n",
       "           4.04459991e+02,  -7.03999996e+00,   1.22399998e+01,\n",
       "          -3.75000000e+00,   1.25999999e+00,  -1.02700005e+01,\n",
       "           1.92630005e+02,  -1.63799992e+01],\n",
       "        [  1.78999996e+00,   1.92800007e+01,  -4.36999989e+00,\n",
       "           2.60999990e+00,  -3.30000013e-01,  -5.92719971e+02,\n",
       "          -5.88999987e+00,   1.04999995e+00,   6.42999983e+00,\n",
       "          -1.60000002e+00,  -7.98000002e+00,  -1.63999996e+01,\n",
       "          -3.84609985e+02,   1.67299995e+01,  -1.65900002e+01,\n",
       "          -3.65000010e+00,  -8.72000027e+00,  -7.00000003e-02,\n",
       "          -1.60850006e+02,   6.19999981e+00],\n",
       "        [  8.72000027e+00,   1.43100004e+01,   8.29999983e-01,\n",
       "          -2.78999996e+00,   4.17999983e+00,   6.39960022e+02,\n",
       "          -7.71000004e+00,   2.78999996e+00,   1.44099998e+01,\n",
       "           3.67000008e+00,  -1.40000001e-01,  -5.99999987e-02,\n",
       "           3.09769989e+02,  -1.35299997e+01,  -1.14899998e+01,\n",
       "           6.59000015e+00,   1.77999997e+00,   3.67000008e+00,\n",
       "           1.32630005e+02,  -1.27900000e+01],\n",
       "        [ -8.42000008e+00,  -9.81999969e+00,  -6.73000002e+00,\n",
       "          -1.44499998e+01,  -9.55000019e+00,   6.22909973e+02,\n",
       "           1.62700005e+01,   8.22000027e+00,   3.07999992e+00,\n",
       "           7.19999981e+00,   5.84000015e+00,   8.72000027e+00,\n",
       "           3.27529999e+02,   8.43000031e+00,  -3.78999996e+00,\n",
       "          -8.52000046e+00,   2.06999993e+00,   1.25000000e+01,\n",
       "           1.89279999e+02,  -1.32299995e+01],\n",
       "        [ -4.96000004e+00,  -3.70000005e-01,   9.28999996e+00,\n",
       "           1.37000000e+00,  -8.75000000e+00,   1.05784998e+03,\n",
       "          -6.39999986e-01,  -7.09999979e-01,  -4.46999979e+00,\n",
       "           5.40999985e+00,  -6.69999981e+00,   1.24499998e+01,\n",
       "           5.08459991e+02,  -1.47200003e+01,  -5.67000008e+00,\n",
       "          -6.84999990e+00,   5.25000000e+00,  -2.67000008e+00,\n",
       "           1.89990005e+02,  -2.81999993e+00],\n",
       "        [  7.90999985e+00,  -8.43000031e+00,   1.33000004e+00,\n",
       "           4.69000006e+00,  -4.15999985e+00,   6.59010010e+02,\n",
       "           6.07000017e+00,  -1.36599998e+01,   2.80000001e-01,\n",
       "           4.30000019e+00,  -7.96000004e+00,  -1.12700005e+01,\n",
       "           3.31910004e+02,  -1.19399996e+01,  -1.34200001e+01,\n",
       "          -1.83000004e+00,   2.26999998e+00,   5.67999983e+00,\n",
       "           2.01630005e+02,  -1.21999998e+01]]], dtype=float32)"
      ]
     },
     "execution_count": 22,
     "metadata": {},
     "output_type": "execute_result"
    }
   ],
   "source": [
    "np.round(qwmode,2)"
   ]
  },
  {
   "cell_type": "code",
   "execution_count": 23,
   "metadata": {},
   "outputs": [
    {
     "data": {
      "image/png": "[encoded data removed]",
      "text/plain": [
       "<matplotlib.figure.Figure at 0x7f33efbfbcd0>"
      ]
     },
     "metadata": {},
     "output_type": "display_data"
    },
    {
     "data": {
      "image/png": "[encoded data removed]",
      "text/plain": [
       "<matplotlib.figure.Figure at 0x7f336f466c90>"
      ]
     },
     "metadata": {},
     "output_type": "display_data"
    }
   ],
   "source": [
    "hinton(qwmode[0])\n",
    "plt.show()\n",
    "hinton(qwmode[1])"
   ]
  },
  {
   "cell_type": "code",
   "execution_count": 24,
   "metadata": {},
   "outputs": [
    {
     "ename": "NameError",
     "evalue": "name 'w_true' is not defined",
     "output_type": "error",
     "traceback": [
      "\u001b[0;31m---------------------------------------------------------------------------\u001b[0m",
      "\u001b[0;31mNameError\u001b[0m                                 Traceback (most recent call last)",
      "\u001b[0;32m<ipython-input-24-8339f54dcab4>\u001b[0m in \u001b[0;36m<module>\u001b[0;34m()\u001b[0m\n\u001b[0;32m----> 1\u001b[0;31m \u001b[0mhinton\u001b[0m\u001b[0;34m(\u001b[0m\u001b[0mnp\u001b[0m\u001b[0;34m.\u001b[0m\u001b[0mpad\u001b[0m\u001b[0;34m(\u001b[0m\u001b[0mw_true\u001b[0m\u001b[0;34m,\u001b[0m\u001b[0;34m(\u001b[0m\u001b[0;34m(\u001b[0m\u001b[0;36m0\u001b[0m\u001b[0;34m,\u001b[0m\u001b[0;36m0\u001b[0m\u001b[0;34m)\u001b[0m\u001b[0;34m,\u001b[0m\u001b[0;34m(\u001b[0m\u001b[0;36m0\u001b[0m\u001b[0;34m,\u001b[0m\u001b[0mD\u001b[0m\u001b[0;34m-\u001b[0m\u001b[0mK\u001b[0m\u001b[0;34m)\u001b[0m\u001b[0;34m)\u001b[0m\u001b[0;34m,\u001b[0m \u001b[0;34m'constant'\u001b[0m\u001b[0;34m,\u001b[0m \u001b[0mconstant_values\u001b[0m\u001b[0;34m=\u001b[0m\u001b[0;36m0.001\u001b[0m\u001b[0;34m)\u001b[0m\u001b[0;34m)\u001b[0m\u001b[0;34m\u001b[0m\u001b[0m\n\u001b[0m",
      "\u001b[0;31mNameError\u001b[0m: name 'w_true' is not defined"
     ]
    }
   ],
   "source": [
    "hinton(np.pad(w_true,((0,0),(0,D-K)), 'constant', constant_values=0.001))"
   ]
  },
  {
   "cell_type": "code",
   "execution_count": null,
   "metadata": {
    "scrolled": false
   },
   "outputs": [],
   "source": [
    "meddle.plot_histograms()"
   ]
  },
  {
   "cell_type": "markdown",
   "metadata": {},
   "source": [
    "## W_hat"
   ]
  },
  {
   "cell_type": "code",
   "execution_count": null,
   "metadata": {},
   "outputs": [],
   "source": [
    "w_hat = meddle.Qmodel[3].mean().eval()\n",
    "hinton(w_hat.T)\n",
    "plt.show()\n",
    "\n",
    "np.round(w_hat,1)\n",
    "\n",
    "w_true\n",
    "\n",
    "hinton(w_true.T)\n",
    "plt.show()"
   ]
  },
  {
   "cell_type": "markdown",
   "metadata": {},
   "source": [
    "## PCA solution:"
   ]
  },
  {
   "cell_type": "code",
   "execution_count": null,
   "metadata": {},
   "outputs": [],
   "source": [
    "U,S,V = np.linalg.svd(x_train-x_train.mean(0))\n",
    "#np.dot(V,np.diag(S))/np.sqrt(N-1)\n",
    "whitened = np.sqrt(N-1)*U"
   ]
  },
  {
   "cell_type": "code",
   "execution_count": null,
   "metadata": {
    "scrolled": true
   },
   "outputs": [],
   "source": [
    "W_hat = np.dot(V,np.diag(S))/np.sqrt(N-1)"
   ]
  },
  {
   "cell_type": "code",
   "execution_count": null,
   "metadata": {},
   "outputs": [],
   "source": [
    "white = np.random.normal(size=x_train.shape)"
   ]
  },
  {
   "cell_type": "code",
   "execution_count": null,
   "metadata": {},
   "outputs": [],
   "source": [
    "tmp = np.dot(white,W_hat).T+x_train.mean(0)[:,np.newaxis]"
   ]
  },
  {
   "cell_type": "code",
   "execution_count": null,
   "metadata": {},
   "outputs": [],
   "source": [
    "tmp.shape"
   ]
  },
  {
   "cell_type": "code",
   "execution_count": null,
   "metadata": {},
   "outputs": [],
   "source": [
    "doublepairplot(x_train,tmp.T)"
   ]
  },
  {
   "cell_type": "code",
   "execution_count": null,
   "metadata": {},
   "outputs": [],
   "source": [
    "pairplot(white)"
   ]
  },
  {
   "cell_type": "code",
   "execution_count": null,
   "metadata": {},
   "outputs": [],
   "source": [
    "qsigma.get_variables()[0].eval()\n",
    "\n",
    "sorted(np.exp(qsigma.get_variables()[0].eval()))\n",
    "\n",
    "tmp = qw.mean().eval()\n",
    "\n",
    "tmp[abs(tmp)>0.05]\n",
    "\n",
    "sigma"
   ]
  },
  {
   "cell_type": "code",
   "execution_count": null,
   "metadata": {},
   "outputs": [],
   "source": [
    "alphas=tf.exp(qalpha.distribution.mean()).eval()\n",
    "alphas.sort()\n",
    "plt.plot(range(alphas.size),alphas)\n",
    "plt.show()"
   ]
  },
  {
   "cell_type": "code",
   "execution_count": null,
   "metadata": {},
   "outputs": [],
   "source": [
    "plt.hist(qalpha.sample(1000).eval(),bins=20)\n",
    "plt.xlim(0,2)\n",
    "plt.show()"
   ]
  },
  {
   "cell_type": "code",
   "execution_count": null,
   "metadata": {},
   "outputs": [],
   "source": [
    "qsigma.get_variables()[0].eval()"
   ]
  },
  {
   "cell_type": "code",
   "execution_count": null,
   "metadata": {},
   "outputs": [],
   "source": [
    "x_train.shape"
   ]
  },
  {
   "cell_type": "code",
   "execution_count": null,
   "metadata": {},
   "outputs": [],
   "source": [
    "x_sim_sample = x_sim.sample().eval()"
   ]
  },
  {
   "cell_type": "code",
   "execution_count": null,
   "metadata": {},
   "outputs": [],
   "source": [
    "x_sim_sample"
   ]
  },
  {
   "cell_type": "code",
   "execution_count": null,
   "metadata": {},
   "outputs": [],
   "source": [
    "x_sim_sample.shape"
   ]
  },
  {
   "cell_type": "code",
   "execution_count": null,
   "metadata": {},
   "outputs": [],
   "source": [
    "D"
   ]
  },
  {
   "cell_type": "code",
   "execution_count": null,
   "metadata": {},
   "outputs": [],
   "source": [
    "sess = ed.get_session()\n",
    "init = tf.global_variables_initializer()\n",
    "init.run()\n",
    "tpm = qtmp.sample(10000).eval()\n",
    "\n",
    "plt.hist(tpm[:,0],'auto',normed=True)\n",
    "plt.axis([0,50,0,1])\n",
    "plt.show()\n",
    "plt.hist(np.log(tpm[:,0]),'auto',normed=True)\n",
    "plt.show()"
   ]
  },
  {
   "cell_type": "code",
   "execution_count": null,
   "metadata": {},
   "outputs": [],
   "source": [
    "x_train.shape"
   ]
  }
 ],
 "metadata": {
  "anaconda-cloud": {},
  "kernelspec": {
   "display_name": "Python 2",
   "language": "python",
   "name": "python2"
  },
  "language_info": {
   "codemirror_mode": {
    "name": "ipython",
    "version": 2
   },
   "file_extension": ".py",
   "mimetype": "text/x-python",
   "name": "python",
   "nbconvert_exporter": "python",
   "pygments_lexer": "ipython2",
   "version": "2.7.12"
  }
 },
 "nbformat": 4,
 "nbformat_minor": 2
}
