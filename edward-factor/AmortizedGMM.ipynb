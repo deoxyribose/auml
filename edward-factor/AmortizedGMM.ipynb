{
 "cells": [
  {
   "cell_type": "code",
   "execution_count": 1,
   "metadata": {},
   "outputs": [
    {
     "name": "stderr",
     "output_type": "stream",
     "text": [
      "Using TensorFlow backend.\n"
     ]
    }
   ],
   "source": [
    "from __future__ import absolute_import\n",
    "from __future__ import division\n",
    "from __future__ import print_function\n",
    "\n",
    "import edward as ed\n",
    "import numpy as np\n",
    "import tensorflow as tf\n",
    "import matplotlib.pyplot as plt\n",
    "\n",
    "from edward.models import Normal, Dirichlet, Multinomial, Gamma\n",
    "from tensorflow.contrib.linalg import LinearOperatorTriL\n",
    "import itertools\n",
    "import sys\n",
    "sys.path.insert(0, tf.__path__[0] + '/contrib/distributions/python/ops')\n",
    "import bijectors as bijector\n",
    "\n",
    "from plot_utils import * # see plot_utils.py\n",
    "from keras.layers import Dense\n",
    "\n",
    "import pandas as pd\n",
    "import seaborn as sns\n",
    "%matplotlib inline"
   ]
  },
  {
   "cell_type": "code",
   "execution_count": 2,
   "metadata": {},
   "outputs": [],
   "source": [
    "def generator(arrays, batch_size):\n",
    "    # assuming arrays is a list of arrays of equal length, with rows being observations\n",
    "    while True:\n",
    "        batches = []\n",
    "        random_idx = np.random.choice(arrays[0].shape[0], batch_size)\n",
    "        for array in arrays:\n",
    "            batches.append(array[random_idx])\n",
    "        yield batches"
   ]
  },
  {
   "cell_type": "code",
   "execution_count": 3,
   "metadata": {},
   "outputs": [],
   "source": [
    "D = 2\n",
    "K = 2\n",
    "N = 1000\n",
    "M = 100"
   ]
  },
  {
   "cell_type": "code",
   "execution_count": 4,
   "metadata": {},
   "outputs": [],
   "source": [
    "x_ph = tf.placeholder(tf.float32, [None,D])"
   ]
  },
  {
   "cell_type": "code",
   "execution_count": 5,
   "metadata": {},
   "outputs": [],
   "source": [
    "mean_precision_shape,mean_precision_rate,obs_precision_shape,obs_precision_rate = 4.,200.,6.,10.\n",
    "\n",
    "# p model\n",
    "alpha = 1\n",
    "pi = Dirichlet(np.atleast_1d(alpha*np.ones(K)).astype(np.float32))\n",
    "#pi = tf.nn.softmax(np.random.normal(size=D).astype(np.float32)).eval()\n",
    "z = Multinomial(total_count=1.,probs=tf.reshape(tf.tile(pi,[M]),[M,K]))\n",
    "sigma2_mu_k = ed.models.InverseGamma([mean_precision_shape],[mean_precision_rate])\n",
    "sigma2_mu_d = ed.models.InverseGamma(mean_precision_shape*tf.ones([D]),mean_precision_rate*tf.ones([D]))\n",
    "sigma2_mu = tf.reshape(tf.tile(sigma2_mu_k, [K]), [K,1])*sigma2_mu_d\n",
    "mu = ed.models.MultivariateNormalDiag(tf.zeros([K,D]), tf.sqrt(sigma2_mu))\n",
    "sigma2_obs_n = ed.models.InverseGamma([obs_precision_shape],[obs_precision_rate])\n",
    "sigma2_obs_d = ed.models.InverseGamma(obs_precision_shape*tf.ones([D]),obs_precision_rate*tf.ones([D]))\n",
    "sigma2_obs = tf.reshape(tf.tile(sigma2_obs_n, [M]), [M,1])*sigma2_obs_d\n",
    "x = ed.models.MultivariateNormalDiag(tf.matmul(z, mu), tf.sqrt(sigma2_obs))\n",
    "\n",
    "Pmodel = (z, sigma2_mu_k, sigma2_mu_d, mu, sigma2_obs_n, sigma2_obs_d)"
   ]
  },
  {
   "cell_type": "code",
   "execution_count": 6,
   "metadata": {},
   "outputs": [
    {
     "data": {
      "image/png": "[encoded data removed]",
      "text/plain": [
       "<matplotlib.figure.Figure at 0x7fc0bd4b7f10>"
      ]
     },
     "metadata": {},
     "output_type": "display_data"
    }
   ],
   "source": [
    "sess = tf.Session()\n",
    "with sess.as_default():\n",
    "    init = tf.global_variables_initializer()\n",
    "    init.run()\n",
    "    X_sample = x.sample().eval()\n",
    "    plt.scatter(*X_sample.T,color='g')\n",
    "    plt.axis('equal');"
   ]
  },
  {
   "cell_type": "markdown",
   "metadata": {},
   "source": [
    "### standardize"
   ]
  },
  {
   "cell_type": "code",
   "execution_count": 7,
   "metadata": {},
   "outputs": [],
   "source": [
    "X_sample_mean = X_sample.mean(0)\n",
    "X_sample_std = X_sample.std(0)\n",
    "X_sample -= X_sample_mean\n",
    "X_sample /= X_sample_std"
   ]
  },
  {
   "cell_type": "code",
   "execution_count": 8,
   "metadata": {},
   "outputs": [
    {
     "data": {
      "image/png": "[encoded data removed]",
      "text/plain": [
       "<matplotlib.figure.Figure at 0x7fc0bd50de10>"
      ]
     },
     "metadata": {},
     "output_type": "display_data"
    }
   ],
   "source": [
    "plt.scatter(*X_sample.T,color='g')\n",
    "plt.axis('equal');"
   ]
  },
  {
   "cell_type": "code",
   "execution_count": 9,
   "metadata": {},
   "outputs": [],
   "source": [
    "# q model\n",
    "#alpha_hat = 1 + tf.nn.softplus(tf.Variable(tf.random_normal([K])))\n",
    "#qpi = Dirichlet(alpha_hat)\n",
    "\n",
    "hidden = Dense(256, activation='tanh')(x_ph)\n",
    "#hidden = Dense(256, activation='relu')(x_ph)\n",
    "qz = Multinomial(total_count=1.,probs=Dense(K, activation='softmax')(hidden))\n",
    "\n",
    "#qz = Multinomial(total_count=1.,probs=tf.reshape(tf.tile(qpi,[M]),[M,K]))\n",
    "#qz = Multinomial(total_count=1.,probs=qpi)\n",
    "\n",
    "mean_precision_shape_hat = tf.Variable(tf.random_normal([1]))\n",
    "mean_precision_rate_hat = tf.nn.softplus(tf.Variable(tf.random_normal([1])))\n",
    "qsigma2_mu_k = ed.models.TransformedDistribution(\n",
    "    distribution=ed.models.NormalWithSoftplusScale(mean_precision_shape_hat,mean_precision_rate_hat),\n",
    "    bijector=bijector.Exp(),\n",
    "    name=\"qsigma2_mu_k\")\n",
    "qsigma2_mu_d = ed.models.TransformedDistribution(\n",
    "    distribution=ed.models.NormalWithSoftplusScale(mean_precision_shape_hat*tf.ones([D]),mean_precision_rate_hat*tf.ones([D])),\n",
    "    bijector=bijector.Exp(),\n",
    "    name=\"qsigma2_mu_d\")\n",
    "qsigma2_mu = tf.reshape(tf.tile(qsigma2_mu_k, [K]), [K,1])*qsigma2_mu_d\n",
    "\n",
    "qmu_mean = tf.Variable(tf.zeros([K,D]))\n",
    "qmu = ed.models.MultivariateNormalDiag(qmu_mean, tf.sqrt(qsigma2_mu))\n",
    "\n",
    "obs_precision_shape_hat = tf.Variable(tf.random_normal([1]))\n",
    "obs_precision_rate_hat = tf.nn.softplus(tf.Variable(tf.random_normal([1])))\n",
    "qsigma2_obs_n = ed.models.TransformedDistribution(\n",
    "    distribution=ed.models.NormalWithSoftplusScale(obs_precision_shape_hat,obs_precision_rate_hat),\n",
    "    bijector=bijector.Exp(),\n",
    "    name=\"qsigma2_obs_n\")\n",
    "qsigma2_obs_d = ed.models.TransformedDistribution(\n",
    "    distribution=ed.models.NormalWithSoftplusScale(obs_precision_shape_hat*tf.ones([D]),obs_precision_rate_hat*tf.ones([D])),\n",
    "    bijector=bijector.Exp(),\n",
    "    name=\"qsigma2_obs_d\")\n",
    "qsigma2_obs = tf.reshape(tf.tile(qsigma2_obs_n, [M]), [M,1])*qsigma2_obs_d\n",
    "\n",
    "Qmodel = (qz, qsigma2_mu_k, qsigma2_mu_d, qmu, qsigma2_obs_n, qsigma2_obs_d)"
   ]
  },
  {
   "cell_type": "code",
   "execution_count": 10,
   "metadata": {},
   "outputs": [],
   "source": [
    "data = generator([X_sample], M)\n",
    "n_batch = int(N / M)"
   ]
  },
  {
   "cell_type": "code",
   "execution_count": 11,
   "metadata": {},
   "outputs": [
    {
     "data": {
      "text/plain": [
       "{<ed.RandomVariable 'InverseGamma/' shape=(1,) dtype=float32>: <ed.RandomVariable 'qsigma2_mu_k/' shape=(1,) dtype=float32>,\n",
       " <ed.RandomVariable 'InverseGamma_1/' shape=(2,) dtype=float32>: <ed.RandomVariable 'qsigma2_mu_d/' shape=(2,) dtype=float32>,\n",
       " <ed.RandomVariable 'MultivariateNormalDiag/' shape=(2, 2) dtype=float32>: <ed.RandomVariable 'MultivariateNormalDiag_2/' shape=(2, 2) dtype=float32>,\n",
       " <ed.RandomVariable 'InverseGamma_2/' shape=(1,) dtype=float32>: <ed.RandomVariable 'qsigma2_obs_n/' shape=(1,) dtype=float32>,\n",
       " <ed.RandomVariable 'Multinomial/' shape=(100, 2) dtype=float32>: <ed.RandomVariable 'Multinomial_1/' shape=(?, 2) dtype=float32>,\n",
       " <ed.RandomVariable 'InverseGamma_3/' shape=(2,) dtype=float32>: <ed.RandomVariable 'qsigma2_obs_d/' shape=(2,) dtype=float32>}"
      ]
     },
     "execution_count": 11,
     "metadata": {},
     "output_type": "execute_result"
    }
   ],
   "source": [
    "dict(zip(Pmodel,Qmodel))"
   ]
  },
  {
   "cell_type": "code",
   "execution_count": 12,
   "metadata": {},
   "outputs": [],
   "source": [
    "inference = ed.KLqp(dict(zip(Pmodel,Qmodel)), data={x: x_ph})\n",
    "inference.initialize(n_iter=10000, n_print=100, n_samples=1000, optimizer='rmsprop')\n",
    "\n",
    "sess = ed.get_session()\n",
    "init = tf.global_variables_initializer()\n",
    "init.run()"
   ]
  },
  {
   "cell_type": "code",
   "execution_count": 13,
   "metadata": {
    "scrolled": false
   },
   "outputs": [
    {
     "name": "stdout",
     "output_type": "stream",
     "text": [
      "{'loss': 8174.1045, 't': 1}\n",
      "{'loss': 1265.7633, 't': 1001}\n",
      "{'loss': 1667.5151, 't': 2001}\n",
      "{'loss': 935.23273, 't': 3001}\n",
      "{'loss': 953.06421, 't': 4001}\n",
      "{'loss': nan, 't': 5001}\n",
      "{'loss': nan, 't': 6001}\n",
      "{'loss': nan, 't': 7001}\n",
      "{'loss': nan, 't': 8001}\n",
      "{'loss': nan, 't': 9001}\n"
     ]
    },
    {
     "data": {
      "text/plain": [
       "[<matplotlib.lines.Line2D at 0x7fbd8e19a650>]"
      ]
     },
     "execution_count": 13,
     "metadata": {},
     "output_type": "execute_result"
    },
    {
     "data": {
      "image/png": "[encoded data removed]",
      "text/plain": [
       "<matplotlib.figure.Figure at 0x7fc0b8016f50>"
      ]
     },
     "metadata": {},
     "output_type": "display_data"
    }
   ],
   "source": [
    "learning_curve = []\n",
    "for _ in range(inference.n_iter):\n",
    "    x_batch = next(data)[0]\n",
    "    #print(hidden.eval({x_ph:x_batch}))\n",
    "    #print(qz.sample().eval({x_ph:x_batch}))\n",
    "    info_dict = inference.update({x_ph: x_batch})\n",
    "    if _%1000 == 0:\n",
    "        print(info_dict)\n",
    "    learning_curve.append(info_dict['loss'])\n",
    "plt.semilogy(learning_curve)"
   ]
  },
  {
   "cell_type": "code",
   "execution_count": null,
   "metadata": {
    "scrolled": true
   },
   "outputs": [
    {
     "name": "stdout",
     "output_type": "stream",
     "text": [
      "[[ 0.  0.]\n",
      " [ 0.  0.]\n",
      " [ 0.  0.]\n",
      " [ 0.  0.]\n",
      " [ 0.  0.]\n",
      " [ 0.  0.]\n",
      " [ 0.  0.]\n",
      " [ 0.  0.]\n",
      " [ 0.  0.]\n",
      " [ 0.  0.]\n",
      " [ 0.  0.]\n",
      " [ 0.  0.]\n",
      " [ 0.  0.]\n",
      " [ 0.  0.]\n",
      " [ 0.  0.]\n",
      " [ 0.  0.]\n",
      " [ 0.  0.]\n",
      " [ 0.  0.]\n",
      " [ 0.  0.]\n",
      " [ 0.  0.]\n",
      " [ 0.  0.]\n",
      " [ 0.  0.]\n",
      " [ 0.  0.]\n",
      " [ 0.  0.]\n",
      " [ 0.  0.]\n",
      " [ 0.  0.]\n",
      " [ 0.  0.]\n",
      " [ 0.  0.]\n",
      " [ 0.  0.]\n",
      " [ 0.  0.]\n",
      " [ 0.  0.]\n",
      " [ 0.  0.]\n",
      " [ 0.  0.]\n",
      " [ 0.  0.]\n",
      " [ 0.  0.]\n",
      " [ 0.  0.]\n",
      " [ 0.  0.]\n",
      " [ 0.  0.]\n",
      " [ 0.  0.]\n",
      " [ 0.  0.]\n",
      " [ 0.  0.]\n",
      " [ 0.  0.]\n",
      " [ 0.  0.]\n",
      " [ 0.  0.]\n",
      " [ 0.  0.]\n",
      " [ 0.  0.]\n",
      " [ 0.  0.]\n",
      " [ 0.  0.]\n",
      " [ 0.  0.]\n",
      " [ 0.  0.]\n",
      " [ 0.  0.]\n",
      " [ 0.  0.]\n",
      " [ 0.  0.]\n",
      " [ 0.  0.]\n",
      " [ 0.  0.]\n",
      " [ 0.  0.]\n",
      " [ 0.  0.]\n",
      " [ 0.  0.]\n",
      " [ 0.  0.]\n",
      " [ 0.  0.]\n",
      " [ 0.  0.]\n",
      " [ 0.  0.]\n",
      " [ 0.  0.]\n",
      " [ 0.  0.]\n",
      " [ 0.  0.]\n",
      " [ 0.  0.]\n",
      " [ 0.  0.]\n",
      " [ 0.  0.]\n",
      " [ 0.  0.]\n",
      " [ 0.  0.]\n",
      " [ 0.  0.]\n",
      " [ 0.  0.]\n",
      " [ 0.  0.]\n",
      " [ 0.  0.]\n",
      " [ 0.  0.]\n",
      " [ 0.  0.]\n",
      " [ 0.  0.]\n",
      " [ 0.  0.]\n",
      " [ 0.  0.]\n",
      " [ 0.  0.]\n",
      " [ 0.  0.]\n",
      " [ 0.  0.]\n",
      " [ 0.  0.]\n",
      " [ 0.  0.]\n",
      " [ 0.  0.]\n",
      " [ 0.  0.]\n",
      " [ 0.  0.]\n",
      " [ 0.  0.]\n",
      " [ 0.  0.]\n",
      " [ 0.  0.]\n",
      " [ 0.  0.]\n",
      " [ 0.  0.]\n",
      " [ 0.  0.]\n",
      " [ 0.  0.]\n",
      " [ 0.  0.]\n",
      " [ 0.  0.]\n",
      " [ 0.  0.]\n",
      " [ 0.  0.]\n",
      " [ 0.  0.]\n",
      " [ 0.  0.]]\n"
     ]
    }
   ],
   "source": [
    "print(qz.sample().eval({x_ph:x_batch}))"
   ]
  },
  {
   "cell_type": "code",
   "execution_count": null,
   "metadata": {
    "scrolled": false
   },
   "outputs": [],
   "source": [
    "x_post = ed.copy(x, dict(zip(Pmodel,Qmodel)))\n",
    "foo = x_post.sample().eval({x_ph:x_batch})\n",
    "foo *= X_sample_std\n",
    "foo += X_sample_mean\n",
    "sess = tf.Session()\n",
    "with sess.as_default():\n",
    "    init = tf.global_variables_initializer()\n",
    "    init.run()\n",
    "    plt.scatter(*foo.T,color='g')\n",
    "    plt.axis('equal');"
   ]
  }
 ],
 "metadata": {
  "kernelspec": {
   "display_name": "Python 2",
   "language": "python",
   "name": "python2"
  },
  "language_info": {
   "codemirror_mode": {
    "name": "ipython",
    "version": 2
   },
   "file_extension": ".py",
   "mimetype": "text/x-python",
   "name": "python",
   "nbconvert_exporter": "python",
   "pygments_lexer": "ipython2",
   "version": "2.7.12"
  }
 },
 "nbformat": 4,
 "nbformat_minor": 2
}
