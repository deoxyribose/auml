{
 "cells": [
  {
   "cell_type": "markdown",
   "metadata": {},
   "source": [
    "# Bayesian PCA\n",
    "Includes bias and noise."
   ]
  },
  {
   "cell_type": "code",
   "execution_count": 1,
   "metadata": {},
   "outputs": [],
   "source": [
    "from __future__ import absolute_import\n",
    "from __future__ import division\n",
    "from __future__ import print_function\n",
    "\n",
    "import edward as ed\n",
    "import numpy as np\n",
    "import tensorflow as tf\n",
    "import matplotlib.pyplot as plt\n",
    "\n",
    "from edward.models import Normal, StudentT\n",
    "\n",
    "from plot_utils import * # see plot_utils.py\n",
    "\n",
    "import matplotlib.gridspec as gridspec\n",
    "import pandas as pd\n",
    "import seaborn as sns\n",
    "%matplotlib inline"
   ]
  },
  {
   "cell_type": "code",
   "execution_count": 2,
   "metadata": {},
   "outputs": [],
   "source": [
    "%load_ext autoreload"
   ]
  },
  {
   "cell_type": "code",
   "execution_count": 3,
   "metadata": {},
   "outputs": [],
   "source": [
    "import sys\n",
    "sys.path.insert(0, tf.__path__[0] + '/contrib/distributions/python/ops')\n",
    "\n",
    "import bijectors as bijector"
   ]
  },
  {
   "cell_type": "code",
   "execution_count": 4,
   "metadata": {},
   "outputs": [],
   "source": [
    "ledermann_bound = lambda p: (2*p+1-(8*p+1)**.5)*.5"
   ]
  },
  {
   "cell_type": "code",
   "execution_count": 113,
   "metadata": {},
   "outputs": [],
   "source": [
    "N, D, K, C = 1000, 20, 3, 2"
   ]
  },
  {
   "cell_type": "code",
   "execution_count": 114,
   "metadata": {},
   "outputs": [
    {
     "data": {
      "text/plain": [
       "14.155711229775239"
      ]
     },
     "execution_count": 114,
     "metadata": {},
     "output_type": "execute_result"
    }
   ],
   "source": [
    "ledermann_bound(D) # if this is > K, model should be identifiable according to Identifiability of Factor Analysis: Some Results and Open Problems"
   ]
  },
  {
   "cell_type": "code",
   "execution_count": 115,
   "metadata": {},
   "outputs": [],
   "source": [
    "from tensorflow.python.client import device_lib"
   ]
  },
  {
   "cell_type": "code",
   "execution_count": 116,
   "metadata": {},
   "outputs": [
    {
     "data": {
      "text/plain": [
       "[name: \"/device:CPU:0\"\n",
       " device_type: \"CPU\"\n",
       " memory_limit: 268435456\n",
       " locality {\n",
       " }\n",
       " incarnation: 8179493667494525950]"
      ]
     },
     "execution_count": 116,
     "metadata": {},
     "output_type": "execute_result"
    }
   ],
   "source": [
    "device_lib.list_local_devices()"
   ]
  },
  {
   "cell_type": "code",
   "execution_count": 117,
   "metadata": {},
   "outputs": [],
   "source": [
    "def pairplot(x):\n",
    "    scattermatrix2 = sns.pairplot(pd.DataFrame(x))\n",
    "    #[ax.set_ylim(-40,40) for ax in scattermatrix2.axes.flatten()]\n",
    "    #[ax.set_xlim(-40,40) for ax in scattermatrix2.axes.flatten()];\n",
    "    plt.show()"
   ]
  },
  {
   "cell_type": "code",
   "execution_count": 118,
   "metadata": {},
   "outputs": [],
   "source": [
    "def doublepairplot(x,y):\n",
    "    N = x.shape[0]\n",
    "    xy = pd.DataFrame(np.c_[np.r_[x,y],np.r_[np.zeros(N),np.ones(N)]])\n",
    "    names = 'abcdefghijk'[:D+1]\n",
    "    xy.columns = [i for i in names]\n",
    "    sns.set()\n",
    "    scattermatrix = sns.pairplot(xy, hue=names[-1], diag_kind= 'kde', vars = [i for i in names[:-1]])#, plot_kws=dict(alpha=.2))"
   ]
  },
  {
   "cell_type": "markdown",
   "metadata": {},
   "source": [
    "## P-model\n",
    "\n",
    "\\begin{align}\n",
    "i \\in {1,...,D}\\\\\n",
    "j \\in {1,...,K}\\\\\n",
    "n \\in {1,...,N}\\\\\n",
    "\\tau &\\sim StudentT(1,0)\\\\\n",
    "\\lambda_j &\\sim StudentT(1,0)\\\\\n",
    "w_{ij}&\\sim N(0,|\\tau||\\lambda_j|)\\\\\n",
    "z_{jn}&\\sim N(0,1)\\\\\n",
    "\\mu_i &\\sim N(0,1)\\\\\n",
    "\\sigma_i &\\sim Gamma(1,1)\\\\\n",
    "x_i&\\sim \\prod\\mathrm{Cat}(\\mathcal{S}(W\\cdot z)_i+\\mu_i,\\sigma_i)\\\\\n",
    "\\end{align}"
   ]
  },
  {
   "cell_type": "markdown",
   "metadata": {},
   "source": [
    "### The automatic relevance determination in higher dimensions\n",
    "\n",
    "The ARD might seem like an overkill but it comes in handy in higher dimensions, where the dimensionality of the latent space is not a prior known.  Let us generate a higher dimensional data set and see how ARD determines the latent dimensionality."
   ]
  },
  {
   "cell_type": "code",
   "execution_count": 119,
   "metadata": {
    "scrolled": true
   },
   "outputs": [],
   "source": [
    "class low_rank_categorical_horseshoe_ard():\n",
    "    def __init__(self,M,D,C):\n",
    "        # Fit as many latent variables as dimensions, prune by ACD\n",
    "        K=D\n",
    "        #########\n",
    "        # halfCauchy = StudentT(df=1., loc=0., scale=1.)\n",
    "        # Horseshoe! Happy now, Aki? Hyva!\n",
    "        #########\n",
    "        # P-model\n",
    "        #sigma = ed.models.Gamma(tf.ones([D]),tf.ones([D]))\n",
    "        tau = StudentT(df=1., loc=tf.zeros([C]), scale=tf.ones([C]), name=\"tau\")\n",
    "        lamda = StudentT(df=1., loc=tf.zeros([C,K]), scale=tf.ones([C,K]), name=\"lambda\")\n",
    "        w = Normal(tf.zeros([C, D, K]),    tf.reshape(tf.tile(tf.transpose(tf.reshape(tf.tile(np.abs(tau),[K]),[K,C]))*np.abs(lamda),[1,D]),[C,D,K]), name=\"W\")\n",
    "            # a factor loading matrix for every variable \n",
    "        z = Normal(tf.zeros([M, K]),    tf.ones([M, K]), name=\"z\")\n",
    "        mu = Normal(tf.zeros([C,D]),       tf.ones([C,D]), name=\"mu\")\n",
    "            # an offset for every variable \n",
    "        x = ed.models.Categorical(tf.nn.softmax(tf.add(tf.transpose(tf.matmul(w,tf.reshape(tf.tile(z,[C,1]),[C,M,K]),transpose_b=True)),tf.transpose(mu))), name=\"x\")\n",
    "\n",
    "#        self.Pmodel = (sigma,lamda,tau,w,z,mu)\n",
    "        self.Pmodel = (lamda,tau,w,z,mu) # not sure if observation noise is relevant for categorical data, ask Lars\n",
    "        self.x = x\n",
    "        #########\n",
    "        # Q-model\n",
    "        qtau = ed.models.TransformedDistribution(\n",
    "        distribution=ed.models.NormalWithSoftplusScale(tf.Variable(tf.random_normal([C])),\n",
    "                                                       tf.Variable(tf.random_normal([C]))),\n",
    "        bijector=bijector.Exp(),\n",
    "        name=\"qtau\")\n",
    "        \n",
    "        qlamda = ed.models.TransformedDistribution(\n",
    "        distribution=ed.models.NormalWithSoftplusScale(tf.Variable(tf.zeros([C,K])),\n",
    "                                                       tf.Variable(tf.zeros([C,K]))),\n",
    "        bijector=bijector.Exp(),\n",
    "        name=\"qlamda\")\n",
    "        qw = Normal(tf.Variable(tf.random_normal([C, D, K])),\n",
    "                    tf.nn.softplus(tf.Variable(tf.random_normal([C, D, K]))), name=\"qW\")\n",
    "        qz = Normal(tf.Variable(tf.random_normal([M, K])),\n",
    "                    tf.nn.softplus(tf.Variable(tf.random_normal([M, K]))), name=\"qz\")\n",
    "\n",
    "        # assume standardized data\n",
    "        qmu = Normal(tf.Variable(tf.random_normal([C,D])),\n",
    "                    tf.nn.softplus(tf.Variable(tf.random_normal([C,D]))), name=\"qmu\")\n",
    "        #qsigma = ed.models.TransformedDistribution(\n",
    "        #    distribution=ed.models.NormalWithSoftplusScale(tf.Variable(tf.zeros(D)),\n",
    "        #                                  tf.Variable(tf.ones(D))),\n",
    "        #    bijector=bijector.Exp(),\n",
    "        #    name=\"qsigma\")\n",
    "\n",
    "        #self.Qmodel = (qsigma,qlamda,qtau,qw,qz,qmu)\n",
    "        self.Qmodel = (qlamda,qtau,qw,qz,qmu)\n",
    "        \n",
    "    def initialize(self, x_train):\n",
    "        '''\n",
    "        Initialize parameters of Q-model in the solution from PCA, and empirical means and standard deviations, for faster convergence.\n",
    "        '''\n",
    "        K=D\n",
    "        N = x_train.shape[0]\n",
    "        qsigma,qlamda,qtau,qw,qz,qmu = self.Qmodel\n",
    "        # set qmu mean to data mean\n",
    "        data_mean = np.mean(x_train,axis=0).astype(np.float32,copy=False)\n",
    "        qmu = Normal(tf.Variable(data_mean+tf.random_normal([D])),\n",
    "                    tf.nn.softplus(tf.Variable(tf.random_normal([D]))))\n",
    "        # set qsigma mean to data stds\n",
    "        data_std = np.std(x_train,axis=0).astype(np.float32,copy=False)\n",
    "        qsigma = ed.models.TransformedDistribution(\n",
    "            distribution=ed.models.NormalWithSoftplusScale(tf.Variable(np.log(data_std)),\n",
    "                                          tf.Variable(tf.ones(D)*3)),\n",
    "            bijector=bijector.Exp(),\n",
    "            name=\"qsigma\")\n",
    "        # set qw mean to ppca solution (see 12.61 in Murphy)\n",
    "        _,S,V = np.linalg.svd(x_train-x_train.mean(0))\n",
    "        qw = Normal(tf.Variable(np.dot(V,np.diag(S))/np.sqrt(N-1)),\n",
    "                    tf.nn.softplus(tf.Variable(tf.random_normal([D, K]))))\n",
    "        self.Qmodel = (qsigma,qlamda,qtau,qw,qz,qmu)\n",
    "\n",
    "    def infer(self, x_train, n_epoch = 100, n_print=100, n_samples=100, M = 100, optimizer='rmsprop'):\n",
    "        # add mini-batches\n",
    "        def generator(arrays, batch_size):\n",
    "            \"\"\"Generate batches, one with respect to each array's first axis.\"\"\"\n",
    "            starts = [0] * len(arrays)  # pointers to where we are in iteration\n",
    "            while True:\n",
    "                batches = []\n",
    "                for i, array in enumerate(arrays):\n",
    "                    start = starts[i]\n",
    "                    stop = start + batch_size\n",
    "                    diff = stop - array.shape[0]\n",
    "                    if diff <= 0:\n",
    "                        batch = array[start:stop]\n",
    "                        starts[i] += batch_size\n",
    "                    else:\n",
    "                        batch = np.concatenate((array[start:], array[:diff]))\n",
    "                        starts[i] = diff\n",
    "                    batches.append(batch)\n",
    "                yield batches\n",
    "        x_ph = tf.placeholder(tf.int32, [None,D])\n",
    "        data = generator([x_train], M)\n",
    "        n_batch = int(N / M)\n",
    "        # add progress bar\n",
    "        x = self.x\n",
    "        inference = ed.KLqp(dict(zip(self.Pmodel,self.Qmodel)), data={x: x_ph})\n",
    "        inference.initialize(n_iter=n_batch * n_epoch, n_print=(n_batch * n_epoch)/10, n_samples=n_samples, optimizer='rmsprop')\n",
    "\n",
    "        sess = ed.get_session()\n",
    "        init = tf.global_variables_initializer()\n",
    "        init.run()\n",
    "\n",
    "        # assert x_ph.shape[0] == M \n",
    "        learning_curve = []\n",
    "        for _ in range(inference.n_iter):\n",
    "            x_batch = next(data)[0]\n",
    "            info_dict = inference.update({x_ph: x_batch})\n",
    "            if _%inference.n_print == 0:\n",
    "                print(info_dict)\n",
    "            learning_curve.append(info_dict['loss'])\n",
    "        plt.semilogy(learning_curve)\n",
    "        plt.show()\n",
    "    \n",
    "    def prior_predictive_check(self):\n",
    "        self.x_prior = ed.copy(self.x)\n",
    "        pass\n",
    "        \n",
    "    def posterior_predictive_check(self, x_test):\n",
    "        self.x_post = ed.copy(self.x, dict(zip(self.Pmodel,self.Qmodel)))\n",
    "        return ed.evaluate('log_likelihood', data={self.x_post: x_test})\n",
    "    \n",
    "    def plot_histograms(self,n_hist=3000):\n",
    "        for variable in meddle.Qmodel:\n",
    "            plt.show()\n",
    "            if all([i < 10 for i in variable.shape]):\n",
    "                samples = variable.sample(n_hist).eval()\n",
    "            else:\n",
    "                samples = variable.sample().eval()\n",
    "            if variable.shape == []:\n",
    "                plt.hist(samples,'auto')\n",
    "                plt.title(variable.name)\n",
    "            else:\n",
    "                for dimension in range(variable.shape[0]):\n",
    "                    plt.hist(samples[:,dimension],'auto')\n",
    "                    plt.title(variable.name)\n",
    "                    \n",
    "    def print_model(self):\n",
    "        qsigma,qlamda,qtau,qw,qz,qmu = self.Qmodel\n",
    "        # add pair plots\n",
    "        print(\"Inferred principal axes (columns):\")\n",
    "        print(qw.mean().eval())\n",
    "        print(qw.variance().eval())\n",
    "        print(\"Inferred center:\")\n",
    "        print(qmu.mean().eval())\n",
    "        print(qmu.variance().eval())"
   ]
  },
  {
   "cell_type": "code",
   "execution_count": 120,
   "metadata": {
    "scrolled": false
   },
   "outputs": [],
   "source": [
    "M = 100\n",
    "meddle = low_rank_categorical_horseshoe_ard(M,D,C)\n",
    "#meddle.initialize(x_train)"
   ]
  },
  {
   "cell_type": "code",
   "execution_count": 121,
   "metadata": {},
   "outputs": [],
   "source": [
    "#meddle.prior_predictive_check()"
   ]
  },
  {
   "cell_type": "code",
   "execution_count": 122,
   "metadata": {},
   "outputs": [
    {
     "data": {
      "text/plain": [
       "(2, 3, 3)"
      ]
     },
     "execution_count": 122,
     "metadata": {},
     "output_type": "execute_result"
    }
   ],
   "source": [
    "W_prior.shape"
   ]
  },
  {
   "cell_type": "code",
   "execution_count": 123,
   "metadata": {},
   "outputs": [
    {
     "data": {
      "text/plain": [
       "(<ed.RandomVariable 'lambda_4/' shape=(2, 20) dtype=float32>,\n",
       " <ed.RandomVariable 'tau_4/' shape=(2,) dtype=float32>,\n",
       " <ed.RandomVariable 'W_4/' shape=(2, 20, 20) dtype=float32>,\n",
       " <ed.RandomVariable 'z_4/' shape=(100, 20) dtype=float32>,\n",
       " <ed.RandomVariable 'mu_4/' shape=(2, 20) dtype=float32>)"
      ]
     },
     "execution_count": 123,
     "metadata": {},
     "output_type": "execute_result"
    }
   ],
   "source": [
    "meddle.Pmodel"
   ]
  },
  {
   "cell_type": "code",
   "execution_count": 124,
   "metadata": {},
   "outputs": [
    {
     "name": "stdout",
     "output_type": "stream",
     "text": [
      "Reponse 0\n"
     ]
    },
    {
     "data": {
      "image/png": "[encoded data removed]",
      "text/plain": [
       "<matplotlib.figure.Figure at 0x7fc28bc1e950>"
      ]
     },
     "metadata": {},
     "output_type": "display_data"
    },
    {
     "name": "stdout",
     "output_type": "stream",
     "text": [
      "Reponse 1\n"
     ]
    },
    {
     "data": {
      "image/png": "[encoded data removed]",
      "text/plain": [
       "<matplotlib.figure.Figure at 0x7fc289ec9110>"
      ]
     },
     "metadata": {},
     "output_type": "display_data"
    }
   ],
   "source": [
    "sess = ed.get_session()\n",
    "tmp = sess.run([v.value() for v in [meddle.x, [var for var in meddle.Pmodel if var.name.startswith('W')][0]]])\n",
    "sampled_from_prior,W_prior = tmp\n",
    "np.round(W_prior,1)\n",
    "for i in range(C):\n",
    "    print(\"Reponse %i\"%(i))\n",
    "    hinton(W_prior[i].T)\n",
    "    plt.show()"
   ]
  },
  {
   "cell_type": "code",
   "execution_count": 125,
   "metadata": {},
   "outputs": [],
   "source": [
    "x_train = sampled_from_prior"
   ]
  },
  {
   "cell_type": "code",
   "execution_count": 126,
   "metadata": {
    "scrolled": false
   },
   "outputs": [
    {
     "data": {
      "text/plain": [
       "array([[1, 1, 0, ..., 1, 1, 1],\n",
       "       [1, 0, 1, ..., 0, 0, 1],\n",
       "       [1, 1, 0, ..., 0, 0, 0],\n",
       "       ..., \n",
       "       [1, 0, 0, ..., 0, 0, 0],\n",
       "       [1, 1, 1, ..., 0, 0, 1],\n",
       "       [1, 0, 0, ..., 0, 1, 1]], dtype=int32)"
      ]
     },
     "execution_count": 126,
     "metadata": {},
     "output_type": "execute_result"
    }
   ],
   "source": [
    "x_train"
   ]
  },
  {
   "cell_type": "code",
   "execution_count": 127,
   "metadata": {},
   "outputs": [
    {
     "data": {
      "image/png": "[encoded data removed]",
      "text/plain": [
       "<matplotlib.figure.Figure at 0x7fc28c0efad0>"
      ]
     },
     "metadata": {},
     "output_type": "display_data"
    }
   ],
   "source": [
    "plt.imshow(x_train,cmap='gray')\n",
    "plt.rcParams['figure.figsize'] = (15,15)"
   ]
  },
  {
   "cell_type": "code",
   "execution_count": 128,
   "metadata": {},
   "outputs": [
    {
     "data": {
      "text/plain": [
       "array([[ 1.        ,  0.06086087,  0.03887781,  0.08242959, -0.00282842,\n",
       "        -0.15911844,  0.020004  , -0.1183894 ,  0.07798346,  0.03961585,\n",
       "         0.23969588, -0.06181043, -0.01846286,  0.04041617,  0.15882774,\n",
       "        -0.04041617, -0.03819908, -0.10090092,  0.16634979,  0.04128262],\n",
       "       [ 0.06086087,  1.        , -0.17806305,  0.13679462, -0.01455488,\n",
       "         0.17806305,  0.16012815,  0.01455488, -0.21670595,  0.14094097,\n",
       "         0.10090092,  0.08353438,  0.15743018,  0.13933936,  0.02414023,\n",
       "        -0.21941946,  0.0563272 , -0.07852564, -0.1090673 ,  0.13795876],\n",
       "       [ 0.03887781, -0.17806305,  1.        ,  0.00604111,  0.11291345,\n",
       "        -0.15696507, -0.14025268, -0.07244268,  0.15338422, -0.04128262,\n",
       "         0.11903823,  0.09567849, -0.13587953, -0.11903823,  0.07450703,\n",
       "        -0.08136283, -0.15505517,  0.09785447,  0.13321188, -0.11682055],\n",
       "       [ 0.08242959,  0.13679462,  0.00604111,  1.        ,  0.05481186,\n",
       "         0.15505517,  0.10050378, -0.01421048, -0.06699227,  0.1628487 ,\n",
       "         0.1628487 , -0.01209923,  0.01209923,  0.07840863,  0.05050505,\n",
       "        -0.07840863, -0.01010101,  0.14484136, -0.10012915, -0.04631518],\n",
       "       [-0.00282842, -0.01455488,  0.11291345,  0.05481186,  1.        ,\n",
       "        -0.03197191,  0.02019893, -0.02080783,  0.02080783, -0.04323436,\n",
       "         0.07798346,  0.13049937, -0.00891611, -0.03757752,  0.14819502,\n",
       "         0.23960723, -0.06699227, -0.02587534, -0.0973327 , -0.15338422],\n",
       "       [-0.15911844,  0.17806305, -0.15696507,  0.15505517, -0.03197191,\n",
       "         1.        ,  0.0200361 ,  0.23432577, -0.23432577,  0.24168368,\n",
       "        -0.07895802, -0.17608058,  0.09567849,  0.11903823, -0.31615146,\n",
       "        -0.03887781,  0.27587739,  0.18287557, -0.0924743 ,  0.23725411],\n",
       "       [ 0.020004  ,  0.16012815, -0.14025268,  0.10050378,  0.02019893,\n",
       "         0.0200361 ,  1.        ,  0.1413925 ,  0.06059679,  0.10002001,\n",
       "        -0.22004401,  0.04012862,  0.16051447,  0.060012  ,  0.06030227,\n",
       "         0.020004  , -0.06030227,  0.        , -0.06099628, -0.06010829],\n",
       "       [-0.1183894 ,  0.01455488, -0.07244268, -0.01421048, -0.02080783,\n",
       "         0.23432577,  0.1413925 ,  1.        , -0.2248062 ,  0.16445218,\n",
       "        -0.28001317, -0.21155488,  0.13049937,  0.28001317, -0.26999914,\n",
       "        -0.07798346,  0.18879639, -0.05498509, -0.02587325,  0.15338422],\n",
       "       [ 0.07798346, -0.21670595,  0.15338422, -0.06699227,  0.02080783,\n",
       "        -0.23432577,  0.06059679, -0.2248062 ,  1.        , -0.12404624,\n",
       "         0.03757752,  0.00891611, -0.13049937, -0.28001317,  0.18879639,\n",
       "         0.1183894 , -0.14819502, -0.1875962 ,  0.0669419 , -0.15338422],\n",
       "       [ 0.03961585,  0.14094097, -0.04128262,  0.1628487 , -0.04323436,\n",
       "         0.24168368,  0.10002001,  0.16445218, -0.12404624,  1.        ,\n",
       "        -0.04041617, -0.02167379,  0.26249366,  0.12044818, -0.1628487 ,\n",
       "        -0.08043217,  0.04222003,  0.09929932,  0.04433283,  0.20160347],\n",
       "       [ 0.23969588,  0.10090092,  0.11903823,  0.1628487 ,  0.07798346,\n",
       "        -0.07895802, -0.22004401, -0.28001317,  0.03757752, -0.04041617,\n",
       "         1.        ,  0.01846286,  0.02167379, -0.07963185,  0.07840863,\n",
       "        -0.08043217, -0.03819908,  0.05925927,  0.00366051, -0.19919865],\n",
       "       [-0.06181043,  0.08353438,  0.09567849, -0.01209923,  0.13049937,\n",
       "        -0.17608058,  0.04012862, -0.21155488,  0.00891611, -0.02167379,\n",
       "         0.01846286,  1.        , -0.07407407,  0.02167379,  0.09276079,\n",
       "        -0.06181043, -0.17342235, -0.00321286,  0.03508365, -0.21628162],\n",
       "       [-0.01846286,  0.15743018, -0.13587953,  0.01209923, -0.00891611,\n",
       "         0.09567849,  0.16051447,  0.13049937, -0.13049937,  0.26249366,\n",
       "         0.02167379, -0.07407407,  1.        ,  0.0585995 , -0.17342235,\n",
       "        -0.21914609,  0.09276079, -0.0369479 , -0.1982634 ,  0.17608058],\n",
       "       [ 0.04041617,  0.13933936, -0.11903823,  0.07840863, -0.03757752,\n",
       "         0.11903823,  0.060012  ,  0.28001317, -0.28001317,  0.12044818,\n",
       "        -0.07963185,  0.02167379,  0.0585995 ,  1.        , -0.15882774,\n",
       "        -0.15966387,  0.27945641, -0.09929932, -0.00366051,  0.27935908],\n",
       "       [ 0.15882774,  0.02414023,  0.07450703,  0.05050505,  0.14819502,\n",
       "        -0.31615146,  0.06030227, -0.26999914,  0.18879639, -0.1628487 ,\n",
       "         0.07840863,  0.09276079, -0.17342235, -0.15882774,  1.        ,\n",
       "         0.11861819, -0.11111111, -0.06437394, -0.02247797, -0.19532925],\n",
       "       [-0.04041617, -0.21941946, -0.08136283, -0.07840863,  0.23960723,\n",
       "        -0.03887781,  0.020004  , -0.07798346,  0.1183894 , -0.08043217,\n",
       "        -0.08043217, -0.06181043, -0.21914609, -0.15966387,  0.11861819,\n",
       "         1.        , -0.03819908, -0.14094097, -0.07768413, -0.07895802],\n",
       "       [-0.03819908,  0.0563272 , -0.15505517, -0.01010101, -0.06699227,\n",
       "         0.27587739, -0.06030227,  0.18879639, -0.14819502,  0.04222003,\n",
       "        -0.03819908, -0.17342235,  0.09276079,  0.27945641, -0.11111111,\n",
       "        -0.03819908,  1.        , -0.01609348,  0.06334702,  0.19532925],\n",
       "       [-0.10090092, -0.07852564,  0.09785447,  0.14484136, -0.02587534,\n",
       "         0.18287557,  0.        , -0.05498509, -0.1875962 ,  0.09929932,\n",
       "         0.05925927, -0.00321286, -0.0369479 , -0.09929932, -0.06437394,\n",
       "        -0.14094097, -0.01609348,  1.        ,  0.06837055, -0.01764589],\n",
       "       [ 0.16634979, -0.1090673 ,  0.13321188, -0.10012915, -0.0973327 ,\n",
       "        -0.0924743 , -0.06099628, -0.02587325,  0.0669419 ,  0.04433283,\n",
       "         0.00366051,  0.03508365, -0.1982634 , -0.00366051, -0.02247797,\n",
       "        -0.07768413,  0.06334702,  0.06837055,  1.        , -0.0924743 ],\n",
       "       [ 0.04128262,  0.13795876, -0.11682055, -0.04631518, -0.15338422,\n",
       "         0.23725411, -0.06010829,  0.15338422, -0.15338422,  0.20160347,\n",
       "        -0.19919865, -0.21628162,  0.17608058,  0.27935908, -0.19532925,\n",
       "        -0.07895802,  0.19532925, -0.01764589, -0.0924743 ,  1.        ]])"
      ]
     },
     "execution_count": 128,
     "metadata": {},
     "output_type": "execute_result"
    }
   ],
   "source": [
    "np.corrcoef(x_train.T)"
   ]
  },
  {
   "cell_type": "code",
   "execution_count": 129,
   "metadata": {
    "scrolled": true
   },
   "outputs": [
    {
     "data": {
      "image/png": "[encoded data removed]",
      "text/plain": [
       "<matplotlib.figure.Figure at 0x7fc268822790>"
      ]
     },
     "metadata": {},
     "output_type": "display_data"
    }
   ],
   "source": [
    "plt.figure(figsize=(16,16)) \n",
    "gs1 = gridspec.GridSpec(D, D)\n",
    "gs1.update(wspace=0.05, hspace=0.05) # set the spacing between axes. \n",
    "c = 0\n",
    "for i in range(D):\n",
    "    for j in range(D):\n",
    "        ax1 = plt.subplot(gs1[c])\n",
    "        plt.axis('on')\n",
    "        ax1.set_xticklabels([])\n",
    "        ax1.set_yticklabels([])\n",
    "        ax1.set_aspect('equal')\n",
    "        hinton(np.histogram2d(x_train[:,i],x_train[:,j],normed=True)[0])\n",
    "        plt.tight_layout()\n",
    "        c += 1"
   ]
  },
  {
   "cell_type": "markdown",
   "metadata": {},
   "source": [
    "sess = ed.get_session()\n",
    "model = meddle.x.get_ancestors()\n",
    "model.append(meddle.x)\n",
    "model_sample = dict(zip(model,sess.run([[v.value() for i in range(10)] for v in model])))"
   ]
  },
  {
   "cell_type": "markdown",
   "metadata": {},
   "source": [
    "meddle.prior_predictive_check()\n",
    "\n",
    "# sample all variables ancestrally\n",
    "model = meddle.x_prior.get_ancestors()\n",
    "model.append(meddle.x_prior)\n",
    "model_sample = dict(zip(model,sess.run([v.value() for v in model])))\n",
    "\n",
    "sess = ed.get_session()\n",
    "tmp = meddle.x_prior.sample().eval().T\n",
    "with sess.as_default():\n",
    "    plt.scatter(*tmp)\n",
    "    plt.scatter(*x_train[:,:M])\n",
    "    plt.axis('equal')\n",
    "    plt.show()"
   ]
  },
  {
   "cell_type": "code",
   "execution_count": 101,
   "metadata": {},
   "outputs": [
    {
     "data": {
      "text/plain": [
       "1000"
      ]
     },
     "execution_count": 101,
     "metadata": {},
     "output_type": "execute_result"
    }
   ],
   "source": [
    "N"
   ]
  },
  {
   "cell_type": "code",
   "execution_count": 102,
   "metadata": {},
   "outputs": [
    {
     "data": {
      "text/plain": [
       "100"
      ]
     },
     "execution_count": 102,
     "metadata": {},
     "output_type": "execute_result"
    }
   ],
   "source": [
    "M"
   ]
  },
  {
   "cell_type": "code",
   "execution_count": 130,
   "metadata": {
    "scrolled": false
   },
   "outputs": [
    {
     "name": "stdout",
     "output_type": "stream",
     "text": [
      "{'loss': 6254.3779, 't': 1}\n",
      "{'loss': 1721.5503, 't': 201}\n",
      "{'loss': 1582.7429, 't': 401}\n",
      "{'loss': 1561.8157, 't': 601}\n",
      "{'loss': 1550.9678, 't': 801}\n",
      "{'loss': 1550.4727, 't': 1001}\n",
      "{'loss': 1551.2141, 't': 1201}\n",
      "{'loss': 1541.187, 't': 1401}\n",
      "{'loss': 1533.2292, 't': 1601}\n",
      "{'loss': 1531.46, 't': 1801}\n"
     ]
    },
    {
     "data": {
      "image/png": "[encoded data removed]",
      "text/plain": [
       "<matplotlib.figure.Figure at 0x7fc22fd3a850>"
      ]
     },
     "metadata": {},
     "output_type": "display_data"
    }
   ],
   "source": [
    "meddle.infer(x_train, M=M, n_epoch = 200, n_samples = 70)"
   ]
  },
  {
   "cell_type": "code",
   "execution_count": 131,
   "metadata": {},
   "outputs": [
    {
     "data": {
      "text/plain": [
       "-0.65800959"
      ]
     },
     "execution_count": 131,
     "metadata": {},
     "output_type": "execute_result"
    }
   ],
   "source": [
    "meddle.posterior_predictive_check(x_train[:M,:])"
   ]
  },
  {
   "cell_type": "code",
   "execution_count": 132,
   "metadata": {},
   "outputs": [],
   "source": [
    "foo = meddle.x_post.sample().eval()"
   ]
  },
  {
   "cell_type": "code",
   "execution_count": 136,
   "metadata": {
    "scrolled": false
   },
   "outputs": [
    {
     "data": {
      "image/png": "[encoded data removed]",
      "text/plain": [
       "<matplotlib.figure.Figure at 0x7fc20bac9150>"
      ]
     },
     "metadata": {},
     "output_type": "display_data"
    }
   ],
   "source": [
    "plt.subplot(121)\n",
    "plt.imshow(x_train,cmap='gray')\n",
    "plt.title('Training data')\n",
    "plt.subplot(122)\n",
    "plt.imshow(foo,cmap='gray')\n",
    "plt.title('Samples from variational posterior')\n",
    "plt.rcParams['figure.figsize'] = (15,15)"
   ]
  },
  {
   "cell_type": "code",
   "execution_count": 46,
   "metadata": {},
   "outputs": [
    {
     "data": {
      "text/plain": [
       "(<ed.RandomVariable 'qsigma_1/' shape=(8,) dtype=float32>,\n",
       " <ed.RandomVariable 'qlamda/' shape=(8,) dtype=float32>,\n",
       " <ed.RandomVariable 'qtau/' shape=() dtype=float32>,\n",
       " <ed.RandomVariable 'Normal_8/' shape=(8, 8) dtype=float32>,\n",
       " <ed.RandomVariable 'Normal_5/' shape=(100, 8) dtype=float32>,\n",
       " <ed.RandomVariable 'Normal_7/' shape=(8,) dtype=float32>)"
      ]
     },
     "execution_count": 46,
     "metadata": {},
     "output_type": "execute_result"
    }
   ],
   "source": [
    "meddle.Qmodel"
   ]
  },
  {
   "cell_type": "code",
   "execution_count": 28,
   "metadata": {},
   "outputs": [],
   "source": [
    "qwmode = meddle.Qmodel[3].mode().eval()"
   ]
  },
  {
   "cell_type": "code",
   "execution_count": 32,
   "metadata": {},
   "outputs": [
    {
     "data": {
      "text/plain": [
       "array([[ 5.82999992,  0.        ,  0.19      , -0.        , -0.01      ,\n",
       "        -0.01      , -0.01      ,  0.01      ],\n",
       "       [-9.94999981,  0.01      , -0.03      ,  0.        , -0.        ,\n",
       "        -0.02      ,  0.02      , -0.01      ],\n",
       "       [-0.34999999,  0.        , -0.50999999,  0.        , -0.        ,\n",
       "         0.        ,  0.34      , -0.01      ],\n",
       "       [-5.94999981, -0.        ,  0.11      , -0.        , -0.        ,\n",
       "         0.01      ,  0.57999998,  0.        ],\n",
       "       [-0.47999999,  0.01      ,  0.87      , -0.        , -0.        ,\n",
       "         0.01      ,  0.47      ,  0.02      ],\n",
       "       [-1.25999999, -0.01      ,  0.28999999, -0.01      , -0.        ,\n",
       "        -0.        , -0.30000001, -0.        ],\n",
       "       [-0.66000003,  0.        , -0.01      , -0.        ,  0.01      ,\n",
       "         0.01      , -0.27000001,  0.        ],\n",
       "       [ 2.27999997,  0.        ,  0.37      ,  0.        ,  0.        ,\n",
       "         0.        , -0.60000002, -0.02      ]], dtype=float32)"
      ]
     },
     "execution_count": 32,
     "metadata": {},
     "output_type": "execute_result"
    }
   ],
   "source": [
    "np.round(qwmode,2)"
   ]
  },
  {
   "cell_type": "code",
   "execution_count": 29,
   "metadata": {},
   "outputs": [
    {
     "data": {
      "image/png": "[encoded data removed]",
      "text/plain": [
       "<matplotlib.figure.Figure at 0x7f0509b86190>"
      ]
     },
     "metadata": {},
     "output_type": "display_data"
    }
   ],
   "source": [
    "hinton(qwmode)"
   ]
  },
  {
   "cell_type": "code",
   "execution_count": 82,
   "metadata": {},
   "outputs": [
    {
     "data": {
      "image/png": "[encoded data removed]",
      "text/plain": [
       "<matplotlib.figure.Figure at 0x7f048be864d0>"
      ]
     },
     "metadata": {},
     "output_type": "display_data"
    }
   ],
   "source": [
    "hinton(np.pad(w_true,((0,0),(0,D-K)), 'constant', constant_values=0.001))"
   ]
  },
  {
   "cell_type": "code",
   "execution_count": 24,
   "metadata": {
    "scrolled": false
   },
   "outputs": [
    {
     "data": {
      "image/png": "[encoded data removed]",
      "text/plain": [
       "<matplotlib.figure.Figure at 0x7f050af9b590>"
      ]
     },
     "metadata": {},
     "output_type": "display_data"
    },
    {
     "data": {
      "image/png": "[encoded data removed]",
      "text/plain": [
       "<matplotlib.figure.Figure at 0x7f050ab4dd90>"
      ]
     },
     "metadata": {},
     "output_type": "display_data"
    },
    {
     "data": {
      "image/png": "[encoded data removed]",
      "text/plain": [
       "<matplotlib.figure.Figure at 0x7f050b20dd10>"
      ]
     },
     "metadata": {},
     "output_type": "display_data"
    },
    {
     "data": {
      "image/png": "[encoded data removed]",
      "text/plain": [
       "<matplotlib.figure.Figure at 0x7f050abca950>"
      ]
     },
     "metadata": {},
     "output_type": "display_data"
    },
    {
     "ename": "IndexError",
     "evalue": "index 8 is out of bounds for axis 1 with size 8",
     "output_type": "error",
     "traceback": [
      "\u001b[0;31m---------------------------------------------------------------------------\u001b[0m",
      "\u001b[0;31mIndexError\u001b[0m                                Traceback (most recent call last)",
      "\u001b[0;32m<ipython-input-24-1e675b7fb6c8>\u001b[0m in \u001b[0;36m<module>\u001b[0;34m()\u001b[0m\n\u001b[0;32m----> 1\u001b[0;31m \u001b[0mmeddle\u001b[0m\u001b[0;34m.\u001b[0m\u001b[0mplot_histograms\u001b[0m\u001b[0;34m(\u001b[0m\u001b[0;34m)\u001b[0m\u001b[0;34m\u001b[0m\u001b[0m\n\u001b[0m",
      "\u001b[0;32m<ipython-input-12-8f1382a25c57>\u001b[0m in \u001b[0;36mplot_histograms\u001b[0;34m(self, n_hist)\u001b[0m\n\u001b[1;32m    133\u001b[0m             \u001b[0;32melse\u001b[0m\u001b[0;34m:\u001b[0m\u001b[0;34m\u001b[0m\u001b[0m\n\u001b[1;32m    134\u001b[0m                 \u001b[0;32mfor\u001b[0m \u001b[0mdimension\u001b[0m \u001b[0;32min\u001b[0m \u001b[0mrange\u001b[0m\u001b[0;34m(\u001b[0m\u001b[0mvariable\u001b[0m\u001b[0;34m.\u001b[0m\u001b[0mshape\u001b[0m\u001b[0;34m[\u001b[0m\u001b[0;36m0\u001b[0m\u001b[0;34m]\u001b[0m\u001b[0;34m)\u001b[0m\u001b[0;34m:\u001b[0m\u001b[0;34m\u001b[0m\u001b[0m\n\u001b[0;32m--> 135\u001b[0;31m                     \u001b[0mplt\u001b[0m\u001b[0;34m.\u001b[0m\u001b[0mhist\u001b[0m\u001b[0;34m(\u001b[0m\u001b[0msamples\u001b[0m\u001b[0;34m[\u001b[0m\u001b[0;34m:\u001b[0m\u001b[0;34m,\u001b[0m\u001b[0mdimension\u001b[0m\u001b[0;34m]\u001b[0m\u001b[0;34m,\u001b[0m\u001b[0;34m'auto'\u001b[0m\u001b[0;34m)\u001b[0m\u001b[0;34m\u001b[0m\u001b[0m\n\u001b[0m\u001b[1;32m    136\u001b[0m                     \u001b[0mplt\u001b[0m\u001b[0;34m.\u001b[0m\u001b[0mtitle\u001b[0m\u001b[0;34m(\u001b[0m\u001b[0mvariable\u001b[0m\u001b[0;34m.\u001b[0m\u001b[0mname\u001b[0m\u001b[0;34m)\u001b[0m\u001b[0;34m\u001b[0m\u001b[0m\n\u001b[1;32m    137\u001b[0m \u001b[0;34m\u001b[0m\u001b[0m\n",
      "\u001b[0;31mIndexError\u001b[0m: index 8 is out of bounds for axis 1 with size 8"
     ]
    },
    {
     "data": {
      "image/png": "[encoded data removed]",
      "text/plain": [
       "<matplotlib.figure.Figure at 0x7f050a53aa10>"
      ]
     },
     "metadata": {},
     "output_type": "display_data"
    }
   ],
   "source": [
    "meddle.plot_histograms()"
   ]
  },
  {
   "cell_type": "markdown",
   "metadata": {},
   "source": [
    "## W_hat"
   ]
  },
  {
   "cell_type": "code",
   "execution_count": null,
   "metadata": {},
   "outputs": [],
   "source": [
    "w_hat = meddle.Qmodel[3].mean().eval()\n",
    "hinton(w_hat.T)\n",
    "plt.show()\n",
    "\n",
    "np.round(w_hat,1)\n",
    "\n",
    "w_true\n",
    "\n",
    "hinton(w_true.T)\n",
    "plt.show()"
   ]
  },
  {
   "cell_type": "markdown",
   "metadata": {},
   "source": [
    "## PCA solution:"
   ]
  },
  {
   "cell_type": "code",
   "execution_count": null,
   "metadata": {},
   "outputs": [],
   "source": [
    "U,S,V = np.linalg.svd(x_train-x_train.mean(0))\n",
    "#np.dot(V,np.diag(S))/np.sqrt(N-1)\n",
    "whitened = np.sqrt(N-1)*U"
   ]
  },
  {
   "cell_type": "code",
   "execution_count": null,
   "metadata": {
    "scrolled": true
   },
   "outputs": [],
   "source": [
    "W_hat = np.dot(V,np.diag(S))/np.sqrt(N-1)"
   ]
  },
  {
   "cell_type": "code",
   "execution_count": null,
   "metadata": {},
   "outputs": [],
   "source": [
    "white = np.random.normal(size=x_train.shape)"
   ]
  },
  {
   "cell_type": "code",
   "execution_count": null,
   "metadata": {},
   "outputs": [],
   "source": [
    "tmp = np.dot(white,W_hat).T+x_train.mean(0)[:,np.newaxis]"
   ]
  },
  {
   "cell_type": "code",
   "execution_count": null,
   "metadata": {},
   "outputs": [],
   "source": [
    "tmp.shape"
   ]
  },
  {
   "cell_type": "code",
   "execution_count": null,
   "metadata": {},
   "outputs": [],
   "source": [
    "doublepairplot(x_train,tmp.T)"
   ]
  },
  {
   "cell_type": "code",
   "execution_count": null,
   "metadata": {},
   "outputs": [],
   "source": [
    "pairplot(white)"
   ]
  },
  {
   "cell_type": "code",
   "execution_count": null,
   "metadata": {},
   "outputs": [],
   "source": [
    "qsigma.get_variables()[0].eval()\n",
    "\n",
    "sorted(np.exp(qsigma.get_variables()[0].eval()))\n",
    "\n",
    "tmp = qw.mean().eval()\n",
    "\n",
    "tmp[abs(tmp)>0.05]\n",
    "\n",
    "sigma"
   ]
  },
  {
   "cell_type": "code",
   "execution_count": null,
   "metadata": {},
   "outputs": [],
   "source": [
    "alphas=tf.exp(qalpha.distribution.mean()).eval()\n",
    "alphas.sort()\n",
    "plt.plot(range(alphas.size),alphas)\n",
    "plt.show()"
   ]
  },
  {
   "cell_type": "code",
   "execution_count": null,
   "metadata": {},
   "outputs": [],
   "source": [
    "plt.hist(qalpha.sample(1000).eval(),bins=20)\n",
    "plt.xlim(0,2)\n",
    "plt.show()"
   ]
  },
  {
   "cell_type": "code",
   "execution_count": null,
   "metadata": {},
   "outputs": [],
   "source": [
    "qsigma.get_variables()[0].eval()"
   ]
  },
  {
   "cell_type": "code",
   "execution_count": null,
   "metadata": {},
   "outputs": [],
   "source": [
    "x_train.shape"
   ]
  },
  {
   "cell_type": "code",
   "execution_count": null,
   "metadata": {},
   "outputs": [],
   "source": [
    "x_sim_sample = x_sim.sample().eval()"
   ]
  },
  {
   "cell_type": "code",
   "execution_count": null,
   "metadata": {},
   "outputs": [],
   "source": [
    "x_sim_sample"
   ]
  },
  {
   "cell_type": "code",
   "execution_count": null,
   "metadata": {},
   "outputs": [],
   "source": [
    "x_sim_sample.shape"
   ]
  },
  {
   "cell_type": "code",
   "execution_count": null,
   "metadata": {},
   "outputs": [],
   "source": [
    "D"
   ]
  },
  {
   "cell_type": "code",
   "execution_count": null,
   "metadata": {},
   "outputs": [],
   "source": [
    "sess = ed.get_session()\n",
    "init = tf.global_variables_initializer()\n",
    "init.run()\n",
    "tpm = qtmp.sample(10000).eval()\n",
    "\n",
    "plt.hist(tpm[:,0],'auto',normed=True)\n",
    "plt.axis([0,50,0,1])\n",
    "plt.show()\n",
    "plt.hist(np.log(tpm[:,0]),'auto',normed=True)\n",
    "plt.show()"
   ]
  },
  {
   "cell_type": "code",
   "execution_count": null,
   "metadata": {},
   "outputs": [],
   "source": [
    "x_train.shape"
   ]
  }
 ],
 "metadata": {
  "anaconda-cloud": {},
  "kernelspec": {
   "display_name": "Python 2",
   "language": "python",
   "name": "python2"
  },
  "language_info": {
   "codemirror_mode": {
    "name": "ipython",
    "version": 2
   },
   "file_extension": ".py",
   "mimetype": "text/x-python",
   "name": "python",
   "nbconvert_exporter": "python",
   "pygments_lexer": "ipython2",
   "version": "2.7.12"
  }
 },
 "nbformat": 4,
 "nbformat_minor": 2
}
