{
 "cells": [
  {
   "cell_type": "code",
   "execution_count": 1,
   "metadata": {
    "collapsed": false
   },
   "outputs": [
    {
     "name": "stderr",
     "output_type": "stream",
     "text": [
      "/home/folzd/anaconda3/lib/python3.5/site-packages/edward/stats/distributions.py:22: DeprecationWarning: edward.stats is deprecated. If calling rvs() from the distribution, use scipy.stats; if calling density methods from the distribution, use edward.models.\n",
      "  DeprecationWarning)\n"
     ]
    }
   ],
   "source": [
    "#!/usr/bin/env python\n",
    "\"\"\"Mixture model using variational inference.\n",
    "We posit a collapsed mixture of Gaussians.\n",
    "\"\"\"\n",
    "from __future__ import absolute_import\n",
    "from __future__ import division\n",
    "from __future__ import print_function\n",
    "\n",
    "import edward as ed\n",
    "import matplotlib.pyplot as plt\n",
    "import matplotlib.cm as cm\n",
    "import numpy as np\n",
    "import tensorflow as tf\n",
    "\n",
    "from edward.models import Dirichlet, Normal, InverseGamma\n",
    "from edward.stats import dirichlet, invgamma, multivariate_normal_diag, norm\n",
    "from edward.util import get_dims\n",
    "\n",
    "plt.style.use('ggplot')"
   ]
  },
  {
   "cell_type": "code",
   "execution_count": 2,
   "metadata": {
    "collapsed": true
   },
   "outputs": [],
   "source": [
    "class MixtureGaussian:\n",
    "  \"\"\"\n",
    "  Mixture of Gaussians\n",
    "  p(x, z) = [ prod_{n=1}^N sum_{k=1}^K pi_k N(x_n; mu_k, sigma_k) ]\n",
    "            [ prod_{k=1}^K N(mu_k; 0, cI) Inv-Gamma(sigma_k; a, b) ]\n",
    "            Dirichlet(pi; alpha)\n",
    "  where z = {pi, mu, sigma} and for known hyperparameters a, b, c, alpha.\n",
    "  Parameters\n",
    "  ----------\n",
    "  K : int\n",
    "    Number of mixture components.\n",
    "  D : float, optional\n",
    "    Dimension of the Gaussians.\n",
    "  \"\"\"\n",
    "  def __init__(self, K, D):\n",
    "    self.K = K\n",
    "    self.D = D\n",
    "    self.n_vars = (2 * D + 1) * K\n",
    "\n",
    "    self.a = 1.0\n",
    "    self.b = 1.0\n",
    "    self.c = 3.0\n",
    "    self.alpha = tf.ones([K])\n",
    "\n",
    "  def log_prob(self, xs, zs):\n",
    "    \"\"\"Return scalar, the log joint density log p(xs, zs).\"\"\"\n",
    "    x = xs['x']\n",
    "    pi, mus, sigmas = zs['pi'], zs['mu'], zs['sigma']\n",
    "    log_prior = dirichlet.logpdf(pi, self.alpha)\n",
    "    log_prior += tf.reduce_sum(norm.logpdf(mus, 0.0, self.c))\n",
    "    log_prior += tf.reduce_sum(invgamma.logpdf(sigmas, self.a, self.b))\n",
    "\n",
    "    # log-likelihood is\n",
    "    # sum_{n=1}^N log sum_{k=1}^K exp( log pi_k + log N(x_n; mu_k, sigma_k) )\n",
    "    # Create a K x N matrix, whose entry (k, n) is\n",
    "    # log pi_k + log N(x_n; mu_k, sigma_k).\n",
    "    N = get_dims(x)[0]\n",
    "    matrix = []\n",
    "    for k in range(self.K):\n",
    "      matrix += [tf.ones(N) * tf.log(pi[k]) +\n",
    "                 multivariate_normal_diag.logpdf(x,\n",
    "                 mus[(k * self.D):((k + 1) * self.D)],\n",
    "                 sigmas[(k * self.D):((k + 1) * self.D)])]\n",
    "\n",
    "    matrix = tf.stack(matrix)\n",
    "    # log sum exp along the rows is a vector, whose nth\n",
    "    # element is the log-likelihood of data point x_n.\n",
    "    vector = tf.reduce_logsumexp(matrix, 0)\n",
    "    # Sum over data points to get the full log-likelihood.\n",
    "    log_lik = tf.reduce_sum(vector)\n",
    "\n",
    "    return log_prior + log_lik\n",
    "\n",
    "  def predict(self, xs, zs):\n",
    "    \"\"\"Calculate a K x N matrix of log-likelihoods, per-cluster and\n",
    "    per-data point.\"\"\"\n",
    "    x = xs['x']\n",
    "    pi, mus, sigmas = zs['pi'], zs['mu'], zs['sigma']\n",
    "\n",
    "    matrix = []\n",
    "    for k in range(self.K):\n",
    "      matrix += [multivariate_normal_diag.logpdf(x,\n",
    "                 mus[(k * self.D):((k + 1) * self.D)],\n",
    "                 sigmas[(k * self.D):((k + 1) * self.D)])]\n",
    "\n",
    "    return tf.stack(matrix)\n"
   ]
  },
  {
   "cell_type": "code",
   "execution_count": 3,
   "metadata": {
    "collapsed": false
   },
   "outputs": [
    {
     "data": {
      "image/png": "[encoded data removed]",
      "text/plain": [
       "<matplotlib.figure.Figure at 0x7f90394d1cc0>"
      ]
     },
     "metadata": {},
     "output_type": "display_data"
    }
   ],
   "source": [
    "def build_toy_dataset(N):\n",
    "  pi = np.array([0.2, 0.8])\n",
    "  mus = [[1, 1], [-1, -1]]\n",
    "  stds = [[0.1, 0.1], [0.1, 0.1]]\n",
    "  x = np.zeros((N, 2), dtype=np.float32)\n",
    "  for n in range(N):\n",
    "    k = np.argmax(np.random.multinomial(1, pi))\n",
    "    x[n, :] = np.random.multivariate_normal(mus[k], np.diag(stds[k]))\n",
    "\n",
    "  return x\n",
    "\n",
    "\n",
    "ed.set_seed(42)\n",
    "x_train = build_toy_dataset(500)\n",
    "plt.scatter(x_train[:, 0], x_train[:, 1])\n",
    "plt.axis([-3, 3, -3, 3])\n",
    "plt.title(\"Simulated dataset\")\n",
    "plt.show()"
   ]
  },
  {
   "cell_type": "code",
   "execution_count": 4,
   "metadata": {
    "collapsed": false
   },
   "outputs": [
    {
     "name": "stderr",
     "output_type": "stream",
     "text": [
      "/home/folzd/anaconda3/lib/python3.5/site-packages/edward/inferences/inference.py:182: DeprecationWarning: Model wrappers are deprecated. Edward is dropping support for model wrappers in future versions; use the native language instead.\n",
      "  \"native language instead.\", DeprecationWarning)\n"
     ]
    }
   ],
   "source": [
    "K = 2\n",
    "D = 2\n",
    "model = MixtureGaussian(K, D)\n",
    "\n",
    "qpi_alpha = tf.nn.softplus(tf.Variable(tf.random_normal([K])))\n",
    "qmu_mu = tf.Variable(tf.random_normal([K * D]))\n",
    "qmu_sigma = tf.nn.softplus(tf.Variable(tf.random_normal([K * D])))\n",
    "qsigma_alpha = tf.nn.softplus(tf.Variable(tf.random_normal([K * D])))\n",
    "qsigma_beta = tf.nn.softplus(tf.Variable(tf.random_normal([K * D])))\n",
    "\n",
    "qpi = Dirichlet(alpha=qpi_alpha)\n",
    "qmu = Normal(mu=qmu_mu, sigma=qmu_sigma)\n",
    "qsigma = InverseGamma(alpha=qsigma_alpha, beta=qsigma_beta)\n",
    "\n",
    "data = {'x': x_train}\n",
    "inference = ed.KLqp({'pi': qpi, 'mu': qmu, 'sigma': qsigma}, data, model)\n"
   ]
  },
  {
   "cell_type": "code",
   "execution_count": 6,
   "metadata": {
    "collapsed": true
   },
   "outputs": [],
   "source": [
    "inference.initialize()"
   ]
  },
  {
   "cell_type": "code",
   "execution_count": 7,
   "metadata": {
    "collapsed": true
   },
   "outputs": [],
   "source": [
    "variables = [qpi_alpha, qmu_mu, qmu_sigma, qsigma_alpha, qsigma_beta, qpi, qmu, qsigma]"
   ]
  },
  {
   "cell_type": "code",
   "execution_count": 8,
   "metadata": {
    "collapsed": false
   },
   "outputs": [],
   "source": [
    "init = tf.variables_initializer([qmu_mu])"
   ]
  },
  {
   "cell_type": "code",
   "execution_count": 9,
   "metadata": {
    "collapsed": false
   },
   "outputs": [],
   "source": [
    "init = tf.global_variables_initializer()\n",
    "#init = tf.initialize_all_variables()"
   ]
  },
  {
   "cell_type": "code",
   "execution_count": 10,
   "metadata": {
    "collapsed": true
   },
   "outputs": [],
   "source": [
    "init.run()"
   ]
  },
  {
   "cell_type": "code",
   "execution_count": 12,
   "metadata": {
    "collapsed": true
   },
   "outputs": [],
   "source": [
    "inference.coord = tf.train.Coordinator()"
   ]
  },
  {
   "cell_type": "code",
   "execution_count": 15,
   "metadata": {
    "collapsed": false
   },
   "outputs": [
    {
     "ename": "TypeError",
     "evalue": "update() got an unexpected keyword argument 'n_samples'",
     "output_type": "error",
     "traceback": [
      "\u001b[0;31m---------------------------------------------------------------------------\u001b[0m",
      "\u001b[0;31mTypeError\u001b[0m                                 Traceback (most recent call last)",
      "\u001b[0;32m<ipython-input-15-8affc0365aa6>\u001b[0m in \u001b[0;36m<module>\u001b[0;34m()\u001b[0m\n\u001b[1;32m      1\u001b[0m \u001b[0;32mfor\u001b[0m \u001b[0m_\u001b[0m \u001b[0;32min\u001b[0m \u001b[0mrange\u001b[0m\u001b[0;34m(\u001b[0m\u001b[0;36m1000\u001b[0m\u001b[0;34m)\u001b[0m\u001b[0;34m:\u001b[0m\u001b[0;34m\u001b[0m\u001b[0m\n\u001b[0;32m----> 2\u001b[0;31m     \u001b[0minference\u001b[0m\u001b[0;34m.\u001b[0m\u001b[0mprint_progress\u001b[0m\u001b[0;34m(\u001b[0m\u001b[0minference\u001b[0m\u001b[0;34m.\u001b[0m\u001b[0mupdate\u001b[0m\u001b[0;34m(\u001b[0m\u001b[0mn_samples\u001b[0m \u001b[0;34m=\u001b[0m \u001b[0;36m10\u001b[0m\u001b[0;34m)\u001b[0m\u001b[0;34m)\u001b[0m\u001b[0;34m\u001b[0m\u001b[0m\n\u001b[0m",
      "\u001b[0;31mTypeError\u001b[0m: update() got an unexpected keyword argument 'n_samples'"
     ]
    }
   ],
   "source": [
    "for _ in range(1000):\n",
    "    inference.print_progress(inference.update())"
   ]
  },
  {
   "cell_type": "code",
   "execution_count": 5,
   "metadata": {
    "collapsed": false,
    "scrolled": true
   },
   "outputs": [
    {
     "name": "stdout",
     "output_type": "stream",
     "text": [
      "Iteration    1 [  0%]: Loss = 107.470\n",
      "Iteration  300 [ 10%]: Loss = 32.794\n",
      "Iteration  600 [ 20%]: Loss = 31.293\n",
      "Iteration  900 [ 30%]: Loss = 37.356\n",
      "Iteration 1200 [ 40%]: Loss = 29.150\n",
      "Iteration 1500 [ 50%]: Loss = 22.912\n",
      "Iteration 1800 [ 60%]: Loss = 28.811\n",
      "Iteration 2100 [ 70%]: Loss = 22.273\n",
      "Iteration 2400 [ 80%]: Loss = 31.390\n",
      "Iteration 2700 [ 90%]: Loss = 34.475\n",
      "Iteration 3000 [100%]: Loss = 24.138\n"
     ]
    }
   ],
   "source": [
    "inference.run(n_iter=3000, n_samples=10, n_minibatch=8)"
   ]
  },
  {
   "cell_type": "code",
   "execution_count": 6,
   "metadata": {
    "collapsed": false
   },
   "outputs": [
    {
     "data": {
      "image/png": "[encoded data removed]",
      "text/plain": [
       "<matplotlib.figure.Figure at 0x7f90154269b0>"
      ]
     },
     "metadata": {},
     "output_type": "display_data"
    }
   ],
   "source": [
    "# Average per-cluster and per-data point likelihood over many posterior samples.\n",
    "log_liks = []\n",
    "for s in range(100):\n",
    "  zrep = {'pi': qpi.sample(()),\n",
    "          'mu': qmu.sample(()),\n",
    "          'sigma': qsigma.sample(())}\n",
    "  log_liks += [model.predict(data, zrep)]\n",
    "\n",
    "log_liks = tf.reduce_mean(log_liks, 0)\n",
    "\n",
    "# Choose the cluster with the highest likelihood for each data point.\n",
    "clusters = tf.argmax(log_liks, 0).eval()\n",
    "plt.scatter(x_train[:, 0], x_train[:, 1], c=clusters, cmap=cm.bwr)\n",
    "plt.axis([-3, 3, -3, 3])\n",
    "plt.title(\"Predicted cluster assignments\")\n",
    "plt.show()"
   ]
  },
  {
   "cell_type": "code",
   "execution_count": 7,
   "metadata": {
    "collapsed": false
   },
   "outputs": [
    {
     "data": {
      "text/plain": [
       "array([ 0.34525594,  0.65474409], dtype=float32)"
      ]
     },
     "execution_count": 7,
     "metadata": {},
     "output_type": "execute_result"
    }
   ],
   "source": [
    "# true value is 0.8, 0.2\n",
    "qpi.mean().eval()"
   ]
  }
 ],
 "metadata": {
  "anaconda-cloud": {},
  "kernelspec": {
   "display_name": "Python [default]",
   "language": "python",
   "name": "python3"
  },
  "language_info": {
   "codemirror_mode": {
    "name": "ipython",
    "version": 3
   },
   "file_extension": ".py",
   "mimetype": "text/x-python",
   "name": "python",
   "nbconvert_exporter": "python",
   "pygments_lexer": "ipython3",
   "version": "3.5.1"
  }
 },
 "nbformat": 4,
 "nbformat_minor": 1
}
