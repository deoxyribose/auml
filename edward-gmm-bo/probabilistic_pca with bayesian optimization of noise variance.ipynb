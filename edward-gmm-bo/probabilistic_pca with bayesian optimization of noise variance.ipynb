{
 "cells": [
  {
   "cell_type": "markdown",
   "metadata": {
    "deletable": true,
    "editable": true
   },
   "source": [
    "# Probabilistic PCA\n",
    "\n",
    "Probabilistic principal components analysis (PCA) is\n",
    "useful for analyzing data via a lower dimensional latent space\n",
    "(Tipping & Bishop, 1999). It is often\n",
    "used when there are missing values in the data or for multidimensional\n",
    "scaling.\n",
    "\n",
    "We demonstrate with an example in Edward. A webpage version is available at\n",
    "http://edwardlib.org/tutorials/probabilistic-pca."
   ]
  },
  {
   "cell_type": "code",
   "execution_count": 1,
   "metadata": {
    "collapsed": false,
    "deletable": true,
    "editable": true
   },
   "outputs": [
    {
     "name": "stderr",
     "output_type": "stream",
     "text": [
      "/home/folzd/anaconda3/lib/python3.5/site-packages/sklearn/cross_validation.py:44: DeprecationWarning: This module was deprecated in version 0.18 in favor of the model_selection module into which all the refactored classes and functions are moved. Also note that the interface of the new CV iterators are different from that of this module. This module will be removed in 0.20.\n",
      "  \"This module will be removed in 0.20.\", DeprecationWarning)\n"
     ]
    }
   ],
   "source": [
    "from __future__ import absolute_import\n",
    "from __future__ import division\n",
    "from __future__ import print_function\n",
    "\n",
    "import edward as ed\n",
    "import matplotlib.pyplot as plt\n",
    "import numpy as np\n",
    "import tensorflow as tf\n",
    "from sklearn.cross_validation import train_test_split\n",
    "\n",
    "from edward.models import Normal, Gamma\n",
    "\n",
    "import GPyOpt\n",
    "from GPyOpt.methods import BayesianOptimization\n",
    "\n",
    "plt.style.use('ggplot')"
   ]
  },
  {
   "cell_type": "markdown",
   "metadata": {
    "deletable": true,
    "editable": true
   },
   "source": [
    "## Data\n",
    "\n",
    "We use simulated data. We'll talk about the individual variables and\n",
    "what they stand for in the next section. For this example, each data\n",
    "point is 2-dimensional, $\\mathbf{x}_n\\in\\mathbb{R}^2$."
   ]
  },
  {
   "cell_type": "code",
   "execution_count": 2,
   "metadata": {
    "collapsed": false,
    "deletable": true,
    "editable": true
   },
   "outputs": [
    {
     "name": "stdout",
     "output_type": "stream",
     "text": [
      "True principal axes:\n",
      "[[ 0.25947927]\n",
      " [ 1.80472372]]\n"
     ]
    }
   ],
   "source": [
    "def build_toy_dataset(N, D, K, sigma=1):\n",
    "  x_train = np.zeros((D, N))\n",
    "  w = np.random.normal(0.0, 2.0, size=(D, K))\n",
    "  z = np.random.normal(0.0, 1.0, size=(K, N))\n",
    "  mean = np.dot(w, z)\n",
    "  for d in range(D):\n",
    "    for n in range(N):\n",
    "      x_train[d, n] = np.random.normal(mean[d, n], sigma)\n",
    "\n",
    "  print(\"True principal axes:\")\n",
    "  print(w)\n",
    "  return x_train\n",
    "\n",
    "ed.set_seed(142)\n",
    "\n",
    "N = 20000  # number of data points\n",
    "D = 2  # data dimensionality\n",
    "K = 1  # latent dimensionality\n",
    "\n",
    "X = build_toy_dataset(N, D, K)"
   ]
  },
  {
   "cell_type": "code",
   "execution_count": 3,
   "metadata": {
    "collapsed": false
   },
   "outputs": [],
   "source": [
    "x_train, x_test = train_test_split(X.T,test_size=.9)\n",
    "x_train = x_train.T\n",
    "x_test = x_test.T"
   ]
  },
  {
   "cell_type": "code",
   "execution_count": 4,
   "metadata": {
    "collapsed": false
   },
   "outputs": [
    {
     "data": {
      "text/plain": [
       "((2, 2000), (2, 18000))"
      ]
     },
     "execution_count": 4,
     "metadata": {},
     "output_type": "execute_result"
    }
   ],
   "source": [
    "x_train.shape, x_test.shape"
   ]
  },
  {
   "cell_type": "markdown",
   "metadata": {
    "deletable": true,
    "editable": true
   },
   "source": [
    "We visualize the data set."
   ]
  },
  {
   "cell_type": "code",
   "execution_count": 5,
   "metadata": {
    "collapsed": false,
    "deletable": true,
    "editable": true
   },
   "outputs": [
    {
     "data": {
      "image/png": "[encoded data removed]",
      "text/plain": [
       "<matplotlib.figure.Figure at 0x7faab2a20470>"
      ]
     },
     "metadata": {},
     "output_type": "display_data"
    }
   ],
   "source": [
    "plt.scatter(x_train[0, :], x_train[1, :], color='blue', alpha=0.1)\n",
    "plt.axis([-10, 10, -10, 10])\n",
    "plt.title(\"Simulated data set\")\n",
    "plt.show()"
   ]
  },
  {
   "cell_type": "markdown",
   "metadata": {
    "deletable": true,
    "editable": true
   },
   "source": [
    "## Model\n",
    "\n",
    "Consider a data set $\\mathbf{X} = \\{\\mathbf{x}_n\\}$ of $N$ data\n",
    "points, where each data point is $D$-dimensional, $\\mathbf{x}_n \\in\n",
    "\\mathbb{R}^D$. We aim to represent each $\\mathbf{x}_n$ under a latent\n",
    "variable $\\mathbf{z}_n \\in \\mathbb{R}^K$ with lower dimension, $K <\n",
    "D$. The set of principal axes $\\mathbf{W}$ relates the latent variables to\n",
    "the data.\n",
    "\n",
    "Specifically, we assume that each latent variable is normally distributed,\n",
    "\n",
    "\\begin{equation*}\n",
    "\\mathbf{z}_n \\sim N(\\mathbf{0}, \\mathbf{I}).\n",
    "\\end{equation*}\n",
    "\n",
    "The corresponding data point is generated via a projection,\n",
    "\n",
    "\\begin{equation*}\n",
    "\\mathbf{x}_n \\mid \\mathbf{z}_n\n",
    "\\sim N(\\mathbf{W}\\mathbf{z}_n, \\sigma^2\\mathbf{I}),\n",
    "\\end{equation*}\n",
    "\n",
    "where the matrix $\\mathbf{W}\\in\\mathbb{R}^{D\\times K}$ are known as\n",
    "the principal axes. In probabilistic PCA, we are typically interested in\n",
    "estimating the principal axes $\\mathbf{W}$ and the noise term\n",
    "$\\sigma^2$.\n",
    "\n",
    "Probabilistic PCA generalizes classical PCA. Marginalizing out the the\n",
    "latent variable, the distribution of each data point is\n",
    "\n",
    "\\begin{equation*}\n",
    "\\mathbf{x}_n \\sim N(\\mathbf{0}, \\mathbf{W}\\mathbf{W}^Y + \\sigma^2\\mathbf{I}).\n",
    "\\end{equation*}\n",
    "\n",
    "Classical PCA is the specific case of probabilistic PCA when the\n",
    "covariance of the noise becomes infinitesimally small, $\\sigma^2 \\to 0$.\n",
    "\n",
    "We set up our model below. In our analysis, we fix $\\sigma=2.0$, and\n",
    "instead of point estimating $\\mathbf{W}$ as a model parameter, we\n",
    "place a prior over it in order to infer a distribution over principal\n",
    "axes."
   ]
  },
  {
   "cell_type": "markdown",
   "metadata": {
    "deletable": true,
    "editable": true
   },
   "source": [
    "## Inference\n",
    "\n",
    "The posterior distribution over the principal axes $\\mathbf{W}$ cannot\n",
    "be analytically determined. Below, we set up our inference variables\n",
    "and then run a chosen algorithm to infer $\\mathbf{W}$. Below we use\n",
    "variational inference to minimize the $\\text{KL}(q\\|p)$ divergence\n",
    "measure."
   ]
  },
  {
   "cell_type": "code",
   "execution_count": 6,
   "metadata": {
    "collapsed": false,
    "deletable": true,
    "editable": true
   },
   "outputs": [],
   "source": [
    "def nellie(s, x_train, x_test):\n",
    "    D, N = x_train.shape\n",
    "    _, N_test = x_test.shape\n",
    "    w = Normal(mu=tf.zeros([D, K]), sigma=tf.ones([D, K]))\n",
    "    z = Normal(mu=tf.zeros([N, K]), sigma=tf.ones([N, K]))\n",
    "    x = Normal(mu=tf.matmul(w, z, transpose_b=True), sigma=s*tf.ones([D, N]))\n",
    "    qw = Normal(mu=tf.Variable(tf.random_normal([D, K])),\n",
    "                sigma=tf.nn.softplus(tf.Variable(tf.random_normal([D, K]))))\n",
    "    qz = Normal(mu=tf.Variable(tf.random_normal([N, K])),\n",
    "                sigma=tf.nn.softplus(tf.Variable(tf.random_normal([N, K]))))\n",
    "\n",
    "    inference = ed.KLqp({w: qw, z: qz}, data={x: x_train})\n",
    "    inference.run(n_iter=1000, n_print=1000, n_samples=20)\n",
    "    \n",
    "    # TEST\n",
    "    # create local posterior factors for test data, assuming test data\n",
    "    # has N_test many data points\n",
    "    print(\"Testing model with standard deviation %d\"%(s))\n",
    "    z_test = Normal(mu=tf.zeros([N_test, K]), sigma=tf.ones([N_test, K]))\n",
    "    x_test_ = Normal(mu=tf.matmul(w, z_test, transpose_b=True), sigma=s*tf.ones([D, N_test]))\n",
    "    qz_test = Normal(mu=tf.Variable(tf.random_normal([N_test, K])),\n",
    "                sigma=tf.nn.softplus(tf.Variable(tf.random_normal([N_test, K]))))\n",
    "    \n",
    "    # run local inference conditional on global factors\n",
    "    inference = ed.KLqp({z_test: qz_test}, data={x_test_: x_test, w: qw})\n",
    "    inference.run(n_iter=1000, n_print=1000, n_samples=20)\n",
    "    \n",
    "    x_post = ed.copy(x_test_, {w: qw, z: qz_test})\n",
    "    # build posterior predictive on test data\n",
    "    return -ed.evaluate('log_likelihood', data={x_post: tf.cast(x_test,tf.float32)})"
   ]
  },
  {
   "cell_type": "code",
   "execution_count": 7,
   "metadata": {
    "collapsed": false
   },
   "outputs": [
    {
     "name": "stdout",
     "output_type": "stream",
     "text": [
      "Iteration    1 [  0%]: Loss = 11153.511\n",
      "Iteration 1000 [100%]: Loss = 7809.715\n",
      "Testing model with standard deviation 2\n",
      "Iteration    1 [  0%]: Loss = 134950.562\n",
      "Iteration 1000 [100%]: Loss = 77759.359\n",
      "2.8766\n"
     ]
    }
   ],
   "source": [
    "print(nellie(2, x_train, x_test))"
   ]
  },
  {
   "cell_type": "code",
   "execution_count": 8,
   "metadata": {
    "collapsed": true
   },
   "outputs": [],
   "source": [
    "def one_hprmtr2testNLL(s):\n",
    "    # optimize in log-space\n",
    "    s = np.exp(s)\n",
    "    return nellie(s, x_train, x_test)"
   ]
  },
  {
   "cell_type": "code",
   "execution_count": 9,
   "metadata": {
    "collapsed": false
   },
   "outputs": [
    {
     "name": "stdout",
     "output_type": "stream",
     "text": [
      "So s is searched for in [log(-2), log(2)] = [0.135335,7.389056]\n"
     ]
    }
   ],
   "source": [
    "bounds = [(-2,2)]\n",
    "print(\"So s is searched for in [log(%d), log(%d)] = [%f,%f]\"%(bounds[0][0],bounds[0][1],np.exp(bounds[0][0]),np.exp(bounds[0][1])))"
   ]
  },
  {
   "cell_type": "code",
   "execution_count": 10,
   "metadata": {
    "collapsed": false,
    "scrolled": true
   },
   "outputs": [
    {
     "name": "stdout",
     "output_type": "stream",
     "text": [
      "Iteration    1 [  0%]: Loss = 15668.240\n",
      "Iteration 1000 [100%]: Loss = 7232.512\n",
      "Testing model with standard deviation 1\n",
      "Iteration    1 [  0%]: Loss = 127902.711\n",
      "Iteration 1000 [100%]: Loss = 75589.141\n",
      "Iteration    1 [  0%]: Loss = 788395.312\n",
      "Iteration 1000 [100%]: Loss = 55978.445\n",
      "Testing model with standard deviation 0\n",
      "Iteration    1 [  0%]: Loss = 6561063.500\n",
      "Iteration 1000 [100%]: Loss = 2197266.250\n",
      "Iteration    1 [  0%]: Loss = 11853.103\n",
      "Iteration 1000 [100%]: Loss = 9434.607\n",
      "Testing model with standard deviation 3\n",
      "Iteration    1 [  0%]: Loss = 102699.758\n",
      "Iteration 1000 [100%]: Loss = 85732.680\n",
      "Iteration    1 [  0%]: Loss = 12580.480\n",
      "Iteration 1000 [100%]: Loss = 10615.927\n",
      "Testing model with standard deviation 5\n",
      "Iteration    1 [  0%]: Loss = 115538.078\n",
      "Iteration 1000 [100%]: Loss = 97070.398\n",
      "Iteration    1 [  0%]: Loss = 10891.011\n",
      "Iteration 1000 [100%]: Loss = 7459.041\n",
      "Testing model with standard deviation 1\n",
      "Iteration    1 [  0%]: Loss = 124023.898\n",
      "Iteration 1000 [100%]: Loss = 79733.078\n"
     ]
    },
    {
     "name": "stderr",
     "output_type": "stream",
     "text": [
      "INFO:GP:initializing Y\n",
      "INFO:GP:initializing inference method\n",
      "INFO:GP:adding kernel and likelihood as parameters\n"
     ]
    },
    {
     "name": "stdout",
     "output_type": "stream",
     "text": [
      "WARNING: reconstraining parameters GP_regression.rbf\n",
      "WARNING: reconstraining parameters GP_regression.Gaussian_noise.variance\n",
      "Iteration    1 [  0%]: Loss = 13726.875\n",
      "Iteration 1000 [100%]: Loss = 11778.870\n",
      "Testing model with standard deviation 7\n",
      "Iteration    1 [  0%]: Loss = 123778.055\n",
      "Iteration 1000 [100%]: Loss = 106620.289\n",
      "Iteration    1 [  0%]: Loss = 10709.605\n",
      "Iteration 1000 [100%]: Loss = 8715.082\n",
      "Testing model with standard deviation 3\n",
      "Iteration    1 [  0%]: Loss = 103598.172\n",
      "Iteration 1000 [100%]: Loss = 81664.242\n",
      "Iteration    1 [  0%]: Loss = 11006.457\n",
      "Iteration 1000 [100%]: Loss = 7960.804\n",
      "Testing model with standard deviation 2\n",
      "Iteration    1 [  0%]: Loss = 102646.883\n",
      "Iteration 1000 [100%]: Loss = 80439.617\n",
      "Iteration    1 [  0%]: Loss = 10868.724\n",
      "Iteration 1000 [100%]: Loss = 7579.623\n",
      "Testing model with standard deviation 1\n",
      "Iteration    1 [  0%]: Loss = 92998.586\n",
      "Iteration 1000 [100%]: Loss = 70433.812\n",
      "Iteration    1 [  0%]: Loss = 10649.250\n",
      "Iteration 1000 [100%]: Loss = 7464.501\n",
      "Testing model with standard deviation 1\n",
      "Iteration    1 [  0%]: Loss = 108439.102\n",
      "Iteration 1000 [100%]: Loss = 78271.594\n",
      "Iteration    1 [  0%]: Loss = 11350.112\n",
      "Iteration 1000 [100%]: Loss = 7384.280\n",
      "Testing model with standard deviation 1\n",
      "Iteration    1 [  0%]: Loss = 129439.023\n",
      "Iteration 1000 [100%]: Loss = 80855.562\n",
      "Iteration    1 [  0%]: Loss = 27081.846\n",
      "Iteration 1000 [100%]: Loss = 8316.935\n",
      "Testing model with standard deviation 0\n",
      "Iteration    1 [  0%]: Loss = 374386.594\n",
      "Iteration 1000 [100%]: Loss = 128192.992\n",
      "Iteration    1 [  0%]: Loss = 42935.660\n",
      "Iteration 1000 [100%]: Loss = 7378.550\n",
      "Testing model with standard deviation 0\n",
      "Iteration    1 [  0%]: Loss = 158992.016\n",
      "Iteration 1000 [100%]: Loss = 112979.500\n",
      "Iteration    1 [  0%]: Loss = 13117.834\n",
      "Iteration 1000 [100%]: Loss = 7812.713\n",
      "Testing model with standard deviation 2\n",
      "Iteration    1 [  0%]: Loss = 105616.750\n",
      "Iteration 1000 [100%]: Loss = 75732.047\n",
      "Iteration    1 [  0%]: Loss = 10037.884\n",
      "Iteration 1000 [100%]: Loss = 7494.970\n",
      "Testing model with standard deviation 1\n",
      "Iteration    1 [  0%]: Loss = 97982.922\n",
      "Iteration 1000 [100%]: Loss = 72452.500\n"
     ]
    }
   ],
   "source": [
    "# choice of model and acquisition type motivated by Practical Bayesian Optimization (Snoek et al.)\n",
    "myBopt = BayesianOptimization(f=one_hprmtr2testNLL, bounds=bounds, model_type='GP_MCMC',acquisition_type='EI_MCMC',num_cores=-1)\n",
    "myBopt.run_optimization(max_iter=10)"
   ]
  },
  {
   "cell_type": "code",
   "execution_count": 11,
   "metadata": {
    "collapsed": false
   },
   "outputs": [
    {
     "data": {
      "image/png": "[encoded data removed]",
      "text/plain": [
       "<matplotlib.figure.Figure at 0x7faa359149e8>"
      ]
     },
     "metadata": {},
     "output_type": "display_data"
    },
    {
     "data": {
      "image/png": "[encoded data removed]",
      "text/plain": [
       "<matplotlib.figure.Figure at 0x7faa78e6bef0>"
      ]
     },
     "metadata": {},
     "output_type": "display_data"
    }
   ],
   "source": [
    "myBopt.plot_acquisition()\n",
    "myBopt.plot_convergence()"
   ]
  },
  {
   "cell_type": "code",
   "execution_count": 12,
   "metadata": {
    "collapsed": true
   },
   "outputs": [],
   "source": [
    "%matplotlib inline"
   ]
  },
  {
   "cell_type": "code",
   "execution_count": 13,
   "metadata": {
    "collapsed": false
   },
   "outputs": [
    {
     "data": {
      "text/plain": [
       "<matplotlib.collections.PathCollection at 0x7faa25243f28>"
      ]
     },
     "execution_count": 13,
     "metadata": {},
     "output_type": "execute_result"
    },
    {
     "data": {
      "image/png": "[encoded data removed]",
      "text/plain": [
       "<matplotlib.figure.Figure at 0x7faa2537f860>"
      ]
     },
     "metadata": {},
     "output_type": "display_data"
    }
   ],
   "source": [
    "plt.scatter(*np.array(myBopt.get_evaluations())[:,:])"
   ]
  },
  {
   "cell_type": "code",
   "execution_count": 14,
   "metadata": {
    "collapsed": true
   },
   "outputs": [],
   "source": [
    "def one_hprmtr2testNLL2(s):\n",
    "    # optimize in log-space\n",
    "    return nellie(s, x_train, x_test)"
   ]
  },
  {
   "cell_type": "code",
   "execution_count": 15,
   "metadata": {
    "collapsed": true
   },
   "outputs": [],
   "source": [
    "s_opt1 = np.exp(myBopt.get_evaluations()[0][np.argmin(myBopt.get_evaluations()[1])])"
   ]
  },
  {
   "cell_type": "code",
   "execution_count": 16,
   "metadata": {
    "collapsed": false
   },
   "outputs": [
    {
     "data": {
      "text/plain": [
       "array([ 1.52277634])"
      ]
     },
     "execution_count": 16,
     "metadata": {},
     "output_type": "execute_result"
    }
   ],
   "source": [
    "s_opt1"
   ]
  },
  {
   "cell_type": "code",
   "execution_count": 17,
   "metadata": {
    "collapsed": false
   },
   "outputs": [],
   "source": [
    "bounds = [(s_opt1*0.5,s_opt1*1.5)]"
   ]
  },
  {
   "cell_type": "code",
   "execution_count": 18,
   "metadata": {
    "collapsed": false
   },
   "outputs": [
    {
     "data": {
      "text/plain": [
       "[(array([ 0.76138817]), array([ 2.28416451]))]"
      ]
     },
     "execution_count": 18,
     "metadata": {},
     "output_type": "execute_result"
    }
   ],
   "source": [
    "bounds"
   ]
  },
  {
   "cell_type": "code",
   "execution_count": 19,
   "metadata": {
    "collapsed": false
   },
   "outputs": [
    {
     "name": "stdout",
     "output_type": "stream",
     "text": [
      "Iteration    1 [  0%]: Loss = 14093.346\n",
      "Iteration 1000 [100%]: Loss = 12048.110\n",
      "Testing model with standard deviation 7\n",
      "Iteration    1 [  0%]: Loss = 125245.062\n",
      "Iteration 1000 [100%]: Loss = 108744.156\n",
      "Iteration    1 [  0%]: Loss = 11355.414\n",
      "Iteration 1000 [100%]: Loss = 8582.917\n",
      "Testing model with standard deviation 2\n",
      "Iteration    1 [  0%]: Loss = 95356.617\n",
      "Iteration 1000 [100%]: Loss = 78163.492\n",
      "Iteration    1 [  0%]: Loss = 14239.368\n",
      "Iteration 1000 [100%]: Loss = 12343.501\n",
      "Testing model with standard deviation 8\n",
      "Iteration    1 [  0%]: Loss = 128633.500\n",
      "Iteration 1000 [100%]: Loss = 111749.156\n",
      "Iteration    1 [  0%]: Loss = 12394.138\n",
      "Iteration 1000 [100%]: Loss = 10426.069\n",
      "Testing model with standard deviation 5\n",
      "Iteration    1 [  0%]: Loss = 111114.375\n",
      "Iteration 1000 [100%]: Loss = 94275.875\n",
      "Iteration    1 [  0%]: Loss = 10670.371\n",
      "Iteration 1000 [100%]: Loss = 8721.722\n",
      "Testing model with standard deviation 3\n",
      "Iteration    1 [  0%]: Loss = 99225.141\n",
      "Iteration 1000 [100%]: Loss = 79604.680\n"
     ]
    },
    {
     "name": "stderr",
     "output_type": "stream",
     "text": [
      "INFO:GP:initializing Y\n",
      "INFO:GP:initializing inference method\n",
      "INFO:GP:adding kernel and likelihood as parameters\n"
     ]
    },
    {
     "name": "stdout",
     "output_type": "stream",
     "text": [
      "WARNING: reconstraining parameters GP_regression.rbf\n",
      "WARNING: reconstraining parameters GP_regression.Gaussian_noise.variance\n",
      "Iteration    1 [  0%]: Loss = 11077.471\n",
      "Iteration 1000 [100%]: Loss = 7913.101\n",
      "Testing model with standard deviation 2\n",
      "Iteration    1 [  0%]: Loss = 99498.828\n",
      "Iteration 1000 [100%]: Loss = 74385.188\n",
      "Iteration    1 [  0%]: Loss = 12316.808\n",
      "Iteration 1000 [100%]: Loss = 7913.401\n",
      "Testing model with standard deviation 2\n",
      "Iteration    1 [  0%]: Loss = 98275.484\n",
      "Iteration 1000 [100%]: Loss = 73630.289\n"
     ]
    }
   ],
   "source": [
    "# choice of model and acquisition type motivated by Practical Bayesian Optimization (Snoek et al.)\n",
    "myBopt2 = BayesianOptimization(f=one_hprmtr2testNLL, bounds=bounds, model_type='GP_MCMC',acquisition_type='EI_MCMC',num_cores=-1)\n",
    "myBopt2.run_optimization(max_iter=5)"
   ]
  },
  {
   "cell_type": "code",
   "execution_count": 20,
   "metadata": {
    "collapsed": false
   },
   "outputs": [
    {
     "data": {
      "image/png": "[encoded data removed]",
      "text/plain": [
       "<matplotlib.figure.Figure at 0x7faa252608d0>"
      ]
     },
     "metadata": {},
     "output_type": "display_data"
    },
    {
     "data": {
      "image/png": "[encoded data removed]",
      "text/plain": [
       "<matplotlib.figure.Figure at 0x7faa25260a90>"
      ]
     },
     "metadata": {},
     "output_type": "display_data"
    }
   ],
   "source": [
    "myBopt2.plot_acquisition()\n",
    "myBopt2.plot_convergence()"
   ]
  },
  {
   "cell_type": "code",
   "execution_count": 21,
   "metadata": {
    "collapsed": false
   },
   "outputs": [],
   "source": [
    "s_opt2 = np.min(myBopt2.get_evaluations()[1])"
   ]
  },
  {
   "cell_type": "code",
   "execution_count": 22,
   "metadata": {
    "collapsed": false
   },
   "outputs": [
    {
     "name": "stdout",
     "output_type": "stream",
     "text": [
      "Iteration    1 [  0%]: Loss = 10731.486\n",
      "Iteration 1000 [100%]: Loss = 7809.173\n",
      "Testing model with standard deviation 2\n",
      "Iteration    1 [  0%]: Loss = 95539.945\n",
      "Iteration 1000 [100%]: Loss = 73877.445\n",
      "Iteration    1 [  0%]: Loss = 12468.994\n",
      "Iteration 1000 [100%]: Loss = 7809.739\n",
      "Testing model with standard deviation 2\n",
      "Iteration    1 [  0%]: Loss = 105055.305\n",
      "Iteration 1000 [100%]: Loss = 77517.961\n",
      "Iteration    1 [  0%]: Loss = 10932.487\n",
      "Iteration 1000 [100%]: Loss = 7808.331\n",
      "Testing model with standard deviation 2\n",
      "Iteration    1 [  0%]: Loss = 99737.711\n",
      "Iteration 1000 [100%]: Loss = 73706.617\n",
      "2.00461\n"
     ]
    }
   ],
   "source": [
    "print(np.array([nellie(2, x_train, x_test) for i in range(3)]).mean())"
   ]
  },
  {
   "cell_type": "code",
   "execution_count": 33,
   "metadata": {
    "collapsed": false
   },
   "outputs": [
    {
     "name": "stdout",
     "output_type": "stream",
     "text": [
      "Iteration    1 [  0%]: Loss = 11915.721\n",
      "Iteration 1000 [100%]: Loss = 7807.283\n",
      "Testing model with standard deviation 1\n",
      "Iteration    1 [  0%]: Loss = 88143.617\n",
      "Iteration 1000 [100%]: Loss = 70183.938\n",
      "Iteration    1 [  0%]: Loss = 13826.107\n",
      "Iteration 1000 [100%]: Loss = 7806.430\n",
      "Testing model with standard deviation 1\n",
      "Iteration    1 [  0%]: Loss = 128370.266\n",
      "Iteration 1000 [100%]: Loss = 81034.875\n",
      "Iteration    1 [  0%]: Loss = 11741.970\n",
      "Iteration 1000 [100%]: Loss = 7805.453\n",
      "Testing model with standard deviation 1\n",
      "Iteration    1 [  0%]: Loss = 126079.797\n",
      "Iteration 1000 [100%]: Loss = 80344.891\n",
      "2.59663\n"
     ]
    }
   ],
   "source": [
    "print(np.array([nellie(s_opt2, x_train, x_test) for i in range(3)]).mean())"
   ]
  },
  {
   "cell_type": "code",
   "execution_count": 24,
   "metadata": {
    "collapsed": false
   },
   "outputs": [
    {
     "data": {
      "text/plain": [
       "1.9956760406494141"
      ]
     },
     "execution_count": 24,
     "metadata": {},
     "output_type": "execute_result"
    }
   ],
   "source": [
    "s_opt2"
   ]
  },
  {
   "cell_type": "code",
   "execution_count": 25,
   "metadata": {
    "collapsed": false
   },
   "outputs": [],
   "source": [
    "def ellie(s = s_opt2, x_train = X):\n",
    "    D, N = x_train.shape\n",
    "    _, N_test = x_test.shape\n",
    "    w = Normal(mu=tf.zeros([D, K]), sigma=tf.ones([D, K]))\n",
    "    z = Normal(mu=tf.zeros([N, K]), sigma=tf.ones([N, K]))\n",
    "    x = Normal(mu=tf.matmul(w, z, transpose_b=True), sigma=s*tf.ones([D, N]))\n",
    "    qw = Normal(mu=tf.Variable(tf.random_normal([D, K])),\n",
    "                sigma=tf.nn.softplus(tf.Variable(tf.random_normal([D, K]))))\n",
    "    qz = Normal(mu=tf.Variable(tf.random_normal([N, K])),\n",
    "                sigma=tf.nn.softplus(tf.Variable(tf.random_normal([N, K]))))\n",
    "\n",
    "    inference = ed.KLqp({w: qw, z: qz}, data={x: x_train})\n",
    "    inference.run(n_iter=500, n_print=100, n_samples=10)\n",
    "    \n",
    "    x_post = ed.copy(x, {w: qw, z: qz})\n",
    "    return x_post, qw, qz"
   ]
  },
  {
   "cell_type": "code",
   "execution_count": 26,
   "metadata": {
    "collapsed": false
   },
   "outputs": [
    {
     "name": "stdout",
     "output_type": "stream",
     "text": [
      "Iteration   1 [  0%]: Loss = 108791.617\n",
      "Iteration 100 [ 20%]: Loss = 77761.148\n",
      "Iteration 200 [ 40%]: Loss = 77731.023\n",
      "Iteration 300 [ 60%]: Loss = 77709.742\n",
      "Iteration 400 [ 80%]: Loss = 77702.445\n",
      "Iteration 500 [100%]: Loss = 77719.422\n"
     ]
    }
   ],
   "source": [
    "x_post, qw, qz = ellie()"
   ]
  },
  {
   "cell_type": "code",
   "execution_count": 27,
   "metadata": {
    "collapsed": false
   },
   "outputs": [
    {
     "name": "stdout",
     "output_type": "stream",
     "text": [
      "Iteration   1 [  0%]: Loss = 117815.945\n",
      "Iteration 100 [ 20%]: Loss = 77795.258\n",
      "Iteration 200 [ 40%]: Loss = 77761.188\n",
      "Iteration 300 [ 60%]: Loss = 77732.047\n",
      "Iteration 400 [ 80%]: Loss = 77760.344\n",
      "Iteration 500 [100%]: Loss = 77746.703\n"
     ]
    }
   ],
   "source": [
    "x_post, qw, qz = ellie(s = 2)"
   ]
  },
  {
   "cell_type": "markdown",
   "metadata": {
    "deletable": true,
    "editable": true
   },
   "source": [
    "## Criticism\n",
    "\n",
    "To check our inferences, we first inspect the model's learned\n",
    "principal axes."
   ]
  },
  {
   "cell_type": "code",
   "execution_count": 28,
   "metadata": {
    "collapsed": false,
    "deletable": true,
    "editable": true
   },
   "outputs": [
    {
     "name": "stdout",
     "output_type": "stream",
     "text": [
      "Inferred principal axes:\n"
     ]
    }
   ],
   "source": [
    "sess = ed.get_session()\n",
    "print(\"Inferred principal axes:\")\n",
    "qwm = sess.run(qw.mean())"
   ]
  },
  {
   "cell_type": "code",
   "execution_count": 29,
   "metadata": {
    "collapsed": false
   },
   "outputs": [
    {
     "data": {
      "text/plain": [
       "array([[-0.07984132],\n",
       "       [-0.52775431]], dtype=float32)"
      ]
     },
     "execution_count": 29,
     "metadata": {},
     "output_type": "execute_result"
    }
   ],
   "source": [
    "qwm"
   ]
  },
  {
   "cell_type": "code",
   "execution_count": 30,
   "metadata": {
    "collapsed": true
   },
   "outputs": [],
   "source": [
    "w_true = np.array([[ 0.25947927],[ 1.80472372]])"
   ]
  },
  {
   "cell_type": "code",
   "execution_count": 31,
   "metadata": {
    "collapsed": false
   },
   "outputs": [
    {
     "data": {
      "text/plain": [
       "array([[ 1., -1.],\n",
       "       [-1.,  1.]])"
      ]
     },
     "execution_count": 31,
     "metadata": {},
     "output_type": "execute_result"
    }
   ],
   "source": [
    "np.corrcoef(qwm.T, w_true.T)"
   ]
  },
  {
   "cell_type": "markdown",
   "metadata": {
    "deletable": true,
    "editable": true
   },
   "source": [
    "The model has recovered the true principal axes up to finite data and\n",
    "also up to identifiability (there's a symmetry in the\n",
    "parameterization).\n",
    "\n",
    "Another way to criticize the model is to visualize the observed data\n",
    "against data generated from our fitted model. The blue dots represent\n",
    "the original data, while the red is the inferred."
   ]
  },
  {
   "cell_type": "code",
   "execution_count": 32,
   "metadata": {
    "collapsed": false,
    "deletable": true,
    "editable": true
   },
   "outputs": [
    {
     "ename": "NameError",
     "evalue": "name 'x' is not defined",
     "output_type": "error",
     "traceback": [
      "\u001b[0;31m---------------------------------------------------------------------------\u001b[0m",
      "\u001b[0;31mNameError\u001b[0m                                 Traceback (most recent call last)",
      "\u001b[0;32m<ipython-input-32-6b5dcbb85b1e>\u001b[0m in \u001b[0;36m<module>\u001b[0;34m()\u001b[0m\n\u001b[1;32m      1\u001b[0m \u001b[0;31m# Build and then generate data from the posterior predictive distribution.\u001b[0m\u001b[0;34m\u001b[0m\u001b[0;34m\u001b[0m\u001b[0m\n\u001b[0;32m----> 2\u001b[0;31m \u001b[0mx_post\u001b[0m \u001b[0;34m=\u001b[0m \u001b[0med\u001b[0m\u001b[0;34m.\u001b[0m\u001b[0mcopy\u001b[0m\u001b[0;34m(\u001b[0m\u001b[0mx\u001b[0m\u001b[0;34m,\u001b[0m \u001b[0;34m{\u001b[0m\u001b[0mw\u001b[0m\u001b[0;34m:\u001b[0m \u001b[0mqw\u001b[0m\u001b[0;34m,\u001b[0m \u001b[0mz\u001b[0m\u001b[0;34m:\u001b[0m \u001b[0mqz\u001b[0m\u001b[0;34m}\u001b[0m\u001b[0;34m)\u001b[0m\u001b[0;34m\u001b[0m\u001b[0m\n\u001b[0m\u001b[1;32m      3\u001b[0m \u001b[0mx_gen\u001b[0m \u001b[0;34m=\u001b[0m \u001b[0msess\u001b[0m\u001b[0;34m.\u001b[0m\u001b[0mrun\u001b[0m\u001b[0;34m(\u001b[0m\u001b[0mx_post\u001b[0m\u001b[0;34m.\u001b[0m\u001b[0msample\u001b[0m\u001b[0;34m(\u001b[0m\u001b[0;34m)\u001b[0m\u001b[0;34m)\u001b[0m\u001b[0;34m\u001b[0m\u001b[0m\n\u001b[1;32m      4\u001b[0m \u001b[0;34m\u001b[0m\u001b[0m\n\u001b[1;32m      5\u001b[0m \u001b[0mplt\u001b[0m\u001b[0;34m.\u001b[0m\u001b[0mscatter\u001b[0m\u001b[0;34m(\u001b[0m\u001b[0mx_gen\u001b[0m\u001b[0;34m[\u001b[0m\u001b[0;36m0\u001b[0m\u001b[0;34m,\u001b[0m \u001b[0;34m:\u001b[0m\u001b[0;34m]\u001b[0m\u001b[0;34m,\u001b[0m \u001b[0mx_gen\u001b[0m\u001b[0;34m[\u001b[0m\u001b[0;36m1\u001b[0m\u001b[0;34m,\u001b[0m \u001b[0;34m:\u001b[0m\u001b[0;34m]\u001b[0m\u001b[0;34m,\u001b[0m \u001b[0mcolor\u001b[0m\u001b[0;34m=\u001b[0m\u001b[0;34m'red'\u001b[0m\u001b[0;34m,\u001b[0m \u001b[0malpha\u001b[0m\u001b[0;34m=\u001b[0m\u001b[0;36m0.1\u001b[0m\u001b[0;34m)\u001b[0m\u001b[0;34m\u001b[0m\u001b[0m\n",
      "\u001b[0;31mNameError\u001b[0m: name 'x' is not defined"
     ]
    }
   ],
   "source": [
    "# Build and then generate data from the posterior predictive distribution.\n",
    "x_post = ed.copy(x, {w: qw, z: qz})\n",
    "x_gen = sess.run(x_post.sample())\n",
    "\n",
    "plt.scatter(x_gen[0, :], x_gen[1, :], color='red', alpha=0.1)\n",
    "plt.axis([-10, 10, -10, 10])\n",
    "plt.title(\"Data generated from model\")\n",
    "plt.show()"
   ]
  },
  {
   "cell_type": "markdown",
   "metadata": {
    "deletable": true,
    "editable": true
   },
   "source": [
    "The generated data looks close to the true data.\n",
    "\n",
    "## Acknowledgements\n",
    "\n",
    "We thank Mayank Agrawal for writing the initial version of this\n",
    "tutorial."
   ]
  }
 ],
 "metadata": {
  "anaconda-cloud": {},
  "kernelspec": {
   "display_name": "Python [default]",
   "language": "python",
   "name": "python3"
  },
  "language_info": {
   "codemirror_mode": {
    "name": "ipython",
    "version": 3
   },
   "file_extension": ".py",
   "mimetype": "text/x-python",
   "name": "python",
   "nbconvert_exporter": "python",
   "pygments_lexer": "ipython3",
   "version": "3.5.1"
  }
 },
 "nbformat": 4,
 "nbformat_minor": 1
}
