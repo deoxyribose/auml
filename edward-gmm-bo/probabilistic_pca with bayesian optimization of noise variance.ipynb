{
 "cells": [
  {
   "cell_type": "markdown",
   "metadata": {
    "deletable": true,
    "editable": true
   },
   "source": [
    "# Probabilistic PCA\n",
    "\n",
    "Probabilistic principal components analysis (PCA) is\n",
    "useful for analyzing data via a lower dimensional latent space\n",
    "(Tipping & Bishop, 1999). It is often\n",
    "used when there are missing values in the data or for multidimensional\n",
    "scaling.\n",
    "\n",
    "We demonstrate with an example in Edward. A webpage version is available at\n",
    "http://edwardlib.org/tutorials/probabilistic-pca."
   ]
  },
  {
   "cell_type": "code",
   "execution_count": 1,
   "metadata": {
    "collapsed": false,
    "deletable": true,
    "editable": true
   },
   "outputs": [
    {
     "name": "stderr",
     "output_type": "stream",
     "text": [
      "/home/folzd/anaconda3/lib/python3.5/site-packages/sklearn/cross_validation.py:44: DeprecationWarning: This module was deprecated in version 0.18 in favor of the model_selection module into which all the refactored classes and functions are moved. Also note that the interface of the new CV iterators are different from that of this module. This module will be removed in 0.20.\n",
      "  \"This module will be removed in 0.20.\", DeprecationWarning)\n"
     ]
    }
   ],
   "source": [
    "from __future__ import absolute_import\n",
    "from __future__ import division\n",
    "from __future__ import print_function\n",
    "\n",
    "import edward as ed\n",
    "import matplotlib.pyplot as plt\n",
    "import numpy as np\n",
    "import tensorflow as tf\n",
    "from sklearn.cross_validation import train_test_split\n",
    "\n",
    "from edward.models import Normal, Gamma, MultivariateNormalFull\n",
    "\n",
    "import GPyOpt\n",
    "from GPyOpt.methods import BayesianOptimization\n",
    "\n",
    "plt.style.use('ggplot')"
   ]
  },
  {
   "cell_type": "markdown",
   "metadata": {
    "deletable": true,
    "editable": true
   },
   "source": [
    "## Data\n",
    "\n",
    "We use simulated data. We'll talk about the individual variables and\n",
    "what they stand for in the next section. For this example, each data\n",
    "point is 2-dimensional, $\\mathbf{x}_n\\in\\mathbb{R}^2$."
   ]
  },
  {
   "cell_type": "code",
   "execution_count": 2,
   "metadata": {
    "collapsed": false,
    "deletable": true,
    "editable": true
   },
   "outputs": [
    {
     "name": "stdout",
     "output_type": "stream",
     "text": [
      "True principal axes:\n",
      "[[ 0.25947927]\n",
      " [ 1.80472372]]\n"
     ]
    }
   ],
   "source": [
    "def build_toy_dataset(N, D, K, sigma=1):\n",
    "  x_train = np.zeros((D, N))\n",
    "  w = np.random.normal(0.0, 2.0, size=(D, K))\n",
    "  z = np.random.normal(0.0, 1.0, size=(K, N))\n",
    "  mean = np.dot(w, z)\n",
    "  for d in range(D):\n",
    "    for n in range(N):\n",
    "      x_train[d, n] = np.random.normal(mean[d, n], sigma)\n",
    "\n",
    "  print(\"True principal axes:\")\n",
    "  print(w)\n",
    "  return x_train\n",
    "\n",
    "ed.set_seed(142)\n",
    "\n",
    "N = 2000  # number of data points\n",
    "D = 2  # data dimensionality\n",
    "K = 1  # latent dimensionality\n",
    "\n",
    "X = build_toy_dataset(N, D, K)"
   ]
  },
  {
   "cell_type": "code",
   "execution_count": 3,
   "metadata": {
    "collapsed": false
   },
   "outputs": [],
   "source": [
    "x_train, x_test = train_test_split(X.T,test_size=.9)\n",
    "x_train = x_train.T\n",
    "x_test = x_test.T"
   ]
  },
  {
   "cell_type": "code",
   "execution_count": 4,
   "metadata": {
    "collapsed": false
   },
   "outputs": [
    {
     "data": {
      "text/plain": [
       "((2, 200), (2, 1800))"
      ]
     },
     "execution_count": 4,
     "metadata": {},
     "output_type": "execute_result"
    }
   ],
   "source": [
    "x_train.shape, x_test.shape"
   ]
  },
  {
   "cell_type": "markdown",
   "metadata": {
    "deletable": true,
    "editable": true
   },
   "source": [
    "We visualize the data set."
   ]
  },
  {
   "cell_type": "code",
   "execution_count": 5,
   "metadata": {
    "collapsed": false,
    "deletable": true,
    "editable": true
   },
   "outputs": [
    {
     "data": {
      "image/png": "[encoded data removed]",
      "text/plain": [
       "<matplotlib.figure.Figure at 0x7f967c5e9b70>"
      ]
     },
     "metadata": {},
     "output_type": "display_data"
    }
   ],
   "source": [
    "plt.scatter(x_train[0, :], x_train[1, :], color='blue', alpha=0.1)\n",
    "plt.axis([-10, 10, -10, 10])\n",
    "plt.title(\"Simulated data set\")\n",
    "plt.show()"
   ]
  },
  {
   "cell_type": "markdown",
   "metadata": {
    "deletable": true,
    "editable": true
   },
   "source": [
    "## Model\n",
    "\n",
    "Consider a data set $\\mathbf{X} = \\{\\mathbf{x}_n\\}$ of $N$ data\n",
    "points, where each data point is $D$-dimensional, $\\mathbf{x}_n \\in\n",
    "\\mathbb{R}^D$. We aim to represent each $\\mathbf{x}_n$ under a latent\n",
    "variable $\\mathbf{z}_n \\in \\mathbb{R}^K$ with lower dimension, $K <\n",
    "D$. The set of principal axes $\\mathbf{W}$ relates the latent variables to\n",
    "the data.\n",
    "\n",
    "Specifically, we assume that each latent variable is normally distributed,\n",
    "\n",
    "\\begin{equation*}\n",
    "\\mathbf{z}_n \\sim N(\\mathbf{0}, \\mathbf{I}).\n",
    "\\end{equation*}\n",
    "\n",
    "The corresponding data point is generated via a projection,\n",
    "\n",
    "\\begin{equation*}\n",
    "\\mathbf{x}_n \\mid \\mathbf{z}_n\n",
    "\\sim N(\\mathbf{W}\\mathbf{z}_n, \\sigma^2\\mathbf{I}),\n",
    "\\end{equation*}\n",
    "\n",
    "where the matrix $\\mathbf{W}\\in\\mathbb{R}^{D\\times K}$ are known as\n",
    "the principal axes. In probabilistic PCA, we are typically interested in\n",
    "estimating the principal axes $\\mathbf{W}$ and the noise term\n",
    "$\\sigma^2$.\n",
    "\n",
    "Probabilistic PCA generalizes classical PCA. Marginalizing out the the\n",
    "latent variable, the distribution of each data point is\n",
    "\n",
    "\\begin{equation*}\n",
    "\\mathbf{x}_n \\sim N(\\mathbf{0}, \\mathbf{W}\\mathbf{W}^Y + \\sigma^2\\mathbf{I}).\n",
    "\\end{equation*}\n",
    "\n",
    "Classical PCA is the specific case of probabilistic PCA when the\n",
    "covariance of the noise becomes infinitesimally small, $\\sigma^2 \\to 0$.\n",
    "\n",
    "We set up our model below. In our analysis, we fix $\\sigma=2.0$, and\n",
    "instead of point estimating $\\mathbf{W}$ as a model parameter, we\n",
    "place a prior over it in order to infer a distribution over principal\n",
    "axes."
   ]
  },
  {
   "cell_type": "markdown",
   "metadata": {
    "deletable": true,
    "editable": true
   },
   "source": [
    "## Inference\n",
    "\n",
    "The posterior distribution over the principal axes $\\mathbf{W}$ cannot\n",
    "be analytically determined. Below, we set up our inference variables\n",
    "and then run a chosen algorithm to infer $\\mathbf{W}$. Below we use\n",
    "variational inference to minimize the $\\text{KL}(q\\|p)$ divergence\n",
    "measure."
   ]
  },
  {
   "cell_type": "markdown",
   "metadata": {
    "collapsed": false,
    "deletable": true,
    "editable": true
   },
   "source": [
    "def nellie(s, x_train, x_test):\n",
    "    D, N = x_train.shape\n",
    "    _, N_test = x_test.shape\n",
    "    w = Normal(mu=tf.zeros([D, K]), sigma=tf.ones([D, K]))\n",
    "    z = Normal(mu=tf.zeros([N, K]), sigma=tf.ones([N, K]))\n",
    "    x = Normal(mu=tf.matmul(w, z, transpose_b=True), sigma=s*tf.ones([D, N]))\n",
    "    qw = Normal(mu=tf.Variable(tf.random_normal([D, K])),\n",
    "                sigma=tf.nn.softplus(tf.Variable(tf.random_normal([D, K]))))\n",
    "    qz = Normal(mu=tf.Variable(tf.random_normal([N, K])),\n",
    "                sigma=tf.nn.softplus(tf.Variable(tf.random_normal([N, K]))))\n",
    "\n",
    "    inference = ed.KLqp({w: qw, z: qz}, data={x: x_train})\n",
    "    inference.run(n_iter=1000, n_print=1000, n_samples=20)\n",
    "    \n",
    "    # TEST\n",
    "    # create local posterior factors for test data, assuming test data\n",
    "    # has N_test many data points\n",
    "    print(\"Testing model with standard deviation %f\"%(s))\n",
    "    z_test = Normal(mu=tf.zeros([N_test, K]), sigma=tf.ones([N_test, K]))\n",
    "    x_test_ = Normal(mu=tf.matmul(w, z_test, transpose_b=True), sigma=s*tf.ones([D, N_test]))\n",
    "    qz_test = Normal(mu=tf.Variable(tf.random_normal([N_test, K])),\n",
    "                sigma=tf.nn.softplus(tf.Variable(tf.random_normal([N_test, K]))))\n",
    "    \n",
    "    # run local inference conditional on global factors\n",
    "    inference = ed.KLqp({z_test: qz_test}, data={x_test_: x_test, w: qw})\n",
    "    inference.run(n_iter=1000, n_print=1000, n_samples=20)\n",
    "    \n",
    "    x_post = ed.copy(x_test_, {w: qw, z: qz_test})\n",
    "    # build posterior predictive on test data\n",
    "    return -ed.evaluate('log_likelihood', data={x_post: tf.cast(x_test,tf.float32)})"
   ]
  },
  {
   "cell_type": "code",
   "execution_count": 53,
   "metadata": {
    "collapsed": true
   },
   "outputs": [],
   "source": [
    "def nellie(s, x_train, x_test):\n",
    "    D, N = x_train.shape\n",
    "    _, N_test = x_test.shape\n",
    "    w = Normal(mu=tf.zeros([D, K]), sigma=tf.ones([D, K]))\n",
    "    z = Normal(mu=tf.zeros([N, K]), sigma=tf.ones([N, K]))\n",
    "    x = Normal(mu=tf.matmul(w, z, transpose_b=True), sigma=s*tf.ones([D, N]))\n",
    "    qw = Normal(mu=tf.Variable(tf.random_normal([D, K])),\n",
    "                sigma=tf.nn.softplus(tf.Variable(tf.random_normal([D, K]))))\n",
    "    qz = Normal(mu=tf.Variable(tf.random_normal([N, K])),\n",
    "                sigma=tf.nn.softplus(tf.Variable(tf.random_normal([N, K]))))\n",
    "\n",
    "    inference = ed.KLqp({w: qw, z: qz}, data={x: x_train})\n",
    "    inference.run(n_iter=500, n_print=1000, n_samples=20)\n",
    "    \n",
    "    # get expected value of w\n",
    "    w_hat = qw.mean()\n",
    "    # exploit that x ~ N(0,wwT + sigmaI), see Bishop 12.65 on page 585\n",
    "    covmat1 = tf.matmul(w_hat,w_hat,transpose_b=True) \n",
    "    covmat2 = tf.diag(tf.cast(tf.squeeze(s),tf.float32)*tf.ones(D))\n",
    "    covmat = covmat1 + covmat2\n",
    "    covmats = tf.reshape(tf.tile(covmat, [N_test, 1]), [N_test, D, D])\n",
    "    return -tf.reduce_mean(MultivariateNormalFull(mu=tf.zeros([N_test, D]), sigma=covmats).log_pdf(tf.cast(x_test.T,tf.float32)), 0).eval()"
   ]
  },
  {
   "cell_type": "code",
   "execution_count": 54,
   "metadata": {
    "collapsed": true
   },
   "outputs": [],
   "source": [
    "def one_hprmtr2testNLL(s):\n",
    "    # optimize in log-space\n",
    "    s = np.exp(s)\n",
    "    return nellie(s, x_train, x_test)"
   ]
  },
  {
   "cell_type": "code",
   "execution_count": 55,
   "metadata": {
    "collapsed": false
   },
   "outputs": [
    {
     "name": "stdout",
     "output_type": "stream",
     "text": [
      "Iteration   1 [  0%]: Loss = 3141.622\n"
     ]
    },
    {
     "data": {
      "text/plain": [
       "3.5667541"
      ]
     },
     "execution_count": 55,
     "metadata": {},
     "output_type": "execute_result"
    }
   ],
   "source": [
    "one_hprmtr2testNLL(0)"
   ]
  },
  {
   "cell_type": "code",
   "execution_count": 56,
   "metadata": {
    "collapsed": false
   },
   "outputs": [
    {
     "name": "stdout",
     "output_type": "stream",
     "text": [
      "So s is searched for in [log(-2), log(2)] = [0.135335,7.389056]\n"
     ]
    }
   ],
   "source": [
    "bounds = [(-2,2)]\n",
    "print(\"So s is searched for in [log(%d), log(%d)] = [%f,%f]\"%(bounds[0][0],bounds[0][1],np.exp(bounds[0][0]),np.exp(bounds[0][1])))"
   ]
  },
  {
   "cell_type": "code",
   "execution_count": 57,
   "metadata": {
    "collapsed": false,
    "scrolled": true
   },
   "outputs": [
    {
     "name": "stdout",
     "output_type": "stream",
     "text": [
      "Iteration   1 [  0%]: Loss = 1147.881\n",
      "Iteration   1 [  0%]: Loss = 1257.496\n",
      "Iteration   1 [  0%]: Loss = 70022.547\n",
      "Iteration   1 [  0%]: Loss = 4926.137\n",
      "Iteration   1 [  0%]: Loss = 1352.770\n"
     ]
    },
    {
     "name": "stderr",
     "output_type": "stream",
     "text": [
      "INFO:GP:initializing Y\n",
      "INFO:GP:initializing inference method\n",
      "INFO:GP:adding kernel and likelihood as parameters\n"
     ]
    },
    {
     "name": "stdout",
     "output_type": "stream",
     "text": [
      "WARNING: reconstraining parameters GP_regression.rbf\n",
      "WARNING: reconstraining parameters GP_regression.Gaussian_noise.variance\n",
      "Iteration   1 [  0%]: Loss = 1093.256\n",
      "Iteration   1 [  0%]: Loss = 2500.762\n",
      "Iteration   1 [  0%]: Loss = 1464.882\n",
      "Iteration   1 [  0%]: Loss = 2161.522\n",
      "Iteration   1 [  0%]: Loss = 1475.570\n",
      "Iteration   1 [  0%]: Loss = 3070.882\n",
      "Iteration   1 [  0%]: Loss = 1386.390\n",
      "Iteration   1 [  0%]: Loss = 1978.570\n",
      "Iteration   1 [  0%]: Loss = 2725.756\n",
      "Iteration   1 [  0%]: Loss = 1385.207\n"
     ]
    }
   ],
   "source": [
    "# choice of model and acquisition type motivated by Practical Bayesian Optimization (Snoek et al.)\n",
    "myBopt = BayesianOptimization(f=one_hprmtr2testNLL, bounds=bounds, model_type='GP_MCMC',acquisition_type='EI_MCMC',num_cores=-1)\n",
    "myBopt.run_optimization(max_iter=10)"
   ]
  },
  {
   "cell_type": "code",
   "execution_count": 58,
   "metadata": {
    "collapsed": false
   },
   "outputs": [
    {
     "data": {
      "image/png": "[encoded data removed]",
      "text/plain": [
       "<matplotlib.figure.Figure at 0x7f960b2967f0>"
      ]
     },
     "metadata": {},
     "output_type": "display_data"
    },
    {
     "data": {
      "image/png": "[encoded data removed]",
      "text/plain": [
       "<matplotlib.figure.Figure at 0x7f960b296908>"
      ]
     },
     "metadata": {},
     "output_type": "display_data"
    }
   ],
   "source": [
    "myBopt.plot_acquisition()\n",
    "myBopt.plot_convergence()"
   ]
  },
  {
   "cell_type": "code",
   "execution_count": null,
   "metadata": {
    "collapsed": true
   },
   "outputs": [],
   "source": [
    "%matplotlib inline"
   ]
  },
  {
   "cell_type": "code",
   "execution_count": null,
   "metadata": {
    "collapsed": false
   },
   "outputs": [],
   "source": [
    "plt.scatter(*np.array(myBopt.get_evaluations())[:,:])"
   ]
  },
  {
   "cell_type": "code",
   "execution_count": 65,
   "metadata": {
    "collapsed": true
   },
   "outputs": [],
   "source": [
    "def one_hprmtr2testNLL2(s):\n",
    "    # optimize in log-space\n",
    "    return nellie(s, x_train, x_test)"
   ]
  },
  {
   "cell_type": "code",
   "execution_count": 66,
   "metadata": {
    "collapsed": true
   },
   "outputs": [],
   "source": [
    "s_opt1 = np.exp(myBopt.get_evaluations()[0][np.argmin(myBopt.get_evaluations()[1])])"
   ]
  },
  {
   "cell_type": "code",
   "execution_count": 67,
   "metadata": {
    "collapsed": false
   },
   "outputs": [
    {
     "data": {
      "text/plain": [
       "array([ 1.01106342])"
      ]
     },
     "execution_count": 67,
     "metadata": {},
     "output_type": "execute_result"
    }
   ],
   "source": [
    "s_opt1"
   ]
  },
  {
   "cell_type": "code",
   "execution_count": 68,
   "metadata": {
    "collapsed": false
   },
   "outputs": [],
   "source": [
    "bounds = [(0.5,s_opt1*1.5)]"
   ]
  },
  {
   "cell_type": "code",
   "execution_count": 69,
   "metadata": {
    "collapsed": false
   },
   "outputs": [
    {
     "data": {
      "text/plain": [
       "[(0.5, array([ 1.51659513]))]"
      ]
     },
     "execution_count": 69,
     "metadata": {},
     "output_type": "execute_result"
    }
   ],
   "source": [
    "bounds"
   ]
  },
  {
   "cell_type": "code",
   "execution_count": null,
   "metadata": {
    "collapsed": false
   },
   "outputs": [
    {
     "name": "stdout",
     "output_type": "stream",
     "text": [
      "Iteration   1 [  0%]: Loss = 1333.018\n",
      "Iteration   1 [  0%]: Loss = 1223.474\n",
      "Iteration   1 [  0%]: Loss = 1035.590\n",
      "Iteration   1 [  0%]: Loss = 1186.656\n",
      "Iteration   1 [  0%]: Loss = 2657.362\n"
     ]
    },
    {
     "name": "stderr",
     "output_type": "stream",
     "text": [
      "INFO:GP:initializing Y\n",
      "INFO:GP:initializing inference method\n",
      "INFO:GP:adding kernel and likelihood as parameters\n"
     ]
    },
    {
     "name": "stdout",
     "output_type": "stream",
     "text": [
      "WARNING: reconstraining parameters GP_regression.rbf\n",
      "WARNING: reconstraining parameters GP_regression.Gaussian_noise.variance\n",
      "Iteration   1 [  0%]: Loss = 2102.717\n",
      "Iteration   1 [  0%]: Loss = 2223.898\n",
      "Iteration   1 [  0%]: Loss = 1652.662\n",
      "Iteration   1 [  0%]: Loss = 1247.502\n",
      "Iteration   1 [  0%]: Loss = 1847.708\n",
      "Iteration   1 [  0%]: Loss = 1784.834\n",
      "Iteration   1 [  0%]: Loss = 1516.690\n",
      "Iteration   1 [  0%]: Loss = 5543.612\n",
      "Iteration   1 [  0%]: Loss = 5920.155\n",
      "Iteration   1 [  0%]: Loss = 1466.455\n",
      "Iteration   1 [  0%]: Loss = 1524.261\n",
      "Iteration   1 [  0%]: Loss = 1223.399\n",
      "Iteration   1 [  0%]: Loss = 1247.149\n",
      "Iteration   1 [  0%]: Loss = 2537.671\n",
      "Iteration   1 [  0%]: Loss = 1582.177\n",
      "Iteration   1 [  0%]: Loss = 1705.235\n",
      "Iteration   1 [  0%]: Loss = 1282.608\n",
      "Iteration   1 [  0%]: Loss = 1297.178\n",
      "Iteration   1 [  0%]: Loss = 2045.312\n",
      "Iteration   1 [  0%]: Loss = 1456.606\n",
      "Iteration   1 [  0%]: Loss = 2403.031\n",
      "Iteration   1 [  0%]: Loss = 4465.507\n",
      "Iteration   1 [  0%]: Loss = 1931.607\n"
     ]
    }
   ],
   "source": [
    "# choice of model and acquisition type motivated by Practical Bayesian Optimization (Snoek et al.)\n",
    "myBopt2 = BayesianOptimization(f=one_hprmtr2testNLL2, bounds=bounds, model_type='GP_MCMC',acquisition_type='EI_MCMC',num_cores=-1)\n",
    "myBopt2.run_optimization(max_iter=30)"
   ]
  },
  {
   "cell_type": "code",
   "execution_count": null,
   "metadata": {
    "collapsed": false
   },
   "outputs": [],
   "source": [
    "myBopt2.plot_acquisition()\n",
    "myBopt2.plot_convergence()"
   ]
  },
  {
   "cell_type": "code",
   "execution_count": null,
   "metadata": {
    "collapsed": false
   },
   "outputs": [],
   "source": [
    "s_opt2 = myBopt2.get_evaluations()[0][np.argmin(myBopt2.get_evaluations()[1])]"
   ]
  },
  {
   "cell_type": "code",
   "execution_count": null,
   "metadata": {
    "collapsed": false
   },
   "outputs": [],
   "source": [
    "s_opt2"
   ]
  },
  {
   "cell_type": "code",
   "execution_count": null,
   "metadata": {
    "collapsed": false
   },
   "outputs": [],
   "source": [
    "print(\"Inference with true sigma\")\n",
    "print(np.array([nellie(1, x_train, x_test) for i in range(3)]).mean())"
   ]
  },
  {
   "cell_type": "code",
   "execution_count": null,
   "metadata": {
    "collapsed": false
   },
   "outputs": [],
   "source": [
    "print(\"Inference with optimized sigma\")\n",
    "print(np.array([nellie(s_opt2, x_train, x_test) for i in range(3)]).mean())"
   ]
  },
  {
   "cell_type": "code",
   "execution_count": null,
   "metadata": {
    "collapsed": false
   },
   "outputs": [],
   "source": [
    "def ellie(s = s_opt2, x_train = X):\n",
    "    D, N = x_train.shape\n",
    "    _, N_test = x_test.shape\n",
    "    w = Normal(mu=tf.zeros([D, K]), sigma=tf.ones([D, K]))\n",
    "    z = Normal(mu=tf.zeros([N, K]), sigma=tf.ones([N, K]))\n",
    "    x = Normal(mu=tf.matmul(w, z, transpose_b=True), sigma=s*tf.ones([D, N]))\n",
    "    qw = Normal(mu=tf.Variable(tf.random_normal([D, K])),\n",
    "                sigma=tf.nn.softplus(tf.Variable(tf.random_normal([D, K]))))\n",
    "    qz = Normal(mu=tf.Variable(tf.random_normal([N, K])),\n",
    "                sigma=tf.nn.softplus(tf.Variable(tf.random_normal([N, K]))))\n",
    "\n",
    "    inference = ed.KLqp({w: qw, z: qz}, data={x: x_train})\n",
    "    inference.run(n_iter=500, n_print=100, n_samples=10)\n",
    "    \n",
    "    x_post = ed.copy(x, {w: qw, z: qz})\n",
    "    return x_post, qw, qz"
   ]
  },
  {
   "cell_type": "code",
   "execution_count": null,
   "metadata": {
    "collapsed": false
   },
   "outputs": [],
   "source": [
    "x_post, qw, qz = ellie()"
   ]
  },
  {
   "cell_type": "code",
   "execution_count": null,
   "metadata": {
    "collapsed": false
   },
   "outputs": [],
   "source": [
    "x_post, qw, qz = ellie(s = 2)"
   ]
  },
  {
   "cell_type": "markdown",
   "metadata": {
    "deletable": true,
    "editable": true
   },
   "source": [
    "## Criticism\n",
    "\n",
    "To check our inferences, we first inspect the model's learned\n",
    "principal axes."
   ]
  },
  {
   "cell_type": "code",
   "execution_count": null,
   "metadata": {
    "collapsed": false,
    "deletable": true,
    "editable": true
   },
   "outputs": [],
   "source": [
    "sess = ed.get_session()\n",
    "print(\"Inferred principal axes:\")\n",
    "qwm = sess.run(qw.mean())"
   ]
  },
  {
   "cell_type": "code",
   "execution_count": null,
   "metadata": {
    "collapsed": false
   },
   "outputs": [],
   "source": [
    "qwm"
   ]
  },
  {
   "cell_type": "code",
   "execution_count": null,
   "metadata": {
    "collapsed": true
   },
   "outputs": [],
   "source": [
    "w_true = np.array([[ 0.25947927],[ 1.80472372]])"
   ]
  },
  {
   "cell_type": "code",
   "execution_count": null,
   "metadata": {
    "collapsed": false
   },
   "outputs": [],
   "source": [
    "np.corrcoef(qwm.T, w_true.T)"
   ]
  },
  {
   "cell_type": "markdown",
   "metadata": {
    "deletable": true,
    "editable": true
   },
   "source": [
    "The model has recovered the true principal axes up to finite data and\n",
    "also up to identifiability (there's a symmetry in the\n",
    "parameterization).\n",
    "\n",
    "Another way to criticize the model is to visualize the observed data\n",
    "against data generated from our fitted model. The blue dots represent\n",
    "the original data, while the red is the inferred."
   ]
  },
  {
   "cell_type": "code",
   "execution_count": null,
   "metadata": {
    "collapsed": false,
    "deletable": true,
    "editable": true
   },
   "outputs": [],
   "source": [
    "# Build and then generate data from the posterior predictive distribution.\n",
    "x_post = ed.copy(x, {w: qw, z: qz})\n",
    "x_gen = sess.run(x_post.sample())\n",
    "\n",
    "plt.scatter(x_gen[0, :], x_gen[1, :], color='red', alpha=0.1)\n",
    "plt.axis([-10, 10, -10, 10])\n",
    "plt.title(\"Data generated from model\")\n",
    "plt.show()"
   ]
  },
  {
   "cell_type": "markdown",
   "metadata": {
    "deletable": true,
    "editable": true
   },
   "source": [
    "The generated data looks close to the true data.\n",
    "\n",
    "## Acknowledgements\n",
    "\n",
    "We thank Mayank Agrawal for writing the initial version of this\n",
    "tutorial."
   ]
  }
 ],
 "metadata": {
  "anaconda-cloud": {},
  "kernelspec": {
   "display_name": "Python [default]",
   "language": "python",
   "name": "python3"
  },
  "language_info": {
   "codemirror_mode": {
    "name": "ipython",
    "version": 3
   },
   "file_extension": ".py",
   "mimetype": "text/x-python",
   "name": "python",
   "nbconvert_exporter": "python",
   "pygments_lexer": "ipython3",
   "version": "3.5.1"
  }
 },
 "nbformat": 4,
 "nbformat_minor": 1
}
