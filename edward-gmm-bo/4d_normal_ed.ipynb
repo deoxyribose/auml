{
 "cells": [
  {
   "cell_type": "code",
   "execution_count": 1,
   "metadata": {
    "collapsed": false
   },
   "outputs": [
    {
     "name": "stderr",
     "output_type": "stream",
     "text": [
      "/home/folzd/anaconda3/lib/python3.5/site-packages/sklearn/cross_validation.py:44: DeprecationWarning: This module was deprecated in version 0.18 in favor of the model_selection module into which all the refactored classes and functions are moved. Also note that the interface of the new CV iterators are different from that of this module. This module will be removed in 0.20.\n",
      "  \"This module will be removed in 0.20.\", DeprecationWarning)\n"
     ]
    }
   ],
   "source": [
    "import numpy as np\n",
    "import matplotlib.pylab as plt\n",
    "%matplotlib inline\n",
    "import tensorflow as tf\n",
    "import scipy.stats as sps\n",
    "from sklearn.cross_validation import train_test_split\n",
    "\n",
    "import edward as ed\n",
    "from edward.models import WishartFull, WishartCholesky, MultivariateNormalTriL, Empirical\n",
    "from tensorflow.contrib.linalg import LinearOperatorTriL\n",
    "import itertools\n",
    "ds = tf.contrib.distributions"
   ]
  },
  {
   "cell_type": "code",
   "execution_count": 2,
   "metadata": {
    "collapsed": false,
    "scrolled": true
   },
   "outputs": [],
   "source": [
    "D = 4\n",
    "N = 10**4\n",
    "cov = np.array([[1, 0.2, 0.2, 0.2],[0.2, 2, 0.2, 0.2], [0.2, 0.2,3,0.2], [0.2,0.2,0.2,4]])\n",
    "X = sps.multivariate_normal.rvs(mean = np.zeros(D), cov = cov, size=N)"
   ]
  },
  {
   "cell_type": "code",
   "execution_count": 3,
   "metadata": {
    "collapsed": false
   },
   "outputs": [
    {
     "data": {
      "text/plain": [
       "array([-0.00073723,  0.00518631,  0.00755176,  0.00290442])"
      ]
     },
     "execution_count": 3,
     "metadata": {},
     "output_type": "execute_result"
    }
   ],
   "source": [
    "X.mean(axis=0)"
   ]
  },
  {
   "cell_type": "code",
   "execution_count": 4,
   "metadata": {
    "collapsed": false
   },
   "outputs": [
    {
     "data": {
      "text/plain": [
       "array([[ 0.98599555,  0.20824305,  0.18701178,  0.20511299],\n",
       "       [ 0.20824305,  1.9833588 ,  0.18192928,  0.2413158 ],\n",
       "       [ 0.18701178,  0.18192928,  3.02205288,  0.18826146],\n",
       "       [ 0.20511299,  0.2413158 ,  0.18826146,  4.09937233]])"
      ]
     },
     "execution_count": 4,
     "metadata": {},
     "output_type": "execute_result"
    }
   ],
   "source": [
    "np.cov(X.T)"
   ]
  },
  {
   "cell_type": "markdown",
   "metadata": {},
   "source": [
    "## probabilistic model"
   ]
  },
  {
   "cell_type": "code",
   "execution_count": 25,
   "metadata": {
    "collapsed": true
   },
   "outputs": [],
   "source": [
    "# priors\n",
    "v_prior = tf.Variable(D, dtype=tf.float32, trainable=False)\n",
    "W_prior = tf.Variable(np.eye(D),\n",
    "                      dtype=tf.float32, trainable=False)\n",
    "m_prior = tf.Variable(np.zeros(D), dtype=tf.float32, trainable=False)\n",
    "k_prior = tf.Variable(1., dtype=tf.float32, trainable=False)"
   ]
  },
  {
   "cell_type": "code",
   "execution_count": 26,
   "metadata": {
    "collapsed": false
   },
   "outputs": [],
   "source": [
    "#sigma = WishartCholesky(df=v_prior, scale=W_prior,cholesky_input_output_matrices=True, name=\"psigma\")\n",
    "sigma = WishartFull(df=v_prior, scale=W_prior, name=\"psigma\")\n",
    "mu = MultivariateNormalTriL(m_prior, k_prior * sigma)\n",
    "xn = MultivariateNormalTriL(tf.reshape(tf.tile(mu, [N]), [N, D]),\n",
    "                            tf.reshape(tf.tile(sigma, [N, 1]), [N, D, D]))"
   ]
  },
  {
   "cell_type": "code",
   "execution_count": 28,
   "metadata": {
    "collapsed": false
   },
   "outputs": [
    {
     "data": {
      "image/png": "[encoded data removed]",
      "text/plain": [
       "<matplotlib.figure.Figure at 0x7f2c51ebff60>"
      ]
     },
     "metadata": {},
     "output_type": "display_data"
    },
    {
     "data": {
      "image/png": "[encoded data removed]",
      "text/plain": [
       "<matplotlib.figure.Figure at 0x7f2c51816940>"
      ]
     },
     "metadata": {},
     "output_type": "display_data"
    }
   ],
   "source": [
    "sess = tf.Session()\n",
    "with sess.as_default():\n",
    "    init = tf.global_variables_initializer()\n",
    "    init.run()\n",
    "    prior_covmats = sigma.sample(10000).eval()\n",
    "\n",
    "    for i, j in itertools.combinations(range(D),2):\n",
    "        # covariances\n",
    "        plt.hist(prior_covmats[:,i,j],'auto');\n",
    "        plt.plot((cov[i,j], cov[i,j]), (0, 500), 'k-')\n",
    "    plt.figure()\n",
    "    for i in range(D):\n",
    "        # variances\n",
    "        plt.hist(prior_covmats[:,i,i],'auto');\n",
    "        plt.plot((cov[i,i], cov[i,i]), (0, 500), 'k-')"
   ]
  },
  {
   "cell_type": "code",
   "execution_count": 29,
   "metadata": {
    "collapsed": false
   },
   "outputs": [
    {
     "name": "stdout",
     "output_type": "stream",
     "text": [
      "***** PROBABILISTIC MODEL *****\n",
      "mu: RandomVariable(\"MultivariateNormalTriL_24/\", shape=(4,), dtype=float32)\n",
      "sigma: RandomVariable(\"psigma_2/\", shape=(4, 4), dtype=float32)\n",
      "xn: RandomVariable(\"MultivariateNormalTriL_28/\", shape=(10000, 4), dtype=float32)\n"
     ]
    }
   ],
   "source": [
    "print('***** PROBABILISTIC MODEL *****')\n",
    "print('mu: {}'.format(mu))\n",
    "print('sigma: {}'.format(sigma))\n",
    "print('xn: {}'.format(xn))"
   ]
  },
  {
   "cell_type": "markdown",
   "metadata": {},
   "source": [
    "## variational model"
   ]
  },
  {
   "cell_type": "code",
   "execution_count": 30,
   "metadata": {
    "collapsed": true
   },
   "outputs": [],
   "source": [
    "ds = tf.contrib.distributions"
   ]
  },
  {
   "cell_type": "markdown",
   "metadata": {},
   "source": [
    "It seems that the Cholesky factor doesn't need positive elements in the diagonal. But let's do it anyway."
   ]
  },
  {
   "cell_type": "code",
   "execution_count": 31,
   "metadata": {
    "collapsed": false
   },
   "outputs": [],
   "source": [
    "m = tf.Variable(tf.random_normal([D], dtype=tf.float32))\n",
    "R = tf.Variable(tf.random_normal([D, D], dtype=tf.float32))\n",
    "qmu = MultivariateNormalTriL(m, ds.matrix_diag_transform(R, transform=tf.nn.softplus))\n",
    "\n",
    "L = tf.Variable(tf.random_normal([D, D], dtype=tf.float32))\n",
    "Ltril = LinearOperatorTriL(ds.matrix_diag_transform(L, transform=tf.nn.softplus)).to_dense()\n",
    "qsigma = WishartCholesky(100,\n",
    "    Ltril, name=\"qsigma\")#,cholesky_input_output_matrices=True)"
   ]
  },
  {
   "cell_type": "code",
   "execution_count": 32,
   "metadata": {
    "collapsed": false
   },
   "outputs": [],
   "source": [
    "inference3 = ed.KLqp({mu: qmu, sigma: qsigma}, data={xn: X})\n",
    "inference3.initialize(n_iter=300, n_print=100, n_samples=40)\n",
    "\n",
    "sess = ed.get_session()\n",
    "init = tf.global_variables_initializer()\n",
    "init.run()"
   ]
  },
  {
   "cell_type": "code",
   "execution_count": 33,
   "metadata": {
    "collapsed": false,
    "scrolled": true
   },
   "outputs": [
    {
     "name": "stdout",
     "output_type": "stream",
     "text": [
      "{'loss': 212639.06, 't': 1}\n",
      "{'loss': 73735.828, 't': 101}\n",
      "{'loss': 73767.156, 't': 201}\n"
     ]
    },
    {
     "data": {
      "text/plain": [
       "[<matplotlib.lines.Line2D at 0x7f2c4ffb8dd8>]"
      ]
     },
     "execution_count": 33,
     "metadata": {},
     "output_type": "execute_result"
    },
    {
     "data": {
      "image/png": "[encoded data removed]",
      "text/plain": [
       "<matplotlib.figure.Figure at 0x7f2cba031390>"
      ]
     },
     "metadata": {},
     "output_type": "display_data"
    }
   ],
   "source": [
    "learning_curve3 = []\n",
    "for _ in range(inference3.n_iter):\n",
    "    info_dict = inference3.update()\n",
    "    if _%100 == 0:\n",
    "        print(info_dict)\n",
    "    learning_curve3.append(info_dict['loss'])\n",
    "plt.semilogy(learning_curve3)"
   ]
  },
  {
   "cell_type": "code",
   "execution_count": 34,
   "metadata": {
    "collapsed": false
   },
   "outputs": [
    {
     "data": {
      "text/plain": [
       "array([-0.00354609,  0.01104821,  0.01437655,  0.00142576], dtype=float32)"
      ]
     },
     "execution_count": 34,
     "metadata": {},
     "output_type": "execute_result"
    }
   ],
   "source": [
    "qmu.mean().eval()"
   ]
  },
  {
   "cell_type": "code",
   "execution_count": 35,
   "metadata": {
    "collapsed": false
   },
   "outputs": [
    {
     "data": {
      "text/plain": [
       "array([[ 0.99328846,  0.26655868,  0.17920306,  0.23035844],\n",
       "       [ 0.26655868,  1.36030436,  0.10628192,  0.11847617],\n",
       "       [ 0.17920306,  0.10628192,  1.64113832,  0.02231107],\n",
       "       [ 0.23035844,  0.11847617,  0.02231107,  1.97053277]], dtype=float32)"
      ]
     },
     "execution_count": 35,
     "metadata": {},
     "output_type": "execute_result"
    }
   ],
   "source": [
    "qsigma.mode().eval()"
   ]
  },
  {
   "cell_type": "code",
   "execution_count": 36,
   "metadata": {
    "collapsed": false
   },
   "outputs": [
    {
     "data": {
      "text/plain": [
       "0.46108650792324685"
      ]
     },
     "execution_count": 36,
     "metadata": {},
     "output_type": "execute_result"
    }
   ],
   "source": [
    "np.linalg.norm(cov-qsigma.mode().eval())/np.linalg.norm(cov)"
   ]
  },
  {
   "cell_type": "code",
   "execution_count": 37,
   "metadata": {
    "collapsed": false,
    "scrolled": true
   },
   "outputs": [
    {
     "data": {
      "image/png": "[encoded data removed]",
      "text/plain": [
       "<matplotlib.figure.Figure at 0x7f2c4ff783c8>"
      ]
     },
     "metadata": {},
     "output_type": "display_data"
    },
    {
     "data": {
      "image/png": "[encoded data removed]",
      "text/plain": [
       "<matplotlib.figure.Figure at 0x7f2c4ff782b0>"
      ]
     },
     "metadata": {},
     "output_type": "display_data"
    }
   ],
   "source": [
    "covmats = qsigma.sample(10000).eval()\n",
    "\n",
    "import itertools\n",
    "\n",
    "for i, j in itertools.combinations(range(D),2):\n",
    "    # covariances\n",
    "    plt.hist(covmats[:,i,j],'auto');\n",
    "    plt.plot((cov[i,j], cov[i,j]), (0, 500), 'k-')\n",
    "plt.figure()\n",
    "for i in range(D):\n",
    "    # variances\n",
    "    plt.hist(covmats[:,i,i],'auto');\n",
    "    plt.plot((cov[i,i], cov[i,i]), (0, 500), 'k-')"
   ]
  }
 ],
 "metadata": {
  "anaconda-cloud": {},
  "kernelspec": {
   "display_name": "Python [default]",
   "language": "python",
   "name": "python3"
  },
  "language_info": {
   "codemirror_mode": {
    "name": "ipython",
    "version": 3
   },
   "file_extension": ".py",
   "mimetype": "text/x-python",
   "name": "python",
   "nbconvert_exporter": "python",
   "pygments_lexer": "ipython3",
   "version": "3.5.1"
  }
 },
 "nbformat": 4,
 "nbformat_minor": 1
}
