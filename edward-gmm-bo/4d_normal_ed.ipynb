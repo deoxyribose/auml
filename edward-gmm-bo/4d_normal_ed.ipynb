{
 "cells": [
  {
   "cell_type": "code",
   "execution_count": 2,
   "metadata": {
    "collapsed": false
   },
   "outputs": [
    {
     "name": "stderr",
     "output_type": "stream",
     "text": [
      "/home/folzd/anaconda3/lib/python3.5/site-packages/sklearn/cross_validation.py:44: DeprecationWarning: This module was deprecated in version 0.18 in favor of the model_selection module into which all the refactored classes and functions are moved. Also note that the interface of the new CV iterators are different from that of this module. This module will be removed in 0.20.\n",
      "  \"This module will be removed in 0.20.\", DeprecationWarning)\n"
     ]
    }
   ],
   "source": [
    "import numpy as np\n",
    "import matplotlib.pylab as plt\n",
    "%matplotlib inline\n",
    "import tensorflow as tf\n",
    "import scipy.stats as sps\n",
    "from sklearn.cross_validation import train_test_split\n",
    "\n",
    "import edward as ed\n",
    "from edward.models import WishartFull, WishartCholesky, MultivariateNormalTriL, Empirical\n",
    "from tensorflow.contrib.linalg import LinearOperatorTriL\n",
    "ds = tf.contrib.distributions"
   ]
  },
  {
   "cell_type": "code",
   "execution_count": 10,
   "metadata": {
    "collapsed": false,
    "scrolled": true
   },
   "outputs": [],
   "source": [
    "D = 4\n",
    "N = 10000\n",
    "cov = np.array([[1, 0.2, 0.2, 0.2],[0.2, 2, 0.2, 0.2], [0.2, 0.2,3,0.2], [0.2,0.2,0.2,4]])\n",
    "X = sps.multivariate_normal.rvs(mean = np.zeros(D), cov = cov, size=N)"
   ]
  },
  {
   "cell_type": "code",
   "execution_count": 12,
   "metadata": {
    "collapsed": false
   },
   "outputs": [
    {
     "data": {
      "text/plain": [
       "array([ 0.02035888,  0.00507184, -0.00623285, -0.02257487])"
      ]
     },
     "execution_count": 12,
     "metadata": {},
     "output_type": "execute_result"
    }
   ],
   "source": [
    "X.mean(axis=0)"
   ]
  },
  {
   "cell_type": "code",
   "execution_count": 13,
   "metadata": {
    "collapsed": false
   },
   "outputs": [
    {
     "data": {
      "text/plain": [
       "array([[ 0.99877968,  0.19501715,  0.20255285,  0.13835885],\n",
       "       [ 0.19501715,  2.01261039,  0.19953566,  0.18842699],\n",
       "       [ 0.20255285,  0.19953566,  3.00268863,  0.19780642],\n",
       "       [ 0.13835885,  0.18842699,  0.19780642,  3.93739847]])"
      ]
     },
     "execution_count": 13,
     "metadata": {},
     "output_type": "execute_result"
    }
   ],
   "source": [
    "np.cov(X.T)"
   ]
  },
  {
   "cell_type": "markdown",
   "metadata": {},
   "source": [
    "## probabilistic model"
   ]
  },
  {
   "cell_type": "code",
   "execution_count": 31,
   "metadata": {
    "collapsed": true
   },
   "outputs": [],
   "source": [
    "# priors\n",
    "v_prior = tf.Variable(D**2, dtype=tf.float32, trainable=False)\n",
    "W_prior = tf.Variable(np.eye(D)*10,\n",
    "                      dtype=tf.float32, trainable=False)\n",
    "m_prior = tf.Variable(np.zeros(D), dtype=tf.float32, trainable=False)\n",
    "k_prior = tf.Variable(1., dtype=tf.float32, trainable=False)"
   ]
  },
  {
   "cell_type": "code",
   "execution_count": 32,
   "metadata": {
    "collapsed": false
   },
   "outputs": [],
   "source": [
    "#sigma = WishartCholesky(df=v_prior, scale=W_prior,cholesky_input_output_matrices=True, name=\"psigma\")\n",
    "sigma = WishartFull(df=v_prior, scale=W_prior, name=\"psigma\")\n",
    "mu = MultivariateNormalTriL(m_prior, k_prior * sigma)\n",
    "xn = MultivariateNormalTriL(tf.reshape(tf.tile(mu, [N]), [N, D]),\n",
    "                            tf.reshape(tf.tile(sigma, [N, 1]), [N, D, D]))"
   ]
  },
  {
   "cell_type": "code",
   "execution_count": 33,
   "metadata": {
    "collapsed": false
   },
   "outputs": [
    {
     "name": "stdout",
     "output_type": "stream",
     "text": [
      "***** PROBABILISTIC MODEL *****\n",
      "mu: RandomVariable(\"MultivariateNormalTriL_16/\", shape=(4,), dtype=float32)\n",
      "sigma: RandomVariable(\"psigma_1/\", shape=(4, 4), dtype=float32)\n",
      "xn: RandomVariable(\"MultivariateNormalTriL_20/\", shape=(10000, 4), dtype=float32)\n"
     ]
    }
   ],
   "source": [
    "print('***** PROBABILISTIC MODEL *****')\n",
    "print('mu: {}'.format(mu))\n",
    "print('sigma: {}'.format(sigma))\n",
    "print('xn: {}'.format(xn))"
   ]
  },
  {
   "cell_type": "markdown",
   "metadata": {},
   "source": [
    "## variational model"
   ]
  },
  {
   "cell_type": "code",
   "execution_count": 34,
   "metadata": {
    "collapsed": true
   },
   "outputs": [],
   "source": [
    "ds = tf.contrib.distributions"
   ]
  },
  {
   "cell_type": "markdown",
   "metadata": {},
   "source": [
    "It seems that the Cholesky factor doesn't need positive elements in the diagonal. But let's do it anyway."
   ]
  },
  {
   "cell_type": "code",
   "execution_count": 35,
   "metadata": {
    "collapsed": false
   },
   "outputs": [],
   "source": [
    "m = tf.Variable(tf.random_normal([D], dtype=tf.float32))\n",
    "R = tf.Variable(tf.random_normal([D, D], dtype=tf.float32))\n",
    "qmu = MultivariateNormalTriL(m, ds.matrix_diag_transform(R, transform=tf.nn.softplus))\n",
    "\n",
    "L = tf.Variable(tf.random_normal([D, D], dtype=tf.float32))\n",
    "Ltril = LinearOperatorTriL(ds.matrix_diag_transform(L, transform=tf.nn.softplus)).to_dense()\n",
    "qsigma = WishartCholesky(tf.nn.softplus(tf.Variable(tf.random_normal([], dtype=tf.float32))+D+100),\n",
    "    Ltril, name=\"qsigma\")#,cholesky_input_output_matrices=True)"
   ]
  },
  {
   "cell_type": "code",
   "execution_count": null,
   "metadata": {
    "collapsed": false
   },
   "outputs": [],
   "source": [
    "inference3 = ed.KLqp({mu: qmu, sigma: qsigma}, data={xn: X})\n",
    "inference3.initialize(n_iter=600, n_print=100, n_samples=40)\n",
    "\n",
    "sess = ed.get_session()\n",
    "init = tf.global_variables_initializer()\n",
    "init.run()"
   ]
  },
  {
   "cell_type": "code",
   "execution_count": null,
   "metadata": {
    "collapsed": false,
    "scrolled": true
   },
   "outputs": [],
   "source": [
    "learning_curve3 = []\n",
    "for _ in range(inference3.n_iter):\n",
    "    info_dict = inference3.update()\n",
    "    if _%100 == 0:\n",
    "        print(info_dict)\n",
    "    learning_curve3.append(info_dict['loss'])\n",
    "plt.semilogy(learning_curve3)"
   ]
  },
  {
   "cell_type": "code",
   "execution_count": null,
   "metadata": {
    "collapsed": false
   },
   "outputs": [],
   "source": [
    "qmu.mean().eval()"
   ]
  },
  {
   "cell_type": "code",
   "execution_count": null,
   "metadata": {
    "collapsed": false
   },
   "outputs": [],
   "source": [
    "qsigma.mode().eval()"
   ]
  },
  {
   "cell_type": "code",
   "execution_count": null,
   "metadata": {
    "collapsed": false
   },
   "outputs": [],
   "source": [
    "np.linalg.norm(cov-qsigma.mode().eval())/np.linalg.norm(cov)"
   ]
  },
  {
   "cell_type": "code",
   "execution_count": null,
   "metadata": {
    "collapsed": false,
    "scrolled": true
   },
   "outputs": [],
   "source": [
    "covmats = qsigma.sample(10000).eval()"
   ]
  },
  {
   "cell_type": "code",
   "execution_count": null,
   "metadata": {
    "collapsed": true
   },
   "outputs": [],
   "source": [
    "import itertools"
   ]
  },
  {
   "cell_type": "code",
   "execution_count": null,
   "metadata": {
    "collapsed": false
   },
   "outputs": [],
   "source": [
    "for i, j in itertools.combinations(range(D),2):\n",
    "    # covariances\n",
    "    plt.hist(covmats[:,i,j],'auto');\n",
    "    plt.plot((cov[i,j], cov[i,j]), (0, 500), 'k-')\n",
    "plt.figure()\n",
    "for i in range(D):\n",
    "    # variances\n",
    "    plt.hist(covmats[:,i,i],'auto');\n",
    "    plt.plot((cov[i,i], cov[i,i]), (0, 500), 'k-')"
   ]
  }
 ],
 "metadata": {
  "anaconda-cloud": {},
  "kernelspec": {
   "display_name": "Python [default]",
   "language": "python",
   "name": "python3"
  },
  "language_info": {
   "codemirror_mode": {
    "name": "ipython",
    "version": 3
   },
   "file_extension": ".py",
   "mimetype": "text/x-python",
   "name": "python",
   "nbconvert_exporter": "python",
   "pygments_lexer": "ipython3",
   "version": "3.5.1"
  }
 },
 "nbformat": 4,
 "nbformat_minor": 1
}
