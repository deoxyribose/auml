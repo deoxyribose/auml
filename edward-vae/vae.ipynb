{
 "cells": [
  {
   "cell_type": "code",
   "execution_count": 1,
   "metadata": {},
   "outputs": [
    {
     "name": "stderr",
     "output_type": "stream",
     "text": [
      "Using TensorFlow backend.\n"
     ]
    }
   ],
   "source": [
    "#!/usr/bin/env python\n",
    "\"\"\"Variational auto-encoder for MNIST data.\n",
    "References\n",
    "----------\n",
    "http://edwardlib.org/tutorials/decoder\n",
    "http://edwardlib.org/tutorials/inference-networks\n",
    "\"\"\"\n",
    "from __future__ import absolute_import\n",
    "from __future__ import division\n",
    "from __future__ import print_function\n",
    "\n",
    "import edward as ed\n",
    "import numpy as np\n",
    "import os\n",
    "import tensorflow as tf\n",
    "\n",
    "from edward.models import Bernoulli, Normal\n",
    "from edward.util import Progbar\n",
    "from keras.layers import Dense\n",
    "from observations import mnist\n",
    "from scipy.misc import imsave"
   ]
  },
  {
   "cell_type": "code",
   "execution_count": 2,
   "metadata": {},
   "outputs": [],
   "source": [
    "def generator(array, batch_size):\n",
    "  \"\"\"Generate batch with respect to array's first axis.\"\"\"\n",
    "  start = 0  # pointer to where we are in iteration\n",
    "  while True:\n",
    "    stop = start + batch_size\n",
    "    diff = stop - array.shape[0]\n",
    "    if diff <= 0:\n",
    "      batch = array[start:stop]\n",
    "      start += batch_size\n",
    "    else:\n",
    "      batch = np.concatenate((array[start:], array[:diff]))\n",
    "      start = diff\n",
    "    batch = batch.astype(np.float32) / 255.0  # normalize pixel intensities\n",
    "    batch = np.random.binomial(1, batch)  # binarize images\n",
    "    yield batch\n",
    "\n",
    "\n",
    "ed.set_seed(42)"
   ]
  },
  {
   "cell_type": "code",
   "execution_count": 3,
   "metadata": {},
   "outputs": [],
   "source": [
    "data_dir = \"../data\"\n",
    "out_dir = \"./out\"\n",
    "if not os.path.exists(out_dir):\n",
    "  os.makedirs(out_dir)"
   ]
  },
  {
   "cell_type": "code",
   "execution_count": 4,
   "metadata": {},
   "outputs": [],
   "source": [
    "M = 100  # batch size during training\n",
    "d = 2  # latent dimension\n",
    "\n",
    "# DATA. MNIST batches are fed at training time.\n",
    "(x_train, _), (x_test, _) = mnist(data_dir)\n",
    "x_train_generator = generator(x_train, M)"
   ]
  },
  {
   "cell_type": "code",
   "execution_count": 5,
   "metadata": {},
   "outputs": [],
   "source": [
    "# MODEL\n",
    "# Define a subgraph of the full model, corresponding to a minibatch of\n",
    "# size M.\n",
    "z = Normal(loc=tf.zeros([M, d]), scale=tf.ones([M, d]))\n",
    "hidden = Dense(256, activation='relu')(z.value())\n",
    "x = Bernoulli(logits=Dense(28 * 28)(hidden))"
   ]
  },
  {
   "cell_type": "code",
   "execution_count": 6,
   "metadata": {},
   "outputs": [],
   "source": [
    "# INFERENCE\n",
    "# Define a subgraph of the variational model, corresponding to a\n",
    "# minibatch of size M.\n",
    "x_ph = tf.placeholder(tf.int32, [M, 28 * 28])\n",
    "hidden = Dense(256, activation='relu')(tf.cast(x_ph, tf.float32))\n",
    "qz = Normal(loc=Dense(d)(hidden),\n",
    "            scale=Dense(d, activation='softplus')(hidden))"
   ]
  },
  {
   "cell_type": "code",
   "execution_count": 7,
   "metadata": {},
   "outputs": [],
   "source": [
    "# Bind p(x, z) and q(z | x) to the same TensorFlow placeholder for x.\n",
    "inference = ed.KLqp({z: qz}, data={x: x_ph})\n",
    "optimizer = tf.train.RMSPropOptimizer(0.01, epsilon=1.0)\n",
    "inference.initialize(optimizer=optimizer)"
   ]
  },
  {
   "cell_type": "code",
   "execution_count": 8,
   "metadata": {
    "scrolled": true
   },
   "outputs": [
    {
     "name": "stdout",
     "output_type": "stream",
     "text": [
      "Epoch: 1\n",
      "600/600 [100%] ██████████████████████████████ Elapsed: 5s\n",
      "-log p(x) <= 181.148\n",
      "Epoch: 2\n",
      " 19/600 [  3%]                                ETA: 5s"
     ]
    },
    {
     "name": "stderr",
     "output_type": "stream",
     "text": [
      "/usr/local/lib/python2.7/dist-packages/ipykernel/__main__.py:25: DeprecationWarning: `imsave` is deprecated!\n",
      "`imsave` is deprecated in SciPy 1.0.0, and will be removed in 1.2.0.\n",
      "Use ``imageio.imwrite`` instead.\n"
     ]
    },
    {
     "name": "stdout",
     "output_type": "stream",
     "text": [
      "600/600 [100%] ██████████████████████████████ Elapsed: 5s\n",
      "-log p(x) <= 167.170\n",
      "Epoch: 3\n",
      "600/600 [100%] ██████████████████████████████ Elapsed: 5s\n",
      "-log p(x) <= 164.639\n",
      "Epoch: 4\n",
      "600/600 [100%] ██████████████████████████████ Elapsed: 5s\n",
      "-log p(x) <= 163.180\n",
      "Epoch: 5\n",
      "600/600 [100%] ██████████████████████████████ Elapsed: 5s\n",
      "-log p(x) <= 162.354\n",
      "Epoch: 6\n",
      "600/600 [100%] ██████████████████████████████ Elapsed: 5s\n",
      "-log p(x) <= 161.637\n",
      "Epoch: 7\n",
      "600/600 [100%] ██████████████████████████████ Elapsed: 5s\n",
      "-log p(x) <= 160.963\n",
      "Epoch: 8\n",
      "600/600 [100%] ██████████████████████████████ Elapsed: 5s\n",
      "-log p(x) <= 160.564\n",
      "Epoch: 9\n",
      "600/600 [100%] ██████████████████████████████ Elapsed: 5s\n",
      "-log p(x) <= 160.198\n",
      "Epoch: 10\n",
      "600/600 [100%] ██████████████████████████████ Elapsed: 5s\n",
      "-log p(x) <= 159.860\n",
      "Epoch: 11\n",
      "600/600 [100%] ██████████████████████████████ Elapsed: 5s\n",
      "-log p(x) <= 159.619\n",
      "Epoch: 12\n",
      "600/600 [100%] ██████████████████████████████ Elapsed: 5s\n",
      "-log p(x) <= 159.390\n",
      "Epoch: 13\n",
      "600/600 [100%] ██████████████████████████████ Elapsed: 5s\n",
      "-log p(x) <= 159.176\n",
      "Epoch: 14\n",
      "600/600 [100%] ██████████████████████████████ Elapsed: 5s\n",
      "-log p(x) <= 158.970\n",
      "Epoch: 15\n",
      "600/600 [100%] ██████████████████████████████ Elapsed: 5s\n",
      "-log p(x) <= 158.848\n",
      "Epoch: 16\n",
      "600/600 [100%] ██████████████████████████████ Elapsed: 5s\n",
      "-log p(x) <= 158.741\n",
      "Epoch: 17\n",
      "600/600 [100%] ██████████████████████████████ Elapsed: 5s\n",
      "-log p(x) <= 158.588\n",
      "Epoch: 18\n",
      "600/600 [100%] ██████████████████████████████ Elapsed: 5s\n",
      "-log p(x) <= 158.391\n",
      "Epoch: 19\n",
      "600/600 [100%] ██████████████████████████████ Elapsed: 5s\n",
      "-log p(x) <= 158.289\n",
      "Epoch: 20\n",
      "600/600 [100%] ██████████████████████████████ Elapsed: 5s\n",
      "-log p(x) <= 158.218\n",
      "Epoch: 21\n",
      "600/600 [100%] ██████████████████████████████ Elapsed: 5s\n",
      "-log p(x) <= 158.075\n",
      "Epoch: 22\n",
      "600/600 [100%] ██████████████████████████████ Elapsed: 5s\n",
      "-log p(x) <= 158.093\n",
      "Epoch: 23\n",
      "600/600 [100%] ██████████████████████████████ Elapsed: 5s\n",
      "-log p(x) <= 157.969\n",
      "Epoch: 24\n",
      "600/600 [100%] ██████████████████████████████ Elapsed: 5s\n",
      "-log p(x) <= 157.880\n",
      "Epoch: 25\n",
      "600/600 [100%] ██████████████████████████████ Elapsed: 5s\n",
      "-log p(x) <= 157.955\n",
      "Epoch: 26\n",
      "600/600 [100%] ██████████████████████████████ Elapsed: 5s\n",
      "-log p(x) <= 157.793\n",
      "Epoch: 27\n",
      "600/600 [100%] ██████████████████████████████ Elapsed: 5s\n",
      "-log p(x) <= 157.719\n",
      "Epoch: 28\n",
      "600/600 [100%] ██████████████████████████████ Elapsed: 5s\n",
      "-log p(x) <= 157.653\n",
      "Epoch: 29\n",
      "600/600 [100%] ██████████████████████████████ Elapsed: 5s\n",
      "-log p(x) <= 157.730\n",
      "Epoch: 30\n",
      "600/600 [100%] ██████████████████████████████ Elapsed: 5s\n",
      "-log p(x) <= 157.597\n",
      "Epoch: 31\n",
      "600/600 [100%] ██████████████████████████████ Elapsed: 5s\n",
      "-log p(x) <= 157.566\n",
      "Epoch: 32\n",
      "600/600 [100%] ██████████████████████████████ Elapsed: 5s\n",
      "-log p(x) <= 157.529\n",
      "Epoch: 33\n",
      "600/600 [100%] ██████████████████████████████ Elapsed: 5s\n",
      "-log p(x) <= 157.431\n",
      "Epoch: 34\n",
      "600/600 [100%] ██████████████████████████████ Elapsed: 5s\n",
      "-log p(x) <= 157.440\n",
      "Epoch: 35\n",
      "600/600 [100%] ██████████████████████████████ Elapsed: 5s\n",
      "-log p(x) <= 157.513\n",
      "Epoch: 36\n",
      "600/600 [100%] ██████████████████████████████ Elapsed: 5s\n",
      "-log p(x) <= 157.412\n",
      "Epoch: 37\n",
      "600/600 [100%] ██████████████████████████████ Elapsed: 5s\n",
      "-log p(x) <= 157.360\n",
      "Epoch: 38\n",
      "600/600 [100%] ██████████████████████████████ Elapsed: 5s\n",
      "-log p(x) <= 157.316\n",
      "Epoch: 39\n",
      "600/600 [100%] ██████████████████████████████ Elapsed: 5s\n",
      "-log p(x) <= 157.293\n",
      "Epoch: 40\n",
      "600/600 [100%] ██████████████████████████████ Elapsed: 5s\n",
      "-log p(x) <= 157.284\n",
      "Epoch: 41\n",
      "600/600 [100%] ██████████████████████████████ Elapsed: 5s\n",
      "-log p(x) <= 157.194\n",
      "Epoch: 42\n",
      "600/600 [100%] ██████████████████████████████ Elapsed: 5s\n",
      "-log p(x) <= 157.262\n",
      "Epoch: 43\n",
      "600/600 [100%] ██████████████████████████████ Elapsed: 5s\n",
      "-log p(x) <= 157.174\n",
      "Epoch: 44\n",
      "600/600 [100%] ██████████████████████████████ Elapsed: 5s\n",
      "-log p(x) <= 157.142\n",
      "Epoch: 45\n",
      "600/600 [100%] ██████████████████████████████ Elapsed: 5s\n",
      "-log p(x) <= 157.177\n",
      "Epoch: 46\n",
      "600/600 [100%] ██████████████████████████████ Elapsed: 5s\n",
      "-log p(x) <= 157.137\n",
      "Epoch: 47\n",
      "600/600 [100%] ██████████████████████████████ Elapsed: 5s\n",
      "-log p(x) <= 157.091\n",
      "Epoch: 48\n",
      "600/600 [100%] ██████████████████████████████ Elapsed: 5s\n",
      "-log p(x) <= 157.030\n",
      "Epoch: 49\n",
      "600/600 [100%] ██████████████████████████████ Elapsed: 5s\n",
      "-log p(x) <= 156.881\n",
      "Epoch: 50\n",
      "600/600 [100%] ██████████████████████████████ Elapsed: 5s\n",
      "-log p(x) <= 157.069\n",
      "Epoch: 51\n",
      "600/600 [100%] ██████████████████████████████ Elapsed: 5s\n",
      "-log p(x) <= 156.874\n",
      "Epoch: 52\n",
      "600/600 [100%] ██████████████████████████████ Elapsed: 5s\n",
      "-log p(x) <= 156.989\n",
      "Epoch: 53\n",
      "600/600 [100%] ██████████████████████████████ Elapsed: 5s\n",
      "-log p(x) <= 156.998\n",
      "Epoch: 54\n",
      "600/600 [100%] ██████████████████████████████ Elapsed: 5s\n",
      "-log p(x) <= 156.961\n",
      "Epoch: 55\n",
      "600/600 [100%] ██████████████████████████████ Elapsed: 5s\n",
      "-log p(x) <= 156.924\n",
      "Epoch: 56\n",
      "600/600 [100%] ██████████████████████████████ Elapsed: 5s\n",
      "-log p(x) <= 156.900\n",
      "Epoch: 57\n",
      "600/600 [100%] ██████████████████████████████ Elapsed: 5s\n",
      "-log p(x) <= 156.862\n",
      "Epoch: 58\n",
      "600/600 [100%] ██████████████████████████████ ETA: 0 Elapsed: 5s\n",
      "-log p(x) <= 156.818\n",
      "Epoch: 59\n",
      "600/600 [100%] ██████████████████████████████ Elapsed: 5s\n",
      "-log p(x) <= 156.835\n",
      "Epoch: 60\n",
      "600/600 [100%] ██████████████████████████████ Elapsed: 5s\n",
      "-log p(x) <= 156.845\n",
      "Epoch: 61\n",
      "600/600 [100%] ██████████████████████████████ Elapsed: 5s\n",
      "-log p(x) <= 156.828\n",
      "Epoch: 62\n",
      "600/600 [100%] ██████████████████████████████ Elapsed: 5s\n",
      "-log p(x) <= 156.808\n",
      "Epoch: 63\n",
      "600/600 [100%] ██████████████████████████████ Elapsed: 5s\n",
      "-log p(x) <= 156.820\n",
      "Epoch: 64\n",
      "600/600 [100%] ██████████████████████████████ Elapsed: 5s\n",
      "-log p(x) <= 156.787\n",
      "Epoch: 65\n",
      "600/600 [100%] ██████████████████████████████ Elapsed: 5s\n",
      "-log p(x) <= 156.601\n",
      "Epoch: 66\n",
      "600/600 [100%] ██████████████████████████████ Elapsed: 5s\n",
      "-log p(x) <= 156.737\n",
      "Epoch: 67\n",
      "600/600 [100%] ██████████████████████████████ Elapsed: 5s\n",
      "-log p(x) <= 156.740\n",
      "Epoch: 68\n",
      "600/600 [100%] ██████████████████████████████ Elapsed: 5s\n",
      "-log p(x) <= 156.754\n",
      "Epoch: 69\n",
      "600/600 [100%] ██████████████████████████████ Elapsed: 5s\n",
      "-log p(x) <= 156.788\n",
      "Epoch: 70\n",
      "600/600 [100%] ██████████████████████████████ Elapsed: 5s\n",
      "-log p(x) <= 156.752\n",
      "Epoch: 71\n",
      "600/600 [100%] ██████████████████████████████ Elapsed: 5s\n",
      "-log p(x) <= 156.720\n",
      "Epoch: 72\n",
      "600/600 [100%] ██████████████████████████████ Elapsed: 5s\n",
      "-log p(x) <= 156.740\n",
      "Epoch: 73\n",
      "600/600 [100%] ██████████████████████████████ Elapsed: 5s\n",
      "-log p(x) <= 156.668\n",
      "Epoch: 74\n",
      "600/600 [100%] ██████████████████████████████ Elapsed: 5s\n",
      "-log p(x) <= 156.731\n",
      "Epoch: 75\n",
      "600/600 [100%] ██████████████████████████████ Elapsed: 5s\n",
      "-log p(x) <= 156.672\n",
      "Epoch: 76\n",
      "600/600 [100%] ██████████████████████████████ Elapsed: 5s\n",
      "-log p(x) <= 156.651\n",
      "Epoch: 77\n",
      "600/600 [100%] ██████████████████████████████ Elapsed: 5s\n",
      "-log p(x) <= 156.656\n",
      "Epoch: 78\n",
      "600/600 [100%] ██████████████████████████████ Elapsed: 5s\n",
      "-log p(x) <= 156.623\n",
      "Epoch: 79\n",
      "600/600 [100%] ██████████████████████████████ Elapsed: 5s\n",
      "-log p(x) <= 156.643\n",
      "Epoch: 80\n",
      "600/600 [100%] ██████████████████████████████ Elapsed: 5s\n",
      "-log p(x) <= 156.604\n",
      "Epoch: 81\n",
      "600/600 [100%] ██████████████████████████████ Elapsed: 5s\n",
      "-log p(x) <= 156.596\n",
      "Epoch: 82\n",
      "600/600 [100%] ██████████████████████████████ Elapsed: 5s\n",
      "-log p(x) <= 156.515\n",
      "Epoch: 83\n",
      "600/600 [100%] ██████████████████████████████ Elapsed: 5s\n",
      "-log p(x) <= 156.537\n",
      "Epoch: 84\n",
      "600/600 [100%] ██████████████████████████████ Elapsed: 5s\n",
      "-log p(x) <= 156.518\n",
      "Epoch: 85\n",
      "600/600 [100%] ██████████████████████████████ Elapsed: 5s\n",
      "-log p(x) <= 156.653\n",
      "Epoch: 86\n",
      "600/600 [100%] ██████████████████████████████ Elapsed: 5s\n",
      "-log p(x) <= 156.552\n",
      "Epoch: 87\n",
      "600/600 [100%] ██████████████████████████████ Elapsed: 5s\n",
      "-log p(x) <= 156.485\n",
      "Epoch: 88\n",
      "600/600 [100%] ██████████████████████████████ Elapsed: 5s\n",
      "-log p(x) <= 156.500\n",
      "Epoch: 89\n",
      "600/600 [100%] ██████████████████████████████ Elapsed: 5s\n",
      "-log p(x) <= 156.646\n",
      "Epoch: 90\n",
      "600/600 [100%] ██████████████████████████████ Elapsed: 5s\n",
      "-log p(x) <= 156.506\n",
      "Epoch: 91\n",
      "600/600 [100%] ██████████████████████████████ Elapsed: 5s\n",
      "-log p(x) <= 156.447\n",
      "Epoch: 92\n",
      "600/600 [100%] ██████████████████████████████ Elapsed: 5s\n",
      "-log p(x) <= 156.498\n",
      "Epoch: 93\n",
      "600/600 [100%] ██████████████████████████████ Elapsed: 5s\n",
      "-log p(x) <= 156.504\n",
      "Epoch: 94\n"
     ]
    },
    {
     "name": "stdout",
     "output_type": "stream",
     "text": [
      "600/600 [100%] ██████████████████████████████ Elapsed: 5s\n",
      "-log p(x) <= 156.463\n",
      "Epoch: 95\n",
      "600/600 [100%] ██████████████████████████████ Elapsed: 5s\n",
      "-log p(x) <= 156.457\n",
      "Epoch: 96\n",
      "600/600 [100%] ██████████████████████████████ Elapsed: 5s\n",
      "-log p(x) <= 156.400\n",
      "Epoch: 97\n",
      "600/600 [100%] ██████████████████████████████ Elapsed: 5s\n",
      "-log p(x) <= 156.435\n",
      "Epoch: 98\n",
      "600/600 [100%] ██████████████████████████████ Elapsed: 5s\n",
      "-log p(x) <= 156.501\n",
      "Epoch: 99\n",
      "600/600 [100%] ██████████████████████████████ Elapsed: 5s\n",
      "-log p(x) <= 156.356\n",
      "Epoch: 100\n",
      "600/600 [100%] ██████████████████████████████ Elapsed: 5s\n",
      "-log p(x) <= 156.311\n"
     ]
    }
   ],
   "source": [
    "tf.global_variables_initializer().run()\n",
    "\n",
    "n_epoch = 100\n",
    "n_iter_per_epoch = x_train.shape[0] // M\n",
    "for epoch in range(1, n_epoch + 1):\n",
    "    print(\"Epoch: {0}\".format(epoch))\n",
    "    avg_loss = 0.0\n",
    "\n",
    "    pbar = Progbar(n_iter_per_epoch)\n",
    "    for t in range(1, n_iter_per_epoch + 1):\n",
    "        pbar.update(t)\n",
    "        x_batch = next(x_train_generator)\n",
    "        info_dict = inference.update(feed_dict={x_ph: x_batch})\n",
    "        avg_loss += info_dict['loss']\n",
    "\n",
    "  # Print a lower bound to the average marginal likelihood for an\n",
    "  # image.\n",
    "    avg_loss = avg_loss / n_iter_per_epoch\n",
    "    avg_loss = avg_loss / M\n",
    "    print(\"-log p(x) <= {:0.3f}\".format(avg_loss))\n",
    "\n",
    "    # Prior predictive check.\n",
    "    images = x.eval()\n",
    "    for m in range(M):\n",
    "        imsave(os.path.join(out_dir, '%d.png') % m, images[m].reshape(28, 28))"
   ]
  },
  {
   "cell_type": "code",
   "execution_count": 9,
   "metadata": {},
   "outputs": [],
   "source": [
    "import matplotlib.pylab as plt"
   ]
  },
  {
   "cell_type": "code",
   "execution_count": 10,
   "metadata": {},
   "outputs": [],
   "source": [
    "%matplotlib inline"
   ]
  },
  {
   "cell_type": "code",
   "execution_count": 24,
   "metadata": {},
   "outputs": [],
   "source": [
    "ztmp= z.eval()"
   ]
  },
  {
   "cell_type": "code",
   "execution_count": 25,
   "metadata": {
    "scrolled": true
   },
   "outputs": [
    {
     "data": {
      "text/plain": [
       "array([[ 1.25764418,  0.55881143],\n",
       "       [-0.47397289, -0.46549419],\n",
       "       [-0.58471507, -1.46990907],\n",
       "       [ 0.00755164,  0.16298994],\n",
       "       [-0.03434385, -0.04578157],\n",
       "       [-0.75007969, -0.32772046],\n",
       "       [-0.87311888, -1.33670914],\n",
       "       [ 0.1462032 ,  1.70584118],\n",
       "       [-0.26507387,  0.24584369],\n",
       "       [-1.45648181, -1.09543467],\n",
       "       [-0.30748132,  2.39312768],\n",
       "       [-2.37648988, -0.07302701],\n",
       "       [-0.52727735, -0.75984204],\n",
       "       [-1.49419689, -0.41530433],\n",
       "       [ 1.98378146,  1.11680591],\n",
       "       [ 0.53445488,  0.6692555 ],\n",
       "       [-0.1641655 ,  0.71742064],\n",
       "       [ 0.48056072,  0.89510924],\n",
       "       [ 1.4921124 , -2.20925307],\n",
       "       [ 1.9442544 , -0.48600927],\n",
       "       [-0.87354106, -0.75340205],\n",
       "       [-0.34001321, -0.66593635],\n",
       "       [-1.11166251,  0.19331115],\n",
       "       [-0.41793761, -2.99240923],\n",
       "       [ 1.36540246, -0.32365903],\n",
       "       [-0.67081714,  0.83552039],\n",
       "       [-0.63153076,  0.30917069],\n",
       "       [-1.1177237 , -1.80079269],\n",
       "       [ 0.49905485, -1.02800167],\n",
       "       [ 0.5113526 ,  1.60167825],\n",
       "       [ 0.72799379,  0.33307099],\n",
       "       [-1.25256848,  0.12326749],\n",
       "       [-1.14354169,  0.31148842],\n",
       "       [ 0.64194566,  0.91779548],\n",
       "       [-0.55383873,  0.26841411],\n",
       "       [-0.72649151,  0.0767555 ],\n",
       "       [ 1.08578324, -0.51286548],\n",
       "       [-0.17492932, -0.79054093],\n",
       "       [-0.24909703,  0.46763748],\n",
       "       [-0.6399647 , -0.30927426],\n",
       "       [ 0.46796736, -0.83992004],\n",
       "       [ 0.83855623, -0.21863438],\n",
       "       [-1.33548284,  0.09615425],\n",
       "       [-0.14061621, -1.34846568],\n",
       "       [-0.52404124,  1.19180954],\n",
       "       [ 0.0588304 ,  0.89443052],\n",
       "       [-0.0419485 , -0.41136584],\n",
       "       [ 0.81301349, -0.19272876],\n",
       "       [-1.1711874 ,  0.11573287],\n",
       "       [ 0.48218703,  0.25363147],\n",
       "       [-0.2284949 , -1.22687554],\n",
       "       [ 2.74159598, -0.08151893],\n",
       "       [ 0.37056488, -0.92914706],\n",
       "       [ 1.00063682,  0.15816019],\n",
       "       [-0.78373951, -0.37440673],\n",
       "       [ 0.75679791, -0.67203408],\n",
       "       [-0.58845931, -0.39936528],\n",
       "       [ 1.9524616 ,  2.60863853],\n",
       "       [-0.53200442, -0.91931027],\n",
       "       [ 1.21373868,  0.32076034],\n",
       "       [-0.4736802 ,  0.32140169],\n",
       "       [-0.56573933, -0.2386644 ],\n",
       "       [ 1.45412827, -0.88250327],\n",
       "       [ 0.05974649,  0.28050369],\n",
       "       [ 1.69708776, -0.63471282],\n",
       "       [ 0.65449405,  0.64896417],\n",
       "       [-0.27808946,  0.15651986],\n",
       "       [ 1.06839657,  0.59743607],\n",
       "       [-0.98154026, -0.66833186],\n",
       "       [-1.0460043 , -1.9034431 ],\n",
       "       [-1.42283094, -0.79515105],\n",
       "       [-0.51955789, -0.32254538],\n",
       "       [-0.83657229,  0.62555039],\n",
       "       [ 0.28373221, -0.74242234],\n",
       "       [ 0.63918209,  0.65588588],\n",
       "       [ 1.56665742,  1.06515944],\n",
       "       [-1.20368993, -1.50766766],\n",
       "       [ 0.85106677,  0.03773876],\n",
       "       [ 0.87753147, -1.17062426],\n",
       "       [ 0.16456622, -0.16201653],\n",
       "       [-0.06477588,  0.3181062 ],\n",
       "       [ 0.95510006,  2.47225285],\n",
       "       [ 0.63646728,  0.38490349],\n",
       "       [ 1.48990309, -1.2482245 ],\n",
       "       [ 0.86070299, -0.31450704],\n",
       "       [-0.73836309,  0.28827855],\n",
       "       [-0.32918897,  1.33013391],\n",
       "       [ 0.84615588, -0.15929408],\n",
       "       [ 1.03898656, -0.19935063],\n",
       "       [-0.148941  ,  2.29716682],\n",
       "       [-2.20647335,  0.06652521],\n",
       "       [-1.11352372, -0.02910958],\n",
       "       [-1.41030419, -1.0088259 ],\n",
       "       [-0.37016854, -0.62478572],\n",
       "       [ 2.1384604 , -0.31550846],\n",
       "       [-1.12547565,  0.23282251],\n",
       "       [-0.24738076,  0.1837236 ],\n",
       "       [-1.30591631,  0.48739198],\n",
       "       [-0.33484292,  1.11710596],\n",
       "       [ 1.64482033, -0.85375029]], dtype=float32)"
      ]
     },
     "execution_count": 25,
     "metadata": {},
     "output_type": "execute_result"
    }
   ],
   "source": [
    "ztmp"
   ]
  },
  {
   "cell_type": "code",
   "execution_count": 26,
   "metadata": {},
   "outputs": [
    {
     "data": {
      "text/plain": [
       "(array([  1.,   1.,   2.,   4.,  11.,  15.,  18.,  24.,  10.,   7.,   3.,\n",
       "          0.,   4.]),\n",
       " array([-2.99240923, -2.5615594 , -2.13070957, -1.69985975, -1.26900992,\n",
       "        -0.83816009, -0.40731027,  0.02353956,  0.45438939,  0.88523922,\n",
       "         1.31608904,  1.74693887,  2.1777887 ,  2.60863853]),\n",
       " <a list of 13 Patch objects>)"
      ]
     },
     "execution_count": 26,
     "metadata": {},
     "output_type": "execute_result"
    },
    {
     "data": {
      "image/png": "[encoded data removed]",
      "text/plain": [
       "<matplotlib.figure.Figure at 0x7f96608e2450>"
      ]
     },
     "metadata": {},
     "output_type": "display_data"
    }
   ],
   "source": [
    "plt.hist(ztmp[:,0],'auto')\n",
    "plt.hist(ztmp[:,1],'auto')"
   ]
  },
  {
   "cell_type": "code",
   "execution_count": 31,
   "metadata": {},
   "outputs": [
    {
     "data": {
      "text/plain": [
       "True"
      ]
     },
     "execution_count": 31,
     "metadata": {},
     "output_type": "execute_result"
    }
   ],
   "source": [
    "x.get_ancestors()[0] is z"
   ]
  },
  {
   "cell_type": "code",
   "execution_count": 60,
   "metadata": {},
   "outputs": [],
   "source": [
    "?ed.copy"
   ]
  },
  {
   "cell_type": "code",
   "execution_count": 61,
   "metadata": {},
   "outputs": [
    {
     "data": {
      "text/plain": [
       "[<tf.Variable 'dense_2/bias:0' shape=(784,) dtype=float32_ref>,\n",
       " <tf.Variable 'dense_1/bias:0' shape=(256,) dtype=float32_ref>,\n",
       " <tf.Variable 'dense_1/kernel:0' shape=(2, 256) dtype=float32_ref>,\n",
       " <tf.Variable 'dense_2/kernel:0' shape=(256, 784) dtype=float32_ref>]"
      ]
     },
     "execution_count": 61,
     "metadata": {},
     "output_type": "execute_result"
    }
   ],
   "source": [
    "x.get_variables()"
   ]
  },
  {
   "cell_type": "code",
   "execution_count": 55,
   "metadata": {},
   "outputs": [],
   "source": [
    "xtmp = ed.copy(x, {z:ztmp})"
   ]
  },
  {
   "cell_type": "code",
   "execution_count": 56,
   "metadata": {},
   "outputs": [],
   "source": [
    "init_new_vars_op = tf.variables_initializer(xtmp.get_variables())"
   ]
  },
  {
   "cell_type": "code",
   "execution_count": 59,
   "metadata": {
    "scrolled": false
   },
   "outputs": [
    {
     "ename": "FailedPreconditionError",
     "evalue": "Attempting to use uninitialized value dense_1/bias\n\t [[Node: dense_1/bias/read = Identity[T=DT_FLOAT, _class=[\"loc:@dense_1/bias\"], _device=\"/job:localhost/replica:0/task:0/device:CPU:0\"](dense_1/bias)]]\n\nCaused by op u'dense_1/bias/read', defined at:\n  File \"/usr/lib/python2.7/runpy.py\", line 174, in _run_module_as_main\n    \"__main__\", fname, loader, pkg_name)\n  File \"/usr/lib/python2.7/runpy.py\", line 72, in _run_code\n    exec code in run_globals\n  File \"/usr/local/lib/python2.7/dist-packages/ipykernel/__main__.py\", line 3, in <module>\n    app.launch_new_instance()\n  File \"/usr/local/lib/python2.7/dist-packages/traitlets/config/application.py\", line 658, in launch_instance\n    app.start()\n  File \"/usr/local/lib/python2.7/dist-packages/ipykernel/kernelapp.py\", line 474, in start\n    ioloop.IOLoop.instance().start()\n  File \"/usr/local/lib/python2.7/dist-packages/zmq/eventloop/ioloop.py\", line 177, in start\n    super(ZMQIOLoop, self).start()\n  File \"/usr/local/lib/python2.7/dist-packages/tornado/ioloop.py\", line 887, in start\n    handler_func(fd_obj, events)\n  File \"/usr/local/lib/python2.7/dist-packages/tornado/stack_context.py\", line 275, in null_wrapper\n    return fn(*args, **kwargs)\n  File \"/usr/local/lib/python2.7/dist-packages/zmq/eventloop/zmqstream.py\", line 440, in _handle_events\n    self._handle_recv()\n  File \"/usr/local/lib/python2.7/dist-packages/zmq/eventloop/zmqstream.py\", line 472, in _handle_recv\n    self._run_callback(callback, msg)\n  File \"/usr/local/lib/python2.7/dist-packages/zmq/eventloop/zmqstream.py\", line 414, in _run_callback\n    callback(*args, **kwargs)\n  File \"/usr/local/lib/python2.7/dist-packages/tornado/stack_context.py\", line 275, in null_wrapper\n    return fn(*args, **kwargs)\n  File \"/usr/local/lib/python2.7/dist-packages/ipykernel/kernelbase.py\", line 276, in dispatcher\n    return self.dispatch_shell(stream, msg)\n  File \"/usr/local/lib/python2.7/dist-packages/ipykernel/kernelbase.py\", line 228, in dispatch_shell\n    handler(stream, idents, msg)\n  File \"/usr/local/lib/python2.7/dist-packages/ipykernel/kernelbase.py\", line 390, in execute_request\n    user_expressions, allow_stdin)\n  File \"/usr/local/lib/python2.7/dist-packages/ipykernel/ipkernel.py\", line 196, in do_execute\n    res = shell.run_cell(code, store_history=store_history, silent=silent)\n  File \"/usr/local/lib/python2.7/dist-packages/ipykernel/zmqshell.py\", line 501, in run_cell\n    return super(ZMQInteractiveShell, self).run_cell(*args, **kwargs)\n  File \"/usr/local/lib/python2.7/dist-packages/IPython/core/interactiveshell.py\", line 2717, in run_cell\n    interactivity=interactivity, compiler=compiler, result=result)\n  File \"/usr/local/lib/python2.7/dist-packages/IPython/core/interactiveshell.py\", line 2821, in run_ast_nodes\n    if self.run_code(code, result):\n  File \"/usr/local/lib/python2.7/dist-packages/IPython/core/interactiveshell.py\", line 2881, in run_code\n    exec(code_obj, self.user_global_ns, self.user_ns)\n  File \"<ipython-input-5-9b9fd99eddd7>\", line 5, in <module>\n    hidden = Dense(256, activation='relu')(z.value())\n  File \"/usr/local/lib/python2.7/dist-packages/keras/engine/topology.py\", line 576, in __call__\n    self.build(input_shapes[0])\n  File \"/usr/local/lib/python2.7/dist-packages/keras/layers/core.py\", line 836, in build\n    constraint=self.bias_constraint)\n  File \"/usr/local/lib/python2.7/dist-packages/keras/legacy/interfaces.py\", line 87, in wrapper\n    return func(*args, **kwargs)\n  File \"/usr/local/lib/python2.7/dist-packages/keras/engine/topology.py\", line 400, in add_weight\n    constraint=constraint)\n  File \"/usr/local/lib/python2.7/dist-packages/keras/backend/tensorflow_backend.py\", line 380, in variable\n    v = tf.Variable(value, dtype=tf.as_dtype(dtype), name=name)\n  File \"/usr/local/lib/python2.7/dist-packages/tensorflow/python/ops/variables.py\", line 213, in __init__\n    constraint=constraint)\n  File \"/usr/local/lib/python2.7/dist-packages/tensorflow/python/ops/variables.py\", line 356, in _init_from_args\n    self._snapshot = array_ops.identity(self._variable, name=\"read\")\n  File \"/usr/local/lib/python2.7/dist-packages/tensorflow/python/ops/array_ops.py\", line 125, in identity\n    return gen_array_ops.identity(input, name=name)\n  File \"/usr/local/lib/python2.7/dist-packages/tensorflow/python/ops/gen_array_ops.py\", line 2071, in identity\n    \"Identity\", input=input, name=name)\n  File \"/usr/local/lib/python2.7/dist-packages/tensorflow/python/framework/op_def_library.py\", line 787, in _apply_op_helper\n    op_def=op_def)\n  File \"/usr/local/lib/python2.7/dist-packages/tensorflow/python/framework/ops.py\", line 2956, in create_op\n    op_def=op_def)\n  File \"/usr/local/lib/python2.7/dist-packages/tensorflow/python/framework/ops.py\", line 1470, in __init__\n    self._traceback = self._graph._extract_stack()  # pylint: disable=protected-access\n\nFailedPreconditionError (see above for traceback): Attempting to use uninitialized value dense_1/bias\n\t [[Node: dense_1/bias/read = Identity[T=DT_FLOAT, _class=[\"loc:@dense_1/bias\"], _device=\"/job:localhost/replica:0/task:0/device:CPU:0\"](dense_1/bias)]]\n",
     "output_type": "error",
     "traceback": [
      "\u001b[0;31m---------------------------------------------------------------------------\u001b[0m",
      "\u001b[0;31mFailedPreconditionError\u001b[0m                   Traceback (most recent call last)",
      "\u001b[0;32m<ipython-input-59-eb22ebcc0863>\u001b[0m in \u001b[0;36m<module>\u001b[0;34m()\u001b[0m\n\u001b[1;32m      1\u001b[0m \u001b[0msess\u001b[0m \u001b[0;34m=\u001b[0m \u001b[0mtf\u001b[0m\u001b[0;34m.\u001b[0m\u001b[0mSession\u001b[0m\u001b[0;34m(\u001b[0m\u001b[0;34m)\u001b[0m\u001b[0;34m\u001b[0m\u001b[0m\n\u001b[1;32m      2\u001b[0m \u001b[0;31m#sess.run(init_new_vars_op)\u001b[0m\u001b[0;34m\u001b[0m\u001b[0;34m\u001b[0m\u001b[0m\n\u001b[0;32m----> 3\u001b[0;31m \u001b[0mtmp\u001b[0m \u001b[0;34m=\u001b[0m \u001b[0msess\u001b[0m\u001b[0;34m.\u001b[0m\u001b[0mrun\u001b[0m\u001b[0;34m(\u001b[0m\u001b[0mxtmp\u001b[0m\u001b[0;34m.\u001b[0m\u001b[0mvalue\u001b[0m\u001b[0;34m(\u001b[0m\u001b[0;34m)\u001b[0m\u001b[0;34m)\u001b[0m\u001b[0;34m\u001b[0m\u001b[0m\n\u001b[0m",
      "\u001b[0;32m/usr/local/lib/python2.7/dist-packages/tensorflow/python/client/session.pyc\u001b[0m in \u001b[0;36mrun\u001b[0;34m(self, fetches, feed_dict, options, run_metadata)\u001b[0m\n\u001b[1;32m    887\u001b[0m     \u001b[0;32mtry\u001b[0m\u001b[0;34m:\u001b[0m\u001b[0;34m\u001b[0m\u001b[0m\n\u001b[1;32m    888\u001b[0m       result = self._run(None, fetches, feed_dict, options_ptr,\n\u001b[0;32m--> 889\u001b[0;31m                          run_metadata_ptr)\n\u001b[0m\u001b[1;32m    890\u001b[0m       \u001b[0;32mif\u001b[0m \u001b[0mrun_metadata\u001b[0m\u001b[0;34m:\u001b[0m\u001b[0;34m\u001b[0m\u001b[0m\n\u001b[1;32m    891\u001b[0m         \u001b[0mproto_data\u001b[0m \u001b[0;34m=\u001b[0m \u001b[0mtf_session\u001b[0m\u001b[0;34m.\u001b[0m\u001b[0mTF_GetBuffer\u001b[0m\u001b[0;34m(\u001b[0m\u001b[0mrun_metadata_ptr\u001b[0m\u001b[0;34m)\u001b[0m\u001b[0;34m\u001b[0m\u001b[0m\n",
      "\u001b[0;32m/usr/local/lib/python2.7/dist-packages/tensorflow/python/client/session.pyc\u001b[0m in \u001b[0;36m_run\u001b[0;34m(self, handle, fetches, feed_dict, options, run_metadata)\u001b[0m\n\u001b[1;32m   1118\u001b[0m     \u001b[0;32mif\u001b[0m \u001b[0mfinal_fetches\u001b[0m \u001b[0;32mor\u001b[0m \u001b[0mfinal_targets\u001b[0m \u001b[0;32mor\u001b[0m \u001b[0;34m(\u001b[0m\u001b[0mhandle\u001b[0m \u001b[0;32mand\u001b[0m \u001b[0mfeed_dict_tensor\u001b[0m\u001b[0;34m)\u001b[0m\u001b[0;34m:\u001b[0m\u001b[0;34m\u001b[0m\u001b[0m\n\u001b[1;32m   1119\u001b[0m       results = self._do_run(handle, final_targets, final_fetches,\n\u001b[0;32m-> 1120\u001b[0;31m                              feed_dict_tensor, options, run_metadata)\n\u001b[0m\u001b[1;32m   1121\u001b[0m     \u001b[0;32melse\u001b[0m\u001b[0;34m:\u001b[0m\u001b[0;34m\u001b[0m\u001b[0m\n\u001b[1;32m   1122\u001b[0m       \u001b[0mresults\u001b[0m \u001b[0;34m=\u001b[0m \u001b[0;34m[\u001b[0m\u001b[0;34m]\u001b[0m\u001b[0;34m\u001b[0m\u001b[0m\n",
      "\u001b[0;32m/usr/local/lib/python2.7/dist-packages/tensorflow/python/client/session.pyc\u001b[0m in \u001b[0;36m_do_run\u001b[0;34m(self, handle, target_list, fetch_list, feed_dict, options, run_metadata)\u001b[0m\n\u001b[1;32m   1315\u001b[0m     \u001b[0;32mif\u001b[0m \u001b[0mhandle\u001b[0m \u001b[0;32mis\u001b[0m \u001b[0mNone\u001b[0m\u001b[0;34m:\u001b[0m\u001b[0;34m\u001b[0m\u001b[0m\n\u001b[1;32m   1316\u001b[0m       return self._do_call(_run_fn, self._session, feeds, fetches, targets,\n\u001b[0;32m-> 1317\u001b[0;31m                            options, run_metadata)\n\u001b[0m\u001b[1;32m   1318\u001b[0m     \u001b[0;32melse\u001b[0m\u001b[0;34m:\u001b[0m\u001b[0;34m\u001b[0m\u001b[0m\n\u001b[1;32m   1319\u001b[0m       \u001b[0;32mreturn\u001b[0m \u001b[0mself\u001b[0m\u001b[0;34m.\u001b[0m\u001b[0m_do_call\u001b[0m\u001b[0;34m(\u001b[0m\u001b[0m_prun_fn\u001b[0m\u001b[0;34m,\u001b[0m \u001b[0mself\u001b[0m\u001b[0;34m.\u001b[0m\u001b[0m_session\u001b[0m\u001b[0;34m,\u001b[0m \u001b[0mhandle\u001b[0m\u001b[0;34m,\u001b[0m \u001b[0mfeeds\u001b[0m\u001b[0;34m,\u001b[0m \u001b[0mfetches\u001b[0m\u001b[0;34m)\u001b[0m\u001b[0;34m\u001b[0m\u001b[0m\n",
      "\u001b[0;32m/usr/local/lib/python2.7/dist-packages/tensorflow/python/client/session.pyc\u001b[0m in \u001b[0;36m_do_call\u001b[0;34m(self, fn, *args)\u001b[0m\n\u001b[1;32m   1334\u001b[0m         \u001b[0;32mexcept\u001b[0m \u001b[0mKeyError\u001b[0m\u001b[0;34m:\u001b[0m\u001b[0;34m\u001b[0m\u001b[0m\n\u001b[1;32m   1335\u001b[0m           \u001b[0;32mpass\u001b[0m\u001b[0;34m\u001b[0m\u001b[0m\n\u001b[0;32m-> 1336\u001b[0;31m       \u001b[0;32mraise\u001b[0m \u001b[0mtype\u001b[0m\u001b[0;34m(\u001b[0m\u001b[0me\u001b[0m\u001b[0;34m)\u001b[0m\u001b[0;34m(\u001b[0m\u001b[0mnode_def\u001b[0m\u001b[0;34m,\u001b[0m \u001b[0mop\u001b[0m\u001b[0;34m,\u001b[0m \u001b[0mmessage\u001b[0m\u001b[0;34m)\u001b[0m\u001b[0;34m\u001b[0m\u001b[0m\n\u001b[0m\u001b[1;32m   1337\u001b[0m \u001b[0;34m\u001b[0m\u001b[0m\n\u001b[1;32m   1338\u001b[0m   \u001b[0;32mdef\u001b[0m \u001b[0m_extend_graph\u001b[0m\u001b[0;34m(\u001b[0m\u001b[0mself\u001b[0m\u001b[0;34m)\u001b[0m\u001b[0;34m:\u001b[0m\u001b[0;34m\u001b[0m\u001b[0m\n",
      "\u001b[0;31mFailedPreconditionError\u001b[0m: Attempting to use uninitialized value dense_1/bias\n\t [[Node: dense_1/bias/read = Identity[T=DT_FLOAT, _class=[\"loc:@dense_1/bias\"], _device=\"/job:localhost/replica:0/task:0/device:CPU:0\"](dense_1/bias)]]\n\nCaused by op u'dense_1/bias/read', defined at:\n  File \"/usr/lib/python2.7/runpy.py\", line 174, in _run_module_as_main\n    \"__main__\", fname, loader, pkg_name)\n  File \"/usr/lib/python2.7/runpy.py\", line 72, in _run_code\n    exec code in run_globals\n  File \"/usr/local/lib/python2.7/dist-packages/ipykernel/__main__.py\", line 3, in <module>\n    app.launch_new_instance()\n  File \"/usr/local/lib/python2.7/dist-packages/traitlets/config/application.py\", line 658, in launch_instance\n    app.start()\n  File \"/usr/local/lib/python2.7/dist-packages/ipykernel/kernelapp.py\", line 474, in start\n    ioloop.IOLoop.instance().start()\n  File \"/usr/local/lib/python2.7/dist-packages/zmq/eventloop/ioloop.py\", line 177, in start\n    super(ZMQIOLoop, self).start()\n  File \"/usr/local/lib/python2.7/dist-packages/tornado/ioloop.py\", line 887, in start\n    handler_func(fd_obj, events)\n  File \"/usr/local/lib/python2.7/dist-packages/tornado/stack_context.py\", line 275, in null_wrapper\n    return fn(*args, **kwargs)\n  File \"/usr/local/lib/python2.7/dist-packages/zmq/eventloop/zmqstream.py\", line 440, in _handle_events\n    self._handle_recv()\n  File \"/usr/local/lib/python2.7/dist-packages/zmq/eventloop/zmqstream.py\", line 472, in _handle_recv\n    self._run_callback(callback, msg)\n  File \"/usr/local/lib/python2.7/dist-packages/zmq/eventloop/zmqstream.py\", line 414, in _run_callback\n    callback(*args, **kwargs)\n  File \"/usr/local/lib/python2.7/dist-packages/tornado/stack_context.py\", line 275, in null_wrapper\n    return fn(*args, **kwargs)\n  File \"/usr/local/lib/python2.7/dist-packages/ipykernel/kernelbase.py\", line 276, in dispatcher\n    return self.dispatch_shell(stream, msg)\n  File \"/usr/local/lib/python2.7/dist-packages/ipykernel/kernelbase.py\", line 228, in dispatch_shell\n    handler(stream, idents, msg)\n  File \"/usr/local/lib/python2.7/dist-packages/ipykernel/kernelbase.py\", line 390, in execute_request\n    user_expressions, allow_stdin)\n  File \"/usr/local/lib/python2.7/dist-packages/ipykernel/ipkernel.py\", line 196, in do_execute\n    res = shell.run_cell(code, store_history=store_history, silent=silent)\n  File \"/usr/local/lib/python2.7/dist-packages/ipykernel/zmqshell.py\", line 501, in run_cell\n    return super(ZMQInteractiveShell, self).run_cell(*args, **kwargs)\n  File \"/usr/local/lib/python2.7/dist-packages/IPython/core/interactiveshell.py\", line 2717, in run_cell\n    interactivity=interactivity, compiler=compiler, result=result)\n  File \"/usr/local/lib/python2.7/dist-packages/IPython/core/interactiveshell.py\", line 2821, in run_ast_nodes\n    if self.run_code(code, result):\n  File \"/usr/local/lib/python2.7/dist-packages/IPython/core/interactiveshell.py\", line 2881, in run_code\n    exec(code_obj, self.user_global_ns, self.user_ns)\n  File \"<ipython-input-5-9b9fd99eddd7>\", line 5, in <module>\n    hidden = Dense(256, activation='relu')(z.value())\n  File \"/usr/local/lib/python2.7/dist-packages/keras/engine/topology.py\", line 576, in __call__\n    self.build(input_shapes[0])\n  File \"/usr/local/lib/python2.7/dist-packages/keras/layers/core.py\", line 836, in build\n    constraint=self.bias_constraint)\n  File \"/usr/local/lib/python2.7/dist-packages/keras/legacy/interfaces.py\", line 87, in wrapper\n    return func(*args, **kwargs)\n  File \"/usr/local/lib/python2.7/dist-packages/keras/engine/topology.py\", line 400, in add_weight\n    constraint=constraint)\n  File \"/usr/local/lib/python2.7/dist-packages/keras/backend/tensorflow_backend.py\", line 380, in variable\n    v = tf.Variable(value, dtype=tf.as_dtype(dtype), name=name)\n  File \"/usr/local/lib/python2.7/dist-packages/tensorflow/python/ops/variables.py\", line 213, in __init__\n    constraint=constraint)\n  File \"/usr/local/lib/python2.7/dist-packages/tensorflow/python/ops/variables.py\", line 356, in _init_from_args\n    self._snapshot = array_ops.identity(self._variable, name=\"read\")\n  File \"/usr/local/lib/python2.7/dist-packages/tensorflow/python/ops/array_ops.py\", line 125, in identity\n    return gen_array_ops.identity(input, name=name)\n  File \"/usr/local/lib/python2.7/dist-packages/tensorflow/python/ops/gen_array_ops.py\", line 2071, in identity\n    \"Identity\", input=input, name=name)\n  File \"/usr/local/lib/python2.7/dist-packages/tensorflow/python/framework/op_def_library.py\", line 787, in _apply_op_helper\n    op_def=op_def)\n  File \"/usr/local/lib/python2.7/dist-packages/tensorflow/python/framework/ops.py\", line 2956, in create_op\n    op_def=op_def)\n  File \"/usr/local/lib/python2.7/dist-packages/tensorflow/python/framework/ops.py\", line 1470, in __init__\n    self._traceback = self._graph._extract_stack()  # pylint: disable=protected-access\n\nFailedPreconditionError (see above for traceback): Attempting to use uninitialized value dense_1/bias\n\t [[Node: dense_1/bias/read = Identity[T=DT_FLOAT, _class=[\"loc:@dense_1/bias\"], _device=\"/job:localhost/replica:0/task:0/device:CPU:0\"](dense_1/bias)]]\n"
     ]
    }
   ],
   "source": [
    "sess = tf.Session()\n",
    "#sess.run(init_new_vars_op)\n",
    "tmp = sess.run(xtmp.value())"
   ]
  },
  {
   "cell_type": "code",
   "execution_count": 58,
   "metadata": {},
   "outputs": [
    {
     "data": {
      "image/png": "[encoded data removed]",
      "text/plain": [
       "<matplotlib.figure.Figure at 0x7f966016de10>"
      ]
     },
     "metadata": {},
     "output_type": "display_data"
    }
   ],
   "source": [
    "plt.figure(figsize=(10,10))\n",
    "for i in range(1,101):\n",
    "    ax = plt.subplot(10,10,i)\n",
    "    plt.imshow(tmp[i-1].reshape(28,28))\n",
    "    ax.set_xticklabels([])\n",
    "    ax.set_yticklabels([])"
   ]
  },
  {
   "cell_type": "code",
   "execution_count": 16,
   "metadata": {},
   "outputs": [
    {
     "data": {
      "text/plain": [
       "(array([  5.,   4.,   9.,  16.,  23.,  21.,  15.,   7.]),\n",
       " array([-2.47848031, -1.93655479, -1.39462927, -0.85270376, -0.31077824,\n",
       "         0.23114728,  0.7730728 ,  1.31499831,  1.85692383]),\n",
       " <a list of 8 Patch objects>)"
      ]
     },
     "execution_count": 16,
     "metadata": {},
     "output_type": "execute_result"
    },
    {
     "data": {
      "image/png": "[encoded data removed]",
      "text/plain": [
       "<matplotlib.figure.Figure at 0x7f9659d8ae90>"
      ]
     },
     "metadata": {},
     "output_type": "display_data"
    }
   ],
   "source": [
    "ztmp1 = np.random.normal(0,1,(100,2))\n",
    "ztmp1[:,0] *= 0.01\n",
    "ztmp1[:,0] += 2\n",
    "\n",
    "plt.hist(ztmp1[:,0],'auto')\n",
    "plt.hist(ztmp1[:,1],'auto')"
   ]
  },
  {
   "cell_type": "code",
   "execution_count": 17,
   "metadata": {},
   "outputs": [],
   "source": [
    "xtmp1 = ed.copy(x, {z:ztmp1})"
   ]
  },
  {
   "cell_type": "code",
   "execution_count": 18,
   "metadata": {},
   "outputs": [
    {
     "data": {
      "image/png": "[encoded data removed]",
      "text/plain": [
       "<matplotlib.figure.Figure at 0x7f9659dfb990>"
      ]
     },
     "metadata": {},
     "output_type": "display_data"
    }
   ],
   "source": [
    "plt.figure(figsize=(10,10))\n",
    "for i in range(1,101):\n",
    "    ax = plt.subplot(10,10,i)\n",
    "    plt.imshow(xtmp1.eval()[i-1].reshape(28,28))\n",
    "    ax.set_xticklabels([])\n",
    "    ax.set_yticklabels([])"
   ]
  },
  {
   "cell_type": "code",
   "execution_count": 19,
   "metadata": {},
   "outputs": [
    {
     "data": {
      "text/plain": [
       "(array([  1.,   1.,   8.,   9.,  12.,  23.,  22.,  14.,   6.,   4.]),\n",
       " array([ 1.97240827,  1.97720529,  1.9820023 ,  1.98679932,  1.99159634,\n",
       "         1.99639335,  2.00119037,  2.00598739,  2.01078441,  2.01558142,\n",
       "         2.02037844]),\n",
       " <a list of 10 Patch objects>)"
      ]
     },
     "execution_count": 19,
     "metadata": {},
     "output_type": "execute_result"
    },
    {
     "data": {
      "image/png": "[encoded data removed]",
      "text/plain": [
       "<matplotlib.figure.Figure at 0x7f96a013ba50>"
      ]
     },
     "metadata": {},
     "output_type": "display_data"
    }
   ],
   "source": [
    "ztmp2 = np.random.normal(0,1,(100,2))\n",
    "ztmp2[:,1] *= 0.01\n",
    "ztmp2[:,1] += 2\n",
    "ztmp2[:,0] *= 0.01\n",
    "ztmp2[:,0] -= 2\n",
    "\n",
    "plt.hist(ztmp2[:,0],'auto')\n",
    "plt.hist(ztmp2[:,1],'auto')"
   ]
  },
  {
   "cell_type": "code",
   "execution_count": 20,
   "metadata": {},
   "outputs": [],
   "source": [
    "xtmp3 = ed.copy(x, {z:ztmp2})"
   ]
  },
  {
   "cell_type": "code",
   "execution_count": 21,
   "metadata": {},
   "outputs": [
    {
     "data": {
      "image/png": "[encoded data removed]",
      "text/plain": [
       "<matplotlib.figure.Figure at 0x7f96614dac90>"
      ]
     },
     "metadata": {},
     "output_type": "display_data"
    }
   ],
   "source": [
    "plt.figure(figsize=(10,10))\n",
    "for i in range(1,101):\n",
    "    ax = plt.subplot(10,10,i)\n",
    "    plt.imshow(xtmp3.eval()[i-1].reshape(28,28))\n",
    "    ax.set_xticklabels([])\n",
    "    ax.set_yticklabels([])"
   ]
  }
 ],
 "metadata": {
  "kernelspec": {
   "display_name": "Python 2",
   "language": "python",
   "name": "python2"
  },
  "language_info": {
   "codemirror_mode": {
    "name": "ipython",
    "version": 2
   },
   "file_extension": ".py",
   "mimetype": "text/x-python",
   "name": "python",
   "nbconvert_exporter": "python",
   "pygments_lexer": "ipython2",
   "version": "2.7.12"
  }
 },
 "nbformat": 4,
 "nbformat_minor": 2
}
