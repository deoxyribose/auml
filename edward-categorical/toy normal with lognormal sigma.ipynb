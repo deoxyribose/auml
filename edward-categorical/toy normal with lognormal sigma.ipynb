{
 "cells": [
  {
   "cell_type": "code",
   "execution_count": 1,
   "metadata": {
    "collapsed": false
   },
   "outputs": [],
   "source": [
    "%matplotlib inline\n",
    "from __future__ import absolute_import\n",
    "from __future__ import division\n",
    "from __future__ import print_function\n",
    " \n",
    "import edward as ed\n",
    "import matplotlib.pyplot as plt\n",
    "import numpy as np\n",
    "import tensorflow as tf\n",
    "import edward.models as edm\n",
    "from tensorflow.contrib.distributions.python.ops import bijectors as bijector\n",
    "plt.style.use('ggplot')\n",
    " \n",
    "ed.set_seed(42)"
   ]
  },
  {
   "cell_type": "code",
   "execution_count": 4,
   "metadata": {
    "collapsed": false
   },
   "outputs": [],
   "source": [
    "N=1000\n",
    " \n",
    "y_dat=np.random.normal(loc=2,scale=1,size=N)\n",
    "y_dat=y_dat.astype(np.float32)\n",
    " \n",
    "mu=edm.Normal(loc=tf.zeros([1]),scale=tf.ones([1])*1.5)\n",
    "sigma=edm.InverseGamma(concentration=tf.ones([1]),rate=tf.ones([1])) # shape, rate. not shape scale\n",
    "y=edm.Normal(loc=tf.ones([N])*mu,scale=sigma)\n",
    " \n",
    "qmu=edm.Normal(loc=tf.Variable(tf.random_normal([1])),\n",
    "              scale=tf.nn.softplus(tf.Variable(tf.random_normal([1]))))\n",
    "#qsigma=edm.InverseGamma(concentration=tf.nn.softplus(tf.Variable(tf.random_normal([1]))),\n",
    "#                  rate=tf.nn.softplus(tf.Variable(tf.random_normal([1]))))# \n",
    "qsigma = ed.models.TransformedDistribution(\n",
    "    distribution=ed.models.NormalWithSoftplusScale(tf.Variable(tf.zeros([1])),\n",
    "                                                   tf.Variable(tf.zeros([1]))),\n",
    "    bijector=bijector.Exp())\n",
    "\n",
    "inference = ed.KLqp({mu:qmu,sigma:qsigma}, data={y: y_dat})\n",
    "\n",
    "#inference.run(n_iter=5000)\n",
    "inference.initialize(n_iter=5000)"
   ]
  },
  {
   "cell_type": "code",
   "execution_count": 5,
   "metadata": {
    "collapsed": false
   },
   "outputs": [
    {
     "name": "stdout",
     "output_type": "stream",
     "text": [
      "{'loss': 1445.8088, 't': 1}\n",
      "{'loss': 1409.1182, 't': 1001}\n",
      "{'loss': 1410.2383, 't': 2001}\n",
      "{'loss': 1409.8411, 't': 3001}\n",
      "{'loss': 1410.8569, 't': 4001}\n"
     ]
    },
    {
     "data": {
      "text/plain": [
       "[<matplotlib.lines.Line2D at 0x7f56411f7780>]"
      ]
     },
     "execution_count": 5,
     "metadata": {},
     "output_type": "execute_result"
    },
    {
     "data": {
      "image/png": "[encoded data removed]",
      "text/plain": [
       "<matplotlib.figure.Figure at 0x7f5641b057b8>"
      ]
     },
     "metadata": {},
     "output_type": "display_data"
    }
   ],
   "source": [
    "sess = ed.get_session()\n",
    "init = tf.global_variables_initializer()\n",
    "init.run()\n",
    "learning_curve = []\n",
    "for _ in range(inference.n_iter):\n",
    "    info_dict = inference.update()\n",
    "    if _%1000 == 0:\n",
    "        print(info_dict)\n",
    "    learning_curve.append(info_dict['loss'])\n",
    "plt.semilogy(learning_curve)"
   ]
  }
 ],
 "metadata": {
  "anaconda-cloud": {},
  "kernelspec": {
   "display_name": "Python [default]",
   "language": "python",
   "name": "python3"
  },
  "language_info": {
   "codemirror_mode": {
    "name": "ipython",
    "version": 3
   },
   "file_extension": ".py",
   "mimetype": "text/x-python",
   "name": "python",
   "nbconvert_exporter": "python",
   "pygments_lexer": "ipython3",
   "version": "3.5.1"
  }
 },
 "nbformat": 4,
 "nbformat_minor": 1
}
