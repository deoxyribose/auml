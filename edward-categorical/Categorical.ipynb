{
 "cells": [
  {
   "cell_type": "markdown",
   "metadata": {},
   "source": [
    "# Categorical factors"
   ]
  },
  {
   "cell_type": "code",
   "execution_count": 1,
   "metadata": {
    "collapsed": true
   },
   "outputs": [],
   "source": [
    "import edward as ed\n",
    "import numpy as np\n",
    "import tensorflow as tf\n",
    "import matplotlib.pyplot as plt\n",
    "import seaborn as sns\n",
    "import pandas as pd\n",
    "\n",
    "from edward.models import Normal, Categorical, Dirichlet, Empirical"
   ]
  },
  {
   "cell_type": "code",
   "execution_count": 2,
   "metadata": {
    "collapsed": true
   },
   "outputs": [],
   "source": [
    "n = 4000\n",
    "k = 5\n",
    "alpha0 = 1"
   ]
  },
  {
   "cell_type": "code",
   "execution_count": 3,
   "metadata": {
    "collapsed": false
   },
   "outputs": [],
   "source": [
    "probs = np.array([0.1, 0.01, 0.3, 0.6, 0.1], dtype=np.float32)\n",
    "probs /= sum(probs)\n",
    "X = np.random.choice(k, n, p=probs)"
   ]
  },
  {
   "cell_type": "code",
   "execution_count": 4,
   "metadata": {
    "collapsed": false
   },
   "outputs": [
    {
     "data": {
      "text/plain": [
       "array([ 0.09009009,  0.00900901,  0.27027029,  0.54054058,  0.09009009], dtype=float32)"
      ]
     },
     "execution_count": 4,
     "metadata": {},
     "output_type": "execute_result"
    }
   ],
   "source": [
    "probs"
   ]
  },
  {
   "cell_type": "code",
   "execution_count": 5,
   "metadata": {
    "collapsed": false
   },
   "outputs": [],
   "source": [
    "d = Dirichlet(alpha0*np.ones(k, dtype=np.float32))\n",
    "c = Categorical(probs = d, sample_shape=(n))"
   ]
  },
  {
   "cell_type": "code",
   "execution_count": 6,
   "metadata": {
    "collapsed": false
   },
   "outputs": [
    {
     "name": "stdout",
     "output_type": "stream",
     "text": [
      "[3 1 2 2 3 1 0 2 1 3 1 1 2 1 3 2 3 0 1 2 3 1 2 3 0 3 1 1 3 3 3 3 3 2 2 1 2\n",
      " 1 0 3 3 1 1 1 1 2 1 3 1 3 0 0 3 3 2 3 2 3 3 2 3 3 1 1 1 0 1 0 0 0 3 1 1 2\n",
      " 3 2 1 3 3 1 2 1 2 3 1 2 3 1 0 0 0 2 0 3 1 3 0 2 2 1]\n"
     ]
    }
   ],
   "source": [
    "sess = tf.Session()\n",
    "with sess.as_default():\n",
    "    init = tf.global_variables_initializer()\n",
    "    init.run()\n",
    "    print(c.sample(100).eval())"
   ]
  },
  {
   "cell_type": "code",
   "execution_count": 7,
   "metadata": {
    "collapsed": false
   },
   "outputs": [],
   "source": [
    "qalpha0 =  tf.nn.softplus(tf.Variable(tf.random_normal([k], dtype=tf.float32)))\n",
    "#qalpha0 =  tf.nn.softmax(tf.Variable(tf.random_normal([k], dtype=tf.float32)))\n",
    "qd = Dirichlet(qalpha0)"
   ]
  },
  {
   "cell_type": "code",
   "execution_count": 8,
   "metadata": {
    "collapsed": false
   },
   "outputs": [],
   "source": [
    "inference = ed.KLqp({d: qd}, data={c: X})\n",
    "inference.initialize(n_iter=6000, n_print=100, n_samples=80, optimizer='rmsprop')"
   ]
  },
  {
   "cell_type": "code",
   "execution_count": 9,
   "metadata": {
    "collapsed": true
   },
   "outputs": [],
   "source": [
    "sess = ed.get_session()\n",
    "init = tf.global_variables_initializer()\n",
    "init.run()"
   ]
  },
  {
   "cell_type": "code",
   "execution_count": 10,
   "metadata": {
    "collapsed": false,
    "scrolled": true
   },
   "outputs": [
    {
     "name": "stdout",
     "output_type": "stream",
     "text": [
      "[ 0.41371745  0.52588457  1.10158348  0.45056808  0.22812267]\n",
      "{'t': 1, 'loss': 11589.87}\n",
      "[ 1.16433835  0.17745167  2.52761865  4.85402536  1.13200688]\n",
      "{'t': 1001, 'loss': 5452.6772}\n",
      "[ 1.69822574  0.33529058  3.69181204  7.01421404  1.72443068]\n",
      "{'t': 2001, 'loss': 5234.3994}\n",
      "[ 1.94946098  0.35135531  4.58623981  8.86412621  1.92034984]\n",
      "{'t': 3001, 'loss': 5069.0029}\n",
      "[  2.08396959   0.33220524   5.19601345  10.32888031   2.1298213 ]\n",
      "{'t': 4001, 'loss': 5023.9204}\n",
      "[  2.44611692   0.40770847   5.827353    11.68071079   2.11970949]\n",
      "{'t': 5001, 'loss': 4992.3486}\n"
     ]
    },
    {
     "data": {
      "text/plain": [
       "[<matplotlib.lines.Line2D at 0x7ff8376aa358>]"
      ]
     },
     "execution_count": 10,
     "metadata": {},
     "output_type": "execute_result"
    }
   ],
   "source": [
    "learning_curve = []\n",
    "for _ in range(inference.n_iter):\n",
    "    info_dict = inference.update()\n",
    "    if _%1000 == 0:\n",
    "        print(qalpha0.eval())\n",
    "        print(info_dict)\n",
    "    learning_curve.append(info_dict['loss'])\n",
    "plt.semilogy(learning_curve)"
   ]
  },
  {
   "cell_type": "code",
   "execution_count": 11,
   "metadata": {
    "collapsed": false
   },
   "outputs": [
    {
     "data": {
      "image/png": "[encoded data removed]",
      "text/plain": [
       "<matplotlib.figure.Figure at 0x7ff8376cfa58>"
      ]
     },
     "metadata": {},
     "output_type": "display_data"
    }
   ],
   "source": [
    "plt.show()"
   ]
  },
  {
   "cell_type": "code",
   "execution_count": 12,
   "metadata": {
    "collapsed": false
   },
   "outputs": [
    {
     "data": {
      "text/plain": [
       "array([ 0.10386574,  0.01502858,  0.2571587 ,  0.51895648,  0.10499046], dtype=float32)"
      ]
     },
     "execution_count": 12,
     "metadata": {},
     "output_type": "execute_result"
    }
   ],
   "source": [
    "qd.mean().eval()"
   ]
  },
  {
   "cell_type": "code",
   "execution_count": 13,
   "metadata": {
    "collapsed": false
   },
   "outputs": [
    {
     "data": {
      "text/plain": [
       "array([ 0.09009009,  0.00900901,  0.27027029,  0.54054058,  0.09009009], dtype=float32)"
      ]
     },
     "execution_count": 13,
     "metadata": {},
     "output_type": "execute_result"
    }
   ],
   "source": [
    "probs"
   ]
  },
  {
   "cell_type": "code",
   "execution_count": 14,
   "metadata": {
    "collapsed": true
   },
   "outputs": [],
   "source": [
    "X_sim = ed.copy(c, {d: qd})"
   ]
  },
  {
   "cell_type": "code",
   "execution_count": 15,
   "metadata": {
    "collapsed": false
   },
   "outputs": [],
   "source": [
    "X_sim_sample = X_sim.sample(n).eval()"
   ]
  },
  {
   "cell_type": "code",
   "execution_count": 16,
   "metadata": {
    "collapsed": false
   },
   "outputs": [],
   "source": [
    "probs_MLE, _ = np.histogram(X,bins=np.arange(k+1),normed=True)"
   ]
  },
  {
   "cell_type": "code",
   "execution_count": 17,
   "metadata": {
    "collapsed": false
   },
   "outputs": [
    {
     "data": {
      "text/plain": [
       "0.99999996923156298"
      ]
     },
     "execution_count": 17,
     "metadata": {},
     "output_type": "execute_result"
    }
   ],
   "source": [
    "np.dot(probs, probs)/np.linalg.norm(probs)**2"
   ]
  },
  {
   "cell_type": "code",
   "execution_count": 18,
   "metadata": {
    "collapsed": false
   },
   "outputs": [
    {
     "data": {
      "text/plain": [
       "0.99989819680268766"
      ]
     },
     "execution_count": 18,
     "metadata": {},
     "output_type": "execute_result"
    }
   ],
   "source": [
    "np.dot(probs_MLE, probs)/(np.linalg.norm(probs)*np.linalg.norm(probs_MLE))"
   ]
  },
  {
   "cell_type": "code",
   "execution_count": 19,
   "metadata": {
    "collapsed": false
   },
   "outputs": [],
   "source": [
    "probs_ADVI, _ = np.histogram(X_sim_sample,bins=np.arange(k+1),normed=True)"
   ]
  },
  {
   "cell_type": "code",
   "execution_count": 20,
   "metadata": {
    "collapsed": false
   },
   "outputs": [
    {
     "data": {
      "text/plain": [
       "0.98194196755657237"
      ]
     },
     "execution_count": 20,
     "metadata": {},
     "output_type": "execute_result"
    }
   ],
   "source": [
    "np.dot(probs_ADVI, probs)/(np.linalg.norm(probs)*np.linalg.norm(probs_ADVI))"
   ]
  }
 ],
 "metadata": {
  "anaconda-cloud": {},
  "kernelspec": {
   "display_name": "Python [default]",
   "language": "python",
   "name": "python3"
  },
  "language_info": {
   "codemirror_mode": {
    "name": "ipython",
    "version": 3
   },
   "file_extension": ".py",
   "mimetype": "text/x-python",
   "name": "python",
   "nbconvert_exporter": "python",
   "pygments_lexer": "ipython3",
   "version": "3.5.1"
  }
 },
 "nbformat": 4,
 "nbformat_minor": 1
}
