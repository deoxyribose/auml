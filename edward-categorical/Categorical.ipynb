{
 "cells": [
  {
   "cell_type": "markdown",
   "metadata": {},
   "source": [
    "# Categorical data"
   ]
  },
  {
   "cell_type": "code",
   "execution_count": 1,
   "metadata": {
    "collapsed": true
   },
   "outputs": [],
   "source": [
    "import edward as ed\n",
    "import numpy as np\n",
    "import tensorflow as tf\n",
    "import matplotlib.pyplot as plt\n",
    "import seaborn as sns\n",
    "import pandas as pd\n",
    "\n",
    "from edward.models import Normal, Categorical, Dirichlet, Empirical"
   ]
  },
  {
   "cell_type": "code",
   "execution_count": 2,
   "metadata": {
    "collapsed": true
   },
   "outputs": [],
   "source": [
    "n = 4000\n",
    "k = 10\n",
    "alpha0 = 1"
   ]
  },
  {
   "cell_type": "code",
   "execution_count": 3,
   "metadata": {
    "collapsed": false
   },
   "outputs": [],
   "source": [
    "#probs = np.array([0.1, 0.01, 0.3, 0.6, 0.1], dtype=np.float32)\n",
    "#probs /= sum(probs)\n",
    "probs = np.random.dirichlet(alpha0*np.ones(k, dtype=np.float32))\n",
    "X = np.random.choice(k, n, p=probs)"
   ]
  },
  {
   "cell_type": "code",
   "execution_count": 4,
   "metadata": {
    "collapsed": false
   },
   "outputs": [
    {
     "data": {
      "text/plain": [
       "array([ 0.21 ,  0.075,  0.069,  0.222,  0.018,  0.237,  0.074,  0.051,\n",
       "        0.019,  0.026])"
      ]
     },
     "execution_count": 4,
     "metadata": {},
     "output_type": "execute_result"
    }
   ],
   "source": [
    "np.round(probs,3)"
   ]
  },
  {
   "cell_type": "code",
   "execution_count": 5,
   "metadata": {
    "collapsed": false
   },
   "outputs": [],
   "source": [
    "d = Dirichlet(alpha0*np.ones(k, dtype=np.float32))\n",
    "c = Categorical(probs = d, sample_shape=(n))"
   ]
  },
  {
   "cell_type": "code",
   "execution_count": 6,
   "metadata": {
    "collapsed": false
   },
   "outputs": [
    {
     "name": "stdout",
     "output_type": "stream",
     "text": [
      "[6 5 5 1 1 6 2 5 1 1 5 6 1 3 5 1 3 1 1 5 9 1 5 1 5 4 5 0 9 7 5 1 4 9 1 1 6\n",
      " 3 1 1 9 5 6 8 3 8 6 7 2 1 2 5 6 3 5 9 5 4 5 3 1 3 3 1 1 5 9 1 9 9 6 5 4 5\n",
      " 9 3 1 2 7 6 7 1 8 6 4 2 5 5 7 5 1 4 4 3 7 9 5 6 5 1]\n"
     ]
    }
   ],
   "source": [
    "sess = tf.Session()\n",
    "with sess.as_default():\n",
    "    init = tf.global_variables_initializer()\n",
    "    init.run()\n",
    "    print(c.sample(100).eval())"
   ]
  },
  {
   "cell_type": "code",
   "execution_count": 7,
   "metadata": {
    "collapsed": false
   },
   "outputs": [],
   "source": [
    "qalpha0 =  tf.nn.softplus(tf.Variable(tf.random_normal([k], dtype=tf.float32)))\n",
    "#qalpha0 =  tf.nn.softmax(tf.Variable(tf.random_normal([k], dtype=tf.float32)))\n",
    "qd = Dirichlet(qalpha0)"
   ]
  },
  {
   "cell_type": "code",
   "execution_count": 8,
   "metadata": {
    "collapsed": false
   },
   "outputs": [],
   "source": [
    "inference = ed.KLqp({d: qd}, data={c: X})\n",
    "inference.initialize(n_iter=100000, n_print=100, n_samples=10, optimizer='rmsprop')"
   ]
  },
  {
   "cell_type": "code",
   "execution_count": 9,
   "metadata": {
    "collapsed": true
   },
   "outputs": [],
   "source": [
    "sess = ed.get_session()\n",
    "init = tf.global_variables_initializer()\n",
    "init.run()"
   ]
  },
  {
   "cell_type": "code",
   "execution_count": 10,
   "metadata": {
    "collapsed": false,
    "scrolled": true
   },
   "outputs": [
    {
     "name": "stdout",
     "output_type": "stream",
     "text": [
      "[ 0.8159861   0.86072719  0.50253981  0.085672    0.3925198   0.69016033\n",
      "  0.67465794  0.49907023  1.12170863  0.9996447 ]\n",
      "{'loss': 21699.023, 't': 1}\n",
      "[ 1.766958    0.80312622  0.66157877  1.31784153  0.36281425  1.41051471\n",
      "  0.51444685  0.46317869  0.60711861  0.56116998]\n",
      "{'loss': 10538.963, 't': 1001}\n",
      "[ 1.90811336  0.87993062  0.830374    2.04136729  0.29261154  2.25398302\n",
      "  0.9343909   0.55565703  0.57387972  0.62689298]\n",
      "{'loss': 9609.2344, 't': 2001}\n",
      "[ 2.42835832  0.98763454  0.98213279  2.38319588  0.35291564  2.64152122\n",
      "  1.11234248  0.52584541  0.49462798  0.56374091]\n",
      "{'loss': 9284.8418, 't': 3001}\n",
      "[ 2.68973494  1.31149554  1.22566104  2.89682078  0.506194    2.97907591\n",
      "  1.12976253  0.50238097  0.45136711  0.35517573]\n",
      "{'loss': 9291.3135, 't': 4001}\n",
      "[ 2.57027197  1.51138413  1.19891739  3.13514256  0.48160186  3.59681654\n",
      "  1.33986938  0.83596182  0.50165069  0.56925583]\n",
      "{'loss': 9082.4238, 't': 5001}\n",
      "[ 3.36984658  1.25664413  1.08155918  3.28232694  0.65786982  3.7398808\n",
      "  1.57484305  0.91375965  0.47406244  0.78180718]\n",
      "{'loss': 9003.0488, 't': 6001}\n",
      "[ 3.74931383  1.1645155   1.34147882  3.02254009  0.67348623  3.894135\n",
      "  1.40299356  1.09820414  0.46227825  0.5807398 ]\n",
      "{'loss': 8934.8301, 't': 7001}\n",
      "[ 3.8257308   1.41098273  1.39129353  3.4676652   0.69162697  3.96255851\n",
      "  1.57363057  1.16936433  0.33813015  0.57029289]\n",
      "{'loss': 8803.8047, 't': 8001}\n",
      "[ 3.92287827  1.70424175  1.24737418  3.51078558  0.48759338  4.29793453\n",
      "  1.29839385  1.24127579  0.3881183   0.55415529]\n",
      "{'loss': 8935.7715, 't': 9001}\n",
      "[ 4.00181866  1.6207602   1.56984305  3.6509192   0.5477072   4.41512346\n",
      "  1.5179137   1.01012921  0.41410202  0.64526588]\n",
      "{'loss': 8938.6934, 't': 10001}\n",
      "[ 3.91557646  1.47619438  1.64479017  3.63225293  0.43939695  4.68779373\n",
      "  1.57482529  1.11412883  0.5192138   0.87716603]\n",
      "{'loss': 8974.9346, 't': 11001}\n",
      "[ 3.69028568  1.81600022  1.55663288  4.00505924  0.36294365  4.70628262\n",
      "  1.62635934  1.13370824  0.50319779  1.01837122]\n",
      "{'loss': 8549.877, 't': 12001}\n",
      "[ 4.29137325  1.73303783  1.53122413  3.95225835  0.30273142  4.76334\n",
      "  1.8840667   1.26279461  0.51929879  1.18318141]\n",
      "{'loss': 9034.0244, 't': 13001}\n",
      "[ 4.62495947  2.00437307  1.35577655  4.3535018   0.40499085  4.7605195\n",
      "  1.96045661  1.51312327  0.56617427  1.05605233]\n",
      "{'loss': 8713.3721, 't': 14001}\n",
      "[ 4.63243008  2.13362241  1.38193738  4.05613756  0.45602143  4.97216415\n",
      "  1.82416284  1.39589095  0.51318794  1.02662468]\n",
      "{'loss': 8759.9971, 't': 15001}\n",
      "[ 4.67406988  2.18089962  1.5770694   4.27033472  0.50429761  5.39629364\n",
      "  1.77056742  1.39871502  0.5992713   0.84125727]\n",
      "{'loss': 8718.873, 't': 16001}\n",
      "[ 4.57616997  1.86112094  1.67829418  4.73189735  0.52613777  5.37181568\n",
      "  1.95129728  1.44653273  0.70021677  0.92371738]\n",
      "{'loss': 8548.4697, 't': 17001}\n",
      "[ 4.65262794  1.84335554  1.63763392  5.5405941   0.62081057  5.52007055\n",
      "  1.66047883  1.63739634  0.66147339  0.92064875]\n",
      "{'loss': 8551.1729, 't': 18001}\n",
      "[ 4.69842243  2.21367121  1.46636581  5.55492258  0.49699542  5.40164804\n",
      "  1.75786483  1.55833387  0.72787422  0.9572264 ]\n",
      "{'loss': 8702.8594, 't': 19001}\n",
      "[ 4.60710573  2.30607104  1.44018686  5.26831198  0.56609225  5.7198534\n",
      "  1.71097422  1.42572689  0.82991683  1.08937633]\n",
      "{'loss': 8634.9316, 't': 20001}\n",
      "[ 4.77002764  2.47715282  1.4678607   5.39981031  0.73943853  5.63669825\n",
      "  1.97751117  1.50971925  0.70042115  1.01713979]\n",
      "{'loss': 8798.9717, 't': 21001}\n",
      "[ 5.27555943  2.30587196  1.4876188   5.51977491  0.89562869  5.69790125\n",
      "  1.6350826   1.21764302  0.69423163  1.34554744]\n",
      "{'loss': 8450.0254, 't': 22001}\n",
      "[ 5.18500566  2.05165386  1.78504038  5.50769711  0.88543814  5.80612278\n",
      "  1.80362153  1.37266815  0.57749474  1.35093677]\n",
      "{'loss': 8616.4551, 't': 23001}\n",
      "[ 5.26804209  1.95210016  2.01750374  5.5294075   0.71484447  5.97145987\n",
      "  1.76181257  1.36951697  0.51492989  1.23772073]\n",
      "{'loss': 8544.8467, 't': 24001}\n",
      "[ 5.19754267  1.86913919  2.24689007  5.06432343  1.01092792  6.3076582\n",
      "  1.71261621  1.52738941  0.6563918   1.15253878]\n",
      "{'loss': 8672.8418, 't': 25001}\n",
      "[ 5.59901571  1.93599343  1.90377343  4.88868284  0.90979213  6.61775351\n",
      "  1.70283508  1.42358816  0.68008143  1.08178484]\n",
      "{'loss': 8395.9717, 't': 26001}\n",
      "[ 5.34620762  2.1707468   1.80019891  5.57054853  0.82644671  6.572258\n",
      "  1.6610136   1.60915887  0.67813814  1.62627041]\n",
      "{'loss': 8496.5049, 't': 27001}\n",
      "[ 5.43112946  2.1824286   1.70329595  6.22752905  0.57574689  6.31367111\n",
      "  1.96168852  1.63370121  0.49920219  1.58863759]\n",
      "{'loss': 8517.4121, 't': 28001}\n",
      "[ 5.72473145  2.03327227  1.74530947  6.51717615  0.62056744  6.24990749\n",
      "  1.86697555  1.50368512  0.47030139  1.36112487]\n",
      "{'loss': 8416.7158, 't': 29001}\n",
      "[ 6.07173634  2.30353236  1.98307848  6.16282177  0.60933226  6.21672153\n",
      "  2.1109817   1.63982618  0.42742923  1.16876543]\n",
      "{'loss': 8513.6475, 't': 30001}\n",
      "[ 5.81603193  2.35495186  1.83012211  6.51608229  0.66754127  6.69252777\n",
      "  1.81368089  1.53580368  0.63891286  1.01747358]\n",
      "{'loss': 8671.8525, 't': 31001}\n",
      "[ 5.60974169  2.06912446  1.73417509  6.83102989  0.69192404  6.97669029\n",
      "  1.81239414  1.60804129  0.50370443  1.18241167]\n",
      "{'loss': 8489.166, 't': 32001}\n",
      "[ 5.90999699  1.7950139   1.65275717  6.71903372  0.72220737  6.85941887\n",
      "  2.17194843  1.70827675  0.61032057  0.96128225]\n",
      "{'loss': 8482.1914, 't': 33001}\n",
      "[ 6.17382336  2.09114242  1.72972369  6.47178268  0.6670602   6.43909454\n",
      "  2.58294845  1.84176695  0.46088335  0.88425589]\n",
      "{'loss': 8596.6826, 't': 34001}\n",
      "[ 6.19729519  2.28758693  1.920555    6.53620863  0.62460232  6.44604158\n",
      "  2.54304314  1.97377467  0.58013088  1.0698359 ]\n",
      "{'loss': 8448.627, 't': 35001}\n",
      "[ 6.45514154  2.50919271  2.22430897  6.2016964   0.65061802  6.50732422\n",
      "  2.84667516  1.73398948  0.68023628  0.98586655]\n",
      "{'loss': 8417.248, 't': 36001}\n",
      "[ 6.66335821  2.52137041  2.3941462   5.95660257  0.7086314   6.84963799\n",
      "  2.99719548  1.39296472  0.76095307  0.97253931]\n",
      "{'loss': 8548.2803, 't': 37001}\n",
      "[ 6.6171751   2.38836288  2.35593295  6.33615541  0.71226782  6.55732727\n",
      "  3.48950052  1.48050284  0.87605709  1.1280539 ]\n",
      "{'loss': 8610.0, 't': 38001}\n",
      "[ 6.47586823  2.83016968  2.25085711  6.18162489  0.64603323  7.11357927\n",
      "  3.03516793  1.575194    0.77114803  1.20101881]\n",
      "{'loss': 8348.1416, 't': 39001}\n",
      "[ 6.58553076  2.74836445  1.91650212  6.58893204  0.63210279  6.90784264\n",
      "  2.96185732  1.17950821  0.77150446  1.38673043]\n",
      "{'loss': 8480.6152, 't': 40001}\n",
      "[ 6.52832079  2.62337732  2.0342505   6.6299963   0.63090074  7.08772659\n",
      "  2.98056769  1.47157538  0.81508112  1.20052898]\n",
      "{'loss': 8354.4199, 't': 41001}\n",
      "[ 5.68950844  2.73154998  2.20634031  7.23064518  0.76032901  7.10094833\n",
      "  3.06494951  1.60267663  0.93021917  0.8435055 ]\n",
      "{'loss': 8423.8887, 't': 42001}\n",
      "[ 5.60708952  2.69129729  2.16892052  6.9669733   0.9027757   7.29486847\n",
      "  3.01066303  1.68630409  0.90086448  1.22194338]\n",
      "{'loss': 8357.8652, 't': 43001}\n",
      "[ 5.89332342  2.53361821  2.38246012  7.15728903  0.73549026  7.56688595\n",
      "  3.40352035  1.35750997  0.76742458  0.85583669]\n",
      "{'loss': 8516.8125, 't': 44001}\n",
      "[ 6.22757387  2.78170848  1.91055632  7.39402199  0.58734977  7.2123661\n",
      "  3.56246734  1.55160785  0.92776656  0.89850706]\n",
      "{'loss': 8467.3574, 't': 45001}\n",
      "[ 5.93814421  2.79485321  1.48556495  7.20639229  0.76726937  7.69798946\n",
      "  3.5323751   1.51121902  0.84704697  1.02480292]\n",
      "{'loss': 8552.8516, 't': 46001}\n",
      "[ 5.99429798  3.09834361  1.84624505  6.85065985  0.94623309  7.56834459\n",
      "  3.16467118  1.8392477   1.155689    1.24850035]\n",
      "{'loss': 8416.8896, 't': 47001}\n",
      "[ 6.0804677   3.07950783  1.68259478  7.09085703  0.89625412  7.84844494\n",
      "  2.98557758  2.01797462  1.22392547  1.15782011]\n",
      "{'loss': 8434.5215, 't': 48001}\n",
      "[ 6.10152817  3.24947739  1.56909192  7.28094387  0.89512765  8.00643158\n",
      "  2.73118544  1.6261971   1.18569016  1.15477979]\n",
      "{'loss': 8391.9678, 't': 49001}\n",
      "[ 6.51026821  3.25863695  1.30957615  7.23113632  0.79136693  7.91938829\n",
      "  2.69534612  1.75533438  0.78847992  1.11116886]\n",
      "{'loss': 8402.8379, 't': 50001}\n",
      "[ 6.82635641  2.87480307  2.15963745  7.09496832  0.79213452  7.66753721\n",
      "  2.21989107  1.86371458  0.8933866   1.24831271]\n",
      "{'loss': 8331.8525, 't': 51001}\n",
      "[ 7.39978981  2.67389894  2.17951584  7.38309526  0.62119323  7.70070839\n",
      "  2.26997018  2.0046432   1.07177281  1.3436178 ]\n",
      "{'loss': 8455.9639, 't': 52001}\n",
      "[ 7.35767078  2.59796691  2.38518476  7.51184654  0.73744595  7.88851166\n",
      "  2.17558002  1.74106228  1.17339849  1.10132718]\n",
      "{'loss': 8187.4858, 't': 53001}\n",
      "[ 7.71943569  2.62806463  2.77665854  7.64082146  0.71175122  7.55766487\n",
      "  2.28143692  1.30343306  1.15568411  1.02840006]\n",
      "{'loss': 8368.3438, 't': 54001}\n",
      "[ 8.02019501  2.40753746  2.4870801   7.86298609  0.64258635  7.41814804\n",
      "  2.33815956  1.0942471   1.05484068  1.24764431]\n",
      "{'loss': 8338.7939, 't': 55001}\n",
      "[ 8.29936218  2.44268966  2.28451061  7.67183828  0.88145125  7.54285002\n",
      "  2.13192296  1.14592528  0.89678431  1.59963441]\n",
      "{'loss': 8462.1074, 't': 56001}\n",
      "[ 8.15886497  2.83580399  2.3120296   7.80195999  0.8924194   7.88078403\n",
      "  1.85021627  1.33793974  0.66877526  1.28277576]\n",
      "{'loss': 8483.1182, 't': 57001}\n",
      "[ 8.41994286  3.1751554   1.76935232  7.78490257  0.77566135  8.08343983\n",
      "  2.34669185  1.50372958  0.68423855  1.28498769]\n",
      "{'loss': 8410.9297, 't': 58001}\n",
      "[ 8.58431339  2.77019167  1.6584264   8.2535429   0.72299922  7.95460987\n",
      "  2.53439856  2.06108642  0.65993398  1.30786192]\n",
      "{'loss': 8275.4658, 't': 59001}\n",
      "[ 8.66199684  2.31159759  2.07315731  8.6556263   0.74628204  7.92981625\n",
      "  2.40032482  1.70987642  0.73822963  1.35247588]\n",
      "{'loss': 8318.3916, 't': 60001}\n",
      "[ 8.31075001  2.18153381  2.32782793  8.70760345  0.52444214  7.95222187\n",
      "  2.93359447  1.84249842  0.79879457  1.12335813]\n",
      "{'loss': 8398.4375, 't': 61001}\n",
      "[ 8.90015411  2.0062747   2.09534264  8.68765926  0.45918167  8.15398502\n",
      "  2.81829     1.91630733  1.0142163   0.76973873]\n",
      "{'loss': 8473.252, 't': 62001}\n",
      "[ 8.54591846  2.23301649  2.40106297  8.55787086  0.66598576  8.29828262\n",
      "  2.68801165  1.96968865  1.26373243  0.82406688]\n",
      "{'loss': 8363.7568, 't': 63001}\n",
      "[ 8.56237507  2.20141053  2.44630194  8.36463833  0.65735751  8.97638321\n",
      "  2.89547348  1.91794229  1.11830616  0.79250675]\n",
      "{'loss': 8367.6924, 't': 64001}\n",
      "[ 8.79491329  2.61526012  1.99201334  8.34008694  0.75040787  9.22317123\n",
      "  2.63138342  1.27533412  0.85649508  0.76731431]\n",
      "{'loss': 8294.2754, 't': 65001}\n",
      "[ 8.62246418  2.40536022  2.08930492  8.66251087  1.06323445  9.098629\n",
      "  2.4445684   1.4814117   0.7607767   0.75226736]\n",
      "{'loss': 8398.4707, 't': 66001}\n",
      "[ 8.45038509  2.20677829  2.5786109   9.01429176  0.90877247  9.11170483\n",
      "  2.90306234  1.83514214  0.67731667  0.81540942]\n",
      "{'loss': 8485.9941, 't': 67001}\n",
      "[ 8.29399109  2.30784702  2.45697212  9.15717697  0.89518231  9.04451847\n",
      "  2.91437268  1.70896614  0.36318567  1.1165154 ]\n",
      "{'loss': 8476.6357, 't': 68001}\n",
      "[ 8.3455925   2.3823781   2.43324304  8.94073677  0.7648356   9.42503166\n",
      "  2.47407842  1.81111693  0.50278002  1.26343906]\n",
      "{'loss': 8362.1133, 't': 69001}\n",
      "[ 8.78249836  2.5340662   2.43229461  8.50597763  0.97019458  8.93142891\n",
      "  2.51854944  1.85262835  0.54112303  1.18882489]\n",
      "{'loss': 8214.4404, 't': 70001}\n",
      "[ 8.80341816  2.56963468  2.24442792  8.77406693  1.21593285  8.7535305\n",
      "  2.81001019  2.38344455  0.48668396  0.98664081]\n",
      "{'loss': 8342.4727, 't': 71001}\n",
      "[ 8.50961304  2.22356725  2.99120736  8.15052128  1.30222094  8.99652004\n",
      "  2.55477524  2.83528852  0.65606427  1.07712102]\n",
      "{'loss': 8259.0576, 't': 72001}\n",
      "[ 8.23404598  2.17131901  3.2083478   8.37183952  1.44541633  8.72583485\n",
      "  2.7195251   2.6832509   0.526492    1.05215657]\n",
      "{'loss': 8247.0352, 't': 73001}\n",
      "[ 7.65629292  2.87783623  3.52818656  7.79061699  1.16821063  8.83200264\n",
      "  3.00434518  3.07667589  0.62907672  1.1251663 ]\n",
      "{'loss': 8427.8105, 't': 74001}\n",
      "[ 7.26484108  2.94797707  3.36533976  8.03824425  1.03601277  9.40714264\n",
      "  2.38233209  2.91243529  0.64082503  1.41030967]\n",
      "{'loss': 8472.5137, 't': 75001}\n",
      "[ 7.76895809  2.85509276  3.32374859  8.18671894  1.00179958  9.30579472\n",
      "  2.36637735  2.38837576  0.75386101  1.2871896 ]\n",
      "{'loss': 8289.4316, 't': 76001}\n",
      "[ 7.09728527  2.75243139  2.89879775  8.54256248  1.17104936  9.92725277\n",
      "  2.59759831  1.79093075  0.67609072  1.40050864]\n",
      "{'loss': 8240.6895, 't': 77001}\n",
      "[ 7.48462677  2.81301427  3.08193994  8.76911926  1.29898119  9.26314259\n",
      "  2.67917347  1.72639918  0.64262027  1.3823396 ]\n",
      "{'loss': 8378.5342, 't': 78001}\n",
      "[ 7.79889965  2.95434761  2.79392147  8.5597086   1.27907085  9.35406876\n",
      "  2.88518023  1.96281362  0.61947227  1.10929275]\n",
      "{'loss': 8224.4629, 't': 79001}\n",
      "[ 7.66458893  2.9210341   2.51154613  8.97234821  1.11389089  9.3772068\n",
      "  2.99150229  2.31571102  0.66712147  1.47839057]\n",
      "{'loss': 8318.8857, 't': 80001}\n",
      "[ 7.71752977  2.90002894  2.44188595  9.34872818  1.24889815  9.66856289\n",
      "  2.43338466  1.94449615  0.86674386  1.39181983]\n",
      "{'loss': 8267.0312, 't': 81001}\n",
      "[ 7.83278894  2.9654541   2.20167184  9.31544971  1.16299856  9.10079861\n",
      "  2.82067323  2.1971333   0.78610134  1.32510555]\n",
      "{'loss': 8410.46, 't': 82001}\n",
      "[ 8.42786312  2.9954288   1.99420762  8.64079952  0.96265143  9.27157974\n",
      "  3.06030798  2.28224611  0.79088759  1.46907413]\n",
      "{'loss': 8391.3037, 't': 83001}\n",
      "[ 8.35493088  2.86159611  2.00948477  8.72451305  1.49061072  8.96702003\n",
      "  3.03218436  2.23803091  0.760611    1.36113262]\n",
      "{'loss': 8216.3535, 't': 84001}\n",
      "[ 8.46492863  3.14323282  1.87486792  8.87822151  1.22106922  9.03087044\n",
      "  3.16912675  1.97613227  0.72208494  1.48054945]\n",
      "{'loss': 8398.7373, 't': 85001}\n",
      "[ 8.75393867  2.92785645  2.27817154  9.41573143  0.82633656  8.4732008\n",
      "  3.01843405  2.23767948  0.94014263  1.20697677]\n",
      "{'loss': 8355.0977, 't': 86001}\n",
      "[ 8.95289707  3.00550485  2.75303984  9.56907558  1.10492969  8.84009075\n",
      "  2.73203611  2.32014203  0.61355853  0.97089529]\n",
      "{'loss': 8334.5254, 't': 87001}\n",
      "[ 8.72865105  3.39205766  2.29290819  9.76501083  1.12519395  9.00963688\n",
      "  2.90516734  1.93956411  0.66536468  1.18265855]\n",
      "{'loss': 8349.0566, 't': 88001}\n",
      "[ 8.88897133  3.15383506  2.61207485  9.36884308  0.92266572  8.66326523\n",
      "  2.95406437  2.42110944  0.53545958  1.41599715]\n",
      "{'loss': 8260.959, 't': 89001}\n",
      "[ 8.74421406  3.09243941  2.90451312  9.01441193  0.67786479  9.3707552\n",
      "  3.26618981  2.07194686  0.43190607  1.48404539]\n",
      "{'loss': 8292.0049, 't': 90001}\n",
      "[ 8.79028606  3.08871388  2.86375976  8.96118736  0.60589319  9.72977161\n",
      "  3.37948561  1.86792612  0.52961028  1.50092471]\n",
      "{'loss': 8520.3691, 't': 91001}\n",
      "[ 8.85631657  3.10083437  2.82344675  9.06126213  0.62317729  9.49552345\n",
      "  3.26355219  2.26909447  0.58158779  1.37201023]\n",
      "{'loss': 8312.4404, 't': 92001}\n",
      "[ 8.78122616  3.03274632  2.8189528   8.87825871  0.82805216  9.61569023\n",
      "  3.44270062  2.01165676  0.87533641  1.60044646]\n",
      "{'loss': 8356.9043, 't': 93001}\n",
      "[  8.59542465   2.68764162   2.49301386   9.12021446   0.80854619\n",
      "  10.17668438   3.58744335   2.26495266   0.81729889   1.69180596]\n",
      "{'loss': 8338.6787, 't': 94001}\n",
      "[  8.36781979   2.21553564   2.40578222   9.76050663   0.81505722\n",
      "  10.56643963   3.7043469    1.91165423   0.63844639   1.80978703]\n",
      "{'loss': 8313.6279, 't': 95001}\n",
      "[  8.62576485   2.8303082    2.83720183   9.92155361   1.05395651\n",
      "  10.37147141   3.1682477    1.76280665   0.68436712   1.57554436]\n",
      "{'loss': 8297.623, 't': 96001}\n",
      "[  8.52226067   2.43657947   2.35312462  10.35975456   1.11069     10.42481041\n",
      "   3.02379489   1.84661448   0.57315993   1.69421458]\n",
      "{'loss': 8420.3018, 't': 97001}\n",
      "[  8.71127033   2.62053895   2.06332493  10.3257761    1.21243811\n",
      "  10.5651741    3.36318731   2.27512574   0.3680177    1.40854061]\n",
      "{'loss': 8391.7812, 't': 98001}\n",
      "[  8.6318922    2.98747349   2.66086864   9.97689915   1.22676611\n",
      "  10.35848141   3.50851631   2.28508639   0.47291279   1.41430414]\n",
      "{'loss': 8381.9834, 't': 99001}\n"
     ]
    },
    {
     "data": {
      "text/plain": [
       "[<matplotlib.lines.Line2D at 0x7f9fa65b46a0>]"
      ]
     },
     "execution_count": 10,
     "metadata": {},
     "output_type": "execute_result"
    }
   ],
   "source": [
    "learning_curve = []\n",
    "for _ in range(inference.n_iter):\n",
    "    info_dict = inference.update()\n",
    "    if _%1000 == 0:\n",
    "        print(qalpha0.eval())\n",
    "        print(info_dict)\n",
    "    learning_curve.append(info_dict['loss'])\n",
    "plt.semilogy(learning_curve)"
   ]
  },
  {
   "cell_type": "code",
   "execution_count": 11,
   "metadata": {
    "collapsed": false
   },
   "outputs": [
    {
     "data": {
      "image/png": "[encoded data removed]",
      "text/plain": [
       "<matplotlib.figure.Figure at 0x7f9fb78a0d68>"
      ]
     },
     "metadata": {},
     "output_type": "display_data"
    }
   ],
   "source": [
    "plt.show()"
   ]
  },
  {
   "cell_type": "code",
   "execution_count": 29,
   "metadata": {
    "collapsed": false
   },
   "outputs": [
    {
     "data": {
      "image/png": "[encoded data removed]",
      "text/plain": [
       "<matplotlib.figure.Figure at 0x7f9fa452cc18>"
      ]
     },
     "metadata": {},
     "output_type": "display_data"
    }
   ],
   "source": [
    "plt.semilogy(learning_curve[:1000])\n",
    "plt.show()"
   ]
  },
  {
   "cell_type": "code",
   "execution_count": 32,
   "metadata": {
    "collapsed": false
   },
   "outputs": [
    {
     "ename": "FailedPreconditionError",
     "evalue": "Attempting to use uninitialized value iteration_3\n\t [[Node: AssignAdd_3 = AssignAdd[T=DT_INT32, _class=[\"loc:@iteration_3\"], use_locking=false, _device=\"/job:localhost/replica:0/task:0/cpu:0\"](iteration_3, AssignAdd_3/value)]]\n\nCaused by op 'AssignAdd_3', defined at:\n  File \"/home/folzd/anaconda3/lib/python3.5/runpy.py\", line 170, in _run_module_as_main\n    \"__main__\", mod_spec)\n  File \"/home/folzd/anaconda3/lib/python3.5/runpy.py\", line 85, in _run_code\n    exec(code, run_globals)\n  File \"/home/folzd/anaconda3/lib/python3.5/site-packages/ipykernel/__main__.py\", line 3, in <module>\n    app.launch_new_instance()\n  File \"/home/folzd/anaconda3/lib/python3.5/site-packages/traitlets/config/application.py\", line 596, in launch_instance\n    app.start()\n  File \"/home/folzd/anaconda3/lib/python3.5/site-packages/ipykernel/kernelapp.py\", line 474, in start\n    ioloop.IOLoop.instance().start()\n  File \"/home/folzd/anaconda3/lib/python3.5/site-packages/zmq/eventloop/ioloop.py\", line 162, in start\n    super(ZMQIOLoop, self).start()\n  File \"/home/folzd/anaconda3/lib/python3.5/site-packages/tornado/ioloop.py\", line 887, in start\n    handler_func(fd_obj, events)\n  File \"/home/folzd/anaconda3/lib/python3.5/site-packages/tornado/stack_context.py\", line 275, in null_wrapper\n    return fn(*args, **kwargs)\n  File \"/home/folzd/anaconda3/lib/python3.5/site-packages/zmq/eventloop/zmqstream.py\", line 440, in _handle_events\n    self._handle_recv()\n  File \"/home/folzd/anaconda3/lib/python3.5/site-packages/zmq/eventloop/zmqstream.py\", line 472, in _handle_recv\n    self._run_callback(callback, msg)\n  File \"/home/folzd/anaconda3/lib/python3.5/site-packages/zmq/eventloop/zmqstream.py\", line 414, in _run_callback\n    callback(*args, **kwargs)\n  File \"/home/folzd/anaconda3/lib/python3.5/site-packages/tornado/stack_context.py\", line 275, in null_wrapper\n    return fn(*args, **kwargs)\n  File \"/home/folzd/anaconda3/lib/python3.5/site-packages/ipykernel/kernelbase.py\", line 276, in dispatcher\n    return self.dispatch_shell(stream, msg)\n  File \"/home/folzd/anaconda3/lib/python3.5/site-packages/ipykernel/kernelbase.py\", line 228, in dispatch_shell\n    handler(stream, idents, msg)\n  File \"/home/folzd/anaconda3/lib/python3.5/site-packages/ipykernel/kernelbase.py\", line 390, in execute_request\n    user_expressions, allow_stdin)\n  File \"/home/folzd/anaconda3/lib/python3.5/site-packages/ipykernel/ipkernel.py\", line 196, in do_execute\n    res = shell.run_cell(code, store_history=store_history, silent=silent)\n  File \"/home/folzd/anaconda3/lib/python3.5/site-packages/ipykernel/zmqshell.py\", line 498, in run_cell\n    return super(ZMQInteractiveShell, self).run_cell(*args, **kwargs)\n  File \"/home/folzd/anaconda3/lib/python3.5/site-packages/IPython/core/interactiveshell.py\", line 2717, in run_cell\n    interactivity=interactivity, compiler=compiler, result=result)\n  File \"/home/folzd/anaconda3/lib/python3.5/site-packages/IPython/core/interactiveshell.py\", line 2821, in run_ast_nodes\n    if self.run_code(code, result):\n  File \"/home/folzd/anaconda3/lib/python3.5/site-packages/IPython/core/interactiveshell.py\", line 2881, in run_code\n    exec(code_obj, self.user_global_ns, self.user_ns)\n  File \"<ipython-input-32-a793e260a0b5>\", line 2, in <module>\n    inference2.initialize(n_iter=1000, n_print=100, n_samples=100, optimizer='rmsprop')\n  File \"/home/folzd/AUML/edward-gmm-bo/src/edward/edward/inferences/klqp.py\", line 86, in initialize\n    return super(KLqp, self).initialize(*args, **kwargs)\n  File \"/home/folzd/AUML/edward-gmm-bo/src/edward/edward/inferences/variational_inference.py\", line 54, in initialize\n    super(VariationalInference, self).initialize(*args, **kwargs)\n  File \"/home/folzd/AUML/edward-gmm-bo/src/edward/edward/inferences/inference.py\", line 186, in initialize\n    self.increment_t = self.t.assign_add(1)\n  File \"/home/folzd/anaconda3/lib/python3.5/site-packages/tensorflow/python/ops/variables.py\", line 527, in assign_add\n    return state_ops.assign_add(self._variable, delta, use_locking=use_locking)\n  File \"/home/folzd/anaconda3/lib/python3.5/site-packages/tensorflow/python/ops/state_ops.py\", line 239, in assign_add\n    ref, value, use_locking=use_locking, name=name)\n  File \"/home/folzd/anaconda3/lib/python3.5/site-packages/tensorflow/python/ops/gen_state_ops.py\", line 75, in assign_add\n    use_locking=use_locking, name=name)\n  File \"/home/folzd/anaconda3/lib/python3.5/site-packages/tensorflow/python/framework/op_def_library.py\", line 768, in apply_op\n    op_def=op_def)\n  File \"/home/folzd/anaconda3/lib/python3.5/site-packages/tensorflow/python/framework/ops.py\", line 2336, in create_op\n    original_op=self._default_original_op, op_def=op_def)\n  File \"/home/folzd/anaconda3/lib/python3.5/site-packages/tensorflow/python/framework/ops.py\", line 1228, in __init__\n    self._traceback = _extract_stack()\n\nFailedPreconditionError (see above for traceback): Attempting to use uninitialized value iteration_3\n\t [[Node: AssignAdd_3 = AssignAdd[T=DT_INT32, _class=[\"loc:@iteration_3\"], use_locking=false, _device=\"/job:localhost/replica:0/task:0/cpu:0\"](iteration_3, AssignAdd_3/value)]]\n",
     "output_type": "error",
     "traceback": [
      "\u001b[0;31m---------------------------------------------------------------------------\u001b[0m",
      "\u001b[0;31mFailedPreconditionError\u001b[0m                   Traceback (most recent call last)",
      "\u001b[0;32m/home/folzd/anaconda3/lib/python3.5/site-packages/tensorflow/python/client/session.py\u001b[0m in \u001b[0;36m_do_call\u001b[0;34m(self, fn, *args)\u001b[0m\n\u001b[1;32m   1038\u001b[0m     \u001b[0;32mtry\u001b[0m\u001b[0;34m:\u001b[0m\u001b[0;34m\u001b[0m\u001b[0m\n\u001b[0;32m-> 1039\u001b[0;31m       \u001b[0;32mreturn\u001b[0m \u001b[0mfn\u001b[0m\u001b[0;34m(\u001b[0m\u001b[0;34m*\u001b[0m\u001b[0margs\u001b[0m\u001b[0;34m)\u001b[0m\u001b[0;34m\u001b[0m\u001b[0m\n\u001b[0m\u001b[1;32m   1040\u001b[0m     \u001b[0;32mexcept\u001b[0m \u001b[0merrors\u001b[0m\u001b[0;34m.\u001b[0m\u001b[0mOpError\u001b[0m \u001b[0;32mas\u001b[0m \u001b[0me\u001b[0m\u001b[0;34m:\u001b[0m\u001b[0;34m\u001b[0m\u001b[0m\n",
      "\u001b[0;32m/home/folzd/anaconda3/lib/python3.5/site-packages/tensorflow/python/client/session.py\u001b[0m in \u001b[0;36m_run_fn\u001b[0;34m(session, feed_dict, fetch_list, target_list, options, run_metadata)\u001b[0m\n\u001b[1;32m   1020\u001b[0m                                  \u001b[0mfeed_dict\u001b[0m\u001b[0;34m,\u001b[0m \u001b[0mfetch_list\u001b[0m\u001b[0;34m,\u001b[0m \u001b[0mtarget_list\u001b[0m\u001b[0;34m,\u001b[0m\u001b[0;34m\u001b[0m\u001b[0m\n\u001b[0;32m-> 1021\u001b[0;31m                                  status, run_metadata)\n\u001b[0m\u001b[1;32m   1022\u001b[0m \u001b[0;34m\u001b[0m\u001b[0m\n",
      "\u001b[0;32m/home/folzd/anaconda3/lib/python3.5/contextlib.py\u001b[0m in \u001b[0;36m__exit__\u001b[0;34m(self, type, value, traceback)\u001b[0m\n\u001b[1;32m     65\u001b[0m             \u001b[0;32mtry\u001b[0m\u001b[0;34m:\u001b[0m\u001b[0;34m\u001b[0m\u001b[0m\n\u001b[0;32m---> 66\u001b[0;31m                 \u001b[0mnext\u001b[0m\u001b[0;34m(\u001b[0m\u001b[0mself\u001b[0m\u001b[0;34m.\u001b[0m\u001b[0mgen\u001b[0m\u001b[0;34m)\u001b[0m\u001b[0;34m\u001b[0m\u001b[0m\n\u001b[0m\u001b[1;32m     67\u001b[0m             \u001b[0;32mexcept\u001b[0m \u001b[0mStopIteration\u001b[0m\u001b[0;34m:\u001b[0m\u001b[0;34m\u001b[0m\u001b[0m\n",
      "\u001b[0;32m/home/folzd/anaconda3/lib/python3.5/site-packages/tensorflow/python/framework/errors_impl.py\u001b[0m in \u001b[0;36mraise_exception_on_not_ok_status\u001b[0;34m()\u001b[0m\n\u001b[1;32m    465\u001b[0m           \u001b[0mcompat\u001b[0m\u001b[0;34m.\u001b[0m\u001b[0mas_text\u001b[0m\u001b[0;34m(\u001b[0m\u001b[0mpywrap_tensorflow\u001b[0m\u001b[0;34m.\u001b[0m\u001b[0mTF_Message\u001b[0m\u001b[0;34m(\u001b[0m\u001b[0mstatus\u001b[0m\u001b[0;34m)\u001b[0m\u001b[0;34m)\u001b[0m\u001b[0;34m,\u001b[0m\u001b[0;34m\u001b[0m\u001b[0m\n\u001b[0;32m--> 466\u001b[0;31m           pywrap_tensorflow.TF_GetCode(status))\n\u001b[0m\u001b[1;32m    467\u001b[0m   \u001b[0;32mfinally\u001b[0m\u001b[0;34m:\u001b[0m\u001b[0;34m\u001b[0m\u001b[0m\n",
      "\u001b[0;31mFailedPreconditionError\u001b[0m: Attempting to use uninitialized value iteration_3\n\t [[Node: AssignAdd_3 = AssignAdd[T=DT_INT32, _class=[\"loc:@iteration_3\"], use_locking=false, _device=\"/job:localhost/replica:0/task:0/cpu:0\"](iteration_3, AssignAdd_3/value)]]",
      "\nDuring handling of the above exception, another exception occurred:\n",
      "\u001b[0;31mFailedPreconditionError\u001b[0m                   Traceback (most recent call last)",
      "\u001b[0;32m<ipython-input-32-a793e260a0b5>\u001b[0m in \u001b[0;36m<module>\u001b[0;34m()\u001b[0m\n\u001b[1;32m      4\u001b[0m \u001b[0mlearning_curve2\u001b[0m \u001b[0;34m=\u001b[0m \u001b[0;34m[\u001b[0m\u001b[0;34m]\u001b[0m\u001b[0;34m\u001b[0m\u001b[0m\n\u001b[1;32m      5\u001b[0m \u001b[0;32mfor\u001b[0m \u001b[0m_\u001b[0m \u001b[0;32min\u001b[0m \u001b[0mrange\u001b[0m\u001b[0;34m(\u001b[0m\u001b[0minference2\u001b[0m\u001b[0;34m.\u001b[0m\u001b[0mn_iter\u001b[0m\u001b[0;34m)\u001b[0m\u001b[0;34m:\u001b[0m\u001b[0;34m\u001b[0m\u001b[0m\n\u001b[0;32m----> 6\u001b[0;31m     \u001b[0minfo_dict\u001b[0m \u001b[0;34m=\u001b[0m \u001b[0minference2\u001b[0m\u001b[0;34m.\u001b[0m\u001b[0mupdate\u001b[0m\u001b[0;34m(\u001b[0m\u001b[0;34m)\u001b[0m\u001b[0;34m\u001b[0m\u001b[0m\n\u001b[0m\u001b[1;32m      7\u001b[0m     \u001b[0;32mif\u001b[0m \u001b[0m_\u001b[0m\u001b[0;34m%\u001b[0m\u001b[0;36m1000\u001b[0m \u001b[0;34m==\u001b[0m \u001b[0;36m0\u001b[0m\u001b[0;34m:\u001b[0m\u001b[0;34m\u001b[0m\u001b[0m\n\u001b[1;32m      8\u001b[0m         \u001b[0mprint\u001b[0m\u001b[0;34m(\u001b[0m\u001b[0mqalpha0\u001b[0m\u001b[0;34m.\u001b[0m\u001b[0meval\u001b[0m\u001b[0;34m(\u001b[0m\u001b[0;34m)\u001b[0m\u001b[0;34m)\u001b[0m\u001b[0;34m\u001b[0m\u001b[0m\n",
      "\u001b[0;32m/home/folzd/AUML/edward-gmm-bo/src/edward/edward/inferences/variational_inference.py\u001b[0m in \u001b[0;36mupdate\u001b[0;34m(self, feed_dict)\u001b[0m\n\u001b[1;32m    157\u001b[0m \u001b[0;34m\u001b[0m\u001b[0m\n\u001b[1;32m    158\u001b[0m     \u001b[0msess\u001b[0m \u001b[0;34m=\u001b[0m \u001b[0mget_session\u001b[0m\u001b[0;34m(\u001b[0m\u001b[0;34m)\u001b[0m\u001b[0;34m\u001b[0m\u001b[0m\n\u001b[0;32m--> 159\u001b[0;31m     \u001b[0m_\u001b[0m\u001b[0;34m,\u001b[0m \u001b[0mt\u001b[0m\u001b[0;34m,\u001b[0m \u001b[0mloss\u001b[0m \u001b[0;34m=\u001b[0m \u001b[0msess\u001b[0m\u001b[0;34m.\u001b[0m\u001b[0mrun\u001b[0m\u001b[0;34m(\u001b[0m\u001b[0;34m[\u001b[0m\u001b[0mself\u001b[0m\u001b[0;34m.\u001b[0m\u001b[0mtrain\u001b[0m\u001b[0;34m,\u001b[0m \u001b[0mself\u001b[0m\u001b[0;34m.\u001b[0m\u001b[0mincrement_t\u001b[0m\u001b[0;34m,\u001b[0m \u001b[0mself\u001b[0m\u001b[0;34m.\u001b[0m\u001b[0mloss\u001b[0m\u001b[0;34m]\u001b[0m\u001b[0;34m,\u001b[0m \u001b[0mfeed_dict\u001b[0m\u001b[0;34m)\u001b[0m\u001b[0;34m\u001b[0m\u001b[0m\n\u001b[0m\u001b[1;32m    160\u001b[0m \u001b[0;34m\u001b[0m\u001b[0m\n\u001b[1;32m    161\u001b[0m     \u001b[0;32mif\u001b[0m \u001b[0mself\u001b[0m\u001b[0;34m.\u001b[0m\u001b[0mdebug\u001b[0m\u001b[0;34m:\u001b[0m\u001b[0;34m\u001b[0m\u001b[0m\n",
      "\u001b[0;32m/home/folzd/anaconda3/lib/python3.5/site-packages/tensorflow/python/client/session.py\u001b[0m in \u001b[0;36mrun\u001b[0;34m(self, fetches, feed_dict, options, run_metadata)\u001b[0m\n\u001b[1;32m    776\u001b[0m     \u001b[0;32mtry\u001b[0m\u001b[0;34m:\u001b[0m\u001b[0;34m\u001b[0m\u001b[0m\n\u001b[1;32m    777\u001b[0m       result = self._run(None, fetches, feed_dict, options_ptr,\n\u001b[0;32m--> 778\u001b[0;31m                          run_metadata_ptr)\n\u001b[0m\u001b[1;32m    779\u001b[0m       \u001b[0;32mif\u001b[0m \u001b[0mrun_metadata\u001b[0m\u001b[0;34m:\u001b[0m\u001b[0;34m\u001b[0m\u001b[0m\n\u001b[1;32m    780\u001b[0m         \u001b[0mproto_data\u001b[0m \u001b[0;34m=\u001b[0m \u001b[0mtf_session\u001b[0m\u001b[0;34m.\u001b[0m\u001b[0mTF_GetBuffer\u001b[0m\u001b[0;34m(\u001b[0m\u001b[0mrun_metadata_ptr\u001b[0m\u001b[0;34m)\u001b[0m\u001b[0;34m\u001b[0m\u001b[0m\n",
      "\u001b[0;32m/home/folzd/anaconda3/lib/python3.5/site-packages/tensorflow/python/client/session.py\u001b[0m in \u001b[0;36m_run\u001b[0;34m(self, handle, fetches, feed_dict, options, run_metadata)\u001b[0m\n\u001b[1;32m    980\u001b[0m     \u001b[0;32mif\u001b[0m \u001b[0mfinal_fetches\u001b[0m \u001b[0;32mor\u001b[0m \u001b[0mfinal_targets\u001b[0m\u001b[0;34m:\u001b[0m\u001b[0;34m\u001b[0m\u001b[0m\n\u001b[1;32m    981\u001b[0m       results = self._do_run(handle, final_targets, final_fetches,\n\u001b[0;32m--> 982\u001b[0;31m                              feed_dict_string, options, run_metadata)\n\u001b[0m\u001b[1;32m    983\u001b[0m     \u001b[0;32melse\u001b[0m\u001b[0;34m:\u001b[0m\u001b[0;34m\u001b[0m\u001b[0m\n\u001b[1;32m    984\u001b[0m       \u001b[0mresults\u001b[0m \u001b[0;34m=\u001b[0m \u001b[0;34m[\u001b[0m\u001b[0;34m]\u001b[0m\u001b[0;34m\u001b[0m\u001b[0m\n",
      "\u001b[0;32m/home/folzd/anaconda3/lib/python3.5/site-packages/tensorflow/python/client/session.py\u001b[0m in \u001b[0;36m_do_run\u001b[0;34m(self, handle, target_list, fetch_list, feed_dict, options, run_metadata)\u001b[0m\n\u001b[1;32m   1030\u001b[0m     \u001b[0;32mif\u001b[0m \u001b[0mhandle\u001b[0m \u001b[0;32mis\u001b[0m \u001b[0;32mNone\u001b[0m\u001b[0;34m:\u001b[0m\u001b[0;34m\u001b[0m\u001b[0m\n\u001b[1;32m   1031\u001b[0m       return self._do_call(_run_fn, self._session, feed_dict, fetch_list,\n\u001b[0;32m-> 1032\u001b[0;31m                            target_list, options, run_metadata)\n\u001b[0m\u001b[1;32m   1033\u001b[0m     \u001b[0;32melse\u001b[0m\u001b[0;34m:\u001b[0m\u001b[0;34m\u001b[0m\u001b[0m\n\u001b[1;32m   1034\u001b[0m       return self._do_call(_prun_fn, self._session, handle, feed_dict,\n",
      "\u001b[0;32m/home/folzd/anaconda3/lib/python3.5/site-packages/tensorflow/python/client/session.py\u001b[0m in \u001b[0;36m_do_call\u001b[0;34m(self, fn, *args)\u001b[0m\n\u001b[1;32m   1050\u001b[0m         \u001b[0;32mexcept\u001b[0m \u001b[0mKeyError\u001b[0m\u001b[0;34m:\u001b[0m\u001b[0;34m\u001b[0m\u001b[0m\n\u001b[1;32m   1051\u001b[0m           \u001b[0;32mpass\u001b[0m\u001b[0;34m\u001b[0m\u001b[0m\n\u001b[0;32m-> 1052\u001b[0;31m       \u001b[0;32mraise\u001b[0m \u001b[0mtype\u001b[0m\u001b[0;34m(\u001b[0m\u001b[0me\u001b[0m\u001b[0;34m)\u001b[0m\u001b[0;34m(\u001b[0m\u001b[0mnode_def\u001b[0m\u001b[0;34m,\u001b[0m \u001b[0mop\u001b[0m\u001b[0;34m,\u001b[0m \u001b[0mmessage\u001b[0m\u001b[0;34m)\u001b[0m\u001b[0;34m\u001b[0m\u001b[0m\n\u001b[0m\u001b[1;32m   1053\u001b[0m \u001b[0;34m\u001b[0m\u001b[0m\n\u001b[1;32m   1054\u001b[0m   \u001b[0;32mdef\u001b[0m \u001b[0m_extend_graph\u001b[0m\u001b[0;34m(\u001b[0m\u001b[0mself\u001b[0m\u001b[0;34m)\u001b[0m\u001b[0;34m:\u001b[0m\u001b[0;34m\u001b[0m\u001b[0m\n",
      "\u001b[0;31mFailedPreconditionError\u001b[0m: Attempting to use uninitialized value iteration_3\n\t [[Node: AssignAdd_3 = AssignAdd[T=DT_INT32, _class=[\"loc:@iteration_3\"], use_locking=false, _device=\"/job:localhost/replica:0/task:0/cpu:0\"](iteration_3, AssignAdd_3/value)]]\n\nCaused by op 'AssignAdd_3', defined at:\n  File \"/home/folzd/anaconda3/lib/python3.5/runpy.py\", line 170, in _run_module_as_main\n    \"__main__\", mod_spec)\n  File \"/home/folzd/anaconda3/lib/python3.5/runpy.py\", line 85, in _run_code\n    exec(code, run_globals)\n  File \"/home/folzd/anaconda3/lib/python3.5/site-packages/ipykernel/__main__.py\", line 3, in <module>\n    app.launch_new_instance()\n  File \"/home/folzd/anaconda3/lib/python3.5/site-packages/traitlets/config/application.py\", line 596, in launch_instance\n    app.start()\n  File \"/home/folzd/anaconda3/lib/python3.5/site-packages/ipykernel/kernelapp.py\", line 474, in start\n    ioloop.IOLoop.instance().start()\n  File \"/home/folzd/anaconda3/lib/python3.5/site-packages/zmq/eventloop/ioloop.py\", line 162, in start\n    super(ZMQIOLoop, self).start()\n  File \"/home/folzd/anaconda3/lib/python3.5/site-packages/tornado/ioloop.py\", line 887, in start\n    handler_func(fd_obj, events)\n  File \"/home/folzd/anaconda3/lib/python3.5/site-packages/tornado/stack_context.py\", line 275, in null_wrapper\n    return fn(*args, **kwargs)\n  File \"/home/folzd/anaconda3/lib/python3.5/site-packages/zmq/eventloop/zmqstream.py\", line 440, in _handle_events\n    self._handle_recv()\n  File \"/home/folzd/anaconda3/lib/python3.5/site-packages/zmq/eventloop/zmqstream.py\", line 472, in _handle_recv\n    self._run_callback(callback, msg)\n  File \"/home/folzd/anaconda3/lib/python3.5/site-packages/zmq/eventloop/zmqstream.py\", line 414, in _run_callback\n    callback(*args, **kwargs)\n  File \"/home/folzd/anaconda3/lib/python3.5/site-packages/tornado/stack_context.py\", line 275, in null_wrapper\n    return fn(*args, **kwargs)\n  File \"/home/folzd/anaconda3/lib/python3.5/site-packages/ipykernel/kernelbase.py\", line 276, in dispatcher\n    return self.dispatch_shell(stream, msg)\n  File \"/home/folzd/anaconda3/lib/python3.5/site-packages/ipykernel/kernelbase.py\", line 228, in dispatch_shell\n    handler(stream, idents, msg)\n  File \"/home/folzd/anaconda3/lib/python3.5/site-packages/ipykernel/kernelbase.py\", line 390, in execute_request\n    user_expressions, allow_stdin)\n  File \"/home/folzd/anaconda3/lib/python3.5/site-packages/ipykernel/ipkernel.py\", line 196, in do_execute\n    res = shell.run_cell(code, store_history=store_history, silent=silent)\n  File \"/home/folzd/anaconda3/lib/python3.5/site-packages/ipykernel/zmqshell.py\", line 498, in run_cell\n    return super(ZMQInteractiveShell, self).run_cell(*args, **kwargs)\n  File \"/home/folzd/anaconda3/lib/python3.5/site-packages/IPython/core/interactiveshell.py\", line 2717, in run_cell\n    interactivity=interactivity, compiler=compiler, result=result)\n  File \"/home/folzd/anaconda3/lib/python3.5/site-packages/IPython/core/interactiveshell.py\", line 2821, in run_ast_nodes\n    if self.run_code(code, result):\n  File \"/home/folzd/anaconda3/lib/python3.5/site-packages/IPython/core/interactiveshell.py\", line 2881, in run_code\n    exec(code_obj, self.user_global_ns, self.user_ns)\n  File \"<ipython-input-32-a793e260a0b5>\", line 2, in <module>\n    inference2.initialize(n_iter=1000, n_print=100, n_samples=100, optimizer='rmsprop')\n  File \"/home/folzd/AUML/edward-gmm-bo/src/edward/edward/inferences/klqp.py\", line 86, in initialize\n    return super(KLqp, self).initialize(*args, **kwargs)\n  File \"/home/folzd/AUML/edward-gmm-bo/src/edward/edward/inferences/variational_inference.py\", line 54, in initialize\n    super(VariationalInference, self).initialize(*args, **kwargs)\n  File \"/home/folzd/AUML/edward-gmm-bo/src/edward/edward/inferences/inference.py\", line 186, in initialize\n    self.increment_t = self.t.assign_add(1)\n  File \"/home/folzd/anaconda3/lib/python3.5/site-packages/tensorflow/python/ops/variables.py\", line 527, in assign_add\n    return state_ops.assign_add(self._variable, delta, use_locking=use_locking)\n  File \"/home/folzd/anaconda3/lib/python3.5/site-packages/tensorflow/python/ops/state_ops.py\", line 239, in assign_add\n    ref, value, use_locking=use_locking, name=name)\n  File \"/home/folzd/anaconda3/lib/python3.5/site-packages/tensorflow/python/ops/gen_state_ops.py\", line 75, in assign_add\n    use_locking=use_locking, name=name)\n  File \"/home/folzd/anaconda3/lib/python3.5/site-packages/tensorflow/python/framework/op_def_library.py\", line 768, in apply_op\n    op_def=op_def)\n  File \"/home/folzd/anaconda3/lib/python3.5/site-packages/tensorflow/python/framework/ops.py\", line 2336, in create_op\n    original_op=self._default_original_op, op_def=op_def)\n  File \"/home/folzd/anaconda3/lib/python3.5/site-packages/tensorflow/python/framework/ops.py\", line 1228, in __init__\n    self._traceback = _extract_stack()\n\nFailedPreconditionError (see above for traceback): Attempting to use uninitialized value iteration_3\n\t [[Node: AssignAdd_3 = AssignAdd[T=DT_INT32, _class=[\"loc:@iteration_3\"], use_locking=false, _device=\"/job:localhost/replica:0/task:0/cpu:0\"](iteration_3, AssignAdd_3/value)]]\n"
     ]
    }
   ],
   "source": [
    "inference2 = ed.KLqp({d: qd}, data={c: X})\n",
    "inference2.initialize(n_iter=1000, n_print=100, n_samples=100, optimizer='rmsprop')\n",
    "sess = ed.get_session()\n",
    "learning_curve2 = []\n",
    "for _ in range(inference2.n_iter):\n",
    "    info_dict = inference2.update()\n",
    "    if _%1000 == 0:\n",
    "        print(qalpha0.eval())\n",
    "        print(info_dict)\n",
    "    learning_curve2.append(info_dict['loss'])\n",
    "plt.semilogy(learning_curve2)"
   ]
  },
  {
   "cell_type": "code",
   "execution_count": 12,
   "metadata": {
    "collapsed": false
   },
   "outputs": [],
   "source": [
    "d_est_mean = qd.mean().eval()"
   ]
  },
  {
   "cell_type": "code",
   "execution_count": 13,
   "metadata": {
    "collapsed": false
   },
   "outputs": [],
   "source": [
    "d_est_sd = tf.sqrt(qd.variance()).eval()"
   ]
  },
  {
   "cell_type": "code",
   "execution_count": 14,
   "metadata": {
    "collapsed": false
   },
   "outputs": [
    {
     "data": {
      "image/png": "[encoded data removed]",
      "text/plain": [
       "<matplotlib.figure.Figure at 0x7f9fa64c7a58>"
      ]
     },
     "metadata": {},
     "output_type": "display_data"
    }
   ],
   "source": [
    "plt.errorbar(np.arange(k), d_est_mean, yerr = d_est_sd, fmt='o')\n",
    "plt.errorbar(np.arange(k), qd.mode().eval(), fmt='o', color='g')\n",
    "plt.errorbar(np.arange(k), probs, fmt='o', color='r')\n",
    "plt.show()"
   ]
  },
  {
   "cell_type": "code",
   "execution_count": 15,
   "metadata": {
    "collapsed": false
   },
   "outputs": [
    {
     "data": {
      "text/plain": [
       "array([ 0.20335548,  0.07551807,  0.05234647,  0.22602084,  0.02599313,\n",
       "        0.245626  ,  0.07832026,  0.04640102,  0.01215267,  0.03426605], dtype=float32)"
      ]
     },
     "execution_count": 15,
     "metadata": {},
     "output_type": "execute_result"
    }
   ],
   "source": [
    "d_est_mean"
   ]
  },
  {
   "cell_type": "code",
   "execution_count": 16,
   "metadata": {
    "collapsed": false
   },
   "outputs": [
    {
     "data": {
      "text/plain": [
       "array([ 0.20972796,  0.07508525,  0.06857821,  0.22179703,  0.01794082,\n",
       "        0.23687922,  0.07391617,  0.05060499,  0.01928421,  0.02618614])"
      ]
     },
     "execution_count": 16,
     "metadata": {},
     "output_type": "execute_result"
    }
   ],
   "source": [
    "probs"
   ]
  },
  {
   "cell_type": "code",
   "execution_count": 17,
   "metadata": {
    "collapsed": true
   },
   "outputs": [],
   "source": [
    "X_sim = ed.copy(c, {d: qd})"
   ]
  },
  {
   "cell_type": "code",
   "execution_count": 18,
   "metadata": {
    "collapsed": false
   },
   "outputs": [],
   "source": [
    "X_sim_sample = X_sim.sample(n).eval()"
   ]
  },
  {
   "cell_type": "code",
   "execution_count": 19,
   "metadata": {
    "collapsed": false
   },
   "outputs": [],
   "source": [
    "probs_MLE, _ = np.histogram(X,bins=np.arange(k+1),normed=True)"
   ]
  },
  {
   "cell_type": "code",
   "execution_count": 20,
   "metadata": {
    "collapsed": false
   },
   "outputs": [
    {
     "data": {
      "text/plain": [
       "array([ 0.21375,  0.075  ,  0.064  ,  0.221  ,  0.0195 ,  0.2425 ,\n",
       "        0.07375,  0.04425,  0.0185 ,  0.02775])"
      ]
     },
     "execution_count": 20,
     "metadata": {},
     "output_type": "execute_result"
    }
   ],
   "source": [
    "probs_MLE"
   ]
  },
  {
   "cell_type": "code",
   "execution_count": 21,
   "metadata": {
    "collapsed": false
   },
   "outputs": [
    {
     "data": {
      "text/plain": [
       "1.0"
      ]
     },
     "execution_count": 21,
     "metadata": {},
     "output_type": "execute_result"
    }
   ],
   "source": [
    "np.dot(probs, probs)/np.linalg.norm(probs)**2"
   ]
  },
  {
   "cell_type": "code",
   "execution_count": 22,
   "metadata": {
    "collapsed": false
   },
   "outputs": [
    {
     "data": {
      "text/plain": [
       "0.99969835094387582"
      ]
     },
     "execution_count": 22,
     "metadata": {},
     "output_type": "execute_result"
    }
   ],
   "source": [
    "np.dot(probs_MLE, probs)/(np.linalg.norm(probs)*np.linalg.norm(probs_MLE))"
   ]
  },
  {
   "cell_type": "code",
   "execution_count": 23,
   "metadata": {
    "collapsed": false
   },
   "outputs": [],
   "source": [
    "probs_ADVI, _ = np.histogram(X_sim_sample,bins=np.arange(k+1),normed=True)"
   ]
  },
  {
   "cell_type": "code",
   "execution_count": 24,
   "metadata": {
    "collapsed": false
   },
   "outputs": [
    {
     "data": {
      "text/plain": [
       "0.91605744416995594"
      ]
     },
     "execution_count": 24,
     "metadata": {},
     "output_type": "execute_result"
    }
   ],
   "source": [
    "np.dot(probs_ADVI, probs)/(np.linalg.norm(probs)*np.linalg.norm(probs_ADVI))"
   ]
  },
  {
   "cell_type": "code",
   "execution_count": 26,
   "metadata": {
    "collapsed": false
   },
   "outputs": [
    {
     "data": {
      "text/plain": [
       "0.99821522714705391"
      ]
     },
     "execution_count": 26,
     "metadata": {},
     "output_type": "execute_result"
    }
   ],
   "source": [
    "np.dot(d_est_mean, probs)/(np.linalg.norm(probs)*np.linalg.norm(d_est_mean))"
   ]
  }
 ],
 "metadata": {
  "anaconda-cloud": {},
  "kernelspec": {
   "display_name": "Python [default]",
   "language": "python",
   "name": "python3"
  },
  "language_info": {
   "codemirror_mode": {
    "name": "ipython",
    "version": 3
   },
   "file_extension": ".py",
   "mimetype": "text/x-python",
   "name": "python",
   "nbconvert_exporter": "python",
   "pygments_lexer": "ipython3",
   "version": "3.5.1"
  }
 },
 "nbformat": 4,
 "nbformat_minor": 1
}
